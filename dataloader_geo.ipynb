{
 "cells": [
  {
   "cell_type": "code",
   "id": "initial_id",
   "metadata": {
    "collapsed": true,
    "ExecuteTime": {
     "end_time": "2024-08-07T20:12:28.634662Z",
     "start_time": "2024-08-07T20:12:13.528898Z"
    }
   },
   "source": "! pip install geopandas",
   "outputs": [
    {
     "name": "stdout",
     "output_type": "stream",
     "text": [
      "Collecting geopandas"
     ]
    },
    {
     "name": "stderr",
     "output_type": "stream",
     "text": [
      "\n",
      "[notice] A new release of pip is available: 24.1 -> 24.2\n",
      "[notice] To update, run: python.exe -m pip install --upgrade pip\n"
     ]
    },
    {
     "name": "stdout",
     "output_type": "stream",
     "text": [
      "\n",
      "  Downloading geopandas-1.0.1-py3-none-any.whl.metadata (2.2 kB)\n",
      "Requirement already satisfied: numpy>=1.22 in d:\\github_projects\\thinkai\\venv\\lib\\site-packages (from geopandas) (1.24.1)\n",
      "Collecting pyogrio>=0.7.2 (from geopandas)\n",
      "  Downloading pyogrio-0.9.0-cp310-cp310-win_amd64.whl.metadata (3.9 kB)\n",
      "Requirement already satisfied: packaging in d:\\github_projects\\thinkai\\venv\\lib\\site-packages (from geopandas) (24.1)\n",
      "Requirement already satisfied: pandas>=1.4.0 in d:\\github_projects\\thinkai\\venv\\lib\\site-packages (from geopandas) (2.2.2)\n",
      "Collecting pyproj>=3.3.0 (from geopandas)\n",
      "  Using cached pyproj-3.6.1-cp310-cp310-win_amd64.whl.metadata (31 kB)\n",
      "Collecting shapely>=2.0.0 (from geopandas)\n",
      "  Downloading shapely-2.0.5-cp310-cp310-win_amd64.whl.metadata (7.2 kB)\n",
      "Requirement already satisfied: python-dateutil>=2.8.2 in d:\\github_projects\\thinkai\\venv\\lib\\site-packages (from pandas>=1.4.0->geopandas) (2.9.0.post0)\n",
      "Requirement already satisfied: pytz>=2020.1 in d:\\github_projects\\thinkai\\venv\\lib\\site-packages (from pandas>=1.4.0->geopandas) (2024.1)\n",
      "Requirement already satisfied: tzdata>=2022.7 in d:\\github_projects\\thinkai\\venv\\lib\\site-packages (from pandas>=1.4.0->geopandas) (2024.1)\n",
      "Requirement already satisfied: certifi in d:\\github_projects\\thinkai\\venv\\lib\\site-packages (from pyogrio>=0.7.2->geopandas) (2024.7.4)\n",
      "Requirement already satisfied: six>=1.5 in d:\\github_projects\\thinkai\\venv\\lib\\site-packages (from python-dateutil>=2.8.2->pandas>=1.4.0->geopandas) (1.16.0)\n",
      "Downloading geopandas-1.0.1-py3-none-any.whl (323 kB)\n",
      "   ---------------------------------------- 0.0/323.6 kB ? eta -:--:--\n",
      "   ---------------------------------------  317.4/323.6 kB 9.6 MB/s eta 0:00:01\n",
      "   ---------------------------------------  317.4/323.6 kB 9.6 MB/s eta 0:00:01\n",
      "   ---------------------------------------- 323.6/323.6 kB 3.3 MB/s eta 0:00:00\n",
      "Downloading pyogrio-0.9.0-cp310-cp310-win_amd64.whl (15.9 MB)\n",
      "   ---------------------------------------- 0.0/15.9 MB ? eta -:--:--\n",
      "   -- ------------------------------------- 1.0/15.9 MB 21.4 MB/s eta 0:00:01\n",
      "   --------- ------------------------------ 3.6/15.9 MB 38.2 MB/s eta 0:00:01\n",
      "   ------------- -------------------------- 5.2/15.9 MB 47.6 MB/s eta 0:00:01\n",
      "   ------------- -------------------------- 5.2/15.9 MB 47.6 MB/s eta 0:00:01\n",
      "   ------------- -------------------------- 5.2/15.9 MB 47.6 MB/s eta 0:00:01\n",
      "   ------------- -------------------------- 5.2/15.9 MB 47.6 MB/s eta 0:00:01\n",
      "   ------------- -------------------------- 5.2/15.9 MB 47.6 MB/s eta 0:00:01\n",
      "   -------------- ------------------------- 5.8/15.9 MB 15.3 MB/s eta 0:00:01\n",
      "   ---------------------- ----------------- 8.8/15.9 MB 20.8 MB/s eta 0:00:01\n",
      "   ------------------------------ --------- 12.3/15.9 MB 25.2 MB/s eta 0:00:01\n",
      "   ---------------------------------------  15.9/15.9 MB 81.8 MB/s eta 0:00:01\n",
      "   ---------------------------------------  15.9/15.9 MB 81.8 MB/s eta 0:00:01\n",
      "   ---------------------------------------  15.9/15.9 MB 81.8 MB/s eta 0:00:01\n",
      "   ---------------------------------------  15.9/15.9 MB 81.8 MB/s eta 0:00:01\n",
      "   ---------------------------------------  15.9/15.9 MB 81.8 MB/s eta 0:00:01\n",
      "   ---------------------------------------  15.9/15.9 MB 81.8 MB/s eta 0:00:01\n",
      "   ---------------------------------------  15.9/15.9 MB 81.8 MB/s eta 0:00:01\n",
      "   ---------------------------------------  15.9/15.9 MB 81.8 MB/s eta 0:00:01\n",
      "   ---------------------------------------  15.9/15.9 MB 81.8 MB/s eta 0:00:01\n",
      "   ---------------------------------------  15.9/15.9 MB 81.8 MB/s eta 0:00:01\n",
      "   ---------------------------------------  15.9/15.9 MB 81.8 MB/s eta 0:00:01\n",
      "   ---------------------------------------  15.9/15.9 MB 81.8 MB/s eta 0:00:01\n",
      "   ---------------------------------------  15.9/15.9 MB 81.8 MB/s eta 0:00:01\n",
      "   ---------------------------------------- 15.9/15.9 MB 14.5 MB/s eta 0:00:00\n",
      "Using cached pyproj-3.6.1-cp310-cp310-win_amd64.whl (6.1 MB)\n",
      "Downloading shapely-2.0.5-cp310-cp310-win_amd64.whl (1.4 MB)\n",
      "   ---------------------------------------- 0.0/1.4 MB ? eta -:--:--\n",
      "   ---------------------------------------  1.4/1.4 MB 89.0 MB/s eta 0:00:01\n",
      "   ---------------------------------------  1.4/1.4 MB 89.0 MB/s eta 0:00:01\n",
      "   ---------------------------------------  1.4/1.4 MB 89.0 MB/s eta 0:00:01\n",
      "   ---------------------------------------  1.4/1.4 MB 89.0 MB/s eta 0:00:01\n",
      "   ---------------------------------------  1.4/1.4 MB 89.0 MB/s eta 0:00:01\n",
      "   ---------------------------------------  1.4/1.4 MB 89.0 MB/s eta 0:00:01\n",
      "   ---------------------------------------  1.4/1.4 MB 89.0 MB/s eta 0:00:01\n",
      "   ---------------------------------------  1.4/1.4 MB 89.0 MB/s eta 0:00:01\n",
      "   ---------------------------------------  1.4/1.4 MB 89.0 MB/s eta 0:00:01\n",
      "   ---------------------------------------  1.4/1.4 MB 89.0 MB/s eta 0:00:01\n",
      "   ---------------------------------------- 1.4/1.4 MB 3.2 MB/s eta 0:00:00\n",
      "Installing collected packages: shapely, pyproj, pyogrio, geopandas\n",
      "Successfully installed geopandas-1.0.1 pyogrio-0.9.0 pyproj-3.6.1 shapely-2.0.5\n"
     ]
    }
   ],
   "execution_count": 1
  },
  {
   "metadata": {
    "ExecuteTime": {
     "end_time": "2024-08-07T20:12:31.536020Z",
     "start_time": "2024-08-07T20:12:28.638662Z"
    }
   },
   "cell_type": "code",
   "source": [
    "import geopandas as gpd\n",
    "import pandas as pd\n",
    "import numpy as np"
   ],
   "id": "380ca519b5563f04",
   "outputs": [],
   "execution_count": 2
  },
  {
   "metadata": {},
   "cell_type": "code",
   "outputs": [],
   "execution_count": null,
   "source": [
    "# Load the data\n",
    "radwege = gpd.read_file('data//radwege.shp')"
   ],
   "id": "eed98db9fbf01e8c"
  }
 ],
 "metadata": {
  "kernelspec": {
   "display_name": "Python 3",
   "language": "python",
   "name": "python3"
  },
  "language_info": {
   "codemirror_mode": {
    "name": "ipython",
    "version": 2
   },
   "file_extension": ".py",
   "mimetype": "text/x-python",
   "name": "python",
   "nbconvert_exporter": "python",
   "pygments_lexer": "ipython2",
   "version": "2.7.6"
  }
 },
 "nbformat": 4,
 "nbformat_minor": 5
}
