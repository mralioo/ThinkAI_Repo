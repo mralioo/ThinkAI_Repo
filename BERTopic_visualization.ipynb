{
 "cells": [
  {
   "cell_type": "code",
   "id": "initial_id",
   "metadata": {
    "collapsed": true,
    "ExecuteTime": {
     "end_time": "2024-08-06T16:15:00.377318Z",
     "start_time": "2024-08-06T16:14:59.774337Z"
    }
   },
   "source": [
    "import json \n",
    "import pandas as pd\n",
    "import numpy as np"
   ],
   "outputs": [],
   "execution_count": 1
  },
  {
   "metadata": {
    "ExecuteTime": {
     "end_time": "2024-08-06T16:15:00.393325Z",
     "start_time": "2024-08-06T16:15:00.379313Z"
    }
   },
   "cell_type": "code",
   "source": [
    "# Load the data from json \n",
    "file_path = './card_details.json'\n",
    "with open(file_path, 'r') as f:\n",
    "    data = json.load(f)\n"
   ],
   "id": "29721d225d92c2d7",
   "outputs": [],
   "execution_count": 2
  },
  {
   "metadata": {
    "ExecuteTime": {
     "end_time": "2024-08-06T16:25:31.482668Z",
     "start_time": "2024-08-06T16:25:31.463672Z"
    }
   },
   "cell_type": "code",
   "source": [
    "# Convert the data to a pandas dataframe\n",
    "raw_data_df = pd.DataFrame(data)"
   ],
   "id": "29ab274761e44eaa",
   "outputs": [],
   "execution_count": 20
  },
  {
   "metadata": {
    "ExecuteTime": {
     "end_time": "2024-08-06T19:45:46.717379Z",
     "start_time": "2024-08-06T19:45:46.665381Z"
    }
   },
   "cell_type": "code",
   "source": "raw_data_df.head()",
   "id": "5e75325cfea0af7f",
   "outputs": [
    {
     "data": {
      "text/plain": [
       "                                                 title  \\\n",
       "0            Verkehrsberuhigter Bereich HolwedestraÃŸe   \n",
       "1                             Sicherer Schulweg Querum   \n",
       "2           Wickelboard auf stÃ¤dtischen SpielplÃ¤tzen   \n",
       "3                              Neugestaltung WOLLMARKT   \n",
       "4    Dauerhafte BegrÃ¼nung des Schlossplatzes und P...   \n",
       "..                                                 ...   \n",
       "125  Optimierung FuÃŸgÃ¤ngerampel Ackerstr./Helmste...   \n",
       "126  Abstimmungen im Protokoll mit Angabe des genau...   \n",
       "127  Wilhelm-Bornstedt-Weg entlang der Oker besser ...   \n",
       "128                                Hundewiese NuÃŸberg   \n",
       "129                     Veranstaltungen richtig Planen   \n",
       "\n",
       "                                           description  \\\n",
       "0    In der HolwedestraÃŸe ist der Verkehr viel zu ...   \n",
       "1    Eichhahnweg bis Wabenkamp Einbahnstrasse .Nur ...   \n",
       "2    Liebe MitarbeiterInnen der Stadt Braunschweig,...   \n",
       "3    Der Starkregen 2023 hat mal wieder verdeutlich...   \n",
       "4    Der Schlossplatz und der Platz der Deutschen E...   \n",
       "..                                                 ...   \n",
       "125  Die FuÃŸgÃ¤ngerampel Ackerstr./Helmstedter Str...   \n",
       "126  In den Protokollen der StadtrÃ¤te wird bei Abs...   \n",
       "127  Der Weg wird zwischen altem Okerarm und BrÃ¼ck...   \n",
       "128  Es fehlen SitzbÃ¤nke entlang des Trimm-Dich-Pf...   \n",
       "129  Moin, in Braunschweig gibt es Viele Veranstalt...   \n",
       "\n",
       "                                                status  \\\n",
       "0                                            Umgesetzt   \n",
       "1                                            Abgelehnt   \n",
       "2    Die Idee wird den politischen Gremien zur Ents...   \n",
       "3             Zeitraum fÃ¼r Stimmabgabe Ã¼berschritten   \n",
       "4             Zeitraum fÃ¼r Stimmabgabe Ã¼berschritten   \n",
       "..                                                 ...   \n",
       "125           Zeitraum fÃ¼r Stimmabgabe Ã¼berschritten   \n",
       "126                                          Abgelehnt   \n",
       "127           Zeitraum fÃ¼r Stimmabgabe Ã¼berschritten   \n",
       "128           Zeitraum fÃ¼r Stimmabgabe Ã¼berschritten   \n",
       "129    Wird bei zukÃ¼nftigen Planungen berÃ¼cksichtigt   \n",
       "\n",
       "                               tag       vote  \n",
       "0                          Verkehr  12 von 50  \n",
       "1                          Verkehr   0 von 50  \n",
       "2            StadtgrÃ¼n und Umwelt  50 von 50  \n",
       "3            StadtgrÃ¼n und Umwelt  19 von 50  \n",
       "4            StadtgrÃ¼n und Umwelt  27 von 50  \n",
       "..                             ...        ...  \n",
       "125                        Verkehr  11 von 50  \n",
       "126          Allgemeine Verwaltung  14 von 50  \n",
       "127                        Verkehr   7 von 50  \n",
       "128          StadtgrÃ¼n und Umwelt   8 von 50  \n",
       "129  Recht, Sicherheit und Ordnung   1 von 50  \n",
       "\n",
       "[130 rows x 5 columns]"
      ],
      "text/html": [
       "<div>\n",
       "<style scoped>\n",
       "    .dataframe tbody tr th:only-of-type {\n",
       "        vertical-align: middle;\n",
       "    }\n",
       "\n",
       "    .dataframe tbody tr th {\n",
       "        vertical-align: top;\n",
       "    }\n",
       "\n",
       "    .dataframe thead th {\n",
       "        text-align: right;\n",
       "    }\n",
       "</style>\n",
       "<table border=\"1\" class=\"dataframe\">\n",
       "  <thead>\n",
       "    <tr style=\"text-align: right;\">\n",
       "      <th></th>\n",
       "      <th>title</th>\n",
       "      <th>description</th>\n",
       "      <th>status</th>\n",
       "      <th>tag</th>\n",
       "      <th>vote</th>\n",
       "    </tr>\n",
       "  </thead>\n",
       "  <tbody>\n",
       "    <tr>\n",
       "      <th>0</th>\n",
       "      <td>Verkehrsberuhigter Bereich HolwedestraÃŸe</td>\n",
       "      <td>In der HolwedestraÃŸe ist der Verkehr viel zu ...</td>\n",
       "      <td>Umgesetzt</td>\n",
       "      <td>Verkehr</td>\n",
       "      <td>12 von 50</td>\n",
       "    </tr>\n",
       "    <tr>\n",
       "      <th>1</th>\n",
       "      <td>Sicherer Schulweg Querum</td>\n",
       "      <td>Eichhahnweg bis Wabenkamp Einbahnstrasse .Nur ...</td>\n",
       "      <td>Abgelehnt</td>\n",
       "      <td>Verkehr</td>\n",
       "      <td>0 von 50</td>\n",
       "    </tr>\n",
       "    <tr>\n",
       "      <th>2</th>\n",
       "      <td>Wickelboard auf stÃ¤dtischen SpielplÃ¤tzen</td>\n",
       "      <td>Liebe MitarbeiterInnen der Stadt Braunschweig,...</td>\n",
       "      <td>Die Idee wird den politischen Gremien zur Ents...</td>\n",
       "      <td>StadtgrÃ¼n und Umwelt</td>\n",
       "      <td>50 von 50</td>\n",
       "    </tr>\n",
       "    <tr>\n",
       "      <th>3</th>\n",
       "      <td>Neugestaltung WOLLMARKT</td>\n",
       "      <td>Der Starkregen 2023 hat mal wieder verdeutlich...</td>\n",
       "      <td>Zeitraum fÃ¼r Stimmabgabe Ã¼berschritten</td>\n",
       "      <td>StadtgrÃ¼n und Umwelt</td>\n",
       "      <td>19 von 50</td>\n",
       "    </tr>\n",
       "    <tr>\n",
       "      <th>4</th>\n",
       "      <td>Dauerhafte BegrÃ¼nung des Schlossplatzes und P...</td>\n",
       "      <td>Der Schlossplatz und der Platz der Deutschen E...</td>\n",
       "      <td>Zeitraum fÃ¼r Stimmabgabe Ã¼berschritten</td>\n",
       "      <td>StadtgrÃ¼n und Umwelt</td>\n",
       "      <td>27 von 50</td>\n",
       "    </tr>\n",
       "    <tr>\n",
       "      <th>...</th>\n",
       "      <td>...</td>\n",
       "      <td>...</td>\n",
       "      <td>...</td>\n",
       "      <td>...</td>\n",
       "      <td>...</td>\n",
       "    </tr>\n",
       "    <tr>\n",
       "      <th>125</th>\n",
       "      <td>Optimierung FuÃŸgÃ¤ngerampel Ackerstr./Helmste...</td>\n",
       "      <td>Die FuÃŸgÃ¤ngerampel Ackerstr./Helmstedter Str...</td>\n",
       "      <td>Zeitraum fÃ¼r Stimmabgabe Ã¼berschritten</td>\n",
       "      <td>Verkehr</td>\n",
       "      <td>11 von 50</td>\n",
       "    </tr>\n",
       "    <tr>\n",
       "      <th>126</th>\n",
       "      <td>Abstimmungen im Protokoll mit Angabe des genau...</td>\n",
       "      <td>In den Protokollen der StadtrÃ¤te wird bei Abs...</td>\n",
       "      <td>Abgelehnt</td>\n",
       "      <td>Allgemeine Verwaltung</td>\n",
       "      <td>14 von 50</td>\n",
       "    </tr>\n",
       "    <tr>\n",
       "      <th>127</th>\n",
       "      <td>Wilhelm-Bornstedt-Weg entlang der Oker besser ...</td>\n",
       "      <td>Der Weg wird zwischen altem Okerarm und BrÃ¼ck...</td>\n",
       "      <td>Zeitraum fÃ¼r Stimmabgabe Ã¼berschritten</td>\n",
       "      <td>Verkehr</td>\n",
       "      <td>7 von 50</td>\n",
       "    </tr>\n",
       "    <tr>\n",
       "      <th>128</th>\n",
       "      <td>Hundewiese NuÃŸberg</td>\n",
       "      <td>Es fehlen SitzbÃ¤nke entlang des Trimm-Dich-Pf...</td>\n",
       "      <td>Zeitraum fÃ¼r Stimmabgabe Ã¼berschritten</td>\n",
       "      <td>StadtgrÃ¼n und Umwelt</td>\n",
       "      <td>8 von 50</td>\n",
       "    </tr>\n",
       "    <tr>\n",
       "      <th>129</th>\n",
       "      <td>Veranstaltungen richtig Planen</td>\n",
       "      <td>Moin, in Braunschweig gibt es Viele Veranstalt...</td>\n",
       "      <td>Wird bei zukÃ¼nftigen Planungen berÃ¼cksichtigt</td>\n",
       "      <td>Recht, Sicherheit und Ordnung</td>\n",
       "      <td>1 von 50</td>\n",
       "    </tr>\n",
       "  </tbody>\n",
       "</table>\n",
       "<p>130 rows × 5 columns</p>\n",
       "</div>"
      ]
     },
     "execution_count": 24,
     "metadata": {},
     "output_type": "execute_result"
    }
   ],
   "execution_count": 24
  },
  {
   "metadata": {
    "ExecuteTime": {
     "end_time": "2024-08-06T20:25:23.077413Z",
     "start_time": "2024-08-06T20:25:23.059415Z"
    }
   },
   "cell_type": "code",
   "source": [
    "labels = raw_data_df[\"tag\"].tolist()\n",
    "tags = raw_data_df[\"tag\"].tolist()"
   ],
   "id": "aee4a31318d20712",
   "outputs": [],
   "execution_count": 29
  },
  {
   "metadata": {
    "ExecuteTime": {
     "end_time": "2024-08-06T20:25:24.314864Z",
     "start_time": "2024-08-06T20:25:24.303863Z"
    }
   },
   "cell_type": "code",
   "source": "tags",
   "id": "fe9f2ab821cf03fe",
   "outputs": [
    {
     "data": {
      "text/plain": [
       "['Verkehr',\n",
       " 'Verkehr',\n",
       " 'StadtgrÃ¼n und Umwelt',\n",
       " 'StadtgrÃ¼n und Umwelt',\n",
       " 'StadtgrÃ¼n und Umwelt',\n",
       " 'StadtgrÃ¼n und Umwelt',\n",
       " 'Bauen und Planung',\n",
       " 'Verkehr',\n",
       " 'Allgemeine Verwaltung',\n",
       " 'Soziales, Jugend und Gesundheit',\n",
       " 'Verkehr',\n",
       " 'Verkehr',\n",
       " 'Verkehr',\n",
       " 'Verkehr',\n",
       " 'Verkehr',\n",
       " 'Verkehr',\n",
       " 'Verkehr',\n",
       " 'Bauen und Planung',\n",
       " 'Soziales, Jugend und Gesundheit',\n",
       " 'Verkehr',\n",
       " 'StadtgrÃ¼n und Umwelt',\n",
       " 'Schule und Kultur',\n",
       " 'StadtgrÃ¼n und Umwelt',\n",
       " 'Bauen und Planung',\n",
       " 'Soziales, Jugend und Gesundheit',\n",
       " 'Verkehr',\n",
       " 'StadtgrÃ¼n und Umwelt',\n",
       " 'Allgemeine Verwaltung',\n",
       " 'Verkehr',\n",
       " 'Soziales, Jugend und Gesundheit',\n",
       " 'Bauen und Planung',\n",
       " 'StadtgrÃ¼n und Umwelt',\n",
       " 'Bauen und Planung',\n",
       " 'Verkehr',\n",
       " 'Verkehr',\n",
       " 'Soziales, Jugend und Gesundheit',\n",
       " 'Verkehr',\n",
       " 'Verkehr',\n",
       " 'Verkehr',\n",
       " 'Verkehr',\n",
       " 'Bauen und Planung',\n",
       " 'Allgemeine Verwaltung',\n",
       " 'Verkehr',\n",
       " 'Verkehr',\n",
       " 'Verkehr',\n",
       " 'Verkehr',\n",
       " 'Soziales, Jugend und Gesundheit',\n",
       " 'Verkehr',\n",
       " 'Verkehr',\n",
       " 'Bauen und Planung',\n",
       " 'Schule und Kultur',\n",
       " 'Verkehr',\n",
       " 'Verkehr',\n",
       " 'Verkehr',\n",
       " 'StadtgrÃ¼n und Umwelt',\n",
       " 'StadtgrÃ¼n und Umwelt',\n",
       " 'Verkehr',\n",
       " 'Verkehr',\n",
       " 'Verkehr',\n",
       " 'Verkehr',\n",
       " 'Bauen und Planung',\n",
       " 'Recht, Sicherheit und Ordnung',\n",
       " 'Soziales, Jugend und Gesundheit',\n",
       " 'Verkehr',\n",
       " 'Verkehr',\n",
       " 'Verkehr',\n",
       " 'Wirtschaft',\n",
       " 'Allgemeine Verwaltung',\n",
       " 'Verkehr',\n",
       " 'StadtgrÃ¼n und Umwelt',\n",
       " 'Soziales, Jugend und Gesundheit',\n",
       " 'Verkehr',\n",
       " 'Allgemeine Verwaltung',\n",
       " 'Soziales, Jugend und Gesundheit',\n",
       " 'Verkehr',\n",
       " 'Recht, Sicherheit und Ordnung',\n",
       " 'Wirtschaft',\n",
       " 'Verkehr',\n",
       " 'Verkehr',\n",
       " 'Wirtschaft',\n",
       " 'Verkehr',\n",
       " 'Soziales, Jugend und Gesundheit',\n",
       " 'StadtgrÃ¼n und Umwelt',\n",
       " 'Verkehr',\n",
       " 'Verkehr',\n",
       " 'Verkehr',\n",
       " 'Verkehr',\n",
       " 'Verkehr',\n",
       " 'Verkehr',\n",
       " 'Verkehr',\n",
       " 'StadtgrÃ¼n und Umwelt',\n",
       " 'Verkehr',\n",
       " 'Verkehr',\n",
       " 'Verkehr',\n",
       " 'Verkehr',\n",
       " 'Verkehr',\n",
       " 'Soziales, Jugend und Gesundheit',\n",
       " 'Verkehr',\n",
       " 'Verkehr',\n",
       " 'StadtgrÃ¼n und Umwelt',\n",
       " 'Verkehr',\n",
       " 'Soziales, Jugend und Gesundheit',\n",
       " 'Verkehr',\n",
       " 'Verkehr',\n",
       " 'Verkehr',\n",
       " 'Verkehr',\n",
       " 'Verkehr',\n",
       " 'StadtgrÃ¼n und Umwelt',\n",
       " 'Verkehr',\n",
       " 'StadtgrÃ¼n und Umwelt',\n",
       " 'Verkehr',\n",
       " 'Allgemeine Verwaltung',\n",
       " 'StadtgrÃ¼n und Umwelt',\n",
       " 'Verkehr',\n",
       " 'Verkehr',\n",
       " 'StadtgrÃ¼n und Umwelt',\n",
       " 'Verkehr',\n",
       " 'StadtgrÃ¼n und Umwelt',\n",
       " 'Verkehr',\n",
       " 'Verkehr',\n",
       " 'Recht, Sicherheit und Ordnung',\n",
       " 'Verkehr',\n",
       " 'Verkehr',\n",
       " 'Verkehr',\n",
       " 'Verkehr',\n",
       " 'Verkehr',\n",
       " 'Allgemeine Verwaltung',\n",
       " 'Verkehr',\n",
       " 'StadtgrÃ¼n und Umwelt',\n",
       " 'Recht, Sicherheit und Ordnung']"
      ]
     },
     "execution_count": 30,
     "metadata": {},
     "output_type": "execute_result"
    }
   ],
   "execution_count": 30
  },
  {
   "metadata": {
    "ExecuteTime": {
     "end_time": "2024-08-06T16:15:10.303711Z",
     "start_time": "2024-08-06T16:15:03.067224Z"
    }
   },
   "cell_type": "code",
   "source": [
    "from sentence_transformers import SentenceTransformer\n",
    "\n",
    "# 1. Load a pretrained Sentence Transformer model\n",
    "model = SentenceTransformer(\"all-MiniLM-L6-v2\")\n",
    "model"
   ],
   "id": "626542c833dc3744",
   "outputs": [
    {
     "name": "stderr",
     "output_type": "stream",
     "text": [
      "D:\\github_projects\\ThinkAI\\venv\\lib\\site-packages\\sentence_transformers\\cross_encoder\\CrossEncoder.py:11: TqdmExperimentalWarning: Using `tqdm.autonotebook.tqdm` in notebook mode. Use `tqdm.tqdm` instead to force console mode (e.g. in jupyter console)\n",
      "  from tqdm.autonotebook import tqdm, trange\n"
     ]
    },
    {
     "data": {
      "text/plain": [
       "SentenceTransformer(\n",
       "  (0): Transformer({'max_seq_length': 256, 'do_lower_case': False}) with Transformer model: BertModel \n",
       "  (1): Pooling({'word_embedding_dimension': 384, 'pooling_mode_cls_token': False, 'pooling_mode_mean_tokens': True, 'pooling_mode_max_tokens': False, 'pooling_mode_mean_sqrt_len_tokens': False, 'pooling_mode_weightedmean_tokens': False, 'pooling_mode_lasttoken': False, 'include_prompt': True})\n",
       "  (2): Normalize()\n",
       ")"
      ]
     },
     "execution_count": 5,
     "metadata": {},
     "output_type": "execute_result"
    }
   ],
   "execution_count": 5
  },
  {
   "metadata": {
    "ExecuteTime": {
     "end_time": "2024-08-06T16:15:14.213387Z",
     "start_time": "2024-08-06T16:15:14.194688Z"
    }
   },
   "cell_type": "code",
   "source": [
    "# 2. Define sentences to encode \n",
    "sentences = raw_data_df['description'].tolist()"
   ],
   "id": "27ac00f256ca8042",
   "outputs": [],
   "execution_count": 6
  },
  {
   "metadata": {
    "ExecuteTime": {
     "end_time": "2024-08-06T16:15:14.624377Z",
     "start_time": "2024-08-06T16:15:14.606375Z"
    }
   },
   "cell_type": "code",
   "source": "sentences.__len__()",
   "id": "bcc6fe93b1f0382",
   "outputs": [
    {
     "data": {
      "text/plain": [
       "130"
      ]
     },
     "execution_count": 7,
     "metadata": {},
     "output_type": "execute_result"
    }
   ],
   "execution_count": 7
  },
  {
   "metadata": {
    "ExecuteTime": {
     "end_time": "2024-08-06T16:15:28.881875Z",
     "start_time": "2024-08-06T16:15:15.686374Z"
    }
   },
   "cell_type": "code",
   "source": [
    "# 3. Calculate embeddings by calling model.encode()\n",
    "embeddings = model.encode(sentences)"
   ],
   "id": "74bc963cbed8d70b",
   "outputs": [],
   "execution_count": 8
  },
  {
   "metadata": {
    "ExecuteTime": {
     "end_time": "2024-08-06T16:16:09.986043Z",
     "start_time": "2024-08-06T16:16:09.978042Z"
    }
   },
   "cell_type": "code",
   "source": "embeddings.shape",
   "id": "ee67c11630a94437",
   "outputs": [
    {
     "data": {
      "text/plain": [
       "(130, 384)"
      ]
     },
     "execution_count": 9,
     "metadata": {},
     "output_type": "execute_result"
    }
   ],
   "execution_count": 9
  },
  {
   "metadata": {
    "ExecuteTime": {
     "end_time": "2024-08-06T16:21:30.059684Z",
     "start_time": "2024-08-06T16:21:22.455964Z"
    }
   },
   "cell_type": "code",
   "source": [
    "from umap import UMAP\n",
    "\n",
    "# Initialize UMAP model\n",
    "umap_model = UMAP(n_neighbors=15, n_components=2, min_dist=0.0, metric=\"cosine\")"
   ],
   "id": "89cfa4bfa2163bd1",
   "outputs": [],
   "execution_count": 10
  },
  {
   "metadata": {
    "ExecuteTime": {
     "end_time": "2024-08-06T16:21:47.185333Z",
     "start_time": "2024-08-06T16:21:35.248516Z"
    }
   },
   "cell_type": "code",
   "source": [
    "# Fit and transform the embeddings\n",
    "umap_embeddings = umap_model.fit_transform(embeddings)"
   ],
   "id": "e11b1e4ee711d163",
   "outputs": [],
   "execution_count": 11
  },
  {
   "metadata": {
    "ExecuteTime": {
     "end_time": "2024-08-06T19:47:37.241620Z",
     "start_time": "2024-08-06T19:47:37.227622Z"
    }
   },
   "cell_type": "code",
   "source": "titles = raw_data_df[\"title\"].tolist()",
   "id": "51cbd830a0f3f63f",
   "outputs": [],
   "execution_count": 25
  },
  {
   "metadata": {
    "ExecuteTime": {
     "end_time": "2024-08-06T20:20:18.068196Z",
     "start_time": "2024-08-06T20:20:18.055197Z"
    }
   },
   "cell_type": "code",
   "source": "titles",
   "id": "42a0112cc2538bef",
   "outputs": [
    {
     "data": {
      "text/plain": [
       "['Verkehrsberuhigter Bereich HolwedestraÃŸe',\n",
       " 'Sicherer Schulweg Querum',\n",
       " 'Wickelboard auf stÃ¤dtischen SpielplÃ¤tzen',\n",
       " 'Neugestaltung WOLLMARKT',\n",
       " 'Dauerhafte BegrÃ¼nung des Schlossplatzes und Platz der Deutschen Einheit',\n",
       " 'Mehr MÃ¼lleimer im WaldstÃ¼ck zwischen Kralenriede, der Schuntersiedlung und RÃ¼hme.',\n",
       " 'Beleuchtung Wasserturm Giersberg',\n",
       " 'Tempo 30 Madamenweg/Ringgleis bis Kreuzung Madamenweg/Altstadring',\n",
       " 'ZeitgemÃ¤ÃŸe FunktionalitÃ¤t fÃ¼r die Ideenplattform',\n",
       " 'SpielplÃ¤tze im Herbst/Winter nutzbarer machen',\n",
       " 'Fahrradkonzept WendenstraÃŸe Ã¼berarbeiten...',\n",
       " 'Brodweg - brisant fÃ¼r alle Verkehrsteilnehmenden',\n",
       " 'Schulverkehr Querum',\n",
       " 'Solarunterstand fÃ¼r RÃ¤der',\n",
       " 'Kastanienallee Ampelschaltung anpassen',\n",
       " 'Verkehrspiegel Ausfahrt Buschweg auf die HauptstraÃŸe in Wenden',\n",
       " 'Ampel fÃ¼r Radfahrer Wendenring Ecke Maschpl',\n",
       " 'Hundewiese am JÃ¼tenring einrichten - Bebauungsplan HA 137 Ã¤ndern',\n",
       " 'UnterstÃ¼tzung fÃ¼r besonders gefÃ¤hrdete Menschen bei Hitze',\n",
       " 'Geschwindigkeits- und Durchfahrtsbegrenzung Querumer StraÃŸe',\n",
       " 'SitzbÃ¤nke an der Platane OkerstraÃŸe 8b',\n",
       " 'AuffÃ¼hrung des Dramas \"Julius von Tarent\" von Johann Anton Leisewitz',\n",
       " 'Steg am Schapenbruchteich',\n",
       " '\"Viktualienmarkt\" Burgpassage',\n",
       " 'Wickeltisch',\n",
       " 'FGÃœ',\n",
       " 'Toiletten fÃ¼r den LÃ¶wenwall',\n",
       " 'LÃ¤rmaktionsplanung',\n",
       " 'UmrÃ¼stung der Ã–PNV-Busflotte auf ElektromobilitÃ¤t',\n",
       " 'EinfÃ¼hrung Stadtinterne Kinderbetreuung fÃ¼r MÃ¼tter',\n",
       " 'Umsetzen Informationsstele am Burgplatz',\n",
       " 'Mehr MÃ¼lleimer/ kotbeutelstation',\n",
       " 'Standort 2. Haferstroh-Toilette',\n",
       " 'Zebrastreifen an der Kreuzung Mittelweg Ringgleis.',\n",
       " 'Blitzer am Bohlweg ( vor SchloÃŸ )',\n",
       " 'Eltern-Kind-Schaukel fÃ¼r SpielplÃ¤tze',\n",
       " 'Verbreiterung FuÃŸ/Radweg Bienroder Weg',\n",
       " 'Fahrradpiktogramme RÃ¼ninger Weg endlich umsetzen',\n",
       " 'Einrichten eines Durchfahrtverbots fÃ¼r Transporter und Kraftfahrzeuge Ã¼ber 3,5 Tonnen in die VolmestraÃŸe',\n",
       " 'Ausnahmegenehmigung fÃ¼r pflegende Privatpersonen zum Parken',\n",
       " 'Umstellung der Beleuchtung auf LED',\n",
       " 'Einfacher Weg fÃ¼r die Genehmigung von nicht kommerziellen Tanzveranstaltungen in Braunschweiger Park und GrÃ¼nanlagen',\n",
       " 'Mittelweg 30km/h Blitzer',\n",
       " 'Parkplatz auf dem Wollmarkt stoppen',\n",
       " 'Push & Pull',\n",
       " 'MÃ¼hlentrift Verkehr, Tempo 30, Anlieger Frei',\n",
       " 'Ponyclub Querum e.V.',\n",
       " 'FahrradstraÃŸe Wilhelm-Bode-StraÃŸe und Karl-Marx-StraÃŸe mit Vorfahrt',\n",
       " 'Gefahrenstelle auf dem Ringgleis',\n",
       " 'Aufsteller mit Ladeninfos fÃ¼r den Handelsweg',\n",
       " 'Stadtkindergarten/Krippe',\n",
       " 'Bringzone fÃ¼r die Realschule MaschstraÃŸe',\n",
       " 'Mehr BewohnerparkplÃ¤tze in der MaschstraÃŸe',\n",
       " 'Verkehrssichere Max-Planck-Str',\n",
       " 'Nachhaltigere und effizientere GrÃ¼nflÃ¤chenbewÃ¤sserung',\n",
       " 'Braunschweig braucht einen Wasserspielplatz!',\n",
       " 'Verkehrsspiegel Kreuzung Karl-Hintze-Weg und Mittelriede',\n",
       " 'Halteververbot auf der Altmarkstr. in HÃ¶he Auf dem Anger',\n",
       " 'EinbahnstraÃŸe Wilhelmsgarten',\n",
       " 'EinbahnstraÃŸe St.-Ingbert-StraÃŸe zur LÃ¤rmreduzierung',\n",
       " 'Tiny House FlÃ¤che erstellen',\n",
       " 'Installation einer Strassen/wegbeleuchtung',\n",
       " 'Weiteres Angebot des Braunschweiger SchÃ¼lertickets fÃ¼r 15 Euro',\n",
       " 'Mehr BewohnerparkplÃ¤tze am Burgundenplatz',\n",
       " 'Hinweisschild Einsatzfahrzeug Salzdahlumer StraÃŸe',\n",
       " 'Sichere ÃœberquerungsmÃ¶glichkeit am Campus Forschungsflughafen',\n",
       " 'ParkplÃ¤tze AdventsgeschÃ¤ft - Forderung AAI',\n",
       " 'Â§ 37 Hilfe bei Verwaltungsangelegenheiten Infoveranstaltung',\n",
       " 'Veloroute und Parkplatzsituation Helmstedeter StraÃŸe',\n",
       " 'Pflege /Gestaltung GrÃ¼nanlagen',\n",
       " 'AufrÃ¼stung Broitzemer SpielplÃ¤tze fÃ¼r Kleinkinder',\n",
       " 'Geschwindigkeitsschwellen Holzmindener StraÃŸe',\n",
       " 'App Dorffunk',\n",
       " 'Ort fÃ¼r Grafitty und Tags statt Beschmieren im Ã¶stlichen Ringgebiet',\n",
       " 'PetristraÃŸe fÃ¼r Radfahrer optimieren',\n",
       " 'Haltestelle extrem unsicher',\n",
       " 'Umwandlung des alten Galaria-GebÃ¤udes in ein Parkhaus',\n",
       " 'â€žSichtschutzâ€œ an RadfahrerInnenampel Ecke Gliedmaroder Str./BÃ¶cklinstr. fÃ¼r Autofahrende',\n",
       " 'Sensorgesteuerte Ampelschaltung Ringgleis/Celler StraÃŸe',\n",
       " 'Gesundheits- und Rehazentrum im Galeria-GebÃ¤ude',\n",
       " 'ParkplÃ¤tze Querum',\n",
       " 'Basketballplatz erneuern am Spielplatz Hohetorwall',\n",
       " '100 kÃ¼nstlerisch gestaltete BÃ¤nke fÃ¼r Braunschweig!',\n",
       " 'Warnschilder vor der neuen Querungshilfe An der Rothenburg',\n",
       " 'Beleuchtung Ringgleis',\n",
       " 'Hinweisschild fÃ¼r Radfahrer beim Ãœberholen von FuÃŸgÃ¤ngern auf dem gesamten Ringgleis',\n",
       " 'Ein Zebrastreifen fÃ¼r den Handelsweg',\n",
       " 'FahrradstÃ¤nder und grÃ¼ner Pfeil fÃ¼r FahrrÃ¤der',\n",
       " 'Autos versperren FuÃŸweg',\n",
       " 'Fahrradparkhaus Innenstadt',\n",
       " 'Verwaiste Einkaufswagen',\n",
       " 'Anpassung Strahler Dom/MÃ¼nzstraÃŸe',\n",
       " 'T- Kreuzung Hordorfer Str. L 633/ Schapen/Weddel K41 ist lebensgefÃ¤hrlich',\n",
       " 'Schulweg von GrundschÃ¼ler: Monatskarte ohne 2km Entfernung',\n",
       " 'FahrradstÃ¤nder',\n",
       " 'Lehmanger sicherer machen!',\n",
       " 'Petition: Verbesserung des Skateparks am Westbahnhof in Braunschweig zum 10-jÃ¤hrigen JubilÃ¤um',\n",
       " 'LÃ¤rmschutzwand A39 Geitelde',\n",
       " 'Rad und FuÃŸweg Lehmanger Richtung Donauviertel',\n",
       " 'Zuwegung Bhf. Gliesmarode einladend randbepflanzen',\n",
       " 'â€žSpielstraÃŸenâ€œ beruhigen',\n",
       " 'Skaterbahn Mutter Kind Spielplatz',\n",
       " 'ÃœberprÃ¼fung und Aktualisierung von Verkehrsschildern',\n",
       " 'Markierung Radweg Kreuzung Steinweg/Ritterbrunnen',\n",
       " 'Begrenzung des Verkehrs auf der MÃ¼nzstraÃŸe',\n",
       " 'Farbliche Markierung von ParkflÃ¤chen',\n",
       " 'Unterirdischer Rebenring',\n",
       " 'Hundeplatz Melverode',\n",
       " 'Fahrtrichtung auf dem Radweg klar festlegen',\n",
       " 'Kaffee am Ã–lpersee',\n",
       " 'EinfÃ¼hrung eines Blitzersystems mit Audiosensoren',\n",
       " 'Anmeldeportal Stadt Braunschweig',\n",
       " 'Leipziger StraÃŸe entlang keine SitzbÃ¤nke',\n",
       " 'Salzdahlumer StraÃŸe digitales Hinweisschild zur Vorrangschaltung',\n",
       " 'Entlastung der Bevenroder Str.',\n",
       " 'Hundeplatz Melverode',\n",
       " 'Signallampe StraÃŸenbahnquerung',\n",
       " 'BÃ¤ume gegen Klimawandel',\n",
       " 'Kein Anwohnerparken im Ã¶stlichen Ringgebiet',\n",
       " 'Verkehrsberuhigung Madamenweg',\n",
       " 'Wegbeleuchtung bauen',\n",
       " 'Ampelschaltung Hamburger StraÃŸe vorm Stadion optimieren',\n",
       " 'Ringbus erhalten â€“ das sÃ¼dwestliche Ringgebiet darf nicht abgehÃ¤ngt werden!',\n",
       " 'FuÃŸgÃ¤ngerÃ¼berweg fÃ¼r eine sicherere Grundschule in Querum',\n",
       " 'Rote Radwegmarkierung MÃ¼nchenstraÃŸe/Broitzemer StraÃŸe',\n",
       " 'Optimierung FuÃŸgÃ¤ngerampel Ackerstr./Helmstedter Str.',\n",
       " 'Abstimmungen im Protokoll mit Angabe des genauen Ergebnisses',\n",
       " 'Wilhelm-Bornstedt-Weg entlang der Oker besser befestigen',\n",
       " 'Hundewiese NuÃŸberg',\n",
       " 'Veranstaltungen richtig Planen']"
      ]
     },
     "execution_count": 26,
     "metadata": {},
     "output_type": "execute_result"
    }
   ],
   "execution_count": 26
  },
  {
   "metadata": {
    "ExecuteTime": {
     "end_time": "2024-08-06T20:27:28.812106Z",
     "start_time": "2024-08-06T20:27:28.435132Z"
    }
   },
   "cell_type": "code",
   "source": [
    "# Create a dataframe for visualization\n",
    "import plotly.express as px\n",
    "import pandas as pd\n",
    "\n",
    "# Create a new column for hover data with truncated text\n",
    "umap_embeddings_df = pd.DataFrame(umap_embeddings, columns=[\"x\", \"y\"])\n",
    "umap_embeddings_df[\"hover_text\"] = titles\n",
    "umap_embeddings_df[\"label\"] = tags\n",
    "\n",
    "# Plotting using Plotly\n",
    "fig = px.scatter(umap_embeddings_df, x=\"x\", y=\"y\", color=\"label\", hover_data=[\"hover_text\"])\n",
    "fig.show()"
   ],
   "id": "cd2b83f80ed6d2e7",
   "outputs": [
    {
     "data": {
      "application/vnd.plotly.v1+json": {
       "data": [
        {
         "customdata": [
          [
           "Verkehrsberuhigter Bereich HolwedestraÃŸe"
          ],
          [
           "Sicherer Schulweg Querum"
          ],
          [
           "Tempo 30 Madamenweg/Ringgleis bis Kreuzung Madamenweg/Altstadring"
          ],
          [
           "Fahrradkonzept WendenstraÃŸe Ã¼berarbeiten..."
          ],
          [
           "Brodweg - brisant fÃ¼r alle Verkehrsteilnehmenden"
          ],
          [
           "Schulverkehr Querum"
          ],
          [
           "Solarunterstand fÃ¼r RÃ¤der"
          ],
          [
           "Kastanienallee Ampelschaltung anpassen"
          ],
          [
           "Verkehrspiegel Ausfahrt Buschweg auf die HauptstraÃŸe in Wenden"
          ],
          [
           "Ampel fÃ¼r Radfahrer Wendenring Ecke Maschpl"
          ],
          [
           "Geschwindigkeits- und Durchfahrtsbegrenzung Querumer StraÃŸe"
          ],
          [
           "FGÃœ"
          ],
          [
           "UmrÃ¼stung der Ã–PNV-Busflotte auf ElektromobilitÃ¤t"
          ],
          [
           "Zebrastreifen an der Kreuzung Mittelweg Ringgleis."
          ],
          [
           "Blitzer am Bohlweg ( vor SchloÃŸ )"
          ],
          [
           "Verbreiterung FuÃŸ/Radweg Bienroder Weg"
          ],
          [
           "Fahrradpiktogramme RÃ¼ninger Weg endlich umsetzen"
          ],
          [
           "Einrichten eines Durchfahrtverbots fÃ¼r Transporter und Kraftfahrzeuge Ã¼ber 3,5 Tonnen in die VolmestraÃŸe"
          ],
          [
           "Ausnahmegenehmigung fÃ¼r pflegende Privatpersonen zum Parken"
          ],
          [
           "Mittelweg 30km/h Blitzer"
          ],
          [
           "Parkplatz auf dem Wollmarkt stoppen"
          ],
          [
           "Push & Pull"
          ],
          [
           "MÃ¼hlentrift Verkehr, Tempo 30, Anlieger Frei"
          ],
          [
           "FahrradstraÃŸe Wilhelm-Bode-StraÃŸe und Karl-Marx-StraÃŸe mit Vorfahrt"
          ],
          [
           "Gefahrenstelle auf dem Ringgleis"
          ],
          [
           "Bringzone fÃ¼r die Realschule MaschstraÃŸe"
          ],
          [
           "Mehr BewohnerparkplÃ¤tze in der MaschstraÃŸe"
          ],
          [
           "Verkehrssichere Max-Planck-Str"
          ],
          [
           "Verkehrsspiegel Kreuzung Karl-Hintze-Weg und Mittelriede"
          ],
          [
           "Halteververbot auf der Altmarkstr. in HÃ¶he Auf dem Anger"
          ],
          [
           "EinbahnstraÃŸe Wilhelmsgarten"
          ],
          [
           "EinbahnstraÃŸe St.-Ingbert-StraÃŸe zur LÃ¤rmreduzierung"
          ],
          [
           "Mehr BewohnerparkplÃ¤tze am Burgundenplatz"
          ],
          [
           "Hinweisschild Einsatzfahrzeug Salzdahlumer StraÃŸe"
          ],
          [
           "Sichere ÃœberquerungsmÃ¶glichkeit am Campus Forschungsflughafen"
          ],
          [
           "Veloroute und Parkplatzsituation Helmstedeter StraÃŸe"
          ],
          [
           "Geschwindigkeitsschwellen Holzmindener StraÃŸe"
          ],
          [
           "PetristraÃŸe fÃ¼r Radfahrer optimieren"
          ],
          [
           "â€žSichtschutzâ€œ an RadfahrerInnenampel Ecke Gliedmaroder Str./BÃ¶cklinstr. fÃ¼r Autofahrende"
          ],
          [
           "Sensorgesteuerte Ampelschaltung Ringgleis/Celler StraÃŸe"
          ],
          [
           "ParkplÃ¤tze Querum"
          ],
          [
           "Warnschilder vor der neuen Querungshilfe An der Rothenburg"
          ],
          [
           "Beleuchtung Ringgleis"
          ],
          [
           "Hinweisschild fÃ¼r Radfahrer beim Ãœberholen von FuÃŸgÃ¤ngern auf dem gesamten Ringgleis"
          ],
          [
           "Ein Zebrastreifen fÃ¼r den Handelsweg"
          ],
          [
           "FahrradstÃ¤nder und grÃ¼ner Pfeil fÃ¼r FahrrÃ¤der"
          ],
          [
           "Autos versperren FuÃŸweg"
          ],
          [
           "Fahrradparkhaus Innenstadt"
          ],
          [
           "Anpassung Strahler Dom/MÃ¼nzstraÃŸe"
          ],
          [
           "T- Kreuzung Hordorfer Str. L 633/ Schapen/Weddel K41 ist lebensgefÃ¤hrlich"
          ],
          [
           "Schulweg von GrundschÃ¼ler: Monatskarte ohne 2km Entfernung"
          ],
          [
           "FahrradstÃ¤nder"
          ],
          [
           "Lehmanger sicherer machen!"
          ],
          [
           "LÃ¤rmschutzwand A39 Geitelde"
          ],
          [
           "Rad und FuÃŸweg Lehmanger Richtung Donauviertel"
          ],
          [
           "â€žSpielstraÃŸenâ€œ beruhigen"
          ],
          [
           "ÃœberprÃ¼fung und Aktualisierung von Verkehrsschildern"
          ],
          [
           "Markierung Radweg Kreuzung Steinweg/Ritterbrunnen"
          ],
          [
           "Begrenzung des Verkehrs auf der MÃ¼nzstraÃŸe"
          ],
          [
           "Farbliche Markierung von ParkflÃ¤chen"
          ],
          [
           "Unterirdischer Rebenring"
          ],
          [
           "Fahrtrichtung auf dem Radweg klar festlegen"
          ],
          [
           "EinfÃ¼hrung eines Blitzersystems mit Audiosensoren"
          ],
          [
           "Salzdahlumer StraÃŸe digitales Hinweisschild zur Vorrangschaltung"
          ],
          [
           "Entlastung der Bevenroder Str."
          ],
          [
           "Signallampe StraÃŸenbahnquerung"
          ],
          [
           "Kein Anwohnerparken im Ã¶stlichen Ringgebiet"
          ],
          [
           "Verkehrsberuhigung Madamenweg"
          ],
          [
           "Ampelschaltung Hamburger StraÃŸe vorm Stadion optimieren"
          ],
          [
           "Ringbus erhalten â€“ das sÃ¼dwestliche Ringgebiet darf nicht abgehÃ¤ngt werden!"
          ],
          [
           "FuÃŸgÃ¤ngerÃ¼berweg fÃ¼r eine sicherere Grundschule in Querum"
          ],
          [
           "Rote Radwegmarkierung MÃ¼nchenstraÃŸe/Broitzemer StraÃŸe"
          ],
          [
           "Optimierung FuÃŸgÃ¤ngerampel Ackerstr./Helmstedter Str."
          ],
          [
           "Wilhelm-Bornstedt-Weg entlang der Oker besser befestigen"
          ]
         ],
         "hovertemplate": "label=Verkehr<br>x=%{x}<br>y=%{y}<br>hover_text=%{customdata[0]}<extra></extra>",
         "legendgroup": "Verkehr",
         "marker": {
          "color": "#636efa",
          "symbol": "circle"
         },
         "mode": "markers",
         "name": "Verkehr",
         "orientation": "v",
         "showlegend": true,
         "x": [
          4.028592586517334,
          4.7050604820251465,
          4.192496299743652,
          3.864759683609009,
          2.458728313446045,
          3.5132076740264893,
          2.486351490020752,
          4.2353363037109375,
          6.726844310760498,
          3.710054636001587,
          4.036298751831055,
          6.870659351348877,
          4.71836519241333,
          2.9208028316497803,
          5.076334476470947,
          2.5279922485351562,
          3.0335066318511963,
          6.934011936187744,
          5.816788196563721,
          3.4162845611572266,
          6.967973232269287,
          2.6730735301971436,
          4.094866752624512,
          2.4291493892669678,
          2.6563503742218018,
          5.137165069580078,
          7.1629462242126465,
          3.3411624431610107,
          3.339754343032837,
          4.995186805725098,
          4.581665992736816,
          3.3711130619049072,
          6.848640441894531,
          2.5435256958007812,
          6.1143107414245605,
          7.0743327140808105,
          6.460850238800049,
          2.6433053016662598,
          2.732210874557495,
          2.5437333583831787,
          6.921463966369629,
          4.6251630783081055,
          3.3499512672424316,
          2.407283306121826,
          2.7418406009674072,
          2.910773515701294,
          2.26699161529541,
          4.818138122558594,
          4.9683518409729,
          3.1941189765930176,
          4.089272499084473,
          3.55621337890625,
          4.72239875793457,
          4.667135238647461,
          2.7740983963012695,
          3.2629339694976807,
          3.2578928470611572,
          3.2326674461364746,
          6.9869914054870605,
          6.696628570556641,
          5.369312763214111,
          3.62644362449646,
          4.036081314086914,
          2.4978785514831543,
          5.054583549499512,
          3.893906354904175,
          7.019820213317871,
          6.856358528137207,
          3.6457483768463135,
          2.6000847816467285,
          3.5408565998077393,
          5.514299392700195,
          5.075766563415527,
          3.477062463760376
         ],
         "xaxis": "x",
         "y": [
          -4.9615254402160645,
          -5.595030784606934,
          -6.718232154846191,
          -6.596963405609131,
          -6.0009307861328125,
          -5.185464382171631,
          -6.482278823852539,
          -7.4842681884765625,
          -6.1418561935424805,
          -6.191266059875488,
          -7.284993648529053,
          -7.4790358543396,
          -8.190194129943848,
          -5.183543682098389,
          -7.351311206817627,
          -6.186705589294434,
          -5.9063825607299805,
          -7.841546535491943,
          -7.968046188354492,
          -6.092657566070557,
          -7.772227764129639,
          -5.563889980316162,
          -7.0049943923950195,
          -6.697361469268799,
          -5.232867240905762,
          -7.549674987792969,
          -7.561714172363281,
          -6.2755913734436035,
          -7.603170394897461,
          -5.165486812591553,
          -5.487561225891113,
          -7.094870090484619,
          -6.450976371765137,
          -6.765632152557373,
          -8.088919639587402,
          -7.5841217041015625,
          -6.0710062980651855,
          -6.052738189697266,
          -6.194765567779541,
          -5.2838287353515625,
          -6.402132511138916,
          -5.595005989074707,
          -4.724681854248047,
          -6.31845235824585,
          -6.704014778137207,
          -7.172122955322266,
          -6.558976173400879,
          -6.887957572937012,
          -5.132697582244873,
          -4.773998260498047,
          -8.41901683807373,
          -5.0386128425598145,
          -5.252562522888184,
          -5.229058742523193,
          -5.167262554168701,
          -6.134544372558594,
          -7.394373416900635,
          -5.585222244262695,
          -6.6077070236206055,
          -7.6373467445373535,
          -6.088898658752441,
          -6.729862213134766,
          -7.450542449951172,
          -6.740848541259766,
          -5.10580587387085,
          -5.127963066101074,
          -6.854118824005127,
          -6.279709815979004,
          -6.207616329193115,
          -5.370874404907227,
          -7.386777400970459,
          -5.485565185546875,
          -5.094342231750488,
          -4.496779918670654
         ],
         "yaxis": "y",
         "type": "scatter"
        },
        {
         "customdata": [
          [
           "Wickelboard auf stÃ¤dtischen SpielplÃ¤tzen"
          ],
          [
           "Neugestaltung WOLLMARKT"
          ],
          [
           "Dauerhafte BegrÃ¼nung des Schlossplatzes und Platz der Deutschen Einheit"
          ],
          [
           "Mehr MÃ¼lleimer im WaldstÃ¼ck zwischen Kralenriede, der Schuntersiedlung und RÃ¼hme."
          ],
          [
           "SitzbÃ¤nke an der Platane OkerstraÃŸe 8b"
          ],
          [
           "Steg am Schapenbruchteich"
          ],
          [
           "Toiletten fÃ¼r den LÃ¶wenwall"
          ],
          [
           "Mehr MÃ¼lleimer/ kotbeutelstation"
          ],
          [
           "Nachhaltigere und effizientere GrÃ¼nflÃ¤chenbewÃ¤sserung"
          ],
          [
           "Braunschweig braucht einen Wasserspielplatz!"
          ],
          [
           "Pflege /Gestaltung GrÃ¼nanlagen"
          ],
          [
           "100 kÃ¼nstlerisch gestaltete BÃ¤nke fÃ¼r Braunschweig!"
          ],
          [
           "Verwaiste Einkaufswagen"
          ],
          [
           "Zuwegung Bhf. Gliesmarode einladend randbepflanzen"
          ],
          [
           "Hundeplatz Melverode"
          ],
          [
           "Kaffee am Ã–lpersee"
          ],
          [
           "Leipziger StraÃŸe entlang keine SitzbÃ¤nke"
          ],
          [
           "Hundeplatz Melverode"
          ],
          [
           "BÃ¤ume gegen Klimawandel"
          ],
          [
           "Hundewiese NuÃŸberg"
          ]
         ],
         "hovertemplate": "label=StadtgrÃ¼n und Umwelt<br>x=%{x}<br>y=%{y}<br>hover_text=%{customdata[0]}<extra></extra>",
         "legendgroup": "StadtgrÃ¼n und Umwelt",
         "marker": {
          "color": "#EF553B",
          "symbol": "circle"
         },
         "mode": "markers",
         "name": "StadtgrÃ¼n und Umwelt",
         "orientation": "v",
         "showlegend": true,
         "x": [
          5.776226043701172,
          4.378207683563232,
          5.08372163772583,
          3.6358642578125,
          4.708687782287598,
          4.478324890136719,
          6.414778709411621,
          4.359150409698486,
          3.746169090270996,
          5.266158103942871,
          6.718998908996582,
          4.368436336517334,
          5.288536548614502,
          4.136372089385986,
          3.9276344776153564,
          6.025698184967041,
          5.438070774078369,
          3.97871470451355,
          5.797808647155762,
          4.529784679412842
         ],
         "xaxis": "x",
         "y": [
          -7.7379961013793945,
          -6.806397914886475,
          -6.746423244476318,
          -4.4647135734558105,
          -7.749395847320557,
          -4.640681743621826,
          -7.332206726074219,
          -5.727444648742676,
          -7.886612892150879,
          -7.7051801681518555,
          -7.923614501953125,
          -7.248404502868652,
          -7.482555389404297,
          -8.480198860168457,
          -8.081968307495117,
          -6.066262245178223,
          -7.211176872253418,
          -8.147174835205078,
          -5.737510681152344,
          -7.595694541931152
         ],
         "yaxis": "y",
         "type": "scatter"
        },
        {
         "customdata": [
          [
           "Beleuchtung Wasserturm Giersberg"
          ],
          [
           "Hundewiese am JÃ¼tenring einrichten - Bebauungsplan HA 137 Ã¤ndern"
          ],
          [
           "\"Viktualienmarkt\" Burgpassage"
          ],
          [
           "Umsetzen Informationsstele am Burgplatz"
          ],
          [
           "Standort 2. Haferstroh-Toilette"
          ],
          [
           "Umstellung der Beleuchtung auf LED"
          ],
          [
           "Aufsteller mit Ladeninfos fÃ¼r den Handelsweg"
          ],
          [
           "Tiny House FlÃ¤che erstellen"
          ]
         ],
         "hovertemplate": "label=Bauen und Planung<br>x=%{x}<br>y=%{y}<br>hover_text=%{customdata[0]}<extra></extra>",
         "legendgroup": "Bauen und Planung",
         "marker": {
          "color": "#00cc96",
          "symbol": "circle"
         },
         "mode": "markers",
         "name": "Bauen und Planung",
         "orientation": "v",
         "showlegend": true,
         "x": [
          4.261080265045166,
          4.363928318023682,
          5.5318603515625,
          5.526552200317383,
          6.171696662902832,
          3.921419858932495,
          3.7018654346466064,
          5.216395854949951
         ],
         "xaxis": "x",
         "y": [
          -5.607634544372559,
          -7.861265659332275,
          -6.633621692657471,
          -6.584208965301514,
          -6.979360103607178,
          -5.707208156585693,
          -7.8312249183654785,
          -7.057239055633545
         ],
         "yaxis": "y",
         "type": "scatter"
        },
        {
         "customdata": [
          [
           "ZeitgemÃ¤ÃŸe FunktionalitÃ¤t fÃ¼r die Ideenplattform"
          ],
          [
           "LÃ¤rmaktionsplanung"
          ],
          [
           "Einfacher Weg fÃ¼r die Genehmigung von nicht kommerziellen Tanzveranstaltungen in Braunschweiger Park und GrÃ¼nanlagen"
          ],
          [
           "Â§ 37 Hilfe bei Verwaltungsangelegenheiten Infoveranstaltung"
          ],
          [
           "App Dorffunk"
          ],
          [
           "Anmeldeportal Stadt Braunschweig"
          ],
          [
           "Abstimmungen im Protokoll mit Angabe des genauen Ergebnisses"
          ]
         ],
         "hovertemplate": "label=Allgemeine Verwaltung<br>x=%{x}<br>y=%{y}<br>hover_text=%{customdata[0]}<extra></extra>",
         "legendgroup": "Allgemeine Verwaltung",
         "marker": {
          "color": "#ab63fa",
          "symbol": "circle"
         },
         "mode": "markers",
         "name": "Allgemeine Verwaltung",
         "orientation": "v",
         "showlegend": true,
         "x": [
          4.303441524505615,
          3.8115153312683105,
          5.689974308013916,
          4.558414459228516,
          4.266683101654053,
          4.612592697143555,
          3.048196315765381
         ],
         "xaxis": "x",
         "y": [
          -6.349507808685303,
          -7.30604362487793,
          -7.788236618041992,
          -7.974669456481934,
          -5.063457489013672,
          -7.537212371826172,
          -7.25564432144165
         ],
         "yaxis": "y",
         "type": "scatter"
        },
        {
         "customdata": [
          [
           "SpielplÃ¤tze im Herbst/Winter nutzbarer machen"
          ],
          [
           "UnterstÃ¼tzung fÃ¼r besonders gefÃ¤hrdete Menschen bei Hitze"
          ],
          [
           "Wickeltisch"
          ],
          [
           "EinfÃ¼hrung Stadtinterne Kinderbetreuung fÃ¼r MÃ¼tter"
          ],
          [
           "Eltern-Kind-Schaukel fÃ¼r SpielplÃ¤tze"
          ],
          [
           "Ponyclub Querum e.V."
          ],
          [
           "Weiteres Angebot des Braunschweiger SchÃ¼lertickets fÃ¼r 15 Euro"
          ],
          [
           "AufrÃ¼stung Broitzemer SpielplÃ¤tze fÃ¼r Kleinkinder"
          ],
          [
           "Ort fÃ¼r Grafitty und Tags statt Beschmieren im Ã¶stlichen Ringgebiet"
          ],
          [
           "Basketballplatz erneuern am Spielplatz Hohetorwall"
          ],
          [
           "Petition: Verbesserung des Skateparks am Westbahnhof in Braunschweig zum 10-jÃ¤hrigen JubilÃ¤um"
          ],
          [
           "Skaterbahn Mutter Kind Spielplatz"
          ]
         ],
         "hovertemplate": "label=Soziales, Jugend und Gesundheit<br>x=%{x}<br>y=%{y}<br>hover_text=%{customdata[0]}<extra></extra>",
         "legendgroup": "Soziales, Jugend und Gesundheit",
         "marker": {
          "color": "#FFA15A",
          "symbol": "circle"
         },
         "mode": "markers",
         "name": "Soziales, Jugend und Gesundheit",
         "orientation": "v",
         "showlegend": true,
         "x": [
          4.6357197761535645,
          5.215043544769287,
          6.238140106201172,
          3.293513059616089,
          4.785616874694824,
          5.4214653968811035,
          5.019631385803223,
          5.7298102378845215,
          4.18577241897583,
          5.562304496765137,
          6.858155250549316,
          4.9828104972839355
         ],
         "xaxis": "x",
         "y": [
          -6.051737308502197,
          -7.582885265350342,
          -7.110565185546875,
          -6.950368881225586,
          -6.448186874389648,
          -7.908926486968994,
          -8.005504608154297,
          -6.90043306350708,
          -4.867650032043457,
          -7.133205890655518,
          -7.793753147125244,
          -6.117856502532959
         ],
         "yaxis": "y",
         "type": "scatter"
        },
        {
         "customdata": [
          [
           "AuffÃ¼hrung des Dramas \"Julius von Tarent\" von Johann Anton Leisewitz"
          ],
          [
           "Stadtkindergarten/Krippe"
          ]
         ],
         "hovertemplate": "label=Schule und Kultur<br>x=%{x}<br>y=%{y}<br>hover_text=%{customdata[0]}<extra></extra>",
         "legendgroup": "Schule und Kultur",
         "marker": {
          "color": "#19d3f3",
          "symbol": "circle"
         },
         "mode": "markers",
         "name": "Schule und Kultur",
         "orientation": "v",
         "showlegend": true,
         "x": [
          2.533766269683838,
          3.3128883838653564
         ],
         "xaxis": "x",
         "y": [
          -7.028264045715332,
          -6.981518745422363
         ],
         "yaxis": "y",
         "type": "scatter"
        },
        {
         "customdata": [
          [
           "Installation einer Strassen/wegbeleuchtung"
          ],
          [
           "Haltestelle extrem unsicher"
          ],
          [
           "Wegbeleuchtung bauen"
          ],
          [
           "Veranstaltungen richtig Planen"
          ]
         ],
         "hovertemplate": "label=Recht, Sicherheit und Ordnung<br>x=%{x}<br>y=%{y}<br>hover_text=%{customdata[0]}<extra></extra>",
         "legendgroup": "Recht, Sicherheit und Ordnung",
         "marker": {
          "color": "#FF6692",
          "symbol": "circle"
         },
         "mode": "markers",
         "name": "Recht, Sicherheit und Ordnung",
         "orientation": "v",
         "showlegend": true,
         "x": [
          3.300886631011963,
          3.464280843734741,
          3.5710277557373047,
          2.6543192863464355
         ],
         "xaxis": "x",
         "y": [
          -4.830786228179932,
          -6.533699989318848,
          -4.576786041259766,
          -5.843845367431641
         ],
         "yaxis": "y",
         "type": "scatter"
        },
        {
         "customdata": [
          [
           "ParkplÃ¤tze AdventsgeschÃ¤ft - Forderung AAI"
          ],
          [
           "Umwandlung des alten Galaria-GebÃ¤udes in ein Parkhaus"
          ],
          [
           "Gesundheits- und Rehazentrum im Galeria-GebÃ¤ude"
          ]
         ],
         "hovertemplate": "label=Wirtschaft<br>x=%{x}<br>y=%{y}<br>hover_text=%{customdata[0]}<extra></extra>",
         "legendgroup": "Wirtschaft",
         "marker": {
          "color": "#B6E880",
          "symbol": "circle"
         },
         "mode": "markers",
         "name": "Wirtschaft",
         "orientation": "v",
         "showlegend": true,
         "x": [
          6.7052741050720215,
          6.423107147216797,
          3.9778084754943848
         ],
         "xaxis": "x",
         "y": [
          -7.548488616943359,
          -7.749955177307129,
          -8.420149803161621
         ],
         "yaxis": "y",
         "type": "scatter"
        }
       ],
       "layout": {
        "template": {
         "data": {
          "histogram2dcontour": [
           {
            "type": "histogram2dcontour",
            "colorbar": {
             "outlinewidth": 0,
             "ticks": ""
            },
            "colorscale": [
             [
              0.0,
              "#0d0887"
             ],
             [
              0.1111111111111111,
              "#46039f"
             ],
             [
              0.2222222222222222,
              "#7201a8"
             ],
             [
              0.3333333333333333,
              "#9c179e"
             ],
             [
              0.4444444444444444,
              "#bd3786"
             ],
             [
              0.5555555555555556,
              "#d8576b"
             ],
             [
              0.6666666666666666,
              "#ed7953"
             ],
             [
              0.7777777777777778,
              "#fb9f3a"
             ],
             [
              0.8888888888888888,
              "#fdca26"
             ],
             [
              1.0,
              "#f0f921"
             ]
            ]
           }
          ],
          "choropleth": [
           {
            "type": "choropleth",
            "colorbar": {
             "outlinewidth": 0,
             "ticks": ""
            }
           }
          ],
          "histogram2d": [
           {
            "type": "histogram2d",
            "colorbar": {
             "outlinewidth": 0,
             "ticks": ""
            },
            "colorscale": [
             [
              0.0,
              "#0d0887"
             ],
             [
              0.1111111111111111,
              "#46039f"
             ],
             [
              0.2222222222222222,
              "#7201a8"
             ],
             [
              0.3333333333333333,
              "#9c179e"
             ],
             [
              0.4444444444444444,
              "#bd3786"
             ],
             [
              0.5555555555555556,
              "#d8576b"
             ],
             [
              0.6666666666666666,
              "#ed7953"
             ],
             [
              0.7777777777777778,
              "#fb9f3a"
             ],
             [
              0.8888888888888888,
              "#fdca26"
             ],
             [
              1.0,
              "#f0f921"
             ]
            ]
           }
          ],
          "heatmap": [
           {
            "type": "heatmap",
            "colorbar": {
             "outlinewidth": 0,
             "ticks": ""
            },
            "colorscale": [
             [
              0.0,
              "#0d0887"
             ],
             [
              0.1111111111111111,
              "#46039f"
             ],
             [
              0.2222222222222222,
              "#7201a8"
             ],
             [
              0.3333333333333333,
              "#9c179e"
             ],
             [
              0.4444444444444444,
              "#bd3786"
             ],
             [
              0.5555555555555556,
              "#d8576b"
             ],
             [
              0.6666666666666666,
              "#ed7953"
             ],
             [
              0.7777777777777778,
              "#fb9f3a"
             ],
             [
              0.8888888888888888,
              "#fdca26"
             ],
             [
              1.0,
              "#f0f921"
             ]
            ]
           }
          ],
          "heatmapgl": [
           {
            "type": "heatmapgl",
            "colorbar": {
             "outlinewidth": 0,
             "ticks": ""
            },
            "colorscale": [
             [
              0.0,
              "#0d0887"
             ],
             [
              0.1111111111111111,
              "#46039f"
             ],
             [
              0.2222222222222222,
              "#7201a8"
             ],
             [
              0.3333333333333333,
              "#9c179e"
             ],
             [
              0.4444444444444444,
              "#bd3786"
             ],
             [
              0.5555555555555556,
              "#d8576b"
             ],
             [
              0.6666666666666666,
              "#ed7953"
             ],
             [
              0.7777777777777778,
              "#fb9f3a"
             ],
             [
              0.8888888888888888,
              "#fdca26"
             ],
             [
              1.0,
              "#f0f921"
             ]
            ]
           }
          ],
          "contourcarpet": [
           {
            "type": "contourcarpet",
            "colorbar": {
             "outlinewidth": 0,
             "ticks": ""
            }
           }
          ],
          "contour": [
           {
            "type": "contour",
            "colorbar": {
             "outlinewidth": 0,
             "ticks": ""
            },
            "colorscale": [
             [
              0.0,
              "#0d0887"
             ],
             [
              0.1111111111111111,
              "#46039f"
             ],
             [
              0.2222222222222222,
              "#7201a8"
             ],
             [
              0.3333333333333333,
              "#9c179e"
             ],
             [
              0.4444444444444444,
              "#bd3786"
             ],
             [
              0.5555555555555556,
              "#d8576b"
             ],
             [
              0.6666666666666666,
              "#ed7953"
             ],
             [
              0.7777777777777778,
              "#fb9f3a"
             ],
             [
              0.8888888888888888,
              "#fdca26"
             ],
             [
              1.0,
              "#f0f921"
             ]
            ]
           }
          ],
          "surface": [
           {
            "type": "surface",
            "colorbar": {
             "outlinewidth": 0,
             "ticks": ""
            },
            "colorscale": [
             [
              0.0,
              "#0d0887"
             ],
             [
              0.1111111111111111,
              "#46039f"
             ],
             [
              0.2222222222222222,
              "#7201a8"
             ],
             [
              0.3333333333333333,
              "#9c179e"
             ],
             [
              0.4444444444444444,
              "#bd3786"
             ],
             [
              0.5555555555555556,
              "#d8576b"
             ],
             [
              0.6666666666666666,
              "#ed7953"
             ],
             [
              0.7777777777777778,
              "#fb9f3a"
             ],
             [
              0.8888888888888888,
              "#fdca26"
             ],
             [
              1.0,
              "#f0f921"
             ]
            ]
           }
          ],
          "mesh3d": [
           {
            "type": "mesh3d",
            "colorbar": {
             "outlinewidth": 0,
             "ticks": ""
            }
           }
          ],
          "scatter": [
           {
            "fillpattern": {
             "fillmode": "overlay",
             "size": 10,
             "solidity": 0.2
            },
            "type": "scatter"
           }
          ],
          "parcoords": [
           {
            "type": "parcoords",
            "line": {
             "colorbar": {
              "outlinewidth": 0,
              "ticks": ""
             }
            }
           }
          ],
          "scatterpolargl": [
           {
            "type": "scatterpolargl",
            "marker": {
             "colorbar": {
              "outlinewidth": 0,
              "ticks": ""
             }
            }
           }
          ],
          "bar": [
           {
            "error_x": {
             "color": "#2a3f5f"
            },
            "error_y": {
             "color": "#2a3f5f"
            },
            "marker": {
             "line": {
              "color": "#E5ECF6",
              "width": 0.5
             },
             "pattern": {
              "fillmode": "overlay",
              "size": 10,
              "solidity": 0.2
             }
            },
            "type": "bar"
           }
          ],
          "scattergeo": [
           {
            "type": "scattergeo",
            "marker": {
             "colorbar": {
              "outlinewidth": 0,
              "ticks": ""
             }
            }
           }
          ],
          "scatterpolar": [
           {
            "type": "scatterpolar",
            "marker": {
             "colorbar": {
              "outlinewidth": 0,
              "ticks": ""
             }
            }
           }
          ],
          "histogram": [
           {
            "marker": {
             "pattern": {
              "fillmode": "overlay",
              "size": 10,
              "solidity": 0.2
             }
            },
            "type": "histogram"
           }
          ],
          "scattergl": [
           {
            "type": "scattergl",
            "marker": {
             "colorbar": {
              "outlinewidth": 0,
              "ticks": ""
             }
            }
           }
          ],
          "scatter3d": [
           {
            "type": "scatter3d",
            "line": {
             "colorbar": {
              "outlinewidth": 0,
              "ticks": ""
             }
            },
            "marker": {
             "colorbar": {
              "outlinewidth": 0,
              "ticks": ""
             }
            }
           }
          ],
          "scattermapbox": [
           {
            "type": "scattermapbox",
            "marker": {
             "colorbar": {
              "outlinewidth": 0,
              "ticks": ""
             }
            }
           }
          ],
          "scatterternary": [
           {
            "type": "scatterternary",
            "marker": {
             "colorbar": {
              "outlinewidth": 0,
              "ticks": ""
             }
            }
           }
          ],
          "scattercarpet": [
           {
            "type": "scattercarpet",
            "marker": {
             "colorbar": {
              "outlinewidth": 0,
              "ticks": ""
             }
            }
           }
          ],
          "carpet": [
           {
            "aaxis": {
             "endlinecolor": "#2a3f5f",
             "gridcolor": "white",
             "linecolor": "white",
             "minorgridcolor": "white",
             "startlinecolor": "#2a3f5f"
            },
            "baxis": {
             "endlinecolor": "#2a3f5f",
             "gridcolor": "white",
             "linecolor": "white",
             "minorgridcolor": "white",
             "startlinecolor": "#2a3f5f"
            },
            "type": "carpet"
           }
          ],
          "table": [
           {
            "cells": {
             "fill": {
              "color": "#EBF0F8"
             },
             "line": {
              "color": "white"
             }
            },
            "header": {
             "fill": {
              "color": "#C8D4E3"
             },
             "line": {
              "color": "white"
             }
            },
            "type": "table"
           }
          ],
          "barpolar": [
           {
            "marker": {
             "line": {
              "color": "#E5ECF6",
              "width": 0.5
             },
             "pattern": {
              "fillmode": "overlay",
              "size": 10,
              "solidity": 0.2
             }
            },
            "type": "barpolar"
           }
          ],
          "pie": [
           {
            "automargin": true,
            "type": "pie"
           }
          ]
         },
         "layout": {
          "autotypenumbers": "strict",
          "colorway": [
           "#636efa",
           "#EF553B",
           "#00cc96",
           "#ab63fa",
           "#FFA15A",
           "#19d3f3",
           "#FF6692",
           "#B6E880",
           "#FF97FF",
           "#FECB52"
          ],
          "font": {
           "color": "#2a3f5f"
          },
          "hovermode": "closest",
          "hoverlabel": {
           "align": "left"
          },
          "paper_bgcolor": "white",
          "plot_bgcolor": "#E5ECF6",
          "polar": {
           "bgcolor": "#E5ECF6",
           "angularaxis": {
            "gridcolor": "white",
            "linecolor": "white",
            "ticks": ""
           },
           "radialaxis": {
            "gridcolor": "white",
            "linecolor": "white",
            "ticks": ""
           }
          },
          "ternary": {
           "bgcolor": "#E5ECF6",
           "aaxis": {
            "gridcolor": "white",
            "linecolor": "white",
            "ticks": ""
           },
           "baxis": {
            "gridcolor": "white",
            "linecolor": "white",
            "ticks": ""
           },
           "caxis": {
            "gridcolor": "white",
            "linecolor": "white",
            "ticks": ""
           }
          },
          "coloraxis": {
           "colorbar": {
            "outlinewidth": 0,
            "ticks": ""
           }
          },
          "colorscale": {
           "sequential": [
            [
             0.0,
             "#0d0887"
            ],
            [
             0.1111111111111111,
             "#46039f"
            ],
            [
             0.2222222222222222,
             "#7201a8"
            ],
            [
             0.3333333333333333,
             "#9c179e"
            ],
            [
             0.4444444444444444,
             "#bd3786"
            ],
            [
             0.5555555555555556,
             "#d8576b"
            ],
            [
             0.6666666666666666,
             "#ed7953"
            ],
            [
             0.7777777777777778,
             "#fb9f3a"
            ],
            [
             0.8888888888888888,
             "#fdca26"
            ],
            [
             1.0,
             "#f0f921"
            ]
           ],
           "sequentialminus": [
            [
             0.0,
             "#0d0887"
            ],
            [
             0.1111111111111111,
             "#46039f"
            ],
            [
             0.2222222222222222,
             "#7201a8"
            ],
            [
             0.3333333333333333,
             "#9c179e"
            ],
            [
             0.4444444444444444,
             "#bd3786"
            ],
            [
             0.5555555555555556,
             "#d8576b"
            ],
            [
             0.6666666666666666,
             "#ed7953"
            ],
            [
             0.7777777777777778,
             "#fb9f3a"
            ],
            [
             0.8888888888888888,
             "#fdca26"
            ],
            [
             1.0,
             "#f0f921"
            ]
           ],
           "diverging": [
            [
             0,
             "#8e0152"
            ],
            [
             0.1,
             "#c51b7d"
            ],
            [
             0.2,
             "#de77ae"
            ],
            [
             0.3,
             "#f1b6da"
            ],
            [
             0.4,
             "#fde0ef"
            ],
            [
             0.5,
             "#f7f7f7"
            ],
            [
             0.6,
             "#e6f5d0"
            ],
            [
             0.7,
             "#b8e186"
            ],
            [
             0.8,
             "#7fbc41"
            ],
            [
             0.9,
             "#4d9221"
            ],
            [
             1,
             "#276419"
            ]
           ]
          },
          "xaxis": {
           "gridcolor": "white",
           "linecolor": "white",
           "ticks": "",
           "title": {
            "standoff": 15
           },
           "zerolinecolor": "white",
           "automargin": true,
           "zerolinewidth": 2
          },
          "yaxis": {
           "gridcolor": "white",
           "linecolor": "white",
           "ticks": "",
           "title": {
            "standoff": 15
           },
           "zerolinecolor": "white",
           "automargin": true,
           "zerolinewidth": 2
          },
          "scene": {
           "xaxis": {
            "backgroundcolor": "#E5ECF6",
            "gridcolor": "white",
            "linecolor": "white",
            "showbackground": true,
            "ticks": "",
            "zerolinecolor": "white",
            "gridwidth": 2
           },
           "yaxis": {
            "backgroundcolor": "#E5ECF6",
            "gridcolor": "white",
            "linecolor": "white",
            "showbackground": true,
            "ticks": "",
            "zerolinecolor": "white",
            "gridwidth": 2
           },
           "zaxis": {
            "backgroundcolor": "#E5ECF6",
            "gridcolor": "white",
            "linecolor": "white",
            "showbackground": true,
            "ticks": "",
            "zerolinecolor": "white",
            "gridwidth": 2
           }
          },
          "shapedefaults": {
           "line": {
            "color": "#2a3f5f"
           }
          },
          "annotationdefaults": {
           "arrowcolor": "#2a3f5f",
           "arrowhead": 0,
           "arrowwidth": 1
          },
          "geo": {
           "bgcolor": "white",
           "landcolor": "#E5ECF6",
           "subunitcolor": "white",
           "showland": true,
           "showlakes": true,
           "lakecolor": "white"
          },
          "title": {
           "x": 0.05
          },
          "mapbox": {
           "style": "light"
          }
         }
        },
        "xaxis": {
         "anchor": "y",
         "domain": [
          0.0,
          1.0
         ],
         "title": {
          "text": "x"
         }
        },
        "yaxis": {
         "anchor": "x",
         "domain": [
          0.0,
          1.0
         ],
         "title": {
          "text": "y"
         }
        },
        "legend": {
         "title": {
          "text": "label"
         },
         "tracegroupgap": 0
        },
        "margin": {
         "t": 60
        }
       },
       "config": {
        "plotlyServerURL": "https://plot.ly"
       }
      },
      "text/html": [
       "<div>                            <div id=\"ce71aeac-f926-4f43-a0bb-59004103d44b\" class=\"plotly-graph-div\" style=\"height:525px; width:100%;\"></div>            <script type=\"text/javascript\">                require([\"plotly\"], function(Plotly) {                    window.PLOTLYENV=window.PLOTLYENV || {};                                    if (document.getElementById(\"ce71aeac-f926-4f43-a0bb-59004103d44b\")) {                    Plotly.newPlot(                        \"ce71aeac-f926-4f43-a0bb-59004103d44b\",                        [{\"customdata\":[[\"Verkehrsberuhigter Bereich Holwedestra\\u00c3\\u0178e\"],[\"Sicherer Schulweg Querum\"],[\"Tempo 30 Madamenweg\\u002fRinggleis bis Kreuzung Madamenweg\\u002fAltstadring\"],[\"Fahrradkonzept Wendenstra\\u00c3\\u0178e \\u00c3\\u00bcberarbeiten...\"],[\"Brodweg - brisant f\\u00c3\\u00bcr alle Verkehrsteilnehmenden\"],[\"Schulverkehr Querum\"],[\"Solarunterstand f\\u00c3\\u00bcr R\\u00c3\\u00a4der\"],[\"Kastanienallee Ampelschaltung anpassen\"],[\"Verkehrspiegel Ausfahrt Buschweg auf die Hauptstra\\u00c3\\u0178e in Wenden\"],[\"Ampel f\\u00c3\\u00bcr Radfahrer Wendenring Ecke Maschpl\"],[\"Geschwindigkeits- und Durchfahrtsbegrenzung Querumer Stra\\u00c3\\u0178e\"],[\"FG\\u00c3\\u0153\"],[\"Umr\\u00c3\\u00bcstung der \\u00c3\\u2013PNV-Busflotte auf Elektromobilit\\u00c3\\u00a4t\"],[\"Zebrastreifen an der Kreuzung Mittelweg Ringgleis.\"],[\"Blitzer am Bohlweg ( vor Schlo\\u00c3\\u0178 )\"],[\"Verbreiterung Fu\\u00c3\\u0178\\u002fRadweg Bienroder Weg\"],[\"Fahrradpiktogramme R\\u00c3\\u00bcninger Weg endlich umsetzen\"],[\"Einrichten eines Durchfahrtverbots f\\u00c3\\u00bcr Transporter und Kraftfahrzeuge \\u00c3\\u00bcber 3,5 Tonnen in die Volmestra\\u00c3\\u0178e\"],[\"Ausnahmegenehmigung f\\u00c3\\u00bcr pflegende Privatpersonen zum Parken\"],[\"Mittelweg 30km\\u002fh Blitzer\"],[\"Parkplatz auf dem Wollmarkt stoppen\"],[\"Push & Pull\"],[\"M\\u00c3\\u00bchlentrift Verkehr, Tempo 30, Anlieger Frei\"],[\"Fahrradstra\\u00c3\\u0178e Wilhelm-Bode-Stra\\u00c3\\u0178e und Karl-Marx-Stra\\u00c3\\u0178e mit Vorfahrt\"],[\"Gefahrenstelle auf dem Ringgleis\"],[\"Bringzone f\\u00c3\\u00bcr die Realschule Maschstra\\u00c3\\u0178e\"],[\"Mehr Bewohnerparkpl\\u00c3\\u00a4tze in der Maschstra\\u00c3\\u0178e\"],[\"Verkehrssichere Max-Planck-Str\"],[\"Verkehrsspiegel Kreuzung Karl-Hintze-Weg und Mittelriede\"],[\"Halteververbot auf der Altmarkstr. in H\\u00c3\\u00b6he Auf dem Anger\"],[\"Einbahnstra\\u00c3\\u0178e Wilhelmsgarten\"],[\"Einbahnstra\\u00c3\\u0178e St.-Ingbert-Stra\\u00c3\\u0178e zur L\\u00c3\\u00a4rmreduzierung\"],[\"Mehr Bewohnerparkpl\\u00c3\\u00a4tze am Burgundenplatz\"],[\"Hinweisschild Einsatzfahrzeug Salzdahlumer Stra\\u00c3\\u0178e\"],[\"Sichere \\u00c3\\u0153berquerungsm\\u00c3\\u00b6glichkeit am Campus Forschungsflughafen\"],[\"Veloroute und Parkplatzsituation Helmstedeter Stra\\u00c3\\u0178e\"],[\"Geschwindigkeitsschwellen Holzmindener Stra\\u00c3\\u0178e\"],[\"Petristra\\u00c3\\u0178e f\\u00c3\\u00bcr Radfahrer optimieren\"],[\"\\u00e2\\u20ac\\u017eSichtschutz\\u00e2\\u20ac\\u0153 an RadfahrerInnenampel Ecke Gliedmaroder Str.\\u002fB\\u00c3\\u00b6cklinstr. f\\u00c3\\u00bcr Autofahrende\"],[\"Sensorgesteuerte Ampelschaltung Ringgleis\\u002fCeller Stra\\u00c3\\u0178e\"],[\"Parkpl\\u00c3\\u00a4tze Querum\"],[\"Warnschilder vor der neuen Querungshilfe An der Rothenburg\"],[\"Beleuchtung Ringgleis\"],[\"Hinweisschild f\\u00c3\\u00bcr Radfahrer beim \\u00c3\\u0153berholen von Fu\\u00c3\\u0178g\\u00c3\\u00a4ngern auf dem gesamten Ringgleis\"],[\"Ein Zebrastreifen f\\u00c3\\u00bcr den Handelsweg\"],[\"Fahrradst\\u00c3\\u00a4nder und gr\\u00c3\\u00bcner Pfeil f\\u00c3\\u00bcr Fahrr\\u00c3\\u00a4der\"],[\"Autos versperren Fu\\u00c3\\u0178weg\"],[\"Fahrradparkhaus Innenstadt\"],[\"Anpassung Strahler Dom\\u002fM\\u00c3\\u00bcnzstra\\u00c3\\u0178e\"],[\"T- Kreuzung Hordorfer Str. L 633\\u002f Schapen\\u002fWeddel K41 ist lebensgef\\u00c3\\u00a4hrlich\"],[\"Schulweg von Grundsch\\u00c3\\u00bcler: Monatskarte ohne 2km Entfernung\"],[\"Fahrradst\\u00c3\\u00a4nder\"],[\"Lehmanger sicherer machen!\"],[\"L\\u00c3\\u00a4rmschutzwand A39 Geitelde\"],[\"Rad und Fu\\u00c3\\u0178weg Lehmanger Richtung Donauviertel\"],[\"\\u00e2\\u20ac\\u017eSpielstra\\u00c3\\u0178en\\u00e2\\u20ac\\u0153 beruhigen\"],[\"\\u00c3\\u0153berpr\\u00c3\\u00bcfung und Aktualisierung von Verkehrsschildern\"],[\"Markierung Radweg Kreuzung Steinweg\\u002fRitterbrunnen\"],[\"Begrenzung des Verkehrs auf der M\\u00c3\\u00bcnzstra\\u00c3\\u0178e\"],[\"Farbliche Markierung von Parkfl\\u00c3\\u00a4chen\"],[\"Unterirdischer Rebenring\"],[\"Fahrtrichtung auf dem Radweg klar festlegen\"],[\"Einf\\u00c3\\u00bchrung eines Blitzersystems mit Audiosensoren\"],[\"Salzdahlumer Stra\\u00c3\\u0178e digitales Hinweisschild zur Vorrangschaltung\"],[\"Entlastung der Bevenroder Str.\"],[\"Signallampe Stra\\u00c3\\u0178enbahnquerung\"],[\"Kein Anwohnerparken im \\u00c3\\u00b6stlichen Ringgebiet\"],[\"Verkehrsberuhigung Madamenweg\"],[\"Ampelschaltung Hamburger Stra\\u00c3\\u0178e vorm Stadion optimieren\"],[\"Ringbus erhalten \\u00e2\\u20ac\\u201c das s\\u00c3\\u00bcdwestliche Ringgebiet darf nicht abgeh\\u00c3\\u00a4ngt werden!\"],[\"Fu\\u00c3\\u0178g\\u00c3\\u00a4nger\\u00c3\\u00bcberweg f\\u00c3\\u00bcr eine sicherere Grundschule in Querum\"],[\"Rote Radwegmarkierung M\\u00c3\\u00bcnchenstra\\u00c3\\u0178e\\u002fBroitzemer Stra\\u00c3\\u0178e\"],[\"Optimierung Fu\\u00c3\\u0178g\\u00c3\\u00a4ngerampel Ackerstr.\\u002fHelmstedter Str.\"],[\"Wilhelm-Bornstedt-Weg entlang der Oker besser befestigen\"]],\"hovertemplate\":\"label=Verkehr\\u003cbr\\u003ex=%{x}\\u003cbr\\u003ey=%{y}\\u003cbr\\u003ehover_text=%{customdata[0]}\\u003cextra\\u003e\\u003c\\u002fextra\\u003e\",\"legendgroup\":\"Verkehr\",\"marker\":{\"color\":\"#636efa\",\"symbol\":\"circle\"},\"mode\":\"markers\",\"name\":\"Verkehr\",\"orientation\":\"v\",\"showlegend\":true,\"x\":[4.028592586517334,4.7050604820251465,4.192496299743652,3.864759683609009,2.458728313446045,3.5132076740264893,2.486351490020752,4.2353363037109375,6.726844310760498,3.710054636001587,4.036298751831055,6.870659351348877,4.71836519241333,2.9208028316497803,5.076334476470947,2.5279922485351562,3.0335066318511963,6.934011936187744,5.816788196563721,3.4162845611572266,6.967973232269287,2.6730735301971436,4.094866752624512,2.4291493892669678,2.6563503742218018,5.137165069580078,7.1629462242126465,3.3411624431610107,3.339754343032837,4.995186805725098,4.581665992736816,3.3711130619049072,6.848640441894531,2.5435256958007812,6.1143107414245605,7.0743327140808105,6.460850238800049,2.6433053016662598,2.732210874557495,2.5437333583831787,6.921463966369629,4.6251630783081055,3.3499512672424316,2.407283306121826,2.7418406009674072,2.910773515701294,2.26699161529541,4.818138122558594,4.9683518409729,3.1941189765930176,4.089272499084473,3.55621337890625,4.72239875793457,4.667135238647461,2.7740983963012695,3.2629339694976807,3.2578928470611572,3.2326674461364746,6.9869914054870605,6.696628570556641,5.369312763214111,3.62644362449646,4.036081314086914,2.4978785514831543,5.054583549499512,3.893906354904175,7.019820213317871,6.856358528137207,3.6457483768463135,2.6000847816467285,3.5408565998077393,5.514299392700195,5.075766563415527,3.477062463760376],\"xaxis\":\"x\",\"y\":[-4.9615254402160645,-5.595030784606934,-6.718232154846191,-6.596963405609131,-6.0009307861328125,-5.185464382171631,-6.482278823852539,-7.4842681884765625,-6.1418561935424805,-6.191266059875488,-7.284993648529053,-7.4790358543396,-8.190194129943848,-5.183543682098389,-7.351311206817627,-6.186705589294434,-5.9063825607299805,-7.841546535491943,-7.968046188354492,-6.092657566070557,-7.772227764129639,-5.563889980316162,-7.0049943923950195,-6.697361469268799,-5.232867240905762,-7.549674987792969,-7.561714172363281,-6.2755913734436035,-7.603170394897461,-5.165486812591553,-5.487561225891113,-7.094870090484619,-6.450976371765137,-6.765632152557373,-8.088919639587402,-7.5841217041015625,-6.0710062980651855,-6.052738189697266,-6.194765567779541,-5.2838287353515625,-6.402132511138916,-5.595005989074707,-4.724681854248047,-6.31845235824585,-6.704014778137207,-7.172122955322266,-6.558976173400879,-6.887957572937012,-5.132697582244873,-4.773998260498047,-8.41901683807373,-5.0386128425598145,-5.252562522888184,-5.229058742523193,-5.167262554168701,-6.134544372558594,-7.394373416900635,-5.585222244262695,-6.6077070236206055,-7.6373467445373535,-6.088898658752441,-6.729862213134766,-7.450542449951172,-6.740848541259766,-5.10580587387085,-5.127963066101074,-6.854118824005127,-6.279709815979004,-6.207616329193115,-5.370874404907227,-7.386777400970459,-5.485565185546875,-5.094342231750488,-4.496779918670654],\"yaxis\":\"y\",\"type\":\"scatter\"},{\"customdata\":[[\"Wickelboard auf st\\u00c3\\u00a4dtischen Spielpl\\u00c3\\u00a4tzen\"],[\"Neugestaltung WOLLMARKT\"],[\"Dauerhafte Begr\\u00c3\\u00bcnung des Schlossplatzes und Platz der Deutschen Einheit\"],[\"Mehr M\\u00c3\\u00bclleimer im Waldst\\u00c3\\u00bcck zwischen Kralenriede, der Schuntersiedlung und R\\u00c3\\u00bchme.\"],[\"Sitzb\\u00c3\\u00a4nke an der Platane Okerstra\\u00c3\\u0178e 8b\"],[\"Steg am Schapenbruchteich\"],[\"Toiletten f\\u00c3\\u00bcr den L\\u00c3\\u00b6wenwall\"],[\"Mehr M\\u00c3\\u00bclleimer\\u002f kotbeutelstation\"],[\"Nachhaltigere und effizientere Gr\\u00c3\\u00bcnfl\\u00c3\\u00a4chenbew\\u00c3\\u00a4sserung\"],[\"Braunschweig braucht einen Wasserspielplatz!\"],[\"Pflege \\u002fGestaltung Gr\\u00c3\\u00bcnanlagen\"],[\"100 k\\u00c3\\u00bcnstlerisch gestaltete B\\u00c3\\u00a4nke f\\u00c3\\u00bcr Braunschweig!\"],[\"Verwaiste Einkaufswagen\"],[\"Zuwegung Bhf. Gliesmarode einladend randbepflanzen\"],[\"Hundeplatz Melverode\"],[\"Kaffee am \\u00c3\\u2013lpersee\"],[\"Leipziger Stra\\u00c3\\u0178e entlang keine Sitzb\\u00c3\\u00a4nke\"],[\"Hundeplatz Melverode\"],[\"B\\u00c3\\u00a4ume gegen Klimawandel\"],[\"Hundewiese Nu\\u00c3\\u0178berg\"]],\"hovertemplate\":\"label=Stadtgr\\u00c3\\u00bcn und Umwelt\\u003cbr\\u003ex=%{x}\\u003cbr\\u003ey=%{y}\\u003cbr\\u003ehover_text=%{customdata[0]}\\u003cextra\\u003e\\u003c\\u002fextra\\u003e\",\"legendgroup\":\"Stadtgr\\u00c3\\u00bcn und Umwelt\",\"marker\":{\"color\":\"#EF553B\",\"symbol\":\"circle\"},\"mode\":\"markers\",\"name\":\"Stadtgr\\u00c3\\u00bcn und Umwelt\",\"orientation\":\"v\",\"showlegend\":true,\"x\":[5.776226043701172,4.378207683563232,5.08372163772583,3.6358642578125,4.708687782287598,4.478324890136719,6.414778709411621,4.359150409698486,3.746169090270996,5.266158103942871,6.718998908996582,4.368436336517334,5.288536548614502,4.136372089385986,3.9276344776153564,6.025698184967041,5.438070774078369,3.97871470451355,5.797808647155762,4.529784679412842],\"xaxis\":\"x\",\"y\":[-7.7379961013793945,-6.806397914886475,-6.746423244476318,-4.4647135734558105,-7.749395847320557,-4.640681743621826,-7.332206726074219,-5.727444648742676,-7.886612892150879,-7.7051801681518555,-7.923614501953125,-7.248404502868652,-7.482555389404297,-8.480198860168457,-8.081968307495117,-6.066262245178223,-7.211176872253418,-8.147174835205078,-5.737510681152344,-7.595694541931152],\"yaxis\":\"y\",\"type\":\"scatter\"},{\"customdata\":[[\"Beleuchtung Wasserturm Giersberg\"],[\"Hundewiese am J\\u00c3\\u00bctenring einrichten - Bebauungsplan HA 137 \\u00c3\\u00a4ndern\"],[\"\\\"Viktualienmarkt\\\" Burgpassage\"],[\"Umsetzen Informationsstele am Burgplatz\"],[\"Standort 2. Haferstroh-Toilette\"],[\"Umstellung der Beleuchtung auf LED\"],[\"Aufsteller mit Ladeninfos f\\u00c3\\u00bcr den Handelsweg\"],[\"Tiny House Fl\\u00c3\\u00a4che erstellen\"]],\"hovertemplate\":\"label=Bauen und Planung\\u003cbr\\u003ex=%{x}\\u003cbr\\u003ey=%{y}\\u003cbr\\u003ehover_text=%{customdata[0]}\\u003cextra\\u003e\\u003c\\u002fextra\\u003e\",\"legendgroup\":\"Bauen und Planung\",\"marker\":{\"color\":\"#00cc96\",\"symbol\":\"circle\"},\"mode\":\"markers\",\"name\":\"Bauen und Planung\",\"orientation\":\"v\",\"showlegend\":true,\"x\":[4.261080265045166,4.363928318023682,5.5318603515625,5.526552200317383,6.171696662902832,3.921419858932495,3.7018654346466064,5.216395854949951],\"xaxis\":\"x\",\"y\":[-5.607634544372559,-7.861265659332275,-6.633621692657471,-6.584208965301514,-6.979360103607178,-5.707208156585693,-7.8312249183654785,-7.057239055633545],\"yaxis\":\"y\",\"type\":\"scatter\"},{\"customdata\":[[\"Zeitgem\\u00c3\\u00a4\\u00c3\\u0178e Funktionalit\\u00c3\\u00a4t f\\u00c3\\u00bcr die Ideenplattform\"],[\"L\\u00c3\\u00a4rmaktionsplanung\"],[\"Einfacher Weg f\\u00c3\\u00bcr die Genehmigung von nicht kommerziellen Tanzveranstaltungen in Braunschweiger Park und Gr\\u00c3\\u00bcnanlagen\"],[\"\\u00c2\\u00a7 37 Hilfe bei Verwaltungsangelegenheiten Infoveranstaltung\"],[\"App Dorffunk\"],[\"Anmeldeportal Stadt Braunschweig\"],[\"Abstimmungen im Protokoll mit Angabe des genauen Ergebnisses\"]],\"hovertemplate\":\"label=Allgemeine Verwaltung\\u003cbr\\u003ex=%{x}\\u003cbr\\u003ey=%{y}\\u003cbr\\u003ehover_text=%{customdata[0]}\\u003cextra\\u003e\\u003c\\u002fextra\\u003e\",\"legendgroup\":\"Allgemeine Verwaltung\",\"marker\":{\"color\":\"#ab63fa\",\"symbol\":\"circle\"},\"mode\":\"markers\",\"name\":\"Allgemeine Verwaltung\",\"orientation\":\"v\",\"showlegend\":true,\"x\":[4.303441524505615,3.8115153312683105,5.689974308013916,4.558414459228516,4.266683101654053,4.612592697143555,3.048196315765381],\"xaxis\":\"x\",\"y\":[-6.349507808685303,-7.30604362487793,-7.788236618041992,-7.974669456481934,-5.063457489013672,-7.537212371826172,-7.25564432144165],\"yaxis\":\"y\",\"type\":\"scatter\"},{\"customdata\":[[\"Spielpl\\u00c3\\u00a4tze im Herbst\\u002fWinter nutzbarer machen\"],[\"Unterst\\u00c3\\u00bctzung f\\u00c3\\u00bcr besonders gef\\u00c3\\u00a4hrdete Menschen bei Hitze\"],[\"Wickeltisch\"],[\"Einf\\u00c3\\u00bchrung Stadtinterne Kinderbetreuung f\\u00c3\\u00bcr M\\u00c3\\u00bctter\"],[\"Eltern-Kind-Schaukel f\\u00c3\\u00bcr Spielpl\\u00c3\\u00a4tze\"],[\"Ponyclub Querum e.V.\"],[\"Weiteres Angebot des Braunschweiger Sch\\u00c3\\u00bclertickets f\\u00c3\\u00bcr 15 Euro\"],[\"Aufr\\u00c3\\u00bcstung Broitzemer Spielpl\\u00c3\\u00a4tze f\\u00c3\\u00bcr Kleinkinder\"],[\"Ort f\\u00c3\\u00bcr Grafitty und Tags statt Beschmieren im \\u00c3\\u00b6stlichen Ringgebiet\"],[\"Basketballplatz erneuern am Spielplatz Hohetorwall\"],[\"Petition: Verbesserung des Skateparks am Westbahnhof in Braunschweig zum 10-j\\u00c3\\u00a4hrigen Jubil\\u00c3\\u00a4um\"],[\"Skaterbahn Mutter Kind Spielplatz\"]],\"hovertemplate\":\"label=Soziales, Jugend und Gesundheit\\u003cbr\\u003ex=%{x}\\u003cbr\\u003ey=%{y}\\u003cbr\\u003ehover_text=%{customdata[0]}\\u003cextra\\u003e\\u003c\\u002fextra\\u003e\",\"legendgroup\":\"Soziales, Jugend und Gesundheit\",\"marker\":{\"color\":\"#FFA15A\",\"symbol\":\"circle\"},\"mode\":\"markers\",\"name\":\"Soziales, Jugend und Gesundheit\",\"orientation\":\"v\",\"showlegend\":true,\"x\":[4.6357197761535645,5.215043544769287,6.238140106201172,3.293513059616089,4.785616874694824,5.4214653968811035,5.019631385803223,5.7298102378845215,4.18577241897583,5.562304496765137,6.858155250549316,4.9828104972839355],\"xaxis\":\"x\",\"y\":[-6.051737308502197,-7.582885265350342,-7.110565185546875,-6.950368881225586,-6.448186874389648,-7.908926486968994,-8.005504608154297,-6.90043306350708,-4.867650032043457,-7.133205890655518,-7.793753147125244,-6.117856502532959],\"yaxis\":\"y\",\"type\":\"scatter\"},{\"customdata\":[[\"Auff\\u00c3\\u00bchrung des Dramas \\\"Julius von Tarent\\\" von Johann Anton Leisewitz\"],[\"Stadtkindergarten\\u002fKrippe\"]],\"hovertemplate\":\"label=Schule und Kultur\\u003cbr\\u003ex=%{x}\\u003cbr\\u003ey=%{y}\\u003cbr\\u003ehover_text=%{customdata[0]}\\u003cextra\\u003e\\u003c\\u002fextra\\u003e\",\"legendgroup\":\"Schule und Kultur\",\"marker\":{\"color\":\"#19d3f3\",\"symbol\":\"circle\"},\"mode\":\"markers\",\"name\":\"Schule und Kultur\",\"orientation\":\"v\",\"showlegend\":true,\"x\":[2.533766269683838,3.3128883838653564],\"xaxis\":\"x\",\"y\":[-7.028264045715332,-6.981518745422363],\"yaxis\":\"y\",\"type\":\"scatter\"},{\"customdata\":[[\"Installation einer Strassen\\u002fwegbeleuchtung\"],[\"Haltestelle extrem unsicher\"],[\"Wegbeleuchtung bauen\"],[\"Veranstaltungen richtig Planen\"]],\"hovertemplate\":\"label=Recht, Sicherheit und Ordnung\\u003cbr\\u003ex=%{x}\\u003cbr\\u003ey=%{y}\\u003cbr\\u003ehover_text=%{customdata[0]}\\u003cextra\\u003e\\u003c\\u002fextra\\u003e\",\"legendgroup\":\"Recht, Sicherheit und Ordnung\",\"marker\":{\"color\":\"#FF6692\",\"symbol\":\"circle\"},\"mode\":\"markers\",\"name\":\"Recht, Sicherheit und Ordnung\",\"orientation\":\"v\",\"showlegend\":true,\"x\":[3.300886631011963,3.464280843734741,3.5710277557373047,2.6543192863464355],\"xaxis\":\"x\",\"y\":[-4.830786228179932,-6.533699989318848,-4.576786041259766,-5.843845367431641],\"yaxis\":\"y\",\"type\":\"scatter\"},{\"customdata\":[[\"Parkpl\\u00c3\\u00a4tze Adventsgesch\\u00c3\\u00a4ft - Forderung AAI\"],[\"Umwandlung des alten Galaria-Geb\\u00c3\\u00a4udes in ein Parkhaus\"],[\"Gesundheits- und Rehazentrum im Galeria-Geb\\u00c3\\u00a4ude\"]],\"hovertemplate\":\"label=Wirtschaft\\u003cbr\\u003ex=%{x}\\u003cbr\\u003ey=%{y}\\u003cbr\\u003ehover_text=%{customdata[0]}\\u003cextra\\u003e\\u003c\\u002fextra\\u003e\",\"legendgroup\":\"Wirtschaft\",\"marker\":{\"color\":\"#B6E880\",\"symbol\":\"circle\"},\"mode\":\"markers\",\"name\":\"Wirtschaft\",\"orientation\":\"v\",\"showlegend\":true,\"x\":[6.7052741050720215,6.423107147216797,3.9778084754943848],\"xaxis\":\"x\",\"y\":[-7.548488616943359,-7.749955177307129,-8.420149803161621],\"yaxis\":\"y\",\"type\":\"scatter\"}],                        {\"template\":{\"data\":{\"histogram2dcontour\":[{\"type\":\"histogram2dcontour\",\"colorbar\":{\"outlinewidth\":0,\"ticks\":\"\"},\"colorscale\":[[0.0,\"#0d0887\"],[0.1111111111111111,\"#46039f\"],[0.2222222222222222,\"#7201a8\"],[0.3333333333333333,\"#9c179e\"],[0.4444444444444444,\"#bd3786\"],[0.5555555555555556,\"#d8576b\"],[0.6666666666666666,\"#ed7953\"],[0.7777777777777778,\"#fb9f3a\"],[0.8888888888888888,\"#fdca26\"],[1.0,\"#f0f921\"]]}],\"choropleth\":[{\"type\":\"choropleth\",\"colorbar\":{\"outlinewidth\":0,\"ticks\":\"\"}}],\"histogram2d\":[{\"type\":\"histogram2d\",\"colorbar\":{\"outlinewidth\":0,\"ticks\":\"\"},\"colorscale\":[[0.0,\"#0d0887\"],[0.1111111111111111,\"#46039f\"],[0.2222222222222222,\"#7201a8\"],[0.3333333333333333,\"#9c179e\"],[0.4444444444444444,\"#bd3786\"],[0.5555555555555556,\"#d8576b\"],[0.6666666666666666,\"#ed7953\"],[0.7777777777777778,\"#fb9f3a\"],[0.8888888888888888,\"#fdca26\"],[1.0,\"#f0f921\"]]}],\"heatmap\":[{\"type\":\"heatmap\",\"colorbar\":{\"outlinewidth\":0,\"ticks\":\"\"},\"colorscale\":[[0.0,\"#0d0887\"],[0.1111111111111111,\"#46039f\"],[0.2222222222222222,\"#7201a8\"],[0.3333333333333333,\"#9c179e\"],[0.4444444444444444,\"#bd3786\"],[0.5555555555555556,\"#d8576b\"],[0.6666666666666666,\"#ed7953\"],[0.7777777777777778,\"#fb9f3a\"],[0.8888888888888888,\"#fdca26\"],[1.0,\"#f0f921\"]]}],\"heatmapgl\":[{\"type\":\"heatmapgl\",\"colorbar\":{\"outlinewidth\":0,\"ticks\":\"\"},\"colorscale\":[[0.0,\"#0d0887\"],[0.1111111111111111,\"#46039f\"],[0.2222222222222222,\"#7201a8\"],[0.3333333333333333,\"#9c179e\"],[0.4444444444444444,\"#bd3786\"],[0.5555555555555556,\"#d8576b\"],[0.6666666666666666,\"#ed7953\"],[0.7777777777777778,\"#fb9f3a\"],[0.8888888888888888,\"#fdca26\"],[1.0,\"#f0f921\"]]}],\"contourcarpet\":[{\"type\":\"contourcarpet\",\"colorbar\":{\"outlinewidth\":0,\"ticks\":\"\"}}],\"contour\":[{\"type\":\"contour\",\"colorbar\":{\"outlinewidth\":0,\"ticks\":\"\"},\"colorscale\":[[0.0,\"#0d0887\"],[0.1111111111111111,\"#46039f\"],[0.2222222222222222,\"#7201a8\"],[0.3333333333333333,\"#9c179e\"],[0.4444444444444444,\"#bd3786\"],[0.5555555555555556,\"#d8576b\"],[0.6666666666666666,\"#ed7953\"],[0.7777777777777778,\"#fb9f3a\"],[0.8888888888888888,\"#fdca26\"],[1.0,\"#f0f921\"]]}],\"surface\":[{\"type\":\"surface\",\"colorbar\":{\"outlinewidth\":0,\"ticks\":\"\"},\"colorscale\":[[0.0,\"#0d0887\"],[0.1111111111111111,\"#46039f\"],[0.2222222222222222,\"#7201a8\"],[0.3333333333333333,\"#9c179e\"],[0.4444444444444444,\"#bd3786\"],[0.5555555555555556,\"#d8576b\"],[0.6666666666666666,\"#ed7953\"],[0.7777777777777778,\"#fb9f3a\"],[0.8888888888888888,\"#fdca26\"],[1.0,\"#f0f921\"]]}],\"mesh3d\":[{\"type\":\"mesh3d\",\"colorbar\":{\"outlinewidth\":0,\"ticks\":\"\"}}],\"scatter\":[{\"fillpattern\":{\"fillmode\":\"overlay\",\"size\":10,\"solidity\":0.2},\"type\":\"scatter\"}],\"parcoords\":[{\"type\":\"parcoords\",\"line\":{\"colorbar\":{\"outlinewidth\":0,\"ticks\":\"\"}}}],\"scatterpolargl\":[{\"type\":\"scatterpolargl\",\"marker\":{\"colorbar\":{\"outlinewidth\":0,\"ticks\":\"\"}}}],\"bar\":[{\"error_x\":{\"color\":\"#2a3f5f\"},\"error_y\":{\"color\":\"#2a3f5f\"},\"marker\":{\"line\":{\"color\":\"#E5ECF6\",\"width\":0.5},\"pattern\":{\"fillmode\":\"overlay\",\"size\":10,\"solidity\":0.2}},\"type\":\"bar\"}],\"scattergeo\":[{\"type\":\"scattergeo\",\"marker\":{\"colorbar\":{\"outlinewidth\":0,\"ticks\":\"\"}}}],\"scatterpolar\":[{\"type\":\"scatterpolar\",\"marker\":{\"colorbar\":{\"outlinewidth\":0,\"ticks\":\"\"}}}],\"histogram\":[{\"marker\":{\"pattern\":{\"fillmode\":\"overlay\",\"size\":10,\"solidity\":0.2}},\"type\":\"histogram\"}],\"scattergl\":[{\"type\":\"scattergl\",\"marker\":{\"colorbar\":{\"outlinewidth\":0,\"ticks\":\"\"}}}],\"scatter3d\":[{\"type\":\"scatter3d\",\"line\":{\"colorbar\":{\"outlinewidth\":0,\"ticks\":\"\"}},\"marker\":{\"colorbar\":{\"outlinewidth\":0,\"ticks\":\"\"}}}],\"scattermapbox\":[{\"type\":\"scattermapbox\",\"marker\":{\"colorbar\":{\"outlinewidth\":0,\"ticks\":\"\"}}}],\"scatterternary\":[{\"type\":\"scatterternary\",\"marker\":{\"colorbar\":{\"outlinewidth\":0,\"ticks\":\"\"}}}],\"scattercarpet\":[{\"type\":\"scattercarpet\",\"marker\":{\"colorbar\":{\"outlinewidth\":0,\"ticks\":\"\"}}}],\"carpet\":[{\"aaxis\":{\"endlinecolor\":\"#2a3f5f\",\"gridcolor\":\"white\",\"linecolor\":\"white\",\"minorgridcolor\":\"white\",\"startlinecolor\":\"#2a3f5f\"},\"baxis\":{\"endlinecolor\":\"#2a3f5f\",\"gridcolor\":\"white\",\"linecolor\":\"white\",\"minorgridcolor\":\"white\",\"startlinecolor\":\"#2a3f5f\"},\"type\":\"carpet\"}],\"table\":[{\"cells\":{\"fill\":{\"color\":\"#EBF0F8\"},\"line\":{\"color\":\"white\"}},\"header\":{\"fill\":{\"color\":\"#C8D4E3\"},\"line\":{\"color\":\"white\"}},\"type\":\"table\"}],\"barpolar\":[{\"marker\":{\"line\":{\"color\":\"#E5ECF6\",\"width\":0.5},\"pattern\":{\"fillmode\":\"overlay\",\"size\":10,\"solidity\":0.2}},\"type\":\"barpolar\"}],\"pie\":[{\"automargin\":true,\"type\":\"pie\"}]},\"layout\":{\"autotypenumbers\":\"strict\",\"colorway\":[\"#636efa\",\"#EF553B\",\"#00cc96\",\"#ab63fa\",\"#FFA15A\",\"#19d3f3\",\"#FF6692\",\"#B6E880\",\"#FF97FF\",\"#FECB52\"],\"font\":{\"color\":\"#2a3f5f\"},\"hovermode\":\"closest\",\"hoverlabel\":{\"align\":\"left\"},\"paper_bgcolor\":\"white\",\"plot_bgcolor\":\"#E5ECF6\",\"polar\":{\"bgcolor\":\"#E5ECF6\",\"angularaxis\":{\"gridcolor\":\"white\",\"linecolor\":\"white\",\"ticks\":\"\"},\"radialaxis\":{\"gridcolor\":\"white\",\"linecolor\":\"white\",\"ticks\":\"\"}},\"ternary\":{\"bgcolor\":\"#E5ECF6\",\"aaxis\":{\"gridcolor\":\"white\",\"linecolor\":\"white\",\"ticks\":\"\"},\"baxis\":{\"gridcolor\":\"white\",\"linecolor\":\"white\",\"ticks\":\"\"},\"caxis\":{\"gridcolor\":\"white\",\"linecolor\":\"white\",\"ticks\":\"\"}},\"coloraxis\":{\"colorbar\":{\"outlinewidth\":0,\"ticks\":\"\"}},\"colorscale\":{\"sequential\":[[0.0,\"#0d0887\"],[0.1111111111111111,\"#46039f\"],[0.2222222222222222,\"#7201a8\"],[0.3333333333333333,\"#9c179e\"],[0.4444444444444444,\"#bd3786\"],[0.5555555555555556,\"#d8576b\"],[0.6666666666666666,\"#ed7953\"],[0.7777777777777778,\"#fb9f3a\"],[0.8888888888888888,\"#fdca26\"],[1.0,\"#f0f921\"]],\"sequentialminus\":[[0.0,\"#0d0887\"],[0.1111111111111111,\"#46039f\"],[0.2222222222222222,\"#7201a8\"],[0.3333333333333333,\"#9c179e\"],[0.4444444444444444,\"#bd3786\"],[0.5555555555555556,\"#d8576b\"],[0.6666666666666666,\"#ed7953\"],[0.7777777777777778,\"#fb9f3a\"],[0.8888888888888888,\"#fdca26\"],[1.0,\"#f0f921\"]],\"diverging\":[[0,\"#8e0152\"],[0.1,\"#c51b7d\"],[0.2,\"#de77ae\"],[0.3,\"#f1b6da\"],[0.4,\"#fde0ef\"],[0.5,\"#f7f7f7\"],[0.6,\"#e6f5d0\"],[0.7,\"#b8e186\"],[0.8,\"#7fbc41\"],[0.9,\"#4d9221\"],[1,\"#276419\"]]},\"xaxis\":{\"gridcolor\":\"white\",\"linecolor\":\"white\",\"ticks\":\"\",\"title\":{\"standoff\":15},\"zerolinecolor\":\"white\",\"automargin\":true,\"zerolinewidth\":2},\"yaxis\":{\"gridcolor\":\"white\",\"linecolor\":\"white\",\"ticks\":\"\",\"title\":{\"standoff\":15},\"zerolinecolor\":\"white\",\"automargin\":true,\"zerolinewidth\":2},\"scene\":{\"xaxis\":{\"backgroundcolor\":\"#E5ECF6\",\"gridcolor\":\"white\",\"linecolor\":\"white\",\"showbackground\":true,\"ticks\":\"\",\"zerolinecolor\":\"white\",\"gridwidth\":2},\"yaxis\":{\"backgroundcolor\":\"#E5ECF6\",\"gridcolor\":\"white\",\"linecolor\":\"white\",\"showbackground\":true,\"ticks\":\"\",\"zerolinecolor\":\"white\",\"gridwidth\":2},\"zaxis\":{\"backgroundcolor\":\"#E5ECF6\",\"gridcolor\":\"white\",\"linecolor\":\"white\",\"showbackground\":true,\"ticks\":\"\",\"zerolinecolor\":\"white\",\"gridwidth\":2}},\"shapedefaults\":{\"line\":{\"color\":\"#2a3f5f\"}},\"annotationdefaults\":{\"arrowcolor\":\"#2a3f5f\",\"arrowhead\":0,\"arrowwidth\":1},\"geo\":{\"bgcolor\":\"white\",\"landcolor\":\"#E5ECF6\",\"subunitcolor\":\"white\",\"showland\":true,\"showlakes\":true,\"lakecolor\":\"white\"},\"title\":{\"x\":0.05},\"mapbox\":{\"style\":\"light\"}}},\"xaxis\":{\"anchor\":\"y\",\"domain\":[0.0,1.0],\"title\":{\"text\":\"x\"}},\"yaxis\":{\"anchor\":\"x\",\"domain\":[0.0,1.0],\"title\":{\"text\":\"y\"}},\"legend\":{\"title\":{\"text\":\"label\"},\"tracegroupgap\":0},\"margin\":{\"t\":60}},                        {\"responsive\": true}                    ).then(function(){\n",
       "                            \n",
       "var gd = document.getElementById('ce71aeac-f926-4f43-a0bb-59004103d44b');\n",
       "var x = new MutationObserver(function (mutations, observer) {{\n",
       "        var display = window.getComputedStyle(gd).display;\n",
       "        if (!display || display === 'none') {{\n",
       "            console.log([gd, 'removed!']);\n",
       "            Plotly.purge(gd);\n",
       "            observer.disconnect();\n",
       "        }}\n",
       "}});\n",
       "\n",
       "// Listen for the removal of the full notebook cells\n",
       "var notebookContainer = gd.closest('#notebook-container');\n",
       "if (notebookContainer) {{\n",
       "    x.observe(notebookContainer, {childList: true});\n",
       "}}\n",
       "\n",
       "// Listen for the clearing of the current output cell\n",
       "var outputEl = gd.closest('.output');\n",
       "if (outputEl) {{\n",
       "    x.observe(outputEl, {childList: true});\n",
       "}}\n",
       "\n",
       "                        })                };                });            </script>        </div>"
      ]
     },
     "metadata": {},
     "output_type": "display_data"
    }
   ],
   "execution_count": 31
  },
  {
   "metadata": {
    "ExecuteTime": {
     "end_time": "2024-08-06T20:28:41.073631Z",
     "start_time": "2024-08-06T20:28:37.954636Z"
    }
   },
   "cell_type": "code",
   "source": [
    "# Initialize UMAP model with n_components=3 for dimensionality reduction to 3 dimensions\n",
    "umap_model = UMAP(n_neighbors=5, n_components=3, min_dist=0.0, metric=\"cosine\")\n",
    "\n",
    "# Fit and transform the embeddings\n",
    "umap_embeddings = umap_model.fit_transform(embeddings)"
   ],
   "id": "77f784291936c95",
   "outputs": [],
   "execution_count": 32
  },
  {
   "metadata": {
    "ExecuteTime": {
     "end_time": "2024-08-06T20:29:22.636516Z",
     "start_time": "2024-08-06T20:29:22.470496Z"
    }
   },
   "cell_type": "code",
   "source": [
    "# Create a dataframe for visualization\n",
    "import plotly.express as px\n",
    "import pandas as pd\n",
    "\n",
    "# Create a new column for hover data with truncated text\n",
    "umap_embeddings_df = pd.DataFrame(umap_embeddings, columns=[\"x\", \"y\", \"z\"])\n",
    "umap_embeddings_df[\"hover_text\"] = titles\n",
    "umap_embeddings_df[\"label\"] = tags\n",
    "\n",
    "# Plotting using scatter_3d instead of scatter with extra \"z\" argument\n",
    "fig = px.scatter_3d(umap_embeddings_df, x=\"x\", y=\"y\", z=\"z\", color=\"label\", hover_data=[\"hover_text\"])\n",
    "fig.show()"
   ],
   "id": "e81449b2c07e5fe8",
   "outputs": [
    {
     "data": {
      "application/vnd.plotly.v1+json": {
       "data": [
        {
         "customdata": [
          [
           "Verkehrsberuhigter Bereich HolwedestraÃŸe"
          ],
          [
           "Sicherer Schulweg Querum"
          ],
          [
           "Tempo 30 Madamenweg/Ringgleis bis Kreuzung Madamenweg/Altstadring"
          ],
          [
           "Fahrradkonzept WendenstraÃŸe Ã¼berarbeiten..."
          ],
          [
           "Brodweg - brisant fÃ¼r alle Verkehrsteilnehmenden"
          ],
          [
           "Schulverkehr Querum"
          ],
          [
           "Solarunterstand fÃ¼r RÃ¤der"
          ],
          [
           "Kastanienallee Ampelschaltung anpassen"
          ],
          [
           "Verkehrspiegel Ausfahrt Buschweg auf die HauptstraÃŸe in Wenden"
          ],
          [
           "Ampel fÃ¼r Radfahrer Wendenring Ecke Maschpl"
          ],
          [
           "Geschwindigkeits- und Durchfahrtsbegrenzung Querumer StraÃŸe"
          ],
          [
           "FGÃœ"
          ],
          [
           "UmrÃ¼stung der Ã–PNV-Busflotte auf ElektromobilitÃ¤t"
          ],
          [
           "Zebrastreifen an der Kreuzung Mittelweg Ringgleis."
          ],
          [
           "Blitzer am Bohlweg ( vor SchloÃŸ )"
          ],
          [
           "Verbreiterung FuÃŸ/Radweg Bienroder Weg"
          ],
          [
           "Fahrradpiktogramme RÃ¼ninger Weg endlich umsetzen"
          ],
          [
           "Einrichten eines Durchfahrtverbots fÃ¼r Transporter und Kraftfahrzeuge Ã¼ber 3,5 Tonnen in die VolmestraÃŸe"
          ],
          [
           "Ausnahmegenehmigung fÃ¼r pflegende Privatpersonen zum Parken"
          ],
          [
           "Mittelweg 30km/h Blitzer"
          ],
          [
           "Parkplatz auf dem Wollmarkt stoppen"
          ],
          [
           "Push & Pull"
          ],
          [
           "MÃ¼hlentrift Verkehr, Tempo 30, Anlieger Frei"
          ],
          [
           "FahrradstraÃŸe Wilhelm-Bode-StraÃŸe und Karl-Marx-StraÃŸe mit Vorfahrt"
          ],
          [
           "Gefahrenstelle auf dem Ringgleis"
          ],
          [
           "Bringzone fÃ¼r die Realschule MaschstraÃŸe"
          ],
          [
           "Mehr BewohnerparkplÃ¤tze in der MaschstraÃŸe"
          ],
          [
           "Verkehrssichere Max-Planck-Str"
          ],
          [
           "Verkehrsspiegel Kreuzung Karl-Hintze-Weg und Mittelriede"
          ],
          [
           "Halteververbot auf der Altmarkstr. in HÃ¶he Auf dem Anger"
          ],
          [
           "EinbahnstraÃŸe Wilhelmsgarten"
          ],
          [
           "EinbahnstraÃŸe St.-Ingbert-StraÃŸe zur LÃ¤rmreduzierung"
          ],
          [
           "Mehr BewohnerparkplÃ¤tze am Burgundenplatz"
          ],
          [
           "Hinweisschild Einsatzfahrzeug Salzdahlumer StraÃŸe"
          ],
          [
           "Sichere ÃœberquerungsmÃ¶glichkeit am Campus Forschungsflughafen"
          ],
          [
           "Veloroute und Parkplatzsituation Helmstedeter StraÃŸe"
          ],
          [
           "Geschwindigkeitsschwellen Holzmindener StraÃŸe"
          ],
          [
           "PetristraÃŸe fÃ¼r Radfahrer optimieren"
          ],
          [
           "â€žSichtschutzâ€œ an RadfahrerInnenampel Ecke Gliedmaroder Str./BÃ¶cklinstr. fÃ¼r Autofahrende"
          ],
          [
           "Sensorgesteuerte Ampelschaltung Ringgleis/Celler StraÃŸe"
          ],
          [
           "ParkplÃ¤tze Querum"
          ],
          [
           "Warnschilder vor der neuen Querungshilfe An der Rothenburg"
          ],
          [
           "Beleuchtung Ringgleis"
          ],
          [
           "Hinweisschild fÃ¼r Radfahrer beim Ãœberholen von FuÃŸgÃ¤ngern auf dem gesamten Ringgleis"
          ],
          [
           "Ein Zebrastreifen fÃ¼r den Handelsweg"
          ],
          [
           "FahrradstÃ¤nder und grÃ¼ner Pfeil fÃ¼r FahrrÃ¤der"
          ],
          [
           "Autos versperren FuÃŸweg"
          ],
          [
           "Fahrradparkhaus Innenstadt"
          ],
          [
           "Anpassung Strahler Dom/MÃ¼nzstraÃŸe"
          ],
          [
           "T- Kreuzung Hordorfer Str. L 633/ Schapen/Weddel K41 ist lebensgefÃ¤hrlich"
          ],
          [
           "Schulweg von GrundschÃ¼ler: Monatskarte ohne 2km Entfernung"
          ],
          [
           "FahrradstÃ¤nder"
          ],
          [
           "Lehmanger sicherer machen!"
          ],
          [
           "LÃ¤rmschutzwand A39 Geitelde"
          ],
          [
           "Rad und FuÃŸweg Lehmanger Richtung Donauviertel"
          ],
          [
           "â€žSpielstraÃŸenâ€œ beruhigen"
          ],
          [
           "ÃœberprÃ¼fung und Aktualisierung von Verkehrsschildern"
          ],
          [
           "Markierung Radweg Kreuzung Steinweg/Ritterbrunnen"
          ],
          [
           "Begrenzung des Verkehrs auf der MÃ¼nzstraÃŸe"
          ],
          [
           "Farbliche Markierung von ParkflÃ¤chen"
          ],
          [
           "Unterirdischer Rebenring"
          ],
          [
           "Fahrtrichtung auf dem Radweg klar festlegen"
          ],
          [
           "EinfÃ¼hrung eines Blitzersystems mit Audiosensoren"
          ],
          [
           "Salzdahlumer StraÃŸe digitales Hinweisschild zur Vorrangschaltung"
          ],
          [
           "Entlastung der Bevenroder Str."
          ],
          [
           "Signallampe StraÃŸenbahnquerung"
          ],
          [
           "Kein Anwohnerparken im Ã¶stlichen Ringgebiet"
          ],
          [
           "Verkehrsberuhigung Madamenweg"
          ],
          [
           "Ampelschaltung Hamburger StraÃŸe vorm Stadion optimieren"
          ],
          [
           "Ringbus erhalten â€“ das sÃ¼dwestliche Ringgebiet darf nicht abgehÃ¤ngt werden!"
          ],
          [
           "FuÃŸgÃ¤ngerÃ¼berweg fÃ¼r eine sicherere Grundschule in Querum"
          ],
          [
           "Rote Radwegmarkierung MÃ¼nchenstraÃŸe/Broitzemer StraÃŸe"
          ],
          [
           "Optimierung FuÃŸgÃ¤ngerampel Ackerstr./Helmstedter Str."
          ],
          [
           "Wilhelm-Bornstedt-Weg entlang der Oker besser befestigen"
          ]
         ],
         "hovertemplate": "label=Verkehr<br>x=%{x}<br>y=%{y}<br>z=%{z}<br>hover_text=%{customdata[0]}<extra></extra>",
         "legendgroup": "Verkehr",
         "marker": {
          "color": "#636efa",
          "symbol": "circle"
         },
         "mode": "markers",
         "name": "Verkehr",
         "scene": "scene",
         "showlegend": true,
         "x": [
          3.307366132736206,
          2.3318018913269043,
          2.2193734645843506,
          2.584221124649048,
          4.363775730133057,
          4.110039710998535,
          4.187451362609863,
          2.04284930229187,
          6.058857440948486,
          2.7893354892730713,
          2.111171245574951,
          5.271616458892822,
          2.928379774093628,
          3.5069267749786377,
          2.2988476753234863,
          4.62475061416626,
          4.347909450531006,
          5.381741523742676,
          3.3290178775787354,
          2.214789628982544,
          5.4990553855896,
          3.677963972091675,
          2.1603026390075684,
          4.077845096588135,
          3.497954845428467,
          2.5756819248199463,
          5.641960144042969,
          2.3308956623077393,
          3.3645100593566895,
          2.698934555053711,
          2.4376304149627686,
          3.563258409500122,
          6.328907012939453,
          3.557581901550293,
          2.908146858215332,
          5.35940408706665,
          6.414343357086182,
          4.326789855957031,
          4.213461875915527,
          3.213625192642212,
          6.175136566162109,
          2.400383472442627,
          4.321142673492432,
          4.363028049468994,
          4.019986152648926,
          3.7334601879119873,
          4.652395248413086,
          2.2665772438049316,
          3.049051284790039,
          4.337843894958496,
          4.057031154632568,
          4.429867744445801,
          3.3739078044891357,
          3.4882469177246094,
          3.4029245376586914,
          2.2884953022003174,
          4.242105007171631,
          4.411751747131348,
          6.213915824890137,
          5.22983980178833,
          2.979313373565674,
          2.866827964782715,
          2.0499379634857178,
          3.514437675476074,
          2.7683825492858887,
          3.174466371536255,
          6.231375217437744,
          6.220520496368408,
          2.879838228225708,
          3.4482004642486572,
          3.5024161338806152,
          5.029773712158203,
          2.9200711250305176,
          4.483739852905273
         ],
         "y": [
          9.604582786560059,
          9.245524406433105,
          10.675291061401367,
          10.05808162689209,
          10.074021339416504,
          8.902861595153809,
          10.699378967285156,
          11.181782722473145,
          10.590819358825684,
          10.340866088867188,
          10.874756813049316,
          10.662237167358398,
          11.406986236572266,
          10.43699836730957,
          11.132143020629883,
          10.233953475952148,
          9.921418190002441,
          10.714814186096191,
          11.578839302062988,
          10.777520179748535,
          10.764670372009277,
          10.269840240478516,
          10.736098289489746,
          10.972885131835938,
          10.351934432983398,
          11.591320991516113,
          10.812159538269043,
          10.68701457977295,
          11.560473442077637,
          9.015514373779297,
          9.365406036376953,
          10.6266450881958,
          10.912193298339844,
          10.987406730651855,
          11.065739631652832,
          10.646127700805664,
          10.977932929992676,
          10.369023323059082,
          10.175357818603516,
          10.275606155395508,
          10.764152526855469,
          9.317814826965332,
          8.953147888183594,
          10.426414489746094,
          10.807464599609375,
          10.785881996154785,
          10.443767547607422,
          10.790221214294434,
          8.9091157913208,
          9.108383178710938,
          10.687023162841797,
          9.48895263671875,
          9.347183227539062,
          9.406980514526367,
          10.34567642211914,
          10.709822654724121,
          10.452618598937988,
          9.567570686340332,
          10.816986083984375,
          10.646504402160645,
          11.011198043823242,
          10.456664085388184,
          11.021855354309082,
          10.946343421936035,
          8.933547973632812,
          10.090378761291504,
          10.868611335754395,
          10.709120750427246,
          10.284564018249512,
          10.369388580322266,
          10.709493637084961,
          10.208731651306152,
          8.844695091247559,
          8.834424018859863
         ],
         "z": [
          5.698269367218018,
          4.1294450759887695,
          3.8552277088165283,
          3.9805402755737305,
          4.461084842681885,
          4.321928024291992,
          4.302688121795654,
          3.318898916244507,
          2.628199338912964,
          4.674181938171387,
          3.57747745513916,
          1.3484041690826416,
          1.413021206855774,
          5.6168646812438965,
          1.6875495910644531,
          4.399152755737305,
          4.584389686584473,
          1.4853284358978271,
          1.8707058429718018,
          4.366887092590332,
          1.474575400352478,
          5.457699298858643,
          3.764578342437744,
          4.593446254730225,
          5.51312255859375,
          2.268455743789673,
          1.566545009613037,
          4.492368698120117,
          2.5750484466552734,
          3.6531596183776855,
          4.178292751312256,
          3.6888203620910645,
          2.1268272399902344,
          4.007115364074707,
          3.1553308963775635,
          1.5370529890060425,
          2.2303333282470703,
          4.867167949676514,
          4.717875957489014,
          5.3368401527404785,
          2.3060216903686523,
          4.243127346038818,
          4.6748857498168945,
          4.317155838012695,
          4.765787124633789,
          3.7569422721862793,
          4.040132522583008,
          1.8265522718429565,
          3.641106128692627,
          4.4380388259887695,
          2.5028560161590576,
          4.544284343719482,
          3.5945065021514893,
          3.4914259910583496,
          5.567211151123047,
          4.445535659790039,
          4.061965465545654,
          4.550350189208984,
          2.1562368869781494,
          1.499219536781311,
          1.436569333076477,
          4.173599720001221,
          3.497366189956665,
          3.92665433883667,
          3.633451223373413,
          5.348208427429199,
          2.036512613296509,
          2.3599886894226074,
          4.493967533111572,
          5.53032922744751,
          3.3649823665618896,
          4.011399745941162,
          3.5125555992126465,
          4.617229461669922
         ],
         "type": "scatter3d"
        },
        {
         "customdata": [
          [
           "Wickelboard auf stÃ¤dtischen SpielplÃ¤tzen"
          ],
          [
           "Neugestaltung WOLLMARKT"
          ],
          [
           "Dauerhafte BegrÃ¼nung des Schlossplatzes und Platz der Deutschen Einheit"
          ],
          [
           "Mehr MÃ¼lleimer im WaldstÃ¼ck zwischen Kralenriede, der Schuntersiedlung und RÃ¼hme."
          ],
          [
           "SitzbÃ¤nke an der Platane OkerstraÃŸe 8b"
          ],
          [
           "Steg am Schapenbruchteich"
          ],
          [
           "Toiletten fÃ¼r den LÃ¶wenwall"
          ],
          [
           "Mehr MÃ¼lleimer/ kotbeutelstation"
          ],
          [
           "Nachhaltigere und effizientere GrÃ¼nflÃ¤chenbewÃ¤sserung"
          ],
          [
           "Braunschweig braucht einen Wasserspielplatz!"
          ],
          [
           "Pflege /Gestaltung GrÃ¼nanlagen"
          ],
          [
           "100 kÃ¼nstlerisch gestaltete BÃ¤nke fÃ¼r Braunschweig!"
          ],
          [
           "Verwaiste Einkaufswagen"
          ],
          [
           "Zuwegung Bhf. Gliesmarode einladend randbepflanzen"
          ],
          [
           "Hundeplatz Melverode"
          ],
          [
           "Kaffee am Ã–lpersee"
          ],
          [
           "Leipziger StraÃŸe entlang keine SitzbÃ¤nke"
          ],
          [
           "Hundeplatz Melverode"
          ],
          [
           "BÃ¤ume gegen Klimawandel"
          ],
          [
           "Hundewiese NuÃŸberg"
          ]
         ],
         "hovertemplate": "label=StadtgrÃ¼n und Umwelt<br>x=%{x}<br>y=%{y}<br>z=%{z}<br>hover_text=%{customdata[0]}<extra></extra>",
         "legendgroup": "StadtgrÃ¼n und Umwelt",
         "marker": {
          "color": "#EF553B",
          "symbol": "circle"
         },
         "mode": "markers",
         "name": "StadtgrÃ¼n und Umwelt",
         "scene": "scene",
         "showlegend": true,
         "x": [
          3.132589817047119,
          2.2246761322021484,
          2.526040554046631,
          4.611344337463379,
          2.796381950378418,
          3.080054759979248,
          5.027016639709473,
          2.5174026489257812,
          4.680337905883789,
          2.524252414703369,
          5.061089515686035,
          2.4300034046173096,
          2.724041223526001,
          4.763452053070068,
          4.8149495124816895,
          5.311757564544678,
          2.7031466960906982,
          4.803445339202881,
          5.266079902648926,
          2.968339681625366
         ],
         "y": [
          11.417495727539062,
          10.839075088500977,
          11.7190580368042,
          8.667597770690918,
          11.062309265136719,
          8.80471420288086,
          10.787188529968262,
          9.89675235748291,
          10.209001541137695,
          11.393585205078125,
          10.507500648498535,
          11.203902244567871,
          11.464813232421875,
          10.406590461730957,
          10.213701248168945,
          10.500832557678223,
          10.822216987609863,
          10.278364181518555,
          10.456171035766602,
          11.4722261428833
         ],
         "z": [
          1.5468461513519287,
          1.8876157999038696,
          1.7851475477218628,
          4.523043632507324,
          3.313032388687134,
          3.866619825363159,
          1.1120758056640625,
          3.882887363433838,
          2.5388338565826416,
          1.9340102672576904,
          1.884917974472046,
          1.8569997549057007,
          2.038062810897827,
          2.2058095932006836,
          2.407409429550171,
          3.5025839805603027,
          2.2646710872650146,
          2.3588953018188477,
          3.588550329208374,
          2.8303775787353516
         ],
         "type": "scatter3d"
        },
        {
         "customdata": [
          [
           "Beleuchtung Wasserturm Giersberg"
          ],
          [
           "Hundewiese am JÃ¼tenring einrichten - Bebauungsplan HA 137 Ã¤ndern"
          ],
          [
           "\"Viktualienmarkt\" Burgpassage"
          ],
          [
           "Umsetzen Informationsstele am Burgplatz"
          ],
          [
           "Standort 2. Haferstroh-Toilette"
          ],
          [
           "Umstellung der Beleuchtung auf LED"
          ],
          [
           "Aufsteller mit Ladeninfos fÃ¼r den Handelsweg"
          ],
          [
           "Tiny House FlÃ¤che erstellen"
          ]
         ],
         "hovertemplate": "label=Bauen und Planung<br>x=%{x}<br>y=%{y}<br>z=%{z}<br>hover_text=%{customdata[0]}<extra></extra>",
         "legendgroup": "Bauen und Planung",
         "marker": {
          "color": "#00cc96",
          "symbol": "circle"
         },
         "mode": "markers",
         "name": "Bauen und Planung",
         "scene": "scene",
         "showlegend": true,
         "x": [
          2.27628231048584,
          3.130448341369629,
          2.7873218059539795,
          2.72961163520813,
          4.8819684982299805,
          2.241943836212158,
          4.639372825622559,
          2.5717484951019287
         ],
         "y": [
          9.039071083068848,
          11.47498893737793,
          10.82149600982666,
          10.713772773742676,
          10.936420440673828,
          9.012563705444336,
          10.195029258728027,
          11.550859451293945
         ],
         "z": [
          3.9956867694854736,
          2.7195441722869873,
          1.7501873970031738,
          1.877310872077942,
          0.9156754612922668,
          3.937523126602173,
          2.6160387992858887,
          1.6437251567840576
         ],
         "type": "scatter3d"
        },
        {
         "customdata": [
          [
           "ZeitgemÃ¤ÃŸe FunktionalitÃ¤t fÃ¼r die Ideenplattform"
          ],
          [
           "LÃ¤rmaktionsplanung"
          ],
          [
           "Einfacher Weg fÃ¼r die Genehmigung von nicht kommerziellen Tanzveranstaltungen in Braunschweiger Park und GrÃ¼nanlagen"
          ],
          [
           "Â§ 37 Hilfe bei Verwaltungsangelegenheiten Infoveranstaltung"
          ],
          [
           "App Dorffunk"
          ],
          [
           "Anmeldeportal Stadt Braunschweig"
          ],
          [
           "Abstimmungen im Protokoll mit Angabe des genauen Ergebnisses"
          ]
         ],
         "hovertemplate": "label=Allgemeine Verwaltung<br>x=%{x}<br>y=%{y}<br>z=%{z}<br>hover_text=%{customdata[0]}<extra></extra>",
         "legendgroup": "Allgemeine Verwaltung",
         "marker": {
          "color": "#ab63fa",
          "symbol": "circle"
         },
         "mode": "markers",
         "name": "Allgemeine Verwaltung",
         "scene": "scene",
         "showlegend": true,
         "x": [
          3.880140542984009,
          2.547630548477173,
          2.960280656814575,
          3.358898878097534,
          3.2603399753570557,
          2.1567065715789795,
          3.78596830368042
         ],
         "y": [
          10.101380348205566,
          10.779306411743164,
          11.392666816711426,
          11.585269927978516,
          9.548235893249512,
          11.269699096679688,
          10.784432411193848
         ],
         "z": [
          4.758955001831055,
          3.6670517921447754,
          1.465796709060669,
          2.498016357421875,
          5.683703899383545,
          3.045194149017334,
          3.7985715866088867
         ],
         "type": "scatter3d"
        },
        {
         "customdata": [
          [
           "SpielplÃ¤tze im Herbst/Winter nutzbarer machen"
          ],
          [
           "UnterstÃ¼tzung fÃ¼r besonders gefÃ¤hrdete Menschen bei Hitze"
          ],
          [
           "Wickeltisch"
          ],
          [
           "EinfÃ¼hrung Stadtinterne Kinderbetreuung fÃ¼r MÃ¼tter"
          ],
          [
           "Eltern-Kind-Schaukel fÃ¼r SpielplÃ¤tze"
          ],
          [
           "Ponyclub Querum e.V."
          ],
          [
           "Weiteres Angebot des Braunschweiger SchÃ¼lertickets fÃ¼r 15 Euro"
          ],
          [
           "AufrÃ¼stung Broitzemer SpielplÃ¤tze fÃ¼r Kleinkinder"
          ],
          [
           "Ort fÃ¼r Grafitty und Tags statt Beschmieren im Ã¶stlichen Ringgebiet"
          ],
          [
           "Basketballplatz erneuern am Spielplatz Hohetorwall"
          ],
          [
           "Petition: Verbesserung des Skateparks am Westbahnhof in Braunschweig zum 10-jÃ¤hrigen JubilÃ¤um"
          ],
          [
           "Skaterbahn Mutter Kind Spielplatz"
          ]
         ],
         "hovertemplate": "label=Soziales, Jugend und Gesundheit<br>x=%{x}<br>y=%{y}<br>z=%{z}<br>hover_text=%{customdata[0]}<extra></extra>",
         "legendgroup": "Soziales, Jugend und Gesundheit",
         "marker": {
          "color": "#FFA15A",
          "symbol": "circle"
         },
         "mode": "markers",
         "name": "Soziales, Jugend und Gesundheit",
         "scene": "scene",
         "showlegend": true,
         "x": [
          3.2475039958953857,
          2.355156183242798,
          4.922305107116699,
          3.4490883350372314,
          2.986901044845581,
          2.8696982860565186,
          2.730236053466797,
          2.669264554977417,
          3.310795783996582,
          2.584973096847534,
          5.514584541320801,
          2.546380043029785
         ],
         "y": [
          9.526254653930664,
          11.231142044067383,
          10.907340049743652,
          10.197107315063477,
          9.798235893249512,
          11.490357398986816,
          11.536341667175293,
          9.812150001525879,
          9.619258880615234,
          10.051522254943848,
          10.82292652130127,
          9.664161682128906
         ],
         "z": [
          3.4397406578063965,
          1.6850433349609375,
          0.9452497363090515,
          3.5360591411590576,
          3.228621006011963,
          1.5076349973678589,
          1.464845061302185,
          3.090083360671997,
          5.710237503051758,
          2.7928061485290527,
          1.480247974395752,
          3.5213825702667236
         ],
         "type": "scatter3d"
        },
        {
         "customdata": [
          [
           "AuffÃ¼hrung des Dramas \"Julius von Tarent\" von Johann Anton Leisewitz"
          ],
          [
           "Stadtkindergarten/Krippe"
          ]
         ],
         "hovertemplate": "label=Schule und Kultur<br>x=%{x}<br>y=%{y}<br>z=%{z}<br>hover_text=%{customdata[0]}<extra></extra>",
         "legendgroup": "Schule und Kultur",
         "marker": {
          "color": "#19d3f3",
          "symbol": "circle"
         },
         "mode": "markers",
         "name": "Schule und Kultur",
         "scene": "scene",
         "showlegend": true,
         "x": [
          3.9857242107391357,
          3.4466612339019775
         ],
         "y": [
          11.13486099243164,
          10.180752754211426
         ],
         "z": [
          4.394525051116943,
          3.534850597381592
         ],
         "type": "scatter3d"
        },
        {
         "customdata": [
          [
           "Installation einer Strassen/wegbeleuchtung"
          ],
          [
           "Haltestelle extrem unsicher"
          ],
          [
           "Wegbeleuchtung bauen"
          ],
          [
           "Veranstaltungen richtig Planen"
          ]
         ],
         "hovertemplate": "label=Recht, Sicherheit und Ordnung<br>x=%{x}<br>y=%{y}<br>z=%{z}<br>hover_text=%{customdata[0]}<extra></extra>",
         "legendgroup": "Recht, Sicherheit und Ordnung",
         "marker": {
          "color": "#FF6692",
          "symbol": "circle"
         },
         "mode": "markers",
         "name": "Recht, Sicherheit und Ordnung",
         "scene": "scene",
         "showlegend": true,
         "x": [
          4.450981140136719,
          2.9750633239746094,
          4.473079681396484,
          4.266821384429932
         ],
         "y": [
          8.984554290771484,
          10.959070205688477,
          8.837150573730469,
          10.329791069030762
         ],
         "z": [
          4.52293062210083,
          4.001232147216797,
          4.623032569885254,
          5.052173614501953
         ],
         "type": "scatter3d"
        },
        {
         "customdata": [
          [
           "ParkplÃ¤tze AdventsgeschÃ¤ft - Forderung AAI"
          ],
          [
           "Umwandlung des alten Galaria-GebÃ¤udes in ein Parkhaus"
          ],
          [
           "Gesundheits- und Rehazentrum im Galeria-GebÃ¤ude"
          ]
         ],
         "hovertemplate": "label=Wirtschaft<br>x=%{x}<br>y=%{y}<br>z=%{z}<br>hover_text=%{customdata[0]}<extra></extra>",
         "legendgroup": "Wirtschaft",
         "marker": {
          "color": "#B6E880",
          "symbol": "circle"
         },
         "mode": "markers",
         "name": "Wirtschaft",
         "scene": "scene",
         "showlegend": true,
         "x": [
          5.0911102294921875,
          4.950082302093506,
          3.7744686603546143
         ],
         "y": [
          10.725815773010254,
          10.705334663391113,
          10.717608451843262
         ],
         "z": [
          1.2812623977661133,
          1.3954226970672607,
          2.8976924419403076
         ],
         "type": "scatter3d"
        }
       ],
       "layout": {
        "template": {
         "data": {
          "histogram2dcontour": [
           {
            "type": "histogram2dcontour",
            "colorbar": {
             "outlinewidth": 0,
             "ticks": ""
            },
            "colorscale": [
             [
              0.0,
              "#0d0887"
             ],
             [
              0.1111111111111111,
              "#46039f"
             ],
             [
              0.2222222222222222,
              "#7201a8"
             ],
             [
              0.3333333333333333,
              "#9c179e"
             ],
             [
              0.4444444444444444,
              "#bd3786"
             ],
             [
              0.5555555555555556,
              "#d8576b"
             ],
             [
              0.6666666666666666,
              "#ed7953"
             ],
             [
              0.7777777777777778,
              "#fb9f3a"
             ],
             [
              0.8888888888888888,
              "#fdca26"
             ],
             [
              1.0,
              "#f0f921"
             ]
            ]
           }
          ],
          "choropleth": [
           {
            "type": "choropleth",
            "colorbar": {
             "outlinewidth": 0,
             "ticks": ""
            }
           }
          ],
          "histogram2d": [
           {
            "type": "histogram2d",
            "colorbar": {
             "outlinewidth": 0,
             "ticks": ""
            },
            "colorscale": [
             [
              0.0,
              "#0d0887"
             ],
             [
              0.1111111111111111,
              "#46039f"
             ],
             [
              0.2222222222222222,
              "#7201a8"
             ],
             [
              0.3333333333333333,
              "#9c179e"
             ],
             [
              0.4444444444444444,
              "#bd3786"
             ],
             [
              0.5555555555555556,
              "#d8576b"
             ],
             [
              0.6666666666666666,
              "#ed7953"
             ],
             [
              0.7777777777777778,
              "#fb9f3a"
             ],
             [
              0.8888888888888888,
              "#fdca26"
             ],
             [
              1.0,
              "#f0f921"
             ]
            ]
           }
          ],
          "heatmap": [
           {
            "type": "heatmap",
            "colorbar": {
             "outlinewidth": 0,
             "ticks": ""
            },
            "colorscale": [
             [
              0.0,
              "#0d0887"
             ],
             [
              0.1111111111111111,
              "#46039f"
             ],
             [
              0.2222222222222222,
              "#7201a8"
             ],
             [
              0.3333333333333333,
              "#9c179e"
             ],
             [
              0.4444444444444444,
              "#bd3786"
             ],
             [
              0.5555555555555556,
              "#d8576b"
             ],
             [
              0.6666666666666666,
              "#ed7953"
             ],
             [
              0.7777777777777778,
              "#fb9f3a"
             ],
             [
              0.8888888888888888,
              "#fdca26"
             ],
             [
              1.0,
              "#f0f921"
             ]
            ]
           }
          ],
          "heatmapgl": [
           {
            "type": "heatmapgl",
            "colorbar": {
             "outlinewidth": 0,
             "ticks": ""
            },
            "colorscale": [
             [
              0.0,
              "#0d0887"
             ],
             [
              0.1111111111111111,
              "#46039f"
             ],
             [
              0.2222222222222222,
              "#7201a8"
             ],
             [
              0.3333333333333333,
              "#9c179e"
             ],
             [
              0.4444444444444444,
              "#bd3786"
             ],
             [
              0.5555555555555556,
              "#d8576b"
             ],
             [
              0.6666666666666666,
              "#ed7953"
             ],
             [
              0.7777777777777778,
              "#fb9f3a"
             ],
             [
              0.8888888888888888,
              "#fdca26"
             ],
             [
              1.0,
              "#f0f921"
             ]
            ]
           }
          ],
          "contourcarpet": [
           {
            "type": "contourcarpet",
            "colorbar": {
             "outlinewidth": 0,
             "ticks": ""
            }
           }
          ],
          "contour": [
           {
            "type": "contour",
            "colorbar": {
             "outlinewidth": 0,
             "ticks": ""
            },
            "colorscale": [
             [
              0.0,
              "#0d0887"
             ],
             [
              0.1111111111111111,
              "#46039f"
             ],
             [
              0.2222222222222222,
              "#7201a8"
             ],
             [
              0.3333333333333333,
              "#9c179e"
             ],
             [
              0.4444444444444444,
              "#bd3786"
             ],
             [
              0.5555555555555556,
              "#d8576b"
             ],
             [
              0.6666666666666666,
              "#ed7953"
             ],
             [
              0.7777777777777778,
              "#fb9f3a"
             ],
             [
              0.8888888888888888,
              "#fdca26"
             ],
             [
              1.0,
              "#f0f921"
             ]
            ]
           }
          ],
          "surface": [
           {
            "type": "surface",
            "colorbar": {
             "outlinewidth": 0,
             "ticks": ""
            },
            "colorscale": [
             [
              0.0,
              "#0d0887"
             ],
             [
              0.1111111111111111,
              "#46039f"
             ],
             [
              0.2222222222222222,
              "#7201a8"
             ],
             [
              0.3333333333333333,
              "#9c179e"
             ],
             [
              0.4444444444444444,
              "#bd3786"
             ],
             [
              0.5555555555555556,
              "#d8576b"
             ],
             [
              0.6666666666666666,
              "#ed7953"
             ],
             [
              0.7777777777777778,
              "#fb9f3a"
             ],
             [
              0.8888888888888888,
              "#fdca26"
             ],
             [
              1.0,
              "#f0f921"
             ]
            ]
           }
          ],
          "mesh3d": [
           {
            "type": "mesh3d",
            "colorbar": {
             "outlinewidth": 0,
             "ticks": ""
            }
           }
          ],
          "scatter": [
           {
            "fillpattern": {
             "fillmode": "overlay",
             "size": 10,
             "solidity": 0.2
            },
            "type": "scatter"
           }
          ],
          "parcoords": [
           {
            "type": "parcoords",
            "line": {
             "colorbar": {
              "outlinewidth": 0,
              "ticks": ""
             }
            }
           }
          ],
          "scatterpolargl": [
           {
            "type": "scatterpolargl",
            "marker": {
             "colorbar": {
              "outlinewidth": 0,
              "ticks": ""
             }
            }
           }
          ],
          "bar": [
           {
            "error_x": {
             "color": "#2a3f5f"
            },
            "error_y": {
             "color": "#2a3f5f"
            },
            "marker": {
             "line": {
              "color": "#E5ECF6",
              "width": 0.5
             },
             "pattern": {
              "fillmode": "overlay",
              "size": 10,
              "solidity": 0.2
             }
            },
            "type": "bar"
           }
          ],
          "scattergeo": [
           {
            "type": "scattergeo",
            "marker": {
             "colorbar": {
              "outlinewidth": 0,
              "ticks": ""
             }
            }
           }
          ],
          "scatterpolar": [
           {
            "type": "scatterpolar",
            "marker": {
             "colorbar": {
              "outlinewidth": 0,
              "ticks": ""
             }
            }
           }
          ],
          "histogram": [
           {
            "marker": {
             "pattern": {
              "fillmode": "overlay",
              "size": 10,
              "solidity": 0.2
             }
            },
            "type": "histogram"
           }
          ],
          "scattergl": [
           {
            "type": "scattergl",
            "marker": {
             "colorbar": {
              "outlinewidth": 0,
              "ticks": ""
             }
            }
           }
          ],
          "scatter3d": [
           {
            "type": "scatter3d",
            "line": {
             "colorbar": {
              "outlinewidth": 0,
              "ticks": ""
             }
            },
            "marker": {
             "colorbar": {
              "outlinewidth": 0,
              "ticks": ""
             }
            }
           }
          ],
          "scattermapbox": [
           {
            "type": "scattermapbox",
            "marker": {
             "colorbar": {
              "outlinewidth": 0,
              "ticks": ""
             }
            }
           }
          ],
          "scatterternary": [
           {
            "type": "scatterternary",
            "marker": {
             "colorbar": {
              "outlinewidth": 0,
              "ticks": ""
             }
            }
           }
          ],
          "scattercarpet": [
           {
            "type": "scattercarpet",
            "marker": {
             "colorbar": {
              "outlinewidth": 0,
              "ticks": ""
             }
            }
           }
          ],
          "carpet": [
           {
            "aaxis": {
             "endlinecolor": "#2a3f5f",
             "gridcolor": "white",
             "linecolor": "white",
             "minorgridcolor": "white",
             "startlinecolor": "#2a3f5f"
            },
            "baxis": {
             "endlinecolor": "#2a3f5f",
             "gridcolor": "white",
             "linecolor": "white",
             "minorgridcolor": "white",
             "startlinecolor": "#2a3f5f"
            },
            "type": "carpet"
           }
          ],
          "table": [
           {
            "cells": {
             "fill": {
              "color": "#EBF0F8"
             },
             "line": {
              "color": "white"
             }
            },
            "header": {
             "fill": {
              "color": "#C8D4E3"
             },
             "line": {
              "color": "white"
             }
            },
            "type": "table"
           }
          ],
          "barpolar": [
           {
            "marker": {
             "line": {
              "color": "#E5ECF6",
              "width": 0.5
             },
             "pattern": {
              "fillmode": "overlay",
              "size": 10,
              "solidity": 0.2
             }
            },
            "type": "barpolar"
           }
          ],
          "pie": [
           {
            "automargin": true,
            "type": "pie"
           }
          ]
         },
         "layout": {
          "autotypenumbers": "strict",
          "colorway": [
           "#636efa",
           "#EF553B",
           "#00cc96",
           "#ab63fa",
           "#FFA15A",
           "#19d3f3",
           "#FF6692",
           "#B6E880",
           "#FF97FF",
           "#FECB52"
          ],
          "font": {
           "color": "#2a3f5f"
          },
          "hovermode": "closest",
          "hoverlabel": {
           "align": "left"
          },
          "paper_bgcolor": "white",
          "plot_bgcolor": "#E5ECF6",
          "polar": {
           "bgcolor": "#E5ECF6",
           "angularaxis": {
            "gridcolor": "white",
            "linecolor": "white",
            "ticks": ""
           },
           "radialaxis": {
            "gridcolor": "white",
            "linecolor": "white",
            "ticks": ""
           }
          },
          "ternary": {
           "bgcolor": "#E5ECF6",
           "aaxis": {
            "gridcolor": "white",
            "linecolor": "white",
            "ticks": ""
           },
           "baxis": {
            "gridcolor": "white",
            "linecolor": "white",
            "ticks": ""
           },
           "caxis": {
            "gridcolor": "white",
            "linecolor": "white",
            "ticks": ""
           }
          },
          "coloraxis": {
           "colorbar": {
            "outlinewidth": 0,
            "ticks": ""
           }
          },
          "colorscale": {
           "sequential": [
            [
             0.0,
             "#0d0887"
            ],
            [
             0.1111111111111111,
             "#46039f"
            ],
            [
             0.2222222222222222,
             "#7201a8"
            ],
            [
             0.3333333333333333,
             "#9c179e"
            ],
            [
             0.4444444444444444,
             "#bd3786"
            ],
            [
             0.5555555555555556,
             "#d8576b"
            ],
            [
             0.6666666666666666,
             "#ed7953"
            ],
            [
             0.7777777777777778,
             "#fb9f3a"
            ],
            [
             0.8888888888888888,
             "#fdca26"
            ],
            [
             1.0,
             "#f0f921"
            ]
           ],
           "sequentialminus": [
            [
             0.0,
             "#0d0887"
            ],
            [
             0.1111111111111111,
             "#46039f"
            ],
            [
             0.2222222222222222,
             "#7201a8"
            ],
            [
             0.3333333333333333,
             "#9c179e"
            ],
            [
             0.4444444444444444,
             "#bd3786"
            ],
            [
             0.5555555555555556,
             "#d8576b"
            ],
            [
             0.6666666666666666,
             "#ed7953"
            ],
            [
             0.7777777777777778,
             "#fb9f3a"
            ],
            [
             0.8888888888888888,
             "#fdca26"
            ],
            [
             1.0,
             "#f0f921"
            ]
           ],
           "diverging": [
            [
             0,
             "#8e0152"
            ],
            [
             0.1,
             "#c51b7d"
            ],
            [
             0.2,
             "#de77ae"
            ],
            [
             0.3,
             "#f1b6da"
            ],
            [
             0.4,
             "#fde0ef"
            ],
            [
             0.5,
             "#f7f7f7"
            ],
            [
             0.6,
             "#e6f5d0"
            ],
            [
             0.7,
             "#b8e186"
            ],
            [
             0.8,
             "#7fbc41"
            ],
            [
             0.9,
             "#4d9221"
            ],
            [
             1,
             "#276419"
            ]
           ]
          },
          "xaxis": {
           "gridcolor": "white",
           "linecolor": "white",
           "ticks": "",
           "title": {
            "standoff": 15
           },
           "zerolinecolor": "white",
           "automargin": true,
           "zerolinewidth": 2
          },
          "yaxis": {
           "gridcolor": "white",
           "linecolor": "white",
           "ticks": "",
           "title": {
            "standoff": 15
           },
           "zerolinecolor": "white",
           "automargin": true,
           "zerolinewidth": 2
          },
          "scene": {
           "xaxis": {
            "backgroundcolor": "#E5ECF6",
            "gridcolor": "white",
            "linecolor": "white",
            "showbackground": true,
            "ticks": "",
            "zerolinecolor": "white",
            "gridwidth": 2
           },
           "yaxis": {
            "backgroundcolor": "#E5ECF6",
            "gridcolor": "white",
            "linecolor": "white",
            "showbackground": true,
            "ticks": "",
            "zerolinecolor": "white",
            "gridwidth": 2
           },
           "zaxis": {
            "backgroundcolor": "#E5ECF6",
            "gridcolor": "white",
            "linecolor": "white",
            "showbackground": true,
            "ticks": "",
            "zerolinecolor": "white",
            "gridwidth": 2
           }
          },
          "shapedefaults": {
           "line": {
            "color": "#2a3f5f"
           }
          },
          "annotationdefaults": {
           "arrowcolor": "#2a3f5f",
           "arrowhead": 0,
           "arrowwidth": 1
          },
          "geo": {
           "bgcolor": "white",
           "landcolor": "#E5ECF6",
           "subunitcolor": "white",
           "showland": true,
           "showlakes": true,
           "lakecolor": "white"
          },
          "title": {
           "x": 0.05
          },
          "mapbox": {
           "style": "light"
          }
         }
        },
        "scene": {
         "domain": {
          "x": [
           0.0,
           1.0
          ],
          "y": [
           0.0,
           1.0
          ]
         },
         "xaxis": {
          "title": {
           "text": "x"
          }
         },
         "yaxis": {
          "title": {
           "text": "y"
          }
         },
         "zaxis": {
          "title": {
           "text": "z"
          }
         }
        },
        "legend": {
         "title": {
          "text": "label"
         },
         "tracegroupgap": 0
        },
        "margin": {
         "t": 60
        }
       },
       "config": {
        "plotlyServerURL": "https://plot.ly"
       }
      },
      "text/html": [
       "<div>                            <div id=\"3fb497a7-0186-4633-bc7b-1f1df8b8a807\" class=\"plotly-graph-div\" style=\"height:525px; width:100%;\"></div>            <script type=\"text/javascript\">                require([\"plotly\"], function(Plotly) {                    window.PLOTLYENV=window.PLOTLYENV || {};                                    if (document.getElementById(\"3fb497a7-0186-4633-bc7b-1f1df8b8a807\")) {                    Plotly.newPlot(                        \"3fb497a7-0186-4633-bc7b-1f1df8b8a807\",                        [{\"customdata\":[[\"Verkehrsberuhigter Bereich Holwedestra\\u00c3\\u0178e\"],[\"Sicherer Schulweg Querum\"],[\"Tempo 30 Madamenweg\\u002fRinggleis bis Kreuzung Madamenweg\\u002fAltstadring\"],[\"Fahrradkonzept Wendenstra\\u00c3\\u0178e \\u00c3\\u00bcberarbeiten...\"],[\"Brodweg - brisant f\\u00c3\\u00bcr alle Verkehrsteilnehmenden\"],[\"Schulverkehr Querum\"],[\"Solarunterstand f\\u00c3\\u00bcr R\\u00c3\\u00a4der\"],[\"Kastanienallee Ampelschaltung anpassen\"],[\"Verkehrspiegel Ausfahrt Buschweg auf die Hauptstra\\u00c3\\u0178e in Wenden\"],[\"Ampel f\\u00c3\\u00bcr Radfahrer Wendenring Ecke Maschpl\"],[\"Geschwindigkeits- und Durchfahrtsbegrenzung Querumer Stra\\u00c3\\u0178e\"],[\"FG\\u00c3\\u0153\"],[\"Umr\\u00c3\\u00bcstung der \\u00c3\\u2013PNV-Busflotte auf Elektromobilit\\u00c3\\u00a4t\"],[\"Zebrastreifen an der Kreuzung Mittelweg Ringgleis.\"],[\"Blitzer am Bohlweg ( vor Schlo\\u00c3\\u0178 )\"],[\"Verbreiterung Fu\\u00c3\\u0178\\u002fRadweg Bienroder Weg\"],[\"Fahrradpiktogramme R\\u00c3\\u00bcninger Weg endlich umsetzen\"],[\"Einrichten eines Durchfahrtverbots f\\u00c3\\u00bcr Transporter und Kraftfahrzeuge \\u00c3\\u00bcber 3,5 Tonnen in die Volmestra\\u00c3\\u0178e\"],[\"Ausnahmegenehmigung f\\u00c3\\u00bcr pflegende Privatpersonen zum Parken\"],[\"Mittelweg 30km\\u002fh Blitzer\"],[\"Parkplatz auf dem Wollmarkt stoppen\"],[\"Push & Pull\"],[\"M\\u00c3\\u00bchlentrift Verkehr, Tempo 30, Anlieger Frei\"],[\"Fahrradstra\\u00c3\\u0178e Wilhelm-Bode-Stra\\u00c3\\u0178e und Karl-Marx-Stra\\u00c3\\u0178e mit Vorfahrt\"],[\"Gefahrenstelle auf dem Ringgleis\"],[\"Bringzone f\\u00c3\\u00bcr die Realschule Maschstra\\u00c3\\u0178e\"],[\"Mehr Bewohnerparkpl\\u00c3\\u00a4tze in der Maschstra\\u00c3\\u0178e\"],[\"Verkehrssichere Max-Planck-Str\"],[\"Verkehrsspiegel Kreuzung Karl-Hintze-Weg und Mittelriede\"],[\"Halteververbot auf der Altmarkstr. in H\\u00c3\\u00b6he Auf dem Anger\"],[\"Einbahnstra\\u00c3\\u0178e Wilhelmsgarten\"],[\"Einbahnstra\\u00c3\\u0178e St.-Ingbert-Stra\\u00c3\\u0178e zur L\\u00c3\\u00a4rmreduzierung\"],[\"Mehr Bewohnerparkpl\\u00c3\\u00a4tze am Burgundenplatz\"],[\"Hinweisschild Einsatzfahrzeug Salzdahlumer Stra\\u00c3\\u0178e\"],[\"Sichere \\u00c3\\u0153berquerungsm\\u00c3\\u00b6glichkeit am Campus Forschungsflughafen\"],[\"Veloroute und Parkplatzsituation Helmstedeter Stra\\u00c3\\u0178e\"],[\"Geschwindigkeitsschwellen Holzmindener Stra\\u00c3\\u0178e\"],[\"Petristra\\u00c3\\u0178e f\\u00c3\\u00bcr Radfahrer optimieren\"],[\"\\u00e2\\u20ac\\u017eSichtschutz\\u00e2\\u20ac\\u0153 an RadfahrerInnenampel Ecke Gliedmaroder Str.\\u002fB\\u00c3\\u00b6cklinstr. f\\u00c3\\u00bcr Autofahrende\"],[\"Sensorgesteuerte Ampelschaltung Ringgleis\\u002fCeller Stra\\u00c3\\u0178e\"],[\"Parkpl\\u00c3\\u00a4tze Querum\"],[\"Warnschilder vor der neuen Querungshilfe An der Rothenburg\"],[\"Beleuchtung Ringgleis\"],[\"Hinweisschild f\\u00c3\\u00bcr Radfahrer beim \\u00c3\\u0153berholen von Fu\\u00c3\\u0178g\\u00c3\\u00a4ngern auf dem gesamten Ringgleis\"],[\"Ein Zebrastreifen f\\u00c3\\u00bcr den Handelsweg\"],[\"Fahrradst\\u00c3\\u00a4nder und gr\\u00c3\\u00bcner Pfeil f\\u00c3\\u00bcr Fahrr\\u00c3\\u00a4der\"],[\"Autos versperren Fu\\u00c3\\u0178weg\"],[\"Fahrradparkhaus Innenstadt\"],[\"Anpassung Strahler Dom\\u002fM\\u00c3\\u00bcnzstra\\u00c3\\u0178e\"],[\"T- Kreuzung Hordorfer Str. L 633\\u002f Schapen\\u002fWeddel K41 ist lebensgef\\u00c3\\u00a4hrlich\"],[\"Schulweg von Grundsch\\u00c3\\u00bcler: Monatskarte ohne 2km Entfernung\"],[\"Fahrradst\\u00c3\\u00a4nder\"],[\"Lehmanger sicherer machen!\"],[\"L\\u00c3\\u00a4rmschutzwand A39 Geitelde\"],[\"Rad und Fu\\u00c3\\u0178weg Lehmanger Richtung Donauviertel\"],[\"\\u00e2\\u20ac\\u017eSpielstra\\u00c3\\u0178en\\u00e2\\u20ac\\u0153 beruhigen\"],[\"\\u00c3\\u0153berpr\\u00c3\\u00bcfung und Aktualisierung von Verkehrsschildern\"],[\"Markierung Radweg Kreuzung Steinweg\\u002fRitterbrunnen\"],[\"Begrenzung des Verkehrs auf der M\\u00c3\\u00bcnzstra\\u00c3\\u0178e\"],[\"Farbliche Markierung von Parkfl\\u00c3\\u00a4chen\"],[\"Unterirdischer Rebenring\"],[\"Fahrtrichtung auf dem Radweg klar festlegen\"],[\"Einf\\u00c3\\u00bchrung eines Blitzersystems mit Audiosensoren\"],[\"Salzdahlumer Stra\\u00c3\\u0178e digitales Hinweisschild zur Vorrangschaltung\"],[\"Entlastung der Bevenroder Str.\"],[\"Signallampe Stra\\u00c3\\u0178enbahnquerung\"],[\"Kein Anwohnerparken im \\u00c3\\u00b6stlichen Ringgebiet\"],[\"Verkehrsberuhigung Madamenweg\"],[\"Ampelschaltung Hamburger Stra\\u00c3\\u0178e vorm Stadion optimieren\"],[\"Ringbus erhalten \\u00e2\\u20ac\\u201c das s\\u00c3\\u00bcdwestliche Ringgebiet darf nicht abgeh\\u00c3\\u00a4ngt werden!\"],[\"Fu\\u00c3\\u0178g\\u00c3\\u00a4nger\\u00c3\\u00bcberweg f\\u00c3\\u00bcr eine sicherere Grundschule in Querum\"],[\"Rote Radwegmarkierung M\\u00c3\\u00bcnchenstra\\u00c3\\u0178e\\u002fBroitzemer Stra\\u00c3\\u0178e\"],[\"Optimierung Fu\\u00c3\\u0178g\\u00c3\\u00a4ngerampel Ackerstr.\\u002fHelmstedter Str.\"],[\"Wilhelm-Bornstedt-Weg entlang der Oker besser befestigen\"]],\"hovertemplate\":\"label=Verkehr\\u003cbr\\u003ex=%{x}\\u003cbr\\u003ey=%{y}\\u003cbr\\u003ez=%{z}\\u003cbr\\u003ehover_text=%{customdata[0]}\\u003cextra\\u003e\\u003c\\u002fextra\\u003e\",\"legendgroup\":\"Verkehr\",\"marker\":{\"color\":\"#636efa\",\"symbol\":\"circle\"},\"mode\":\"markers\",\"name\":\"Verkehr\",\"scene\":\"scene\",\"showlegend\":true,\"x\":[3.307366132736206,2.3318018913269043,2.2193734645843506,2.584221124649048,4.363775730133057,4.110039710998535,4.187451362609863,2.04284930229187,6.058857440948486,2.7893354892730713,2.111171245574951,5.271616458892822,2.928379774093628,3.5069267749786377,2.2988476753234863,4.62475061416626,4.347909450531006,5.381741523742676,3.3290178775787354,2.214789628982544,5.4990553855896,3.677963972091675,2.1603026390075684,4.077845096588135,3.497954845428467,2.5756819248199463,5.641960144042969,2.3308956623077393,3.3645100593566895,2.698934555053711,2.4376304149627686,3.563258409500122,6.328907012939453,3.557581901550293,2.908146858215332,5.35940408706665,6.414343357086182,4.326789855957031,4.213461875915527,3.213625192642212,6.175136566162109,2.400383472442627,4.321142673492432,4.363028049468994,4.019986152648926,3.7334601879119873,4.652395248413086,2.2665772438049316,3.049051284790039,4.337843894958496,4.057031154632568,4.429867744445801,3.3739078044891357,3.4882469177246094,3.4029245376586914,2.2884953022003174,4.242105007171631,4.411751747131348,6.213915824890137,5.22983980178833,2.979313373565674,2.866827964782715,2.0499379634857178,3.514437675476074,2.7683825492858887,3.174466371536255,6.231375217437744,6.220520496368408,2.879838228225708,3.4482004642486572,3.5024161338806152,5.029773712158203,2.9200711250305176,4.483739852905273],\"y\":[9.604582786560059,9.245524406433105,10.675291061401367,10.05808162689209,10.074021339416504,8.902861595153809,10.699378967285156,11.181782722473145,10.590819358825684,10.340866088867188,10.874756813049316,10.662237167358398,11.406986236572266,10.43699836730957,11.132143020629883,10.233953475952148,9.921418190002441,10.714814186096191,11.578839302062988,10.777520179748535,10.764670372009277,10.269840240478516,10.736098289489746,10.972885131835938,10.351934432983398,11.591320991516113,10.812159538269043,10.68701457977295,11.560473442077637,9.015514373779297,9.365406036376953,10.6266450881958,10.912193298339844,10.987406730651855,11.065739631652832,10.646127700805664,10.977932929992676,10.369023323059082,10.175357818603516,10.275606155395508,10.764152526855469,9.317814826965332,8.953147888183594,10.426414489746094,10.807464599609375,10.785881996154785,10.443767547607422,10.790221214294434,8.9091157913208,9.108383178710938,10.687023162841797,9.48895263671875,9.347183227539062,9.406980514526367,10.34567642211914,10.709822654724121,10.452618598937988,9.567570686340332,10.816986083984375,10.646504402160645,11.011198043823242,10.456664085388184,11.021855354309082,10.946343421936035,8.933547973632812,10.090378761291504,10.868611335754395,10.709120750427246,10.284564018249512,10.369388580322266,10.709493637084961,10.208731651306152,8.844695091247559,8.834424018859863],\"z\":[5.698269367218018,4.1294450759887695,3.8552277088165283,3.9805402755737305,4.461084842681885,4.321928024291992,4.302688121795654,3.318898916244507,2.628199338912964,4.674181938171387,3.57747745513916,1.3484041690826416,1.413021206855774,5.6168646812438965,1.6875495910644531,4.399152755737305,4.584389686584473,1.4853284358978271,1.8707058429718018,4.366887092590332,1.474575400352478,5.457699298858643,3.764578342437744,4.593446254730225,5.51312255859375,2.268455743789673,1.566545009613037,4.492368698120117,2.5750484466552734,3.6531596183776855,4.178292751312256,3.6888203620910645,2.1268272399902344,4.007115364074707,3.1553308963775635,1.5370529890060425,2.2303333282470703,4.867167949676514,4.717875957489014,5.3368401527404785,2.3060216903686523,4.243127346038818,4.6748857498168945,4.317155838012695,4.765787124633789,3.7569422721862793,4.040132522583008,1.8265522718429565,3.641106128692627,4.4380388259887695,2.5028560161590576,4.544284343719482,3.5945065021514893,3.4914259910583496,5.567211151123047,4.445535659790039,4.061965465545654,4.550350189208984,2.1562368869781494,1.499219536781311,1.436569333076477,4.173599720001221,3.497366189956665,3.92665433883667,3.633451223373413,5.348208427429199,2.036512613296509,2.3599886894226074,4.493967533111572,5.53032922744751,3.3649823665618896,4.011399745941162,3.5125555992126465,4.617229461669922],\"type\":\"scatter3d\"},{\"customdata\":[[\"Wickelboard auf st\\u00c3\\u00a4dtischen Spielpl\\u00c3\\u00a4tzen\"],[\"Neugestaltung WOLLMARKT\"],[\"Dauerhafte Begr\\u00c3\\u00bcnung des Schlossplatzes und Platz der Deutschen Einheit\"],[\"Mehr M\\u00c3\\u00bclleimer im Waldst\\u00c3\\u00bcck zwischen Kralenriede, der Schuntersiedlung und R\\u00c3\\u00bchme.\"],[\"Sitzb\\u00c3\\u00a4nke an der Platane Okerstra\\u00c3\\u0178e 8b\"],[\"Steg am Schapenbruchteich\"],[\"Toiletten f\\u00c3\\u00bcr den L\\u00c3\\u00b6wenwall\"],[\"Mehr M\\u00c3\\u00bclleimer\\u002f kotbeutelstation\"],[\"Nachhaltigere und effizientere Gr\\u00c3\\u00bcnfl\\u00c3\\u00a4chenbew\\u00c3\\u00a4sserung\"],[\"Braunschweig braucht einen Wasserspielplatz!\"],[\"Pflege \\u002fGestaltung Gr\\u00c3\\u00bcnanlagen\"],[\"100 k\\u00c3\\u00bcnstlerisch gestaltete B\\u00c3\\u00a4nke f\\u00c3\\u00bcr Braunschweig!\"],[\"Verwaiste Einkaufswagen\"],[\"Zuwegung Bhf. Gliesmarode einladend randbepflanzen\"],[\"Hundeplatz Melverode\"],[\"Kaffee am \\u00c3\\u2013lpersee\"],[\"Leipziger Stra\\u00c3\\u0178e entlang keine Sitzb\\u00c3\\u00a4nke\"],[\"Hundeplatz Melverode\"],[\"B\\u00c3\\u00a4ume gegen Klimawandel\"],[\"Hundewiese Nu\\u00c3\\u0178berg\"]],\"hovertemplate\":\"label=Stadtgr\\u00c3\\u00bcn und Umwelt\\u003cbr\\u003ex=%{x}\\u003cbr\\u003ey=%{y}\\u003cbr\\u003ez=%{z}\\u003cbr\\u003ehover_text=%{customdata[0]}\\u003cextra\\u003e\\u003c\\u002fextra\\u003e\",\"legendgroup\":\"Stadtgr\\u00c3\\u00bcn und Umwelt\",\"marker\":{\"color\":\"#EF553B\",\"symbol\":\"circle\"},\"mode\":\"markers\",\"name\":\"Stadtgr\\u00c3\\u00bcn und Umwelt\",\"scene\":\"scene\",\"showlegend\":true,\"x\":[3.132589817047119,2.2246761322021484,2.526040554046631,4.611344337463379,2.796381950378418,3.080054759979248,5.027016639709473,2.5174026489257812,4.680337905883789,2.524252414703369,5.061089515686035,2.4300034046173096,2.724041223526001,4.763452053070068,4.8149495124816895,5.311757564544678,2.7031466960906982,4.803445339202881,5.266079902648926,2.968339681625366],\"y\":[11.417495727539062,10.839075088500977,11.7190580368042,8.667597770690918,11.062309265136719,8.80471420288086,10.787188529968262,9.89675235748291,10.209001541137695,11.393585205078125,10.507500648498535,11.203902244567871,11.464813232421875,10.406590461730957,10.213701248168945,10.500832557678223,10.822216987609863,10.278364181518555,10.456171035766602,11.4722261428833],\"z\":[1.5468461513519287,1.8876157999038696,1.7851475477218628,4.523043632507324,3.313032388687134,3.866619825363159,1.1120758056640625,3.882887363433838,2.5388338565826416,1.9340102672576904,1.884917974472046,1.8569997549057007,2.038062810897827,2.2058095932006836,2.407409429550171,3.5025839805603027,2.2646710872650146,2.3588953018188477,3.588550329208374,2.8303775787353516],\"type\":\"scatter3d\"},{\"customdata\":[[\"Beleuchtung Wasserturm Giersberg\"],[\"Hundewiese am J\\u00c3\\u00bctenring einrichten - Bebauungsplan HA 137 \\u00c3\\u00a4ndern\"],[\"\\\"Viktualienmarkt\\\" Burgpassage\"],[\"Umsetzen Informationsstele am Burgplatz\"],[\"Standort 2. Haferstroh-Toilette\"],[\"Umstellung der Beleuchtung auf LED\"],[\"Aufsteller mit Ladeninfos f\\u00c3\\u00bcr den Handelsweg\"],[\"Tiny House Fl\\u00c3\\u00a4che erstellen\"]],\"hovertemplate\":\"label=Bauen und Planung\\u003cbr\\u003ex=%{x}\\u003cbr\\u003ey=%{y}\\u003cbr\\u003ez=%{z}\\u003cbr\\u003ehover_text=%{customdata[0]}\\u003cextra\\u003e\\u003c\\u002fextra\\u003e\",\"legendgroup\":\"Bauen und Planung\",\"marker\":{\"color\":\"#00cc96\",\"symbol\":\"circle\"},\"mode\":\"markers\",\"name\":\"Bauen und Planung\",\"scene\":\"scene\",\"showlegend\":true,\"x\":[2.27628231048584,3.130448341369629,2.7873218059539795,2.72961163520813,4.8819684982299805,2.241943836212158,4.639372825622559,2.5717484951019287],\"y\":[9.039071083068848,11.47498893737793,10.82149600982666,10.713772773742676,10.936420440673828,9.012563705444336,10.195029258728027,11.550859451293945],\"z\":[3.9956867694854736,2.7195441722869873,1.7501873970031738,1.877310872077942,0.9156754612922668,3.937523126602173,2.6160387992858887,1.6437251567840576],\"type\":\"scatter3d\"},{\"customdata\":[[\"Zeitgem\\u00c3\\u00a4\\u00c3\\u0178e Funktionalit\\u00c3\\u00a4t f\\u00c3\\u00bcr die Ideenplattform\"],[\"L\\u00c3\\u00a4rmaktionsplanung\"],[\"Einfacher Weg f\\u00c3\\u00bcr die Genehmigung von nicht kommerziellen Tanzveranstaltungen in Braunschweiger Park und Gr\\u00c3\\u00bcnanlagen\"],[\"\\u00c2\\u00a7 37 Hilfe bei Verwaltungsangelegenheiten Infoveranstaltung\"],[\"App Dorffunk\"],[\"Anmeldeportal Stadt Braunschweig\"],[\"Abstimmungen im Protokoll mit Angabe des genauen Ergebnisses\"]],\"hovertemplate\":\"label=Allgemeine Verwaltung\\u003cbr\\u003ex=%{x}\\u003cbr\\u003ey=%{y}\\u003cbr\\u003ez=%{z}\\u003cbr\\u003ehover_text=%{customdata[0]}\\u003cextra\\u003e\\u003c\\u002fextra\\u003e\",\"legendgroup\":\"Allgemeine Verwaltung\",\"marker\":{\"color\":\"#ab63fa\",\"symbol\":\"circle\"},\"mode\":\"markers\",\"name\":\"Allgemeine Verwaltung\",\"scene\":\"scene\",\"showlegend\":true,\"x\":[3.880140542984009,2.547630548477173,2.960280656814575,3.358898878097534,3.2603399753570557,2.1567065715789795,3.78596830368042],\"y\":[10.101380348205566,10.779306411743164,11.392666816711426,11.585269927978516,9.548235893249512,11.269699096679688,10.784432411193848],\"z\":[4.758955001831055,3.6670517921447754,1.465796709060669,2.498016357421875,5.683703899383545,3.045194149017334,3.7985715866088867],\"type\":\"scatter3d\"},{\"customdata\":[[\"Spielpl\\u00c3\\u00a4tze im Herbst\\u002fWinter nutzbarer machen\"],[\"Unterst\\u00c3\\u00bctzung f\\u00c3\\u00bcr besonders gef\\u00c3\\u00a4hrdete Menschen bei Hitze\"],[\"Wickeltisch\"],[\"Einf\\u00c3\\u00bchrung Stadtinterne Kinderbetreuung f\\u00c3\\u00bcr M\\u00c3\\u00bctter\"],[\"Eltern-Kind-Schaukel f\\u00c3\\u00bcr Spielpl\\u00c3\\u00a4tze\"],[\"Ponyclub Querum e.V.\"],[\"Weiteres Angebot des Braunschweiger Sch\\u00c3\\u00bclertickets f\\u00c3\\u00bcr 15 Euro\"],[\"Aufr\\u00c3\\u00bcstung Broitzemer Spielpl\\u00c3\\u00a4tze f\\u00c3\\u00bcr Kleinkinder\"],[\"Ort f\\u00c3\\u00bcr Grafitty und Tags statt Beschmieren im \\u00c3\\u00b6stlichen Ringgebiet\"],[\"Basketballplatz erneuern am Spielplatz Hohetorwall\"],[\"Petition: Verbesserung des Skateparks am Westbahnhof in Braunschweig zum 10-j\\u00c3\\u00a4hrigen Jubil\\u00c3\\u00a4um\"],[\"Skaterbahn Mutter Kind Spielplatz\"]],\"hovertemplate\":\"label=Soziales, Jugend und Gesundheit\\u003cbr\\u003ex=%{x}\\u003cbr\\u003ey=%{y}\\u003cbr\\u003ez=%{z}\\u003cbr\\u003ehover_text=%{customdata[0]}\\u003cextra\\u003e\\u003c\\u002fextra\\u003e\",\"legendgroup\":\"Soziales, Jugend und Gesundheit\",\"marker\":{\"color\":\"#FFA15A\",\"symbol\":\"circle\"},\"mode\":\"markers\",\"name\":\"Soziales, Jugend und Gesundheit\",\"scene\":\"scene\",\"showlegend\":true,\"x\":[3.2475039958953857,2.355156183242798,4.922305107116699,3.4490883350372314,2.986901044845581,2.8696982860565186,2.730236053466797,2.669264554977417,3.310795783996582,2.584973096847534,5.514584541320801,2.546380043029785],\"y\":[9.526254653930664,11.231142044067383,10.907340049743652,10.197107315063477,9.798235893249512,11.490357398986816,11.536341667175293,9.812150001525879,9.619258880615234,10.051522254943848,10.82292652130127,9.664161682128906],\"z\":[3.4397406578063965,1.6850433349609375,0.9452497363090515,3.5360591411590576,3.228621006011963,1.5076349973678589,1.464845061302185,3.090083360671997,5.710237503051758,2.7928061485290527,1.480247974395752,3.5213825702667236],\"type\":\"scatter3d\"},{\"customdata\":[[\"Auff\\u00c3\\u00bchrung des Dramas \\\"Julius von Tarent\\\" von Johann Anton Leisewitz\"],[\"Stadtkindergarten\\u002fKrippe\"]],\"hovertemplate\":\"label=Schule und Kultur\\u003cbr\\u003ex=%{x}\\u003cbr\\u003ey=%{y}\\u003cbr\\u003ez=%{z}\\u003cbr\\u003ehover_text=%{customdata[0]}\\u003cextra\\u003e\\u003c\\u002fextra\\u003e\",\"legendgroup\":\"Schule und Kultur\",\"marker\":{\"color\":\"#19d3f3\",\"symbol\":\"circle\"},\"mode\":\"markers\",\"name\":\"Schule und Kultur\",\"scene\":\"scene\",\"showlegend\":true,\"x\":[3.9857242107391357,3.4466612339019775],\"y\":[11.13486099243164,10.180752754211426],\"z\":[4.394525051116943,3.534850597381592],\"type\":\"scatter3d\"},{\"customdata\":[[\"Installation einer Strassen\\u002fwegbeleuchtung\"],[\"Haltestelle extrem unsicher\"],[\"Wegbeleuchtung bauen\"],[\"Veranstaltungen richtig Planen\"]],\"hovertemplate\":\"label=Recht, Sicherheit und Ordnung\\u003cbr\\u003ex=%{x}\\u003cbr\\u003ey=%{y}\\u003cbr\\u003ez=%{z}\\u003cbr\\u003ehover_text=%{customdata[0]}\\u003cextra\\u003e\\u003c\\u002fextra\\u003e\",\"legendgroup\":\"Recht, Sicherheit und Ordnung\",\"marker\":{\"color\":\"#FF6692\",\"symbol\":\"circle\"},\"mode\":\"markers\",\"name\":\"Recht, Sicherheit und Ordnung\",\"scene\":\"scene\",\"showlegend\":true,\"x\":[4.450981140136719,2.9750633239746094,4.473079681396484,4.266821384429932],\"y\":[8.984554290771484,10.959070205688477,8.837150573730469,10.329791069030762],\"z\":[4.52293062210083,4.001232147216797,4.623032569885254,5.052173614501953],\"type\":\"scatter3d\"},{\"customdata\":[[\"Parkpl\\u00c3\\u00a4tze Adventsgesch\\u00c3\\u00a4ft - Forderung AAI\"],[\"Umwandlung des alten Galaria-Geb\\u00c3\\u00a4udes in ein Parkhaus\"],[\"Gesundheits- und Rehazentrum im Galeria-Geb\\u00c3\\u00a4ude\"]],\"hovertemplate\":\"label=Wirtschaft\\u003cbr\\u003ex=%{x}\\u003cbr\\u003ey=%{y}\\u003cbr\\u003ez=%{z}\\u003cbr\\u003ehover_text=%{customdata[0]}\\u003cextra\\u003e\\u003c\\u002fextra\\u003e\",\"legendgroup\":\"Wirtschaft\",\"marker\":{\"color\":\"#B6E880\",\"symbol\":\"circle\"},\"mode\":\"markers\",\"name\":\"Wirtschaft\",\"scene\":\"scene\",\"showlegend\":true,\"x\":[5.0911102294921875,4.950082302093506,3.7744686603546143],\"y\":[10.725815773010254,10.705334663391113,10.717608451843262],\"z\":[1.2812623977661133,1.3954226970672607,2.8976924419403076],\"type\":\"scatter3d\"}],                        {\"template\":{\"data\":{\"histogram2dcontour\":[{\"type\":\"histogram2dcontour\",\"colorbar\":{\"outlinewidth\":0,\"ticks\":\"\"},\"colorscale\":[[0.0,\"#0d0887\"],[0.1111111111111111,\"#46039f\"],[0.2222222222222222,\"#7201a8\"],[0.3333333333333333,\"#9c179e\"],[0.4444444444444444,\"#bd3786\"],[0.5555555555555556,\"#d8576b\"],[0.6666666666666666,\"#ed7953\"],[0.7777777777777778,\"#fb9f3a\"],[0.8888888888888888,\"#fdca26\"],[1.0,\"#f0f921\"]]}],\"choropleth\":[{\"type\":\"choropleth\",\"colorbar\":{\"outlinewidth\":0,\"ticks\":\"\"}}],\"histogram2d\":[{\"type\":\"histogram2d\",\"colorbar\":{\"outlinewidth\":0,\"ticks\":\"\"},\"colorscale\":[[0.0,\"#0d0887\"],[0.1111111111111111,\"#46039f\"],[0.2222222222222222,\"#7201a8\"],[0.3333333333333333,\"#9c179e\"],[0.4444444444444444,\"#bd3786\"],[0.5555555555555556,\"#d8576b\"],[0.6666666666666666,\"#ed7953\"],[0.7777777777777778,\"#fb9f3a\"],[0.8888888888888888,\"#fdca26\"],[1.0,\"#f0f921\"]]}],\"heatmap\":[{\"type\":\"heatmap\",\"colorbar\":{\"outlinewidth\":0,\"ticks\":\"\"},\"colorscale\":[[0.0,\"#0d0887\"],[0.1111111111111111,\"#46039f\"],[0.2222222222222222,\"#7201a8\"],[0.3333333333333333,\"#9c179e\"],[0.4444444444444444,\"#bd3786\"],[0.5555555555555556,\"#d8576b\"],[0.6666666666666666,\"#ed7953\"],[0.7777777777777778,\"#fb9f3a\"],[0.8888888888888888,\"#fdca26\"],[1.0,\"#f0f921\"]]}],\"heatmapgl\":[{\"type\":\"heatmapgl\",\"colorbar\":{\"outlinewidth\":0,\"ticks\":\"\"},\"colorscale\":[[0.0,\"#0d0887\"],[0.1111111111111111,\"#46039f\"],[0.2222222222222222,\"#7201a8\"],[0.3333333333333333,\"#9c179e\"],[0.4444444444444444,\"#bd3786\"],[0.5555555555555556,\"#d8576b\"],[0.6666666666666666,\"#ed7953\"],[0.7777777777777778,\"#fb9f3a\"],[0.8888888888888888,\"#fdca26\"],[1.0,\"#f0f921\"]]}],\"contourcarpet\":[{\"type\":\"contourcarpet\",\"colorbar\":{\"outlinewidth\":0,\"ticks\":\"\"}}],\"contour\":[{\"type\":\"contour\",\"colorbar\":{\"outlinewidth\":0,\"ticks\":\"\"},\"colorscale\":[[0.0,\"#0d0887\"],[0.1111111111111111,\"#46039f\"],[0.2222222222222222,\"#7201a8\"],[0.3333333333333333,\"#9c179e\"],[0.4444444444444444,\"#bd3786\"],[0.5555555555555556,\"#d8576b\"],[0.6666666666666666,\"#ed7953\"],[0.7777777777777778,\"#fb9f3a\"],[0.8888888888888888,\"#fdca26\"],[1.0,\"#f0f921\"]]}],\"surface\":[{\"type\":\"surface\",\"colorbar\":{\"outlinewidth\":0,\"ticks\":\"\"},\"colorscale\":[[0.0,\"#0d0887\"],[0.1111111111111111,\"#46039f\"],[0.2222222222222222,\"#7201a8\"],[0.3333333333333333,\"#9c179e\"],[0.4444444444444444,\"#bd3786\"],[0.5555555555555556,\"#d8576b\"],[0.6666666666666666,\"#ed7953\"],[0.7777777777777778,\"#fb9f3a\"],[0.8888888888888888,\"#fdca26\"],[1.0,\"#f0f921\"]]}],\"mesh3d\":[{\"type\":\"mesh3d\",\"colorbar\":{\"outlinewidth\":0,\"ticks\":\"\"}}],\"scatter\":[{\"fillpattern\":{\"fillmode\":\"overlay\",\"size\":10,\"solidity\":0.2},\"type\":\"scatter\"}],\"parcoords\":[{\"type\":\"parcoords\",\"line\":{\"colorbar\":{\"outlinewidth\":0,\"ticks\":\"\"}}}],\"scatterpolargl\":[{\"type\":\"scatterpolargl\",\"marker\":{\"colorbar\":{\"outlinewidth\":0,\"ticks\":\"\"}}}],\"bar\":[{\"error_x\":{\"color\":\"#2a3f5f\"},\"error_y\":{\"color\":\"#2a3f5f\"},\"marker\":{\"line\":{\"color\":\"#E5ECF6\",\"width\":0.5},\"pattern\":{\"fillmode\":\"overlay\",\"size\":10,\"solidity\":0.2}},\"type\":\"bar\"}],\"scattergeo\":[{\"type\":\"scattergeo\",\"marker\":{\"colorbar\":{\"outlinewidth\":0,\"ticks\":\"\"}}}],\"scatterpolar\":[{\"type\":\"scatterpolar\",\"marker\":{\"colorbar\":{\"outlinewidth\":0,\"ticks\":\"\"}}}],\"histogram\":[{\"marker\":{\"pattern\":{\"fillmode\":\"overlay\",\"size\":10,\"solidity\":0.2}},\"type\":\"histogram\"}],\"scattergl\":[{\"type\":\"scattergl\",\"marker\":{\"colorbar\":{\"outlinewidth\":0,\"ticks\":\"\"}}}],\"scatter3d\":[{\"type\":\"scatter3d\",\"line\":{\"colorbar\":{\"outlinewidth\":0,\"ticks\":\"\"}},\"marker\":{\"colorbar\":{\"outlinewidth\":0,\"ticks\":\"\"}}}],\"scattermapbox\":[{\"type\":\"scattermapbox\",\"marker\":{\"colorbar\":{\"outlinewidth\":0,\"ticks\":\"\"}}}],\"scatterternary\":[{\"type\":\"scatterternary\",\"marker\":{\"colorbar\":{\"outlinewidth\":0,\"ticks\":\"\"}}}],\"scattercarpet\":[{\"type\":\"scattercarpet\",\"marker\":{\"colorbar\":{\"outlinewidth\":0,\"ticks\":\"\"}}}],\"carpet\":[{\"aaxis\":{\"endlinecolor\":\"#2a3f5f\",\"gridcolor\":\"white\",\"linecolor\":\"white\",\"minorgridcolor\":\"white\",\"startlinecolor\":\"#2a3f5f\"},\"baxis\":{\"endlinecolor\":\"#2a3f5f\",\"gridcolor\":\"white\",\"linecolor\":\"white\",\"minorgridcolor\":\"white\",\"startlinecolor\":\"#2a3f5f\"},\"type\":\"carpet\"}],\"table\":[{\"cells\":{\"fill\":{\"color\":\"#EBF0F8\"},\"line\":{\"color\":\"white\"}},\"header\":{\"fill\":{\"color\":\"#C8D4E3\"},\"line\":{\"color\":\"white\"}},\"type\":\"table\"}],\"barpolar\":[{\"marker\":{\"line\":{\"color\":\"#E5ECF6\",\"width\":0.5},\"pattern\":{\"fillmode\":\"overlay\",\"size\":10,\"solidity\":0.2}},\"type\":\"barpolar\"}],\"pie\":[{\"automargin\":true,\"type\":\"pie\"}]},\"layout\":{\"autotypenumbers\":\"strict\",\"colorway\":[\"#636efa\",\"#EF553B\",\"#00cc96\",\"#ab63fa\",\"#FFA15A\",\"#19d3f3\",\"#FF6692\",\"#B6E880\",\"#FF97FF\",\"#FECB52\"],\"font\":{\"color\":\"#2a3f5f\"},\"hovermode\":\"closest\",\"hoverlabel\":{\"align\":\"left\"},\"paper_bgcolor\":\"white\",\"plot_bgcolor\":\"#E5ECF6\",\"polar\":{\"bgcolor\":\"#E5ECF6\",\"angularaxis\":{\"gridcolor\":\"white\",\"linecolor\":\"white\",\"ticks\":\"\"},\"radialaxis\":{\"gridcolor\":\"white\",\"linecolor\":\"white\",\"ticks\":\"\"}},\"ternary\":{\"bgcolor\":\"#E5ECF6\",\"aaxis\":{\"gridcolor\":\"white\",\"linecolor\":\"white\",\"ticks\":\"\"},\"baxis\":{\"gridcolor\":\"white\",\"linecolor\":\"white\",\"ticks\":\"\"},\"caxis\":{\"gridcolor\":\"white\",\"linecolor\":\"white\",\"ticks\":\"\"}},\"coloraxis\":{\"colorbar\":{\"outlinewidth\":0,\"ticks\":\"\"}},\"colorscale\":{\"sequential\":[[0.0,\"#0d0887\"],[0.1111111111111111,\"#46039f\"],[0.2222222222222222,\"#7201a8\"],[0.3333333333333333,\"#9c179e\"],[0.4444444444444444,\"#bd3786\"],[0.5555555555555556,\"#d8576b\"],[0.6666666666666666,\"#ed7953\"],[0.7777777777777778,\"#fb9f3a\"],[0.8888888888888888,\"#fdca26\"],[1.0,\"#f0f921\"]],\"sequentialminus\":[[0.0,\"#0d0887\"],[0.1111111111111111,\"#46039f\"],[0.2222222222222222,\"#7201a8\"],[0.3333333333333333,\"#9c179e\"],[0.4444444444444444,\"#bd3786\"],[0.5555555555555556,\"#d8576b\"],[0.6666666666666666,\"#ed7953\"],[0.7777777777777778,\"#fb9f3a\"],[0.8888888888888888,\"#fdca26\"],[1.0,\"#f0f921\"]],\"diverging\":[[0,\"#8e0152\"],[0.1,\"#c51b7d\"],[0.2,\"#de77ae\"],[0.3,\"#f1b6da\"],[0.4,\"#fde0ef\"],[0.5,\"#f7f7f7\"],[0.6,\"#e6f5d0\"],[0.7,\"#b8e186\"],[0.8,\"#7fbc41\"],[0.9,\"#4d9221\"],[1,\"#276419\"]]},\"xaxis\":{\"gridcolor\":\"white\",\"linecolor\":\"white\",\"ticks\":\"\",\"title\":{\"standoff\":15},\"zerolinecolor\":\"white\",\"automargin\":true,\"zerolinewidth\":2},\"yaxis\":{\"gridcolor\":\"white\",\"linecolor\":\"white\",\"ticks\":\"\",\"title\":{\"standoff\":15},\"zerolinecolor\":\"white\",\"automargin\":true,\"zerolinewidth\":2},\"scene\":{\"xaxis\":{\"backgroundcolor\":\"#E5ECF6\",\"gridcolor\":\"white\",\"linecolor\":\"white\",\"showbackground\":true,\"ticks\":\"\",\"zerolinecolor\":\"white\",\"gridwidth\":2},\"yaxis\":{\"backgroundcolor\":\"#E5ECF6\",\"gridcolor\":\"white\",\"linecolor\":\"white\",\"showbackground\":true,\"ticks\":\"\",\"zerolinecolor\":\"white\",\"gridwidth\":2},\"zaxis\":{\"backgroundcolor\":\"#E5ECF6\",\"gridcolor\":\"white\",\"linecolor\":\"white\",\"showbackground\":true,\"ticks\":\"\",\"zerolinecolor\":\"white\",\"gridwidth\":2}},\"shapedefaults\":{\"line\":{\"color\":\"#2a3f5f\"}},\"annotationdefaults\":{\"arrowcolor\":\"#2a3f5f\",\"arrowhead\":0,\"arrowwidth\":1},\"geo\":{\"bgcolor\":\"white\",\"landcolor\":\"#E5ECF6\",\"subunitcolor\":\"white\",\"showland\":true,\"showlakes\":true,\"lakecolor\":\"white\"},\"title\":{\"x\":0.05},\"mapbox\":{\"style\":\"light\"}}},\"scene\":{\"domain\":{\"x\":[0.0,1.0],\"y\":[0.0,1.0]},\"xaxis\":{\"title\":{\"text\":\"x\"}},\"yaxis\":{\"title\":{\"text\":\"y\"}},\"zaxis\":{\"title\":{\"text\":\"z\"}}},\"legend\":{\"title\":{\"text\":\"label\"},\"tracegroupgap\":0},\"margin\":{\"t\":60}},                        {\"responsive\": true}                    ).then(function(){\n",
       "                            \n",
       "var gd = document.getElementById('3fb497a7-0186-4633-bc7b-1f1df8b8a807');\n",
       "var x = new MutationObserver(function (mutations, observer) {{\n",
       "        var display = window.getComputedStyle(gd).display;\n",
       "        if (!display || display === 'none') {{\n",
       "            console.log([gd, 'removed!']);\n",
       "            Plotly.purge(gd);\n",
       "            observer.disconnect();\n",
       "        }}\n",
       "}});\n",
       "\n",
       "// Listen for the removal of the full notebook cells\n",
       "var notebookContainer = gd.closest('#notebook-container');\n",
       "if (notebookContainer) {{\n",
       "    x.observe(notebookContainer, {childList: true});\n",
       "}}\n",
       "\n",
       "// Listen for the clearing of the current output cell\n",
       "var outputEl = gd.closest('.output');\n",
       "if (outputEl) {{\n",
       "    x.observe(outputEl, {childList: true});\n",
       "}}\n",
       "\n",
       "                        })                };                });            </script>        </div>"
      ]
     },
     "metadata": {},
     "output_type": "display_data"
    }
   ],
   "execution_count": 33
  },
  {
   "metadata": {},
   "cell_type": "code",
   "outputs": [],
   "execution_count": null,
   "source": "",
   "id": "1d38ee96354d31c1"
  }
 ],
 "metadata": {
  "kernelspec": {
   "display_name": "Python 3",
   "language": "python",
   "name": "python3"
  },
  "language_info": {
   "codemirror_mode": {
    "name": "ipython",
    "version": 2
   },
   "file_extension": ".py",
   "mimetype": "text/x-python",
   "name": "python",
   "nbconvert_exporter": "python",
   "pygments_lexer": "ipython2",
   "version": "2.7.6"
  }
 },
 "nbformat": 4,
 "nbformat_minor": 5
}
