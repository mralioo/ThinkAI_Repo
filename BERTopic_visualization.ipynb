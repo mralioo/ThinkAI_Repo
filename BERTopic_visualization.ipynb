{
 "cells": [
  {
   "cell_type": "code",
   "execution_count": 1,
   "id": "initial_id",
   "metadata": {
    "ExecuteTime": {
     "end_time": "2024-08-06T16:15:00.377318Z",
     "start_time": "2024-08-06T16:14:59.774337Z"
    },
    "collapsed": true
   },
   "outputs": [],
   "source": [
    "import os\n",
    "import json \n",
    "import pandas as pd\n",
    "import numpy as np"
   ]
  },
  {
   "cell_type": "code",
   "execution_count": 2,
   "id": "29721d225d92c2d7",
   "metadata": {
    "ExecuteTime": {
     "end_time": "2024-08-06T16:15:00.393325Z",
     "start_time": "2024-08-06T16:15:00.379313Z"
    }
   },
   "outputs": [],
   "source": [
    "# Load the data from json \n",
    "file_path = os.path.join(os.getcwd(),'ThinkAI_Repo', 'card_details.json')  # for local testing\n",
    "#file_path = '/teamspace/studios/this_studio/ThinkAI_Repo/card_details.json'\n",
    "with open(file_path, 'r') as f:\n",
    "    data = json.load(f)"
   ]
  },
  {
   "cell_type": "markdown",
   "id": "c34fd206",
   "metadata": {},
   "source": [
    "# Load scrapped data from Ideenplattform "
   ]
  },
  {
   "cell_type": "code",
   "execution_count": 3,
   "id": "29ab274761e44eaa",
   "metadata": {
    "ExecuteTime": {
     "end_time": "2024-08-06T16:25:31.482668Z",
     "start_time": "2024-08-06T16:25:31.463672Z"
    }
   },
   "outputs": [],
   "source": [
    "# Convert the data to a pandas dataframe\n",
    "raw_data_df = pd.DataFrame(data)"
   ]
  },
  {
   "cell_type": "code",
   "execution_count": 4,
   "id": "5e75325cfea0af7f",
   "metadata": {
    "ExecuteTime": {
     "end_time": "2024-08-06T19:45:46.717379Z",
     "start_time": "2024-08-06T19:45:46.665381Z"
    }
   },
   "outputs": [
    {
     "data": {
      "text/html": [
       "<div>\n",
       "<style scoped>\n",
       "    .dataframe tbody tr th:only-of-type {\n",
       "        vertical-align: middle;\n",
       "    }\n",
       "\n",
       "    .dataframe tbody tr th {\n",
       "        vertical-align: top;\n",
       "    }\n",
       "\n",
       "    .dataframe thead th {\n",
       "        text-align: right;\n",
       "    }\n",
       "</style>\n",
       "<table border=\"1\" class=\"dataframe\">\n",
       "  <thead>\n",
       "    <tr style=\"text-align: right;\">\n",
       "      <th></th>\n",
       "      <th>title</th>\n",
       "      <th>description</th>\n",
       "      <th>status</th>\n",
       "      <th>tag</th>\n",
       "      <th>vote</th>\n",
       "    </tr>\n",
       "  </thead>\n",
       "  <tbody>\n",
       "    <tr>\n",
       "      <th>0</th>\n",
       "      <td>Verkehrsberuhigter Bereich Holwedestraße</td>\n",
       "      <td>In der Holwedestraße ist der Verkehr viel zu s...</td>\n",
       "      <td>Umgesetzt</td>\n",
       "      <td>Verkehr</td>\n",
       "      <td>12 von 50</td>\n",
       "    </tr>\n",
       "    <tr>\n",
       "      <th>1</th>\n",
       "      <td>Sicherer Schulweg Querum</td>\n",
       "      <td>Eichhahnweg bis Wabenkamp Einbahnstrasse .Nur ...</td>\n",
       "      <td>Abgelehnt</td>\n",
       "      <td>Verkehr</td>\n",
       "      <td>0 von 50</td>\n",
       "    </tr>\n",
       "    <tr>\n",
       "      <th>2</th>\n",
       "      <td>Wickelboard auf städtischen Spielplätzen</td>\n",
       "      <td>Liebe MitarbeiterInnen der Stadt Braunschweig,...</td>\n",
       "      <td>Die Idee wird den politischen Gremien zur Ents...</td>\n",
       "      <td>Stadtgrün und Umwelt</td>\n",
       "      <td>50 von 50</td>\n",
       "    </tr>\n",
       "    <tr>\n",
       "      <th>3</th>\n",
       "      <td>Neugestaltung WOLLMARKT</td>\n",
       "      <td>Der Starkregen 2023 hat mal wieder verdeutlich...</td>\n",
       "      <td>Zeitraum für Stimmabgabe überschritten</td>\n",
       "      <td>Stadtgrün und Umwelt</td>\n",
       "      <td>19 von 50</td>\n",
       "    </tr>\n",
       "    <tr>\n",
       "      <th>4</th>\n",
       "      <td>Dauerhafte Begrünung des Schlossplatzes und Pl...</td>\n",
       "      <td>Der Schlossplatz und der Platz der Deutschen E...</td>\n",
       "      <td>Zeitraum für Stimmabgabe überschritten</td>\n",
       "      <td>Stadtgrün und Umwelt</td>\n",
       "      <td>27 von 50</td>\n",
       "    </tr>\n",
       "  </tbody>\n",
       "</table>\n",
       "</div>"
      ],
      "text/plain": [
       "                                               title  \\\n",
       "0           Verkehrsberuhigter Bereich Holwedestraße   \n",
       "1                           Sicherer Schulweg Querum   \n",
       "2           Wickelboard auf städtischen Spielplätzen   \n",
       "3                            Neugestaltung WOLLMARKT   \n",
       "4  Dauerhafte Begrünung des Schlossplatzes und Pl...   \n",
       "\n",
       "                                         description  \\\n",
       "0  In der Holwedestraße ist der Verkehr viel zu s...   \n",
       "1  Eichhahnweg bis Wabenkamp Einbahnstrasse .Nur ...   \n",
       "2  Liebe MitarbeiterInnen der Stadt Braunschweig,...   \n",
       "3  Der Starkregen 2023 hat mal wieder verdeutlich...   \n",
       "4  Der Schlossplatz und der Platz der Deutschen E...   \n",
       "\n",
       "                                              status                   tag  \\\n",
       "0                                          Umgesetzt               Verkehr   \n",
       "1                                          Abgelehnt               Verkehr   \n",
       "2  Die Idee wird den politischen Gremien zur Ents...  Stadtgrün und Umwelt   \n",
       "3             Zeitraum für Stimmabgabe überschritten  Stadtgrün und Umwelt   \n",
       "4             Zeitraum für Stimmabgabe überschritten  Stadtgrün und Umwelt   \n",
       "\n",
       "        vote  \n",
       "0  12 von 50  \n",
       "1   0 von 50  \n",
       "2  50 von 50  \n",
       "3  19 von 50  \n",
       "4  27 von 50  "
      ]
     },
     "execution_count": 4,
     "metadata": {},
     "output_type": "execute_result"
    }
   ],
   "source": [
    "raw_data_df.head()"
   ]
  },
  {
   "cell_type": "code",
   "execution_count": 5,
   "id": "aee4a31318d20712",
   "metadata": {
    "ExecuteTime": {
     "end_time": "2024-08-06T20:25:23.077413Z",
     "start_time": "2024-08-06T20:25:23.059415Z"
    }
   },
   "outputs": [],
   "source": [
    "tags = raw_data_df[\"tag\"].tolist()"
   ]
  },
  {
   "cell_type": "code",
   "execution_count": 49,
   "id": "27ac00f256ca8042",
   "metadata": {
    "ExecuteTime": {
     "end_time": "2024-08-06T16:15:14.213387Z",
     "start_time": "2024-08-06T16:15:14.194688Z"
    }
   },
   "outputs": [],
   "source": [
    "# 2. Define sentences to encode \n",
    "sentences = raw_data_df['description'].tolist()\n",
    "titles = raw_data_df['title'].tolist()"
   ]
  },
  {
   "cell_type": "markdown",
   "id": "dc2343f6",
   "metadata": {},
   "source": [
    "## Visualize  the data \n",
    "TODO"
   ]
  },
  {
   "cell_type": "code",
   "execution_count": null,
   "id": "b28ce2a3",
   "metadata": {},
   "outputs": [],
   "source": []
  },
  {
   "cell_type": "markdown",
   "id": "d3c71c5d",
   "metadata": {},
   "source": [
    "# SBERT with Transformer model "
   ]
  },
  {
   "cell_type": "code",
   "execution_count": null,
   "id": "626542c833dc3744",
   "metadata": {
    "ExecuteTime": {
     "end_time": "2024-08-06T16:15:10.303711Z",
     "start_time": "2024-08-06T16:15:03.067224Z"
    }
   },
   "outputs": [],
   "source": [
    "from sentence_transformers import SentenceTransformer\n",
    "\n",
    "# 1. Load a pretrained Sentence Transformer model\n",
    "model = SentenceTransformer(\"all-MiniLM-L6-v2\")\n",
    "model"
   ]
  },
  {
   "cell_type": "code",
   "execution_count": null,
   "id": "74bc963cbed8d70b",
   "metadata": {
    "ExecuteTime": {
     "end_time": "2024-08-06T16:15:28.881875Z",
     "start_time": "2024-08-06T16:15:15.686374Z"
    }
   },
   "outputs": [],
   "source": [
    "# 3. Calculate embeddings by calling model.encode()\n",
    "embeddings = model.encode(sentences)"
   ]
  },
  {
   "cell_type": "code",
   "execution_count": null,
   "id": "ee67c11630a94437",
   "metadata": {
    "ExecuteTime": {
     "end_time": "2024-08-06T16:16:09.986043Z",
     "start_time": "2024-08-06T16:16:09.978042Z"
    }
   },
   "outputs": [],
   "source": [
    "embeddings.shape"
   ]
  },
  {
   "cell_type": "markdown",
   "id": "28ba2626",
   "metadata": {},
   "source": [
    "## UMAP "
   ]
  },
  {
   "cell_type": "code",
   "execution_count": null,
   "id": "89cfa4bfa2163bd1",
   "metadata": {
    "ExecuteTime": {
     "end_time": "2024-08-06T16:21:30.059684Z",
     "start_time": "2024-08-06T16:21:22.455964Z"
    }
   },
   "outputs": [],
   "source": [
    "from umap import UMAP\n",
    "\n",
    "# Initialize UMAP model\n",
    "umap_model = UMAP(n_neighbors=15, n_components=2, min_dist=0.0, metric=\"cosine\")"
   ]
  },
  {
   "cell_type": "code",
   "execution_count": null,
   "id": "e11b1e4ee711d163",
   "metadata": {
    "ExecuteTime": {
     "end_time": "2024-08-06T16:21:47.185333Z",
     "start_time": "2024-08-06T16:21:35.248516Z"
    }
   },
   "outputs": [],
   "source": [
    "# Fit and transform the embeddings\n",
    "umap_embeddings = umap_model.fit_transform(embeddings)"
   ]
  },
  {
   "cell_type": "code",
   "execution_count": null,
   "id": "51cbd830a0f3f63f",
   "metadata": {
    "ExecuteTime": {
     "end_time": "2024-08-06T19:47:37.241620Z",
     "start_time": "2024-08-06T19:47:37.227622Z"
    }
   },
   "outputs": [],
   "source": [
    "titles = raw_data_df[\"title\"].tolist()"
   ]
  },
  {
   "cell_type": "code",
   "execution_count": null,
   "id": "42a0112cc2538bef",
   "metadata": {
    "ExecuteTime": {
     "end_time": "2024-08-06T20:20:18.068196Z",
     "start_time": "2024-08-06T20:20:18.055197Z"
    }
   },
   "outputs": [],
   "source": [
    "titles"
   ]
  },
  {
   "cell_type": "code",
   "execution_count": null,
   "id": "cd2b83f80ed6d2e7",
   "metadata": {
    "ExecuteTime": {
     "end_time": "2024-08-06T20:27:28.812106Z",
     "start_time": "2024-08-06T20:27:28.435132Z"
    }
   },
   "outputs": [],
   "source": [
    "# Create a dataframe for visualization\n",
    "import plotly.express as px\n",
    "import pandas as pd\n",
    "\n",
    "# Create a new column for hover data with truncated text\n",
    "umap_embeddings_df = pd.DataFrame(umap_embeddings, columns=[\"x\", \"y\"])\n",
    "umap_embeddings_df[\"hover_text\"] = titles\n",
    "umap_embeddings_df[\"label\"] = tags\n",
    "\n",
    "# Plotting using Plotly\n",
    "fig = px.scatter(umap_embeddings_df, x=\"x\", y=\"y\", color=\"label\", hover_data=[\"hover_text\"])\n",
    "fig.show()"
   ]
  },
  {
   "cell_type": "code",
   "execution_count": null,
   "id": "77f784291936c95",
   "metadata": {
    "ExecuteTime": {
     "end_time": "2024-08-06T20:28:41.073631Z",
     "start_time": "2024-08-06T20:28:37.954636Z"
    }
   },
   "outputs": [],
   "source": [
    "# Initialize UMAP model with n_components=3 for dimensionality reduction to 3 dimensions\n",
    "umap_model = UMAP(n_neighbors=10, n_components=3, min_dist=0.0, metric=\"cosine\")\n",
    "\n",
    "# Fit and transform the embeddings\n",
    "umap_embeddings = umap_model.fit_transform(embeddings)"
   ]
  },
  {
   "cell_type": "code",
   "execution_count": null,
   "id": "e81449b2c07e5fe8",
   "metadata": {
    "ExecuteTime": {
     "end_time": "2024-08-06T20:29:22.636516Z",
     "start_time": "2024-08-06T20:29:22.470496Z"
    }
   },
   "outputs": [],
   "source": [
    "# Create a dataframe for visualization\n",
    "import plotly.express as px\n",
    "import pandas as pd\n",
    "\n",
    "# Create a new column for hover data with truncated text\n",
    "umap_embeddings_df = pd.DataFrame(umap_embeddings, columns=[\"x\", \"y\", \"z\"])\n",
    "umap_embeddings_df[\"hover_text\"] = titles\n",
    "umap_embeddings_df[\"label\"] = tags\n",
    "\n",
    "# Plotting using scatter_3d instead of scatter with extra \"z\" argument\n",
    "fig = px.scatter_3d(umap_embeddings_df, x=\"x\", y=\"y\", z=\"z\", color=\"label\", hover_data=[\"hover_text\"])\n",
    "fig.show()"
   ]
  },
  {
   "cell_type": "markdown",
   "id": "b34713e0",
   "metadata": {},
   "source": [
    "## Topic Modeling with BERTopic \n",
    "\n",
    "ref : https://www.kaggle.com/code/johannareiml/intuitions-about-bertopic#Installing-BERTopic\n",
    "\n",
    "tune BERTopic : https://maartengr.github.io/BERTopic/getting_started/parameter%20tuning/parametertuning.html"
   ]
  },
  {
   "cell_type": "code",
   "execution_count": null,
   "id": "1d38ee96354d31c1",
   "metadata": {},
   "outputs": [],
   "source": [
    "from nltk.corpus import stopwords\n",
    "from bertopic import BERTopic\n",
    "from sklearn.feature_extraction.text import CountVectorizer"
   ]
  },
  {
   "cell_type": "code",
   "execution_count": 71,
   "id": "242cf85d",
   "metadata": {},
   "outputs": [
    {
     "name": "stderr",
     "output_type": "stream",
     "text": [
      "huggingface/tokenizers: The current process just got forked, after parallelism has already been used. Disabling parallelism to avoid deadlocks...\n",
      "To disable this warning, you can either:\n",
      "\t- Avoid using `tokenizers` before the fork if possible\n",
      "\t- Explicitly set the environment variable TOKENIZERS_PARALLELISM=(true | false)\n"
     ]
    },
    {
     "name": "stdout",
     "output_type": "stream",
     "text": [
      "Collecting stop-words\n",
      "  Downloading stop-words-2018.7.23.tar.gz (31 kB)\n",
      "  Preparing metadata (setup.py) ... \u001b[?25ldone\n",
      "\u001b[?25hBuilding wheels for collected packages: stop-words\n",
      "  Building wheel for stop-words (setup.py) ... \u001b[?25ldone\n",
      "\u001b[?25h  Created wheel for stop-words: filename=stop_words-2018.7.23-py3-none-any.whl size=32895 sha256=680fd272242df51c43af854f8fe332e52b43e9fd4b39ddc107dc8bbcf87c3a3c\n",
      "  Stored in directory: /teamspace/studios/this_studio/.cache/pip/wheels/d0/1a/23/f12552a50cb09bcc1694a5ebb6c2cd5f2a0311de2b8c3d9a89\n",
      "Successfully built stop-words\n",
      "Installing collected packages: stop-words\n",
      "Successfully installed stop-words-2018.7.23\n",
      "\n",
      "\u001b[1m[\u001b[0m\u001b[34;49mnotice\u001b[0m\u001b[1;39;49m]\u001b[0m\u001b[39;49m A new release of pip is available: \u001b[0m\u001b[31;49m24.1.2\u001b[0m\u001b[39;49m -> \u001b[0m\u001b[32;49m24.2\u001b[0m\n",
      "\u001b[1m[\u001b[0m\u001b[34;49mnotice\u001b[0m\u001b[1;39;49m]\u001b[0m\u001b[39;49m To update, run: \u001b[0m\u001b[32;49mpip install --upgrade pip\u001b[0m\n"
     ]
    }
   ],
   "source": [
    "!pip install stop-words"
   ]
  },
  {
   "cell_type": "code",
   "execution_count": null,
   "id": "2466af0b",
   "metadata": {},
   "outputs": [],
   "source": [
    "import nltk\n",
    "nltk.download('stopwords')"
   ]
  },
  {
   "cell_type": "code",
   "execution_count": null,
   "id": "d6a51f9f",
   "metadata": {},
   "outputs": [],
   "source": [
    "from bertopic.backend import languages\n",
    "print(languages)"
   ]
  },
  {
   "cell_type": "code",
   "execution_count": 72,
   "id": "a1d4be4a",
   "metadata": {},
   "outputs": [],
   "source": [
    "from stop_words import get_stop_words\n",
    "\n",
    "stop_words = get_stop_words('de')"
   ]
  },
  {
   "cell_type": "code",
   "execution_count": null,
   "id": "925568df",
   "metadata": {},
   "outputs": [],
   "source": [
    "# count vectorizer is for turning documents into words. stop words refer to common tokens like \"the\" or \"a\"\n",
    "\n",
    "german_stop_words = stopwords.words('german')\n",
    "from stop_words import get_stop_words\n",
    "\n",
    "stop_words = get_stop_words('de')\n",
    "\n",
    "vectorizer_model = CountVectorizer(stop_words = stop_words)\n",
    "topic_model = BERTopic(vectorizer_model=vectorizer_model,\n",
    "                       language=\"german\",\n",
    "                       top_n_words= 20,\n",
    "                       n_gram_range= (1, 1),\n",
    "                       min_topic_size= 2,\n",
    "                       nr_topics= None,\n",
    "                       verbose=True)"
   ]
  },
  {
   "cell_type": "code",
   "execution_count": null,
   "id": "29c3b4c9",
   "metadata": {},
   "outputs": [],
   "source": [
    "topic_model.fit(sentences)"
   ]
  },
  {
   "cell_type": "code",
   "execution_count": null,
   "id": "f6c812c0",
   "metadata": {},
   "outputs": [],
   "source": [
    "topics_df = topic_model.get_topic_info()\n",
    "topics_df"
   ]
  },
  {
   "cell_type": "code",
   "execution_count": null,
   "id": "ef1727db",
   "metadata": {},
   "outputs": [],
   "source": [
    "topic_model.topics_"
   ]
  },
  {
   "cell_type": "code",
   "execution_count": null,
   "id": "d599807d",
   "metadata": {},
   "outputs": [],
   "source": [
    "import pprint\n",
    "pp = pprint.PrettyPrinter(indent=4)\n",
    "\n",
    "n_examples = 10\n",
    "example_docs = sentences[:n_examples]\n",
    "example_tags = tags[:n_examples]\n",
    "example_docs_topic_id = topic_model.topics_[:n_examples]\n",
    "\n",
    "for doc, label, topic_id in zip(example_docs,example_tags, example_docs_topic_id):\n",
    "    topic = topic_model.topic_labels_[topic_id]\n",
    "    print(\"-----------------------\")\n",
    "    print(topic)\n",
    "    print(f\"tages : {label}\")\n",
    "\n",
    "    print(\"\\n\")\n",
    "    pp.pprint(doc)\n",
    "    print(\"-----------------------\")"
   ]
  },
  {
   "cell_type": "code",
   "execution_count": null,
   "id": "357e9e9e",
   "metadata": {},
   "outputs": [],
   "source": [
    "topic_model.visualize_topics()"
   ]
  },
  {
   "cell_type": "code",
   "execution_count": null,
   "id": "5a231c3d",
   "metadata": {},
   "outputs": [],
   "source": [
    "topic_model.visualize_hierarchy()"
   ]
  },
  {
   "cell_type": "code",
   "execution_count": null,
   "id": "f53d14ff",
   "metadata": {},
   "outputs": [],
   "source": [
    "topic_model.visualize_barchart(top_n_topics=20)"
   ]
  },
  {
   "attachments": {
    "image.png": {
     "image/png": "[encoded data removed]"
    }
   },
   "cell_type": "markdown",
   "id": "249f9631",
   "metadata": {},
   "source": [
    "## Topic Modeling with Llama2\n",
    "\n",
    "ref : https://colab.research.google.com/drive/1QCERSMUjqGetGGujdrvv_6_EeoIcd_9M?usp=sharing\n",
    "https://github.com/MaartenGr/BERTopic/tree/master\n",
    "\n",
    "\n",
    "![image.png](attachment:image.png)"
   ]
  },
  {
   "cell_type": "code",
   "execution_count": null,
   "id": "4b489ec8",
   "metadata": {},
   "outputs": [],
   "source": [
    "%%capture\n",
    "!pip install accelerate bitsandbytes xformers adjustText"
   ]
  },
  {
   "cell_type": "markdown",
   "id": "9d22284f",
   "metadata": {},
   "source": []
  },
  {
   "cell_type": "code",
   "execution_count": 11,
   "id": "82cc6155",
   "metadata": {},
   "outputs": [
    {
     "data": {
      "application/vnd.jupyter.widget-view+json": {
       "model_id": "666b538c8cd84336b83eec78527ef9f4",
       "version_major": 2,
       "version_minor": 0
      },
      "text/plain": [
       "VBox(children=(HTML(value='<center> <img\\nsrc=https://huggingface.co/front/assets/huggingface_logo-noborder.sv…"
      ]
     },
     "metadata": {},
     "output_type": "display_data"
    }
   ],
   "source": [
    "from huggingface_hub import notebook_login\n",
    "notebook_login()"
   ]
  },
  {
   "cell_type": "code",
   "execution_count": 8,
   "id": "caacc2dc",
   "metadata": {},
   "outputs": [
    {
     "name": "stdout",
     "output_type": "stream",
     "text": [
      "cuda:0\n"
     ]
    }
   ],
   "source": [
    "# Llama 2\n",
    "from torch import cuda\n",
    "\n",
    "model_id = 'meta-llama/Llama-2-7b-chat-hf'\n",
    "device = f'cuda:{cuda.current_device()}' if cuda.is_available() else 'cpu'\n",
    "\n",
    "print(device)"
   ]
  },
  {
   "cell_type": "markdown",
   "id": "6df20eac",
   "metadata": {},
   "source": [
    "### Optimization and Quantization\n",
    "\n",
    "In order to load our 13 billion parameter model, we will need to perform some optimization tricks. Since we have limited VRAM and not an A100 GPU, we will need to \"condense\" the model a bit so that we can run it.\n",
    "\n",
    "There are a number of tricks that we can use but the main principle is going to be 4-bit quantization.\n",
    "\n",
    "This process reduces the 64-bit representation to only 4-bits which reduces the GPU memory that we will need. It is a recent technique and quite an elegant at that for efficient LLM loading and usage. You can find more about that method here in the QLoRA paper and on the amazing HuggingFace blog here."
   ]
  },
  {
   "cell_type": "code",
   "execution_count": 12,
   "id": "fe053acd",
   "metadata": {},
   "outputs": [],
   "source": [
    "from torch import bfloat16\n",
    "import transformers\n",
    "\n",
    "# set quantization configuration to load large model with less GPU memory\n",
    "# this requires the `bitsandbytes` library\n",
    "\n",
    "bnb_config = transformers.BitsAndBytesConfig(\n",
    "    load_in_4bit=True,  # 4-bit quantization\n",
    "    bnb_4bit_quant_type='nf4',  # Normalized float 4\n",
    "    bnb_4bit_use_double_quant=True,  # Second quantization after the first\n",
    "    bnb_4bit_compute_dtype=bfloat16  # Computation type\n",
    ")"
   ]
  },
  {
   "cell_type": "code",
   "execution_count": 13,
   "id": "7a6a6069",
   "metadata": {},
   "outputs": [
    {
     "data": {
      "application/vnd.jupyter.widget-view+json": {
       "model_id": "d3851a59e6964d659d7aed01ac6b8926",
       "version_major": 2,
       "version_minor": 0
      },
      "text/plain": [
       "tokenizer_config.json:   0%|          | 0.00/1.62k [00:00<?, ?B/s]"
      ]
     },
     "metadata": {},
     "output_type": "display_data"
    },
    {
     "data": {
      "application/vnd.jupyter.widget-view+json": {
       "model_id": "1b4212ae0486463fba8eda1d0872be0f",
       "version_major": 2,
       "version_minor": 0
      },
      "text/plain": [
       "tokenizer.model:   0%|          | 0.00/500k [00:00<?, ?B/s]"
      ]
     },
     "metadata": {},
     "output_type": "display_data"
    },
    {
     "data": {
      "application/vnd.jupyter.widget-view+json": {
       "model_id": "ab35343b720c45858976d43fc3ad7fc3",
       "version_major": 2,
       "version_minor": 0
      },
      "text/plain": [
       "tokenizer.json:   0%|          | 0.00/1.84M [00:00<?, ?B/s]"
      ]
     },
     "metadata": {},
     "output_type": "display_data"
    },
    {
     "data": {
      "application/vnd.jupyter.widget-view+json": {
       "model_id": "3314cf71920f45779a5f99ead773514f",
       "version_major": 2,
       "version_minor": 0
      },
      "text/plain": [
       "special_tokens_map.json:   0%|          | 0.00/414 [00:00<?, ?B/s]"
      ]
     },
     "metadata": {},
     "output_type": "display_data"
    },
    {
     "data": {
      "application/vnd.jupyter.widget-view+json": {
       "model_id": "f9143233c9574fb1a95b7def0affa402",
       "version_major": 2,
       "version_minor": 0
      },
      "text/plain": [
       "config.json:   0%|          | 0.00/614 [00:00<?, ?B/s]"
      ]
     },
     "metadata": {},
     "output_type": "display_data"
    },
    {
     "data": {
      "application/vnd.jupyter.widget-view+json": {
       "model_id": "75abcab5d2634dac91b24e8e6049538d",
       "version_major": 2,
       "version_minor": 0
      },
      "text/plain": [
       "model.safetensors.index.json:   0%|          | 0.00/26.8k [00:00<?, ?B/s]"
      ]
     },
     "metadata": {},
     "output_type": "display_data"
    },
    {
     "data": {
      "application/vnd.jupyter.widget-view+json": {
       "model_id": "b44391761eb44317a888128818705610",
       "version_major": 2,
       "version_minor": 0
      },
      "text/plain": [
       "Downloading shards:   0%|          | 0/2 [00:00<?, ?it/s]"
      ]
     },
     "metadata": {},
     "output_type": "display_data"
    },
    {
     "data": {
      "application/vnd.jupyter.widget-view+json": {
       "model_id": "018ab5e7eb594c279e8570f9212206d3",
       "version_major": 2,
       "version_minor": 0
      },
      "text/plain": [
       "model-00001-of-00002.safetensors:   0%|          | 0.00/9.98G [00:00<?, ?B/s]"
      ]
     },
     "metadata": {},
     "output_type": "display_data"
    },
    {
     "data": {
      "application/vnd.jupyter.widget-view+json": {
       "model_id": "69fb3a4c8d0f49909204e51adab83000",
       "version_major": 2,
       "version_minor": 0
      },
      "text/plain": [
       "model-00002-of-00002.safetensors:   0%|          | 0.00/3.50G [00:00<?, ?B/s]"
      ]
     },
     "metadata": {},
     "output_type": "display_data"
    },
    {
     "data": {
      "application/vnd.jupyter.widget-view+json": {
       "model_id": "782a3e581cc543ae8fc2906ab6471cab",
       "version_major": 2,
       "version_minor": 0
      },
      "text/plain": [
       "Loading checkpoint shards:   0%|          | 0/2 [00:00<?, ?it/s]"
      ]
     },
     "metadata": {},
     "output_type": "display_data"
    },
    {
     "data": {
      "application/vnd.jupyter.widget-view+json": {
       "model_id": "680a5b30950646c7a90b88f2a8f0d7f4",
       "version_major": 2,
       "version_minor": 0
      },
      "text/plain": [
       "generation_config.json:   0%|          | 0.00/188 [00:00<?, ?B/s]"
      ]
     },
     "metadata": {},
     "output_type": "display_data"
    },
    {
     "data": {
      "text/plain": [
       "LlamaForCausalLM(\n",
       "  (model): LlamaModel(\n",
       "    (embed_tokens): Embedding(32000, 4096)\n",
       "    (layers): ModuleList(\n",
       "      (0-31): 32 x LlamaDecoderLayer(\n",
       "        (self_attn): LlamaSdpaAttention(\n",
       "          (q_proj): Linear4bit(in_features=4096, out_features=4096, bias=False)\n",
       "          (k_proj): Linear4bit(in_features=4096, out_features=4096, bias=False)\n",
       "          (v_proj): Linear4bit(in_features=4096, out_features=4096, bias=False)\n",
       "          (o_proj): Linear4bit(in_features=4096, out_features=4096, bias=False)\n",
       "          (rotary_emb): LlamaRotaryEmbedding()\n",
       "        )\n",
       "        (mlp): LlamaMLP(\n",
       "          (gate_proj): Linear4bit(in_features=4096, out_features=11008, bias=False)\n",
       "          (up_proj): Linear4bit(in_features=4096, out_features=11008, bias=False)\n",
       "          (down_proj): Linear4bit(in_features=11008, out_features=4096, bias=False)\n",
       "          (act_fn): SiLU()\n",
       "        )\n",
       "        (input_layernorm): LlamaRMSNorm((4096,), eps=1e-05)\n",
       "        (post_attention_layernorm): LlamaRMSNorm((4096,), eps=1e-05)\n",
       "      )\n",
       "    )\n",
       "    (norm): LlamaRMSNorm((4096,), eps=1e-05)\n",
       "    (rotary_emb): LlamaRotaryEmbedding()\n",
       "  )\n",
       "  (lm_head): Linear(in_features=4096, out_features=32000, bias=False)\n",
       ")"
      ]
     },
     "execution_count": 13,
     "metadata": {},
     "output_type": "execute_result"
    }
   ],
   "source": [
    "# Llama 2 Tokenizer\n",
    "tokenizer = transformers.AutoTokenizer.from_pretrained(model_id)\n",
    "\n",
    "# Llama 2 Model\n",
    "model = transformers.AutoModelForCausalLM.from_pretrained(\n",
    "    model_id,\n",
    "    trust_remote_code=True,\n",
    "    quantization_config=bnb_config,\n",
    "    device_map='auto',\n",
    ")\n",
    "model.eval()"
   ]
  },
  {
   "cell_type": "code",
   "execution_count": 8,
   "id": "7d8c35fe",
   "metadata": {},
   "outputs": [
    {
     "name": "stdout",
     "output_type": "stream",
     "text": [
      "Torch version: 2.4.0+cu121\n",
      "Torchvision version: 0.19.0+cu121\n"
     ]
    }
   ],
   "source": [
    "import torch\n",
    "import torchvision\n",
    "\n",
    "print(\"Torch version:\", torch.__version__)\n",
    "print(\"Torchvision version:\", torchvision.__version__)"
   ]
  },
  {
   "cell_type": "markdown",
   "id": "1c6d5282",
   "metadata": {},
   "source": [
    "### Llama 2 for BERTopic\n",
    "Before we can start with topic modeling, we will first need to perform two steps:\n",
    "\n",
    "* Pre-calculating Embeddings\n",
    "\n",
    "* Defining Sub-models"
   ]
  },
  {
   "cell_type": "code",
   "execution_count": 19,
   "id": "fd287d2d",
   "metadata": {},
   "outputs": [
    {
     "name": "stderr",
     "output_type": "stream",
     "text": [
      "No sentence-transformers model found with name aari1995/German_Semantic_STS_V2. Creating a new one with mean pooling.\n"
     ]
    },
    {
     "data": {
      "application/vnd.jupyter.widget-view+json": {
       "model_id": "7303cd8b58d849f882bf6aa1c5287b5d",
       "version_major": 2,
       "version_minor": 0
      },
      "text/plain": [
       "Batches:   0%|          | 0/5 [00:00<?, ?it/s]"
      ]
     },
     "metadata": {},
     "output_type": "display_data"
    }
   ],
   "source": [
    "from sentence_transformers import SentenceTransformer\n",
    "\n",
    "# 1. Pre-calculate embeddings\n",
    "embedding_model = SentenceTransformer('aari1995/German_Semantic_STS_V2')\n",
    "embeddings = embedding_model.encode(sentences, show_progress_bar=True)"
   ]
  },
  {
   "cell_type": "code",
   "execution_count": 51,
   "id": "1cf067b8",
   "metadata": {},
   "outputs": [],
   "source": [
    "# 2. Sub-models (UMAP and HDBSCAN)\n",
    "from umap import UMAP\n",
    "from hdbscan import HDBSCAN\n",
    "\n",
    "umap_model = UMAP(n_neighbors=5, n_components=5, min_dist=0.0, metric='cosine', random_state=42) # Tune\n",
    "hdbscan_model = HDBSCAN(min_cluster_size=10, metric='euclidean', cluster_selection_method='eom', prediction_data=True) # Tune"
   ]
  },
  {
   "cell_type": "code",
   "execution_count": 36,
   "id": "16f8eb8a",
   "metadata": {},
   "outputs": [
    {
     "data": {
      "application/vnd.jupyter.widget-view+json": {
       "model_id": "5e52a160b104490a99352334cd917066",
       "version_major": 2,
       "version_minor": 0
      },
      "text/plain": [
       "Loading checkpoint shards:   0%|          | 0/2 [00:00<?, ?it/s]"
      ]
     },
     "metadata": {},
     "output_type": "display_data"
    }
   ],
   "source": [
    "# Using the model and tokenizer, we will generate a HuggingFace transformers pipeline that allows us to easily generate new text:\n",
    "\n",
    "# Llama 2 Tokenizer\n",
    "tokenizer = transformers.AutoTokenizer.from_pretrained(model_id)\n",
    "\n",
    "# Llama 2 Model\n",
    "model = transformers.AutoModelForCausalLM.from_pretrained(\n",
    "    model_id,\n",
    "    trust_remote_code=True,\n",
    "    quantization_config=bnb_config,\n",
    "    device_map='auto',\n",
    ")\n",
    "\n",
    "# Text Generation Pipeline\n",
    "\n",
    "generator = transformers.pipeline(\n",
    "    model=model, tokenizer=tokenizer,\n",
    "    task='text-generation',\n",
    "    temperature=0.1,\n",
    "    max_new_tokens=500,\n",
    "    repetition_penalty=1.1\n",
    ")"
   ]
  },
  {
   "cell_type": "markdown",
   "id": "6a5d44fc",
   "metadata": {},
   "source": [
    "### Prompt Template \n",
    "\n",
    "This template consists of two main components, namely the {{ System Prompt }} and the {{ User Prompt }}:\n",
    "\n",
    "* The {{ System Prompt }} helps us guide the model during a conversation. For example, we can say that it is a helpful assisant that is specialized in labeling topics.\n",
    "* The {{ User Prompt }} is where we ask it a question.\n",
    "\n",
    "You might have noticed the [INST] tags, these are used to identify the beginning and end of a prompt. We can use these to model the conversation history as we will see more in-depth later on.\n",
    "\n",
    "Next, let's see how we can use this template to optimize Llama 2 for topic modeling.\n",
    "\n",
    "\n",
    "There are two BERTopic-specific tags that are of interest, namely [DOCUMENTS] and [KEYWORDS]:\n",
    "\n",
    "* [DOCUMENTS] contain the top 5 most relevant documents to the topic\n",
    "* [KEYWORDS] contain the top 10 most relevant keywords to the topic as generated through c-TF-IDF\n",
    "\n",
    "This template will be filled accordingly to each topic. And finally, we can combine this into our final prompt:"
   ]
  },
  {
   "cell_type": "code",
   "execution_count": 37,
   "id": "1ed1f170",
   "metadata": {},
   "outputs": [],
   "source": [
    "# PRompt for the generator\n",
    "# System prompt describes information given to all conversations\n",
    "system_prompt = \"\"\"\n",
    "<s>[INST] <<SYS>>\n",
    "You are a helpful, respectful and honest assistant for labeling topics in german language.\n",
    "<</SYS>>\n",
    "\"\"\"\n",
    "\n",
    "# Example prompt demonstrating the output we are looking for\n",
    "example_prompt = \"\"\"\n",
    "I have a topic that contains the following documents:\n",
    "- Traditional diets in most cultures were primarily plant-based with a little meat on top, but with the rise of industrial style meat production and factory farming, meat has become a staple food.\n",
    "- Meat, but especially beef, is the word food in terms of emissions.\n",
    "- Eating meat doesn't make you a bad person, not eating meat doesn't make you a good one.\n",
    "\n",
    "The topic is described by the following keywords: 'meat, beef, eat, eating, emissions, steak, food, health, processed, chicken'.\n",
    "\n",
    "Based on the information about the topic above, please create a short label of this topic. Make sure you to only return the label and nothing more.\n",
    "\n",
    "[/INST] Environmental impacts of eating meat\n",
    "\"\"\"\n",
    "\n",
    "# Our main prompt with documents ([DOCUMENTS]) and keywords ([KEYWORDS]) tags\n",
    "main_prompt = \"\"\"\n",
    "[INST]\n",
    "I have a topic that contains the following documents:\n",
    "[DOCUMENTS]\n",
    "\n",
    "The topic is described by the following keywords: '[KEYWORDS]'.\n",
    "\n",
    "Based on the information about the topic above, please create a short label of this topic. Make sure you to only return the label and nothing more.\n",
    "[/INST]\n",
    "\"\"\"\n",
    "\n",
    "\n",
    "\n",
    "prompt = system_prompt + example_prompt + main_prompt"
   ]
  },
  {
   "cell_type": "code",
   "execution_count": 38,
   "id": "d37a9324",
   "metadata": {},
   "outputs": [],
   "source": [
    "# 3. Representation Models using c-TF-IDF\n",
    "\n",
    "from bertopic.representation import KeyBERTInspired, MaximalMarginalRelevance, TextGeneration\n",
    "\n",
    "# KeyBERT\n",
    "keybert = KeyBERTInspired()\n",
    "\n",
    "# MMR\n",
    "mmr = MaximalMarginalRelevance(diversity=0.3)\n",
    "\n",
    "# Text generation with Llama 2\n",
    "llama2 = TextGeneration(generator, prompt=prompt)\n",
    "\n",
    "# All representation models\n",
    "representation_model = {\n",
    "    \"KeyBERT\": keybert,\n",
    "    \"Llama2\": llama2,\n",
    "    \"MMR\": mmr,\n",
    "}"
   ]
  },
  {
   "cell_type": "markdown",
   "id": "dcee7836",
   "metadata": {},
   "source": [
    "#### Training \n",
    "\n",
    "Now that we have our models prepared, we can start training our topic model! We supply BERTopic with the sub-models of interest, run .fit_transform, and see what kind of topics we get."
   ]
  },
  {
   "cell_type": "code",
   "execution_count": 39,
   "id": "aabf0387",
   "metadata": {},
   "outputs": [
    {
     "data": {
      "text/plain": [
       "(130, 1024)"
      ]
     },
     "execution_count": 39,
     "metadata": {},
     "output_type": "execute_result"
    }
   ],
   "source": [
    "embeddings.shape"
   ]
  },
  {
   "cell_type": "code",
   "execution_count": 52,
   "id": "41389ed3",
   "metadata": {},
   "outputs": [],
   "source": [
    "# Pre-reduce embeddings for visualization purposes\n",
    "reduced_embeddings = UMAP(n_neighbors=10, n_components=2, min_dist=0.0, metric='cosine', random_state=42).fit_transform(embeddings)"
   ]
  },
  {
   "cell_type": "code",
   "execution_count": 53,
   "id": "54223ed3",
   "metadata": {},
   "outputs": [
    {
     "data": {
      "text/plain": [
       "{'KeyBERT': KeyBERTInspired(),\n",
       " 'Llama2': TextGeneration(model=<transformers.pipelines.text_generation.TextGenerationPipeline object at 0x7f3ace7f7040>,\n",
       "                prompt='\\n'\n",
       "                       '<s>[INST] <<SYS>>\\n'\n",
       "                       'You are a helpful, respectful and honest assistant for '\n",
       "                       'labeling topics in german language.\\n'\n",
       "                       '<</SYS>>\\n'\n",
       "                       '\\n'\n",
       "                       'I have a topic that contains the following documents:\\n'\n",
       "                       '- Traditional diets in most cultures were primarily '\n",
       "                       'plant-based with a l...\n",
       "                       'only return the label and nothing more.\\n'\n",
       "                       '\\n'\n",
       "                       '[/INST] Environmental impacts of eating meat\\n'\n",
       "                       '\\n'\n",
       "                       '[INST]\\n'\n",
       "                       'I have a topic that contains the following documents:\\n'\n",
       "                       '[DOCUMENTS]\\n'\n",
       "                       '\\n'\n",
       "                       'The topic is described by the following keywords: '\n",
       "                       \"'[KEYWORDS]'.\\n\"\n",
       "                       '\\n'\n",
       "                       'Based on the information about the topic above, please '\n",
       "                       'create a short label of this topic. Make sure you to '\n",
       "                       'only return the label and nothing more.\\n'\n",
       "                       '[/INST]\\n'),\n",
       " 'MMR': MaximalMarginalRelevance(diversity=0.3)}"
      ]
     },
     "execution_count": 53,
     "metadata": {},
     "output_type": "execute_result"
    }
   ],
   "source": [
    "representation_model"
   ]
  },
  {
   "cell_type": "code",
   "execution_count": 54,
   "id": "eaabac05",
   "metadata": {},
   "outputs": [
    {
     "data": {
      "text/plain": [
       "SentenceTransformer(\n",
       "  (0): Transformer({'max_seq_length': 512, 'do_lower_case': False}) with Transformer model: BertModel \n",
       "  (1): Pooling({'word_embedding_dimension': 1024, 'pooling_mode_cls_token': False, 'pooling_mode_mean_tokens': True, 'pooling_mode_max_tokens': False, 'pooling_mode_mean_sqrt_len_tokens': False, 'pooling_mode_weightedmean_tokens': False, 'pooling_mode_lasttoken': False, 'include_prompt': True})\n",
       ")"
      ]
     },
     "execution_count": 54,
     "metadata": {},
     "output_type": "execute_result"
    }
   ],
   "source": [
    "embedding_model"
   ]
  },
  {
   "cell_type": "code",
   "execution_count": 73,
   "id": "2f89dd58",
   "metadata": {},
   "outputs": [
    {
     "name": "stderr",
     "output_type": "stream",
     "text": [
      "2024-08-07 12:29:04,327 - BERTopic - Dimensionality - Fitting the dimensionality reduction algorithm\n",
      "2024-08-07 12:29:05,308 - BERTopic - Dimensionality - Completed ✓\n",
      "2024-08-07 12:29:05,309 - BERTopic - Cluster - Start clustering the reduced embeddings\n",
      "2024-08-07 12:29:05,316 - BERTopic - Cluster - Completed ✓\n",
      "2024-08-07 12:29:05,319 - BERTopic - Representation - Extracting topics from clusters using representation models.\n",
      "100%|██████████| 3/3 [00:28<00:00,  9.47s/it]\n",
      "2024-08-07 12:29:34,985 - BERTopic - Representation - Completed ✓\n"
     ]
    }
   ],
   "source": [
    "from bertopic import BERTopic\n",
    "\n",
    "topic_model = BERTopic(\n",
    "\n",
    "  # Sub-models\n",
    "  embedding_model=embedding_model,\n",
    "  umap_model=umap_model,\n",
    "  hdbscan_model=hdbscan_model,\n",
    "  representation_model=representation_model,\n",
    "\n",
    "  # Hyperparameters\n",
    "  top_n_words=5,\n",
    "  verbose=True\n",
    ")\n",
    "\n",
    "# Train model\n",
    "topics, probs = topic_model.fit_transform(sentences, embeddings)"
   ]
  },
  {
   "cell_type": "code",
   "execution_count": 74,
   "id": "2aea8ad2",
   "metadata": {},
   "outputs": [
    {
     "data": {
      "text/plain": [
       "(130,)"
      ]
     },
     "execution_count": 74,
     "metadata": {},
     "output_type": "execute_result"
    }
   ],
   "source": [
    "probs.shape"
   ]
  },
  {
   "cell_type": "code",
   "execution_count": 75,
   "id": "4c4cfa20",
   "metadata": {},
   "outputs": [
    {
     "data": {
      "text/html": [
       "<div>\n",
       "<style scoped>\n",
       "    .dataframe tbody tr th:only-of-type {\n",
       "        vertical-align: middle;\n",
       "    }\n",
       "\n",
       "    .dataframe tbody tr th {\n",
       "        vertical-align: top;\n",
       "    }\n",
       "\n",
       "    .dataframe thead th {\n",
       "        text-align: right;\n",
       "    }\n",
       "</style>\n",
       "<table border=\"1\" class=\"dataframe\">\n",
       "  <thead>\n",
       "    <tr style=\"text-align: right;\">\n",
       "      <th></th>\n",
       "      <th>Topic</th>\n",
       "      <th>Count</th>\n",
       "      <th>Name</th>\n",
       "      <th>Representation</th>\n",
       "      <th>KeyBERT</th>\n",
       "      <th>Llama2</th>\n",
       "      <th>MMR</th>\n",
       "      <th>Representative_Docs</th>\n",
       "    </tr>\n",
       "  </thead>\n",
       "  <tbody>\n",
       "    <tr>\n",
       "      <th>0</th>\n",
       "      <td>-1</td>\n",
       "      <td>85</td>\n",
       "      <td>-1_die_und_der_in</td>\n",
       "      <td>[die, und, der, in, zu]</td>\n",
       "      <td>[diese, die, sie, den, bereich, eine, bereits,...</td>\n",
       "      <td>[Family-Friendly Workplace, , , , , , , , , ]</td>\n",
       "      <td>[und, der, es, nicht, im, oder, sich, dass, si...</td>\n",
       "      <td>[Leider sind viele Frauen, die arbeiten, oft b...</td>\n",
       "    </tr>\n",
       "    <tr>\n",
       "      <th>1</th>\n",
       "      <td>0</td>\n",
       "      <td>26</td>\n",
       "      <td>0_der_die_und_zu</td>\n",
       "      <td>[der, die, und, zu, auf]</td>\n",
       "      <td>[radweg, fahrradfahrer, radfahrende, radfahrer...</td>\n",
       "      <td>[Traffic safety improvements in Braunschweig, ...</td>\n",
       "      <td>[der, zu, radfahrer, straße, nicht, radweg, da...</td>\n",
       "      <td>[Der Handelsweg ist eine der beliebtesten Stra...</td>\n",
       "    </tr>\n",
       "    <tr>\n",
       "      <th>2</th>\n",
       "      <td>1</td>\n",
       "      <td>19</td>\n",
       "      <td>1_die_und_der_für</td>\n",
       "      <td>[die, und, der, für, in]</td>\n",
       "      <td>[parkplätze, läden, parksituation, den, brauns...</td>\n",
       "      <td>[\"Braunschweig's Parking Crisis: Residents Dem...</td>\n",
       "      <td>[und, braunschweig, ist, im, stadt, nicht, den...</td>\n",
       "      <td>[Im Zuge der kontrovers diskutierten Grünfläch...</td>\n",
       "    </tr>\n",
       "  </tbody>\n",
       "</table>\n",
       "</div>"
      ],
      "text/plain": [
       "   Topic  Count               Name            Representation  \\\n",
       "0     -1     85  -1_die_und_der_in   [die, und, der, in, zu]   \n",
       "1      0     26   0_der_die_und_zu  [der, die, und, zu, auf]   \n",
       "2      1     19  1_die_und_der_für  [die, und, der, für, in]   \n",
       "\n",
       "                                             KeyBERT  \\\n",
       "0  [diese, die, sie, den, bereich, eine, bereits,...   \n",
       "1  [radweg, fahrradfahrer, radfahrende, radfahrer...   \n",
       "2  [parkplätze, läden, parksituation, den, brauns...   \n",
       "\n",
       "                                              Llama2  \\\n",
       "0      [Family-Friendly Workplace, , , , , , , , , ]   \n",
       "1  [Traffic safety improvements in Braunschweig, ...   \n",
       "2  [\"Braunschweig's Parking Crisis: Residents Dem...   \n",
       "\n",
       "                                                 MMR  \\\n",
       "0  [und, der, es, nicht, im, oder, sich, dass, si...   \n",
       "1  [der, zu, radfahrer, straße, nicht, radweg, da...   \n",
       "2  [und, braunschweig, ist, im, stadt, nicht, den...   \n",
       "\n",
       "                                 Representative_Docs  \n",
       "0  [Leider sind viele Frauen, die arbeiten, oft b...  \n",
       "1  [Der Handelsweg ist eine der beliebtesten Stra...  \n",
       "2  [Im Zuge der kontrovers diskutierten Grünfläch...  "
      ]
     },
     "execution_count": 75,
     "metadata": {},
     "output_type": "execute_result"
    }
   ],
   "source": [
    "# Show topics\n",
    "topic_model.get_topic_info()"
   ]
  },
  {
   "cell_type": "code",
   "execution_count": 76,
   "id": "2c1acc9e",
   "metadata": {},
   "outputs": [
    {
     "data": {
      "text/plain": [
       "[('parkplätze', 0.71909046),\n",
       " ('läden', 0.71827614),\n",
       " ('parksituation', 0.70290184),\n",
       " ('den', 0.69787866),\n",
       " ('braunschweig', 0.6968157),\n",
       " ('braunschweiger', 0.6961447),\n",
       " ('projekt', 0.6959363),\n",
       " ('die', 0.6913995),\n",
       " ('volmestraße', 0.68369013),\n",
       " ('einzelhandel', 0.6821361)]"
      ]
     },
     "execution_count": 76,
     "metadata": {},
     "output_type": "execute_result"
    }
   ],
   "source": [
    "topic_model.get_topic(1, full=True)[\"KeyBERT\"]"
   ]
  },
  {
   "cell_type": "code",
   "execution_count": 77,
   "id": "36838d99",
   "metadata": {},
   "outputs": [],
   "source": [
    "llama2_labels = [label[0][0].split(\"\\n\")[0] for label in topic_model.get_topics(full=True)[\"Llama2\"].values()]\n",
    "topic_model.set_topic_labels(llama2_labels)"
   ]
  },
  {
   "cell_type": "code",
   "execution_count": 78,
   "id": "2aa97e4c",
   "metadata": {},
   "outputs": [
    {
     "data": {
      "text/plain": [
       "['Family-Friendly Workplace',\n",
       " 'Traffic safety improvements in Braunschweig',\n",
       " '\"Braunschweig\\'s Parking Crisis: Residents Demand Solutions\"']"
      ]
     },
     "execution_count": 78,
     "metadata": {},
     "output_type": "execute_result"
    }
   ],
   "source": [
    "llama2_labels"
   ]
  },
  {
   "cell_type": "code",
   "execution_count": 79,
   "id": "459fdecf",
   "metadata": {},
   "outputs": [
    {
     "data": {
      "application/vnd.plotly.v1+json": {
       "config": {
        "plotlyServerURL": "https://plot.ly"
       },
       "data": [
        {
         "hoverinfo": "text",
         "marker": {
          "color": "#CFD8DC",
          "opacity": 0.5,
          "size": 5
         },
         "mode": "markers+text",
         "name": "other",
         "showlegend": false,
         "type": "scattergl",
         "x": [
          10.588622,
          10.771364,
          10.715965,
          7.631423,
          7.694537,
          10.930829,
          8.934022,
          9.733409,
          10.544985,
          11.087265,
          11.087357,
          12.292568,
          12.978439,
          7.6841702,
          11.757919,
          10.867145,
          9.077244,
          9.392413,
          10.092682,
          9.272556,
          7.6138105,
          11.173894,
          8.884513,
          8.653942,
          10.747384,
          8.157543,
          7.6426344,
          10.2210865,
          8.98202,
          11.937033,
          11.01324,
          8.456905,
          9.887806,
          9.227829,
          10.910477,
          8.846563,
          7.681462,
          10.053326,
          7.6131477,
          7.7656865,
          9.760819,
          10.780481,
          8.753461,
          10.891604,
          12.19904,
          8.727485,
          8.947828,
          11.243404,
          7.664294,
          8.57608,
          12.179741,
          11.811994,
          10.951716,
          10.06609,
          11.442324,
          9.590084,
          8.130122,
          7.604099,
          10.986434,
          8.873155,
          11.325826,
          11.004511,
          9.314088,
          7.6238656,
          11.422456,
          8.430749,
          12.878437,
          9.662667,
          9.965848,
          10.72158,
          10.355581,
          8.210682,
          10.6019745,
          10.81485,
          8.963113,
          10.865905,
          10.262545,
          10.928547,
          8.247197,
          8.86995,
          7.662249,
          12.377617,
          8.263111,
          7.58418,
          7.6334686
         ],
         "y": [
          12.306981,
          12.081163,
          8.615231,
          10.409902,
          9.216582,
          12.206617,
          11.307215,
          11.642454,
          11.294329,
          8.008343,
          11.249124,
          9.122243,
          8.129827,
          9.169791,
          9.192777,
          8.835461,
          9.774516,
          9.783535,
          10.564463,
          10.614395,
          11.154052,
          9.287612,
          11.263731,
          10.492787,
          8.382887,
          10.427509,
          11.432215,
          10.802076,
          10.276008,
          9.598739,
          8.069557,
          11.814603,
          11.252984,
          10.982931,
          9.355785,
          10.959747,
          9.122974,
          11.153019,
          11.431085,
          11.00293,
          10.242968,
          11.225541,
          11.373743,
          12.226119,
          9.289616,
          11.750349,
          10.284925,
          9.562339,
          11.163619,
          10.472014,
          9.401859,
          9.113244,
          12.23956,
          9.768102,
          9.64113,
          10.107234,
          11.373703,
          9.940773,
          8.042979,
          10.276483,
          7.8881087,
          9.697754,
          10.551826,
          9.217813,
          7.8922963,
          11.719627,
          8.073497,
          10.702502,
          9.746312,
          8.705619,
          8.966098,
          10.365528,
          11.45344,
          10.228512,
          9.868025,
          12.205915,
          11.585125,
          11.689563,
          11.232579,
          9.632416,
          9.176459,
          8.531642,
          10.4876375,
          10.448765,
          11.195871
         ]
        },
        {
         "hoverinfo": "text",
         "marker": {
          "opacity": 0.5,
          "size": 5
         },
         "mode": "markers+text",
         "name": "Traffic safety improvements in Braunschweig",
         "text": [
          "",
          "",
          "",
          "",
          "",
          "",
          "",
          "",
          "",
          "",
          "",
          "",
          "",
          "",
          "",
          "",
          "",
          "",
          "",
          "",
          "",
          "",
          "",
          "",
          "",
          "",
          "Traffic safety improvements in Braunschweig"
         ],
         "textfont": {
          "size": 12
         },
         "type": "scattergl",
         "x": [
          12.091081,
          11.849475,
          12.289459,
          11.908683,
          12.755302,
          11.59106,
          11.889543,
          12.306591,
          10.9994755,
          12.514002,
          12.109391,
          11.965419,
          10.739065,
          12.205175,
          12.030133,
          12.564675,
          12.214812,
          11.705072,
          12.45383,
          12.390913,
          12.210646,
          12.12751,
          10.9047785,
          12.367071,
          10.614872,
          10.626003,
          11.900925
         ],
         "y": [
          8.815527,
          8.665506,
          7.941977,
          8.677757,
          8.167899,
          9.167418,
          8.103334,
          9.392684,
          9.294483,
          8.395485,
          7.9478936,
          8.549393,
          8.913044,
          8.323543,
          8.192033,
          8.855572,
          7.883833,
          8.827799,
          8.113262,
          8.768611,
          7.9152713,
          8.063756,
          9.112489,
          9.394629,
          9.871843,
          9.242992,
          8.638386
         ]
        },
        {
         "hoverinfo": "text",
         "marker": {
          "opacity": 0.5,
          "size": 5
         },
         "mode": "markers+text",
         "name": "\"Braunschweig's Parking Crisis: Residents Demand Solutions\"",
         "text": [
          "",
          "",
          "",
          "",
          "",
          "",
          "",
          "",
          "",
          "",
          "",
          "",
          "",
          "",
          "",
          "",
          "",
          "",
          "",
          "\"Braunschweig's Parking Crisis: Residents Demand Solutions\""
         ],
         "textfont": {
          "size": 12
         },
         "type": "scattergl",
         "x": [
          10.296965,
          9.449712,
          10.754871,
          10.635586,
          10.522614,
          9.950685,
          10.431343,
          9.493479,
          8.95071,
          10.615126,
          10.019314,
          8.703383,
          10.568656,
          10.215559,
          9.621219,
          9.055469,
          10.862605,
          10.006599,
          10.770286,
          10.048641
         ],
         "y": [
          11.0068245,
          11.585808,
          10.579081,
          10.857265,
          10.553804,
          11.74721,
          10.254577,
          11.595763,
          11.275458,
          10.668666,
          11.360944,
          11.450136,
          10.784503,
          10.131608,
          11.22749,
          11.498143,
          10.53153,
          11.418283,
          10.250469,
          10.988294
         ]
        }
       ],
       "layout": {
        "annotations": [
         {
          "showarrow": false,
          "text": "D1",
          "x": 6.446552896499634,
          "y": 10.427143120765686,
          "yshift": 10
         },
         {
          "showarrow": false,
          "text": "D2",
          "x": 10.685879063606261,
          "xshift": 10,
          "y": 14.1530282497406
         }
        ],
        "height": 750,
        "shapes": [
         {
          "line": {
           "color": "#CFD8DC",
           "width": 2
          },
          "type": "line",
          "x0": 10.685879063606261,
          "x1": 10.685879063606261,
          "y0": 6.701257991790771,
          "y1": 14.1530282497406
         },
         {
          "line": {
           "color": "#9E9E9E",
           "width": 2
          },
          "type": "line",
          "x0": 6.446552896499634,
          "x1": 14.92520523071289,
          "y0": 10.427143120765686,
          "y1": 10.427143120765686
         }
        ],
        "template": {
         "data": {
          "bar": [
           {
            "error_x": {
             "color": "rgb(36,36,36)"
            },
            "error_y": {
             "color": "rgb(36,36,36)"
            },
            "marker": {
             "line": {
              "color": "white",
              "width": 0.5
             },
             "pattern": {
              "fillmode": "overlay",
              "size": 10,
              "solidity": 0.2
             }
            },
            "type": "bar"
           }
          ],
          "barpolar": [
           {
            "marker": {
             "line": {
              "color": "white",
              "width": 0.5
             },
             "pattern": {
              "fillmode": "overlay",
              "size": 10,
              "solidity": 0.2
             }
            },
            "type": "barpolar"
           }
          ],
          "carpet": [
           {
            "aaxis": {
             "endlinecolor": "rgb(36,36,36)",
             "gridcolor": "white",
             "linecolor": "white",
             "minorgridcolor": "white",
             "startlinecolor": "rgb(36,36,36)"
            },
            "baxis": {
             "endlinecolor": "rgb(36,36,36)",
             "gridcolor": "white",
             "linecolor": "white",
             "minorgridcolor": "white",
             "startlinecolor": "rgb(36,36,36)"
            },
            "type": "carpet"
           }
          ],
          "choropleth": [
           {
            "colorbar": {
             "outlinewidth": 1,
             "tickcolor": "rgb(36,36,36)",
             "ticks": "outside"
            },
            "type": "choropleth"
           }
          ],
          "contour": [
           {
            "colorbar": {
             "outlinewidth": 1,
             "tickcolor": "rgb(36,36,36)",
             "ticks": "outside"
            },
            "colorscale": [
             [
              0,
              "#440154"
             ],
             [
              0.1111111111111111,
              "#482878"
             ],
             [
              0.2222222222222222,
              "#3e4989"
             ],
             [
              0.3333333333333333,
              "#31688e"
             ],
             [
              0.4444444444444444,
              "#26828e"
             ],
             [
              0.5555555555555556,
              "#1f9e89"
             ],
             [
              0.6666666666666666,
              "#35b779"
             ],
             [
              0.7777777777777778,
              "#6ece58"
             ],
             [
              0.8888888888888888,
              "#b5de2b"
             ],
             [
              1,
              "#fde725"
             ]
            ],
            "type": "contour"
           }
          ],
          "contourcarpet": [
           {
            "colorbar": {
             "outlinewidth": 1,
             "tickcolor": "rgb(36,36,36)",
             "ticks": "outside"
            },
            "type": "contourcarpet"
           }
          ],
          "heatmap": [
           {
            "colorbar": {
             "outlinewidth": 1,
             "tickcolor": "rgb(36,36,36)",
             "ticks": "outside"
            },
            "colorscale": [
             [
              0,
              "#440154"
             ],
             [
              0.1111111111111111,
              "#482878"
             ],
             [
              0.2222222222222222,
              "#3e4989"
             ],
             [
              0.3333333333333333,
              "#31688e"
             ],
             [
              0.4444444444444444,
              "#26828e"
             ],
             [
              0.5555555555555556,
              "#1f9e89"
             ],
             [
              0.6666666666666666,
              "#35b779"
             ],
             [
              0.7777777777777778,
              "#6ece58"
             ],
             [
              0.8888888888888888,
              "#b5de2b"
             ],
             [
              1,
              "#fde725"
             ]
            ],
            "type": "heatmap"
           }
          ],
          "heatmapgl": [
           {
            "colorbar": {
             "outlinewidth": 1,
             "tickcolor": "rgb(36,36,36)",
             "ticks": "outside"
            },
            "colorscale": [
             [
              0,
              "#440154"
             ],
             [
              0.1111111111111111,
              "#482878"
             ],
             [
              0.2222222222222222,
              "#3e4989"
             ],
             [
              0.3333333333333333,
              "#31688e"
             ],
             [
              0.4444444444444444,
              "#26828e"
             ],
             [
              0.5555555555555556,
              "#1f9e89"
             ],
             [
              0.6666666666666666,
              "#35b779"
             ],
             [
              0.7777777777777778,
              "#6ece58"
             ],
             [
              0.8888888888888888,
              "#b5de2b"
             ],
             [
              1,
              "#fde725"
             ]
            ],
            "type": "heatmapgl"
           }
          ],
          "histogram": [
           {
            "marker": {
             "line": {
              "color": "white",
              "width": 0.6
             }
            },
            "type": "histogram"
           }
          ],
          "histogram2d": [
           {
            "colorbar": {
             "outlinewidth": 1,
             "tickcolor": "rgb(36,36,36)",
             "ticks": "outside"
            },
            "colorscale": [
             [
              0,
              "#440154"
             ],
             [
              0.1111111111111111,
              "#482878"
             ],
             [
              0.2222222222222222,
              "#3e4989"
             ],
             [
              0.3333333333333333,
              "#31688e"
             ],
             [
              0.4444444444444444,
              "#26828e"
             ],
             [
              0.5555555555555556,
              "#1f9e89"
             ],
             [
              0.6666666666666666,
              "#35b779"
             ],
             [
              0.7777777777777778,
              "#6ece58"
             ],
             [
              0.8888888888888888,
              "#b5de2b"
             ],
             [
              1,
              "#fde725"
             ]
            ],
            "type": "histogram2d"
           }
          ],
          "histogram2dcontour": [
           {
            "colorbar": {
             "outlinewidth": 1,
             "tickcolor": "rgb(36,36,36)",
             "ticks": "outside"
            },
            "colorscale": [
             [
              0,
              "#440154"
             ],
             [
              0.1111111111111111,
              "#482878"
             ],
             [
              0.2222222222222222,
              "#3e4989"
             ],
             [
              0.3333333333333333,
              "#31688e"
             ],
             [
              0.4444444444444444,
              "#26828e"
             ],
             [
              0.5555555555555556,
              "#1f9e89"
             ],
             [
              0.6666666666666666,
              "#35b779"
             ],
             [
              0.7777777777777778,
              "#6ece58"
             ],
             [
              0.8888888888888888,
              "#b5de2b"
             ],
             [
              1,
              "#fde725"
             ]
            ],
            "type": "histogram2dcontour"
           }
          ],
          "mesh3d": [
           {
            "colorbar": {
             "outlinewidth": 1,
             "tickcolor": "rgb(36,36,36)",
             "ticks": "outside"
            },
            "type": "mesh3d"
           }
          ],
          "parcoords": [
           {
            "line": {
             "colorbar": {
              "outlinewidth": 1,
              "tickcolor": "rgb(36,36,36)",
              "ticks": "outside"
             }
            },
            "type": "parcoords"
           }
          ],
          "pie": [
           {
            "automargin": true,
            "type": "pie"
           }
          ],
          "scatter": [
           {
            "fillpattern": {
             "fillmode": "overlay",
             "size": 10,
             "solidity": 0.2
            },
            "type": "scatter"
           }
          ],
          "scatter3d": [
           {
            "line": {
             "colorbar": {
              "outlinewidth": 1,
              "tickcolor": "rgb(36,36,36)",
              "ticks": "outside"
             }
            },
            "marker": {
             "colorbar": {
              "outlinewidth": 1,
              "tickcolor": "rgb(36,36,36)",
              "ticks": "outside"
             }
            },
            "type": "scatter3d"
           }
          ],
          "scattercarpet": [
           {
            "marker": {
             "colorbar": {
              "outlinewidth": 1,
              "tickcolor": "rgb(36,36,36)",
              "ticks": "outside"
             }
            },
            "type": "scattercarpet"
           }
          ],
          "scattergeo": [
           {
            "marker": {
             "colorbar": {
              "outlinewidth": 1,
              "tickcolor": "rgb(36,36,36)",
              "ticks": "outside"
             }
            },
            "type": "scattergeo"
           }
          ],
          "scattergl": [
           {
            "marker": {
             "colorbar": {
              "outlinewidth": 1,
              "tickcolor": "rgb(36,36,36)",
              "ticks": "outside"
             }
            },
            "type": "scattergl"
           }
          ],
          "scattermapbox": [
           {
            "marker": {
             "colorbar": {
              "outlinewidth": 1,
              "tickcolor": "rgb(36,36,36)",
              "ticks": "outside"
             }
            },
            "type": "scattermapbox"
           }
          ],
          "scatterpolar": [
           {
            "marker": {
             "colorbar": {
              "outlinewidth": 1,
              "tickcolor": "rgb(36,36,36)",
              "ticks": "outside"
             }
            },
            "type": "scatterpolar"
           }
          ],
          "scatterpolargl": [
           {
            "marker": {
             "colorbar": {
              "outlinewidth": 1,
              "tickcolor": "rgb(36,36,36)",
              "ticks": "outside"
             }
            },
            "type": "scatterpolargl"
           }
          ],
          "scatterternary": [
           {
            "marker": {
             "colorbar": {
              "outlinewidth": 1,
              "tickcolor": "rgb(36,36,36)",
              "ticks": "outside"
             }
            },
            "type": "scatterternary"
           }
          ],
          "surface": [
           {
            "colorbar": {
             "outlinewidth": 1,
             "tickcolor": "rgb(36,36,36)",
             "ticks": "outside"
            },
            "colorscale": [
             [
              0,
              "#440154"
             ],
             [
              0.1111111111111111,
              "#482878"
             ],
             [
              0.2222222222222222,
              "#3e4989"
             ],
             [
              0.3333333333333333,
              "#31688e"
             ],
             [
              0.4444444444444444,
              "#26828e"
             ],
             [
              0.5555555555555556,
              "#1f9e89"
             ],
             [
              0.6666666666666666,
              "#35b779"
             ],
             [
              0.7777777777777778,
              "#6ece58"
             ],
             [
              0.8888888888888888,
              "#b5de2b"
             ],
             [
              1,
              "#fde725"
             ]
            ],
            "type": "surface"
           }
          ],
          "table": [
           {
            "cells": {
             "fill": {
              "color": "rgb(237,237,237)"
             },
             "line": {
              "color": "white"
             }
            },
            "header": {
             "fill": {
              "color": "rgb(217,217,217)"
             },
             "line": {
              "color": "white"
             }
            },
            "type": "table"
           }
          ]
         },
         "layout": {
          "annotationdefaults": {
           "arrowhead": 0,
           "arrowwidth": 1
          },
          "autotypenumbers": "strict",
          "coloraxis": {
           "colorbar": {
            "outlinewidth": 1,
            "tickcolor": "rgb(36,36,36)",
            "ticks": "outside"
           }
          },
          "colorscale": {
           "diverging": [
            [
             0,
             "rgb(103,0,31)"
            ],
            [
             0.1,
             "rgb(178,24,43)"
            ],
            [
             0.2,
             "rgb(214,96,77)"
            ],
            [
             0.3,
             "rgb(244,165,130)"
            ],
            [
             0.4,
             "rgb(253,219,199)"
            ],
            [
             0.5,
             "rgb(247,247,247)"
            ],
            [
             0.6,
             "rgb(209,229,240)"
            ],
            [
             0.7,
             "rgb(146,197,222)"
            ],
            [
             0.8,
             "rgb(67,147,195)"
            ],
            [
             0.9,
             "rgb(33,102,172)"
            ],
            [
             1,
             "rgb(5,48,97)"
            ]
           ],
           "sequential": [
            [
             0,
             "#440154"
            ],
            [
             0.1111111111111111,
             "#482878"
            ],
            [
             0.2222222222222222,
             "#3e4989"
            ],
            [
             0.3333333333333333,
             "#31688e"
            ],
            [
             0.4444444444444444,
             "#26828e"
            ],
            [
             0.5555555555555556,
             "#1f9e89"
            ],
            [
             0.6666666666666666,
             "#35b779"
            ],
            [
             0.7777777777777778,
             "#6ece58"
            ],
            [
             0.8888888888888888,
             "#b5de2b"
            ],
            [
             1,
             "#fde725"
            ]
           ],
           "sequentialminus": [
            [
             0,
             "#440154"
            ],
            [
             0.1111111111111111,
             "#482878"
            ],
            [
             0.2222222222222222,
             "#3e4989"
            ],
            [
             0.3333333333333333,
             "#31688e"
            ],
            [
             0.4444444444444444,
             "#26828e"
            ],
            [
             0.5555555555555556,
             "#1f9e89"
            ],
            [
             0.6666666666666666,
             "#35b779"
            ],
            [
             0.7777777777777778,
             "#6ece58"
            ],
            [
             0.8888888888888888,
             "#b5de2b"
            ],
            [
             1,
             "#fde725"
            ]
           ]
          },
          "colorway": [
           "#1F77B4",
           "#FF7F0E",
           "#2CA02C",
           "#D62728",
           "#9467BD",
           "#8C564B",
           "#E377C2",
           "#7F7F7F",
           "#BCBD22",
           "#17BECF"
          ],
          "font": {
           "color": "rgb(36,36,36)"
          },
          "geo": {
           "bgcolor": "white",
           "lakecolor": "white",
           "landcolor": "white",
           "showlakes": true,
           "showland": true,
           "subunitcolor": "white"
          },
          "hoverlabel": {
           "align": "left"
          },
          "hovermode": "closest",
          "mapbox": {
           "style": "light"
          },
          "paper_bgcolor": "white",
          "plot_bgcolor": "white",
          "polar": {
           "angularaxis": {
            "gridcolor": "rgb(232,232,232)",
            "linecolor": "rgb(36,36,36)",
            "showgrid": false,
            "showline": true,
            "ticks": "outside"
           },
           "bgcolor": "white",
           "radialaxis": {
            "gridcolor": "rgb(232,232,232)",
            "linecolor": "rgb(36,36,36)",
            "showgrid": false,
            "showline": true,
            "ticks": "outside"
           }
          },
          "scene": {
           "xaxis": {
            "backgroundcolor": "white",
            "gridcolor": "rgb(232,232,232)",
            "gridwidth": 2,
            "linecolor": "rgb(36,36,36)",
            "showbackground": true,
            "showgrid": false,
            "showline": true,
            "ticks": "outside",
            "zeroline": false,
            "zerolinecolor": "rgb(36,36,36)"
           },
           "yaxis": {
            "backgroundcolor": "white",
            "gridcolor": "rgb(232,232,232)",
            "gridwidth": 2,
            "linecolor": "rgb(36,36,36)",
            "showbackground": true,
            "showgrid": false,
            "showline": true,
            "ticks": "outside",
            "zeroline": false,
            "zerolinecolor": "rgb(36,36,36)"
           },
           "zaxis": {
            "backgroundcolor": "white",
            "gridcolor": "rgb(232,232,232)",
            "gridwidth": 2,
            "linecolor": "rgb(36,36,36)",
            "showbackground": true,
            "showgrid": false,
            "showline": true,
            "ticks": "outside",
            "zeroline": false,
            "zerolinecolor": "rgb(36,36,36)"
           }
          },
          "shapedefaults": {
           "fillcolor": "black",
           "line": {
            "width": 0
           },
           "opacity": 0.3
          },
          "ternary": {
           "aaxis": {
            "gridcolor": "rgb(232,232,232)",
            "linecolor": "rgb(36,36,36)",
            "showgrid": false,
            "showline": true,
            "ticks": "outside"
           },
           "baxis": {
            "gridcolor": "rgb(232,232,232)",
            "linecolor": "rgb(36,36,36)",
            "showgrid": false,
            "showline": true,
            "ticks": "outside"
           },
           "bgcolor": "white",
           "caxis": {
            "gridcolor": "rgb(232,232,232)",
            "linecolor": "rgb(36,36,36)",
            "showgrid": false,
            "showline": true,
            "ticks": "outside"
           }
          },
          "title": {
           "x": 0.05
          },
          "xaxis": {
           "automargin": true,
           "gridcolor": "rgb(232,232,232)",
           "linecolor": "rgb(36,36,36)",
           "showgrid": false,
           "showline": true,
           "ticks": "outside",
           "title": {
            "standoff": 15
           },
           "zeroline": false,
           "zerolinecolor": "rgb(36,36,36)"
          },
          "yaxis": {
           "automargin": true,
           "gridcolor": "rgb(232,232,232)",
           "linecolor": "rgb(36,36,36)",
           "showgrid": false,
           "showline": true,
           "ticks": "outside",
           "title": {
            "standoff": 15
           },
           "zeroline": false,
           "zerolinecolor": "rgb(36,36,36)"
          }
         }
        },
        "title": {
         "font": {
          "color": "Black",
          "size": 22
         },
         "text": "<b>Documents and Topics</b>",
         "x": 0.5,
         "xanchor": "center",
         "yanchor": "top"
        },
        "width": 1200,
        "xaxis": {
         "visible": false
        },
        "yaxis": {
         "visible": false
        }
       }
      },
      "text/html": [
       "<div>                            <div id=\"7b173f8e-cc21-4809-a371-19f6e43849fd\" class=\"plotly-graph-div\" style=\"height:750px; width:1200px;\"></div>            <script type=\"text/javascript\">                require([\"plotly\"], function(Plotly) {                    window.PLOTLYENV=window.PLOTLYENV || {};                                    if (document.getElementById(\"7b173f8e-cc21-4809-a371-19f6e43849fd\")) {                    Plotly.newPlot(                        \"7b173f8e-cc21-4809-a371-19f6e43849fd\",                        [{\"hoverinfo\":\"text\",\"marker\":{\"color\":\"#CFD8DC\",\"opacity\":0.5,\"size\":5},\"mode\":\"markers+text\",\"name\":\"other\",\"showlegend\":false,\"x\":[10.588622,10.771364,10.715965,7.631423,7.694537,10.930829,8.934022,9.733409,10.544985,11.087265,11.087357,12.292568,12.978439,7.6841702,11.757919,10.867145,9.077244,9.392413,10.092682,9.272556,7.6138105,11.173894,8.884513,8.653942,10.747384,8.157543,7.6426344,10.2210865,8.98202,11.937033,11.01324,8.456905,9.887806,9.227829,10.910477,8.846563,7.681462,10.053326,7.6131477,7.7656865,9.760819,10.780481,8.753461,10.891604,12.19904,8.727485,8.947828,11.243404,7.664294,8.57608,12.179741,11.811994,10.951716,10.06609,11.442324,9.590084,8.130122,7.604099,10.986434,8.873155,11.325826,11.004511,9.314088,7.6238656,11.422456,8.430749,12.878437,9.662667,9.965848,10.72158,10.355581,8.210682,10.6019745,10.81485,8.963113,10.865905,10.262545,10.928547,8.247197,8.86995,7.662249,12.377617,8.263111,7.58418,7.6334686],\"y\":[12.306981,12.081163,8.615231,10.409902,9.216582,12.206617,11.307215,11.642454,11.294329,8.008343,11.249124,9.122243,8.129827,9.169791,9.192777,8.835461,9.774516,9.783535,10.564463,10.614395,11.154052,9.287612,11.263731,10.492787,8.382887,10.427509,11.432215,10.802076,10.276008,9.598739,8.069557,11.814603,11.252984,10.982931,9.355785,10.959747,9.122974,11.153019,11.431085,11.00293,10.242968,11.225541,11.373743,12.226119,9.289616,11.750349,10.284925,9.562339,11.163619,10.472014,9.401859,9.113244,12.23956,9.768102,9.64113,10.107234,11.373703,9.940773,8.042979,10.276483,7.8881087,9.697754,10.551826,9.217813,7.8922963,11.719627,8.073497,10.702502,9.746312,8.705619,8.966098,10.365528,11.45344,10.228512,9.868025,12.205915,11.585125,11.689563,11.232579,9.632416,9.176459,8.531642,10.4876375,10.448765,11.195871],\"type\":\"scattergl\"},{\"hoverinfo\":\"text\",\"marker\":{\"opacity\":0.5,\"size\":5},\"mode\":\"markers+text\",\"name\":\"Traffic safety improvements in Braunschweig\",\"text\":[\"\",\"\",\"\",\"\",\"\",\"\",\"\",\"\",\"\",\"\",\"\",\"\",\"\",\"\",\"\",\"\",\"\",\"\",\"\",\"\",\"\",\"\",\"\",\"\",\"\",\"\",\"Traffic safety improvements in Braunschweig\"],\"textfont\":{\"size\":12},\"x\":[12.091081,11.849475,12.289459,11.908683,12.755302,11.59106,11.889543,12.306591,10.9994755,12.514002,12.109391,11.965419,10.739065,12.205175,12.030133,12.564675,12.214812,11.705072,12.45383,12.390913,12.210646,12.12751,10.9047785,12.367071,10.614872,10.626003,11.900925],\"y\":[8.815527,8.665506,7.941977,8.677757,8.167899,9.167418,8.103334,9.392684,9.294483,8.395485,7.9478936,8.549393,8.913044,8.323543,8.192033,8.855572,7.883833,8.827799,8.113262,8.768611,7.9152713,8.063756,9.112489,9.394629,9.871843,9.242992,8.638386],\"type\":\"scattergl\"},{\"hoverinfo\":\"text\",\"marker\":{\"opacity\":0.5,\"size\":5},\"mode\":\"markers+text\",\"name\":\"\\\"Braunschweig's Parking Crisis: Residents Demand Solutions\\\"\",\"text\":[\"\",\"\",\"\",\"\",\"\",\"\",\"\",\"\",\"\",\"\",\"\",\"\",\"\",\"\",\"\",\"\",\"\",\"\",\"\",\"\\\"Braunschweig's Parking Crisis: Residents Demand Solutions\\\"\"],\"textfont\":{\"size\":12},\"x\":[10.296965,9.449712,10.754871,10.635586,10.522614,9.950685,10.431343,9.493479,8.95071,10.615126,10.019314,8.703383,10.568656,10.215559,9.621219,9.055469,10.862605,10.006599,10.770286,10.048641],\"y\":[11.0068245,11.585808,10.579081,10.857265,10.553804,11.74721,10.254577,11.595763,11.275458,10.668666,11.360944,11.450136,10.784503,10.131608,11.22749,11.498143,10.53153,11.418283,10.250469,10.988294],\"type\":\"scattergl\"}],                        {\"template\":{\"data\":{\"barpolar\":[{\"marker\":{\"line\":{\"color\":\"white\",\"width\":0.5},\"pattern\":{\"fillmode\":\"overlay\",\"size\":10,\"solidity\":0.2}},\"type\":\"barpolar\"}],\"bar\":[{\"error_x\":{\"color\":\"rgb(36,36,36)\"},\"error_y\":{\"color\":\"rgb(36,36,36)\"},\"marker\":{\"line\":{\"color\":\"white\",\"width\":0.5},\"pattern\":{\"fillmode\":\"overlay\",\"size\":10,\"solidity\":0.2}},\"type\":\"bar\"}],\"carpet\":[{\"aaxis\":{\"endlinecolor\":\"rgb(36,36,36)\",\"gridcolor\":\"white\",\"linecolor\":\"white\",\"minorgridcolor\":\"white\",\"startlinecolor\":\"rgb(36,36,36)\"},\"baxis\":{\"endlinecolor\":\"rgb(36,36,36)\",\"gridcolor\":\"white\",\"linecolor\":\"white\",\"minorgridcolor\":\"white\",\"startlinecolor\":\"rgb(36,36,36)\"},\"type\":\"carpet\"}],\"choropleth\":[{\"colorbar\":{\"outlinewidth\":1,\"tickcolor\":\"rgb(36,36,36)\",\"ticks\":\"outside\"},\"type\":\"choropleth\"}],\"contourcarpet\":[{\"colorbar\":{\"outlinewidth\":1,\"tickcolor\":\"rgb(36,36,36)\",\"ticks\":\"outside\"},\"type\":\"contourcarpet\"}],\"contour\":[{\"colorbar\":{\"outlinewidth\":1,\"tickcolor\":\"rgb(36,36,36)\",\"ticks\":\"outside\"},\"colorscale\":[[0.0,\"#440154\"],[0.1111111111111111,\"#482878\"],[0.2222222222222222,\"#3e4989\"],[0.3333333333333333,\"#31688e\"],[0.4444444444444444,\"#26828e\"],[0.5555555555555556,\"#1f9e89\"],[0.6666666666666666,\"#35b779\"],[0.7777777777777778,\"#6ece58\"],[0.8888888888888888,\"#b5de2b\"],[1.0,\"#fde725\"]],\"type\":\"contour\"}],\"heatmapgl\":[{\"colorbar\":{\"outlinewidth\":1,\"tickcolor\":\"rgb(36,36,36)\",\"ticks\":\"outside\"},\"colorscale\":[[0.0,\"#440154\"],[0.1111111111111111,\"#482878\"],[0.2222222222222222,\"#3e4989\"],[0.3333333333333333,\"#31688e\"],[0.4444444444444444,\"#26828e\"],[0.5555555555555556,\"#1f9e89\"],[0.6666666666666666,\"#35b779\"],[0.7777777777777778,\"#6ece58\"],[0.8888888888888888,\"#b5de2b\"],[1.0,\"#fde725\"]],\"type\":\"heatmapgl\"}],\"heatmap\":[{\"colorbar\":{\"outlinewidth\":1,\"tickcolor\":\"rgb(36,36,36)\",\"ticks\":\"outside\"},\"colorscale\":[[0.0,\"#440154\"],[0.1111111111111111,\"#482878\"],[0.2222222222222222,\"#3e4989\"],[0.3333333333333333,\"#31688e\"],[0.4444444444444444,\"#26828e\"],[0.5555555555555556,\"#1f9e89\"],[0.6666666666666666,\"#35b779\"],[0.7777777777777778,\"#6ece58\"],[0.8888888888888888,\"#b5de2b\"],[1.0,\"#fde725\"]],\"type\":\"heatmap\"}],\"histogram2dcontour\":[{\"colorbar\":{\"outlinewidth\":1,\"tickcolor\":\"rgb(36,36,36)\",\"ticks\":\"outside\"},\"colorscale\":[[0.0,\"#440154\"],[0.1111111111111111,\"#482878\"],[0.2222222222222222,\"#3e4989\"],[0.3333333333333333,\"#31688e\"],[0.4444444444444444,\"#26828e\"],[0.5555555555555556,\"#1f9e89\"],[0.6666666666666666,\"#35b779\"],[0.7777777777777778,\"#6ece58\"],[0.8888888888888888,\"#b5de2b\"],[1.0,\"#fde725\"]],\"type\":\"histogram2dcontour\"}],\"histogram2d\":[{\"colorbar\":{\"outlinewidth\":1,\"tickcolor\":\"rgb(36,36,36)\",\"ticks\":\"outside\"},\"colorscale\":[[0.0,\"#440154\"],[0.1111111111111111,\"#482878\"],[0.2222222222222222,\"#3e4989\"],[0.3333333333333333,\"#31688e\"],[0.4444444444444444,\"#26828e\"],[0.5555555555555556,\"#1f9e89\"],[0.6666666666666666,\"#35b779\"],[0.7777777777777778,\"#6ece58\"],[0.8888888888888888,\"#b5de2b\"],[1.0,\"#fde725\"]],\"type\":\"histogram2d\"}],\"histogram\":[{\"marker\":{\"line\":{\"color\":\"white\",\"width\":0.6}},\"type\":\"histogram\"}],\"mesh3d\":[{\"colorbar\":{\"outlinewidth\":1,\"tickcolor\":\"rgb(36,36,36)\",\"ticks\":\"outside\"},\"type\":\"mesh3d\"}],\"parcoords\":[{\"line\":{\"colorbar\":{\"outlinewidth\":1,\"tickcolor\":\"rgb(36,36,36)\",\"ticks\":\"outside\"}},\"type\":\"parcoords\"}],\"pie\":[{\"automargin\":true,\"type\":\"pie\"}],\"scatter3d\":[{\"line\":{\"colorbar\":{\"outlinewidth\":1,\"tickcolor\":\"rgb(36,36,36)\",\"ticks\":\"outside\"}},\"marker\":{\"colorbar\":{\"outlinewidth\":1,\"tickcolor\":\"rgb(36,36,36)\",\"ticks\":\"outside\"}},\"type\":\"scatter3d\"}],\"scattercarpet\":[{\"marker\":{\"colorbar\":{\"outlinewidth\":1,\"tickcolor\":\"rgb(36,36,36)\",\"ticks\":\"outside\"}},\"type\":\"scattercarpet\"}],\"scattergeo\":[{\"marker\":{\"colorbar\":{\"outlinewidth\":1,\"tickcolor\":\"rgb(36,36,36)\",\"ticks\":\"outside\"}},\"type\":\"scattergeo\"}],\"scattergl\":[{\"marker\":{\"colorbar\":{\"outlinewidth\":1,\"tickcolor\":\"rgb(36,36,36)\",\"ticks\":\"outside\"}},\"type\":\"scattergl\"}],\"scattermapbox\":[{\"marker\":{\"colorbar\":{\"outlinewidth\":1,\"tickcolor\":\"rgb(36,36,36)\",\"ticks\":\"outside\"}},\"type\":\"scattermapbox\"}],\"scatterpolargl\":[{\"marker\":{\"colorbar\":{\"outlinewidth\":1,\"tickcolor\":\"rgb(36,36,36)\",\"ticks\":\"outside\"}},\"type\":\"scatterpolargl\"}],\"scatterpolar\":[{\"marker\":{\"colorbar\":{\"outlinewidth\":1,\"tickcolor\":\"rgb(36,36,36)\",\"ticks\":\"outside\"}},\"type\":\"scatterpolar\"}],\"scatter\":[{\"fillpattern\":{\"fillmode\":\"overlay\",\"size\":10,\"solidity\":0.2},\"type\":\"scatter\"}],\"scatterternary\":[{\"marker\":{\"colorbar\":{\"outlinewidth\":1,\"tickcolor\":\"rgb(36,36,36)\",\"ticks\":\"outside\"}},\"type\":\"scatterternary\"}],\"surface\":[{\"colorbar\":{\"outlinewidth\":1,\"tickcolor\":\"rgb(36,36,36)\",\"ticks\":\"outside\"},\"colorscale\":[[0.0,\"#440154\"],[0.1111111111111111,\"#482878\"],[0.2222222222222222,\"#3e4989\"],[0.3333333333333333,\"#31688e\"],[0.4444444444444444,\"#26828e\"],[0.5555555555555556,\"#1f9e89\"],[0.6666666666666666,\"#35b779\"],[0.7777777777777778,\"#6ece58\"],[0.8888888888888888,\"#b5de2b\"],[1.0,\"#fde725\"]],\"type\":\"surface\"}],\"table\":[{\"cells\":{\"fill\":{\"color\":\"rgb(237,237,237)\"},\"line\":{\"color\":\"white\"}},\"header\":{\"fill\":{\"color\":\"rgb(217,217,217)\"},\"line\":{\"color\":\"white\"}},\"type\":\"table\"}]},\"layout\":{\"annotationdefaults\":{\"arrowhead\":0,\"arrowwidth\":1},\"autotypenumbers\":\"strict\",\"coloraxis\":{\"colorbar\":{\"outlinewidth\":1,\"tickcolor\":\"rgb(36,36,36)\",\"ticks\":\"outside\"}},\"colorscale\":{\"diverging\":[[0.0,\"rgb(103,0,31)\"],[0.1,\"rgb(178,24,43)\"],[0.2,\"rgb(214,96,77)\"],[0.3,\"rgb(244,165,130)\"],[0.4,\"rgb(253,219,199)\"],[0.5,\"rgb(247,247,247)\"],[0.6,\"rgb(209,229,240)\"],[0.7,\"rgb(146,197,222)\"],[0.8,\"rgb(67,147,195)\"],[0.9,\"rgb(33,102,172)\"],[1.0,\"rgb(5,48,97)\"]],\"sequential\":[[0.0,\"#440154\"],[0.1111111111111111,\"#482878\"],[0.2222222222222222,\"#3e4989\"],[0.3333333333333333,\"#31688e\"],[0.4444444444444444,\"#26828e\"],[0.5555555555555556,\"#1f9e89\"],[0.6666666666666666,\"#35b779\"],[0.7777777777777778,\"#6ece58\"],[0.8888888888888888,\"#b5de2b\"],[1.0,\"#fde725\"]],\"sequentialminus\":[[0.0,\"#440154\"],[0.1111111111111111,\"#482878\"],[0.2222222222222222,\"#3e4989\"],[0.3333333333333333,\"#31688e\"],[0.4444444444444444,\"#26828e\"],[0.5555555555555556,\"#1f9e89\"],[0.6666666666666666,\"#35b779\"],[0.7777777777777778,\"#6ece58\"],[0.8888888888888888,\"#b5de2b\"],[1.0,\"#fde725\"]]},\"colorway\":[\"#1F77B4\",\"#FF7F0E\",\"#2CA02C\",\"#D62728\",\"#9467BD\",\"#8C564B\",\"#E377C2\",\"#7F7F7F\",\"#BCBD22\",\"#17BECF\"],\"font\":{\"color\":\"rgb(36,36,36)\"},\"geo\":{\"bgcolor\":\"white\",\"lakecolor\":\"white\",\"landcolor\":\"white\",\"showlakes\":true,\"showland\":true,\"subunitcolor\":\"white\"},\"hoverlabel\":{\"align\":\"left\"},\"hovermode\":\"closest\",\"mapbox\":{\"style\":\"light\"},\"paper_bgcolor\":\"white\",\"plot_bgcolor\":\"white\",\"polar\":{\"angularaxis\":{\"gridcolor\":\"rgb(232,232,232)\",\"linecolor\":\"rgb(36,36,36)\",\"showgrid\":false,\"showline\":true,\"ticks\":\"outside\"},\"bgcolor\":\"white\",\"radialaxis\":{\"gridcolor\":\"rgb(232,232,232)\",\"linecolor\":\"rgb(36,36,36)\",\"showgrid\":false,\"showline\":true,\"ticks\":\"outside\"}},\"scene\":{\"xaxis\":{\"backgroundcolor\":\"white\",\"gridcolor\":\"rgb(232,232,232)\",\"gridwidth\":2,\"linecolor\":\"rgb(36,36,36)\",\"showbackground\":true,\"showgrid\":false,\"showline\":true,\"ticks\":\"outside\",\"zeroline\":false,\"zerolinecolor\":\"rgb(36,36,36)\"},\"yaxis\":{\"backgroundcolor\":\"white\",\"gridcolor\":\"rgb(232,232,232)\",\"gridwidth\":2,\"linecolor\":\"rgb(36,36,36)\",\"showbackground\":true,\"showgrid\":false,\"showline\":true,\"ticks\":\"outside\",\"zeroline\":false,\"zerolinecolor\":\"rgb(36,36,36)\"},\"zaxis\":{\"backgroundcolor\":\"white\",\"gridcolor\":\"rgb(232,232,232)\",\"gridwidth\":2,\"linecolor\":\"rgb(36,36,36)\",\"showbackground\":true,\"showgrid\":false,\"showline\":true,\"ticks\":\"outside\",\"zeroline\":false,\"zerolinecolor\":\"rgb(36,36,36)\"}},\"shapedefaults\":{\"fillcolor\":\"black\",\"line\":{\"width\":0},\"opacity\":0.3},\"ternary\":{\"aaxis\":{\"gridcolor\":\"rgb(232,232,232)\",\"linecolor\":\"rgb(36,36,36)\",\"showgrid\":false,\"showline\":true,\"ticks\":\"outside\"},\"baxis\":{\"gridcolor\":\"rgb(232,232,232)\",\"linecolor\":\"rgb(36,36,36)\",\"showgrid\":false,\"showline\":true,\"ticks\":\"outside\"},\"bgcolor\":\"white\",\"caxis\":{\"gridcolor\":\"rgb(232,232,232)\",\"linecolor\":\"rgb(36,36,36)\",\"showgrid\":false,\"showline\":true,\"ticks\":\"outside\"}},\"title\":{\"x\":0.05},\"xaxis\":{\"automargin\":true,\"gridcolor\":\"rgb(232,232,232)\",\"linecolor\":\"rgb(36,36,36)\",\"showgrid\":false,\"showline\":true,\"ticks\":\"outside\",\"title\":{\"standoff\":15},\"zeroline\":false,\"zerolinecolor\":\"rgb(36,36,36)\"},\"yaxis\":{\"automargin\":true,\"gridcolor\":\"rgb(232,232,232)\",\"linecolor\":\"rgb(36,36,36)\",\"showgrid\":false,\"showline\":true,\"ticks\":\"outside\",\"title\":{\"standoff\":15},\"zeroline\":false,\"zerolinecolor\":\"rgb(36,36,36)\"}}},\"shapes\":[{\"line\":{\"color\":\"#CFD8DC\",\"width\":2},\"type\":\"line\",\"x0\":10.685879063606261,\"x1\":10.685879063606261,\"y0\":6.701257991790771,\"y1\":14.1530282497406},{\"line\":{\"color\":\"#9E9E9E\",\"width\":2},\"type\":\"line\",\"x0\":6.446552896499634,\"x1\":14.92520523071289,\"y0\":10.427143120765686,\"y1\":10.427143120765686}],\"annotations\":[{\"showarrow\":false,\"text\":\"D1\",\"x\":6.446552896499634,\"y\":10.427143120765686,\"yshift\":10},{\"showarrow\":false,\"text\":\"D2\",\"x\":10.685879063606261,\"xshift\":10,\"y\":14.1530282497406}],\"title\":{\"font\":{\"size\":22,\"color\":\"Black\"},\"text\":\"\\u003cb\\u003eDocuments and Topics\\u003c\\u002fb\\u003e\",\"x\":0.5,\"xanchor\":\"center\",\"yanchor\":\"top\"},\"width\":1200,\"height\":750,\"xaxis\":{\"visible\":false},\"yaxis\":{\"visible\":false}},                        {\"responsive\": true}                    ).then(function(){\n",
       "                            \n",
       "var gd = document.getElementById('7b173f8e-cc21-4809-a371-19f6e43849fd');\n",
       "var x = new MutationObserver(function (mutations, observer) {{\n",
       "        var display = window.getComputedStyle(gd).display;\n",
       "        if (!display || display === 'none') {{\n",
       "            console.log([gd, 'removed!']);\n",
       "            Plotly.purge(gd);\n",
       "            observer.disconnect();\n",
       "        }}\n",
       "}});\n",
       "\n",
       "// Listen for the removal of the full notebook cells\n",
       "var notebookContainer = gd.closest('#notebook-container');\n",
       "if (notebookContainer) {{\n",
       "    x.observe(notebookContainer, {childList: true});\n",
       "}}\n",
       "\n",
       "// Listen for the clearing of the current output cell\n",
       "var outputEl = gd.closest('.output');\n",
       "if (outputEl) {{\n",
       "    x.observe(outputEl, {childList: true});\n",
       "}}\n",
       "\n",
       "                        })                };                });            </script>        </div>"
      ]
     },
     "metadata": {},
     "output_type": "display_data"
    }
   ],
   "source": [
    "topic_model.visualize_documents(titles, reduced_embeddings=reduced_embeddings, hide_annotations=False, hide_document_hover=True, custom_labels=True)"
   ]
  },
  {
   "cell_type": "code",
   "execution_count": 80,
   "id": "2ba2bd1c",
   "metadata": {},
   "outputs": [],
   "source": [
    "import itertools\n",
    "import pandas as pd\n",
    "\n",
    "# Define colors for the visualization to iterate over\n",
    "colors = itertools.cycle(['#e6194b', '#3cb44b', '#ffe119', '#4363d8', '#f58231', '#911eb4', '#46f0f0', '#f032e6', '#bcf60c', '#fabebe', '#008080', '#e6beff', '#9a6324', '#fffac8', '#800000', '#aaffc3', '#808000', '#ffd8b1', '#000075', '#808080', '#ffffff', '#000000'])\n",
    "color_key = {str(topic): next(colors) for topic in set(topic_model.topics_) if topic != -1}\n",
    "\n",
    "# Prepare dataframe and ignore outliers\n",
    "df = pd.DataFrame({\"x\": reduced_embeddings[:, 0], \"y\": reduced_embeddings[:, 1], \"Topic\": [str(t) for t in topic_model.topics_]})\n",
    "df[\"Length\"] = [len(doc) for doc in sentences]\n",
    "df = df.loc[df.Topic != \"-1\"]\n",
    "df = df.loc[(df.y > -10) & (df.y < 10) & (df.x < 10) & (df.x > -10), :]\n",
    "df[\"Topic\"] = df[\"Topic\"].astype(\"category\")\n",
    "\n",
    "# Get centroids of clusters\n",
    "mean_df = df.groupby(\"Topic\").mean().reset_index()\n",
    "mean_df.Topic = mean_df.Topic.astype(int)\n",
    "mean_df = mean_df.sort_values(\"Topic\")"
   ]
  },
  {
   "cell_type": "code",
   "execution_count": 82,
   "id": "4ea0499c",
   "metadata": {},
   "outputs": [
    {
     "name": "stderr",
     "output_type": "stream",
     "text": [
      "huggingface/tokenizers: The current process just got forked, after parallelism has already been used. Disabling parallelism to avoid deadlocks...\n",
      "To disable this warning, you can either:\n",
      "\t- Avoid using `tokenizers` before the fork if possible\n",
      "\t- Explicitly set the environment variable TOKENIZERS_PARALLELISM=(true | false)\n"
     ]
    },
    {
     "name": "stdout",
     "output_type": "stream",
     "text": [
      "Collecting seaborn\n",
      "  Downloading seaborn-0.13.2-py3-none-any.whl.metadata (5.4 kB)\n",
      "Requirement already satisfied: numpy!=1.24.0,>=1.20 in /system/conda/miniconda3/envs/cloudspace/lib/python3.10/site-packages (from seaborn) (1.26.4)\n",
      "Requirement already satisfied: pandas>=1.2 in /system/conda/miniconda3/envs/cloudspace/lib/python3.10/site-packages (from seaborn) (2.1.4)\n",
      "Requirement already satisfied: matplotlib!=3.6.1,>=3.4 in /system/conda/miniconda3/envs/cloudspace/lib/python3.10/site-packages (from seaborn) (3.8.2)\n",
      "Requirement already satisfied: contourpy>=1.0.1 in /system/conda/miniconda3/envs/cloudspace/lib/python3.10/site-packages (from matplotlib!=3.6.1,>=3.4->seaborn) (1.2.1)\n",
      "Requirement already satisfied: cycler>=0.10 in /system/conda/miniconda3/envs/cloudspace/lib/python3.10/site-packages (from matplotlib!=3.6.1,>=3.4->seaborn) (0.12.1)\n",
      "Requirement already satisfied: fonttools>=4.22.0 in /system/conda/miniconda3/envs/cloudspace/lib/python3.10/site-packages (from matplotlib!=3.6.1,>=3.4->seaborn) (4.53.1)\n",
      "Requirement already satisfied: kiwisolver>=1.3.1 in /system/conda/miniconda3/envs/cloudspace/lib/python3.10/site-packages (from matplotlib!=3.6.1,>=3.4->seaborn) (1.4.5)\n",
      "Requirement already satisfied: packaging>=20.0 in /system/conda/miniconda3/envs/cloudspace/lib/python3.10/site-packages (from matplotlib!=3.6.1,>=3.4->seaborn) (24.1)\n",
      "Requirement already satisfied: pillow>=8 in /system/conda/miniconda3/envs/cloudspace/lib/python3.10/site-packages (from matplotlib!=3.6.1,>=3.4->seaborn) (10.4.0)\n",
      "Requirement already satisfied: pyparsing>=2.3.1 in /system/conda/miniconda3/envs/cloudspace/lib/python3.10/site-packages (from matplotlib!=3.6.1,>=3.4->seaborn) (3.1.2)\n",
      "Requirement already satisfied: python-dateutil>=2.7 in /system/conda/miniconda3/envs/cloudspace/lib/python3.10/site-packages (from matplotlib!=3.6.1,>=3.4->seaborn) (2.9.0.post0)\n",
      "Requirement already satisfied: pytz>=2020.1 in /system/conda/miniconda3/envs/cloudspace/lib/python3.10/site-packages (from pandas>=1.2->seaborn) (2024.1)\n",
      "Requirement already satisfied: tzdata>=2022.1 in /system/conda/miniconda3/envs/cloudspace/lib/python3.10/site-packages (from pandas>=1.2->seaborn) (2024.1)\n",
      "Requirement already satisfied: six>=1.5 in /system/conda/miniconda3/envs/cloudspace/lib/python3.10/site-packages (from python-dateutil>=2.7->matplotlib!=3.6.1,>=3.4->seaborn) (1.16.0)\n",
      "Downloading seaborn-0.13.2-py3-none-any.whl (294 kB)\n",
      "\u001b[2K   \u001b[90m━━━━━━━━━━━━━━━━━━━━━━━━━━━━━━━━━━━━━━━━\u001b[0m \u001b[32m294.9/294.9 kB\u001b[0m \u001b[31m21.6 MB/s\u001b[0m eta \u001b[36m0:00:00\u001b[0m\n",
      "\u001b[?25hInstalling collected packages: seaborn\n",
      "Successfully installed seaborn-0.13.2\n",
      "\n",
      "\u001b[1m[\u001b[0m\u001b[34;49mnotice\u001b[0m\u001b[1;39;49m]\u001b[0m\u001b[39;49m A new release of pip is available: \u001b[0m\u001b[31;49m24.1.2\u001b[0m\u001b[39;49m -> \u001b[0m\u001b[32;49m24.2\u001b[0m\n",
      "\u001b[1m[\u001b[0m\u001b[34;49mnotice\u001b[0m\u001b[1;39;49m]\u001b[0m\u001b[39;49m To update, run: \u001b[0m\u001b[32;49mpip install --upgrade pip\u001b[0m\n"
     ]
    }
   ],
   "source": [
    "!pip install seaborn"
   ]
  },
  {
   "cell_type": "code",
   "execution_count": 83,
   "id": "ed6d5823",
   "metadata": {},
   "outputs": [
    {
     "data": {
      "image/png": "[encoded data removed]",
      "text/plain": [
       "<Figure size 1000x1000 with 1 Axes>"
      ]
     },
     "metadata": {},
     "output_type": "display_data"
    }
   ],
   "source": [
    "import seaborn as sns\n",
    "from matplotlib import pyplot as plt\n",
    "from adjustText import adjust_text\n",
    "import matplotlib.patheffects as pe\n",
    "import textwrap\n",
    "\n",
    "fig = plt.figure(figsize=(10, 10))\n",
    "sns.scatterplot(data=df, x='x', y='y', c=df['Topic'].map(color_key), alpha=0.4, sizes=(0.4, 10), size=\"Length\")\n",
    "\n",
    "# Annotate top 50 topics\n",
    "texts, xs, ys = [], [], []\n",
    "for row in mean_df.iterrows():\n",
    "  topic = row[1][\"Topic\"]\n",
    "  name = textwrap.fill(topic_model.custom_labels_[int(topic)], 20)\n",
    "\n",
    "  if int(topic) <= 50:\n",
    "    xs.append(row[1][\"x\"])\n",
    "    ys.append(row[1][\"y\"])\n",
    "    texts.append(plt.text(row[1][\"x\"], row[1][\"y\"], name, size=10, ha=\"center\", color=color_key[str(int(topic))],\n",
    "                          path_effects=[pe.withStroke(linewidth=0.5, foreground=\"black\")]\n",
    "                          ))\n",
    "\n",
    "# Adjust annotations such that they do not overlap\n",
    "adjust_text(texts, x=xs, y=ys, time_lim=1, force_text=(0.01, 0.02), force_static=(0.01, 0.02), force_pull=(0.5, 0.5))\n",
    "plt.axis('off')\n",
    "plt.legend('', frameon=False)\n",
    "plt.show()"
   ]
  },
  {
   "cell_type": "code",
   "execution_count": null,
   "id": "a537b971",
   "metadata": {},
   "outputs": [],
   "source": []
  }
 ],
 "metadata": {
  "kernelspec": {
   "display_name": "Python 3",
   "language": "python",
   "name": "python3"
  },
  "language_info": {
   "codemirror_mode": {
    "name": "ipython",
    "version": 2
   },
   "file_extension": ".py",
   "mimetype": "text/x-python",
   "name": "python",
   "nbconvert_exporter": "python",
   "pygments_lexer": "ipython2",
   "version": "2.7.6"
  }
 },
 "nbformat": 4,
 "nbformat_minor": 5
}
