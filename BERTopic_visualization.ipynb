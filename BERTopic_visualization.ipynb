{
 "cells": [
  {
   "cell_type": "code",
   "execution_count": 9,
   "id": "initial_id",
   "metadata": {
    "ExecuteTime": {
     "end_time": "2024-08-06T16:15:00.377318Z",
     "start_time": "2024-08-06T16:14:59.774337Z"
    },
    "collapsed": true
   },
   "outputs": [],
   "source": [
    "import os\n",
    "import json \n",
    "import pandas as pd\n",
    "import numpy as np"
   ]
  },
  {
   "cell_type": "code",
   "execution_count": 10,
   "id": "29721d225d92c2d7",
   "metadata": {
    "ExecuteTime": {
     "end_time": "2024-08-06T16:15:00.393325Z",
     "start_time": "2024-08-06T16:15:00.379313Z"
    }
   },
   "outputs": [],
   "source": [
    "# Load the data from json \n",
    "file_path = os.path.join(os.getcwd(),'ThinkAI_Repo', 'card_details.json')  # for local testing\n",
    "#file_path = '/teamspace/studios/this_studio/ThinkAI_Repo/card_details.json'\n",
    "with open(file_path, 'r') as f:\n",
    "    data = json.load(f)"
   ]
  },
  {
   "cell_type": "markdown",
   "id": "c34fd206",
   "metadata": {},
   "source": [
    "# Load scrapped data from Ideenplattform "
   ]
  },
  {
   "cell_type": "code",
   "execution_count": 11,
   "id": "29ab274761e44eaa",
   "metadata": {
    "ExecuteTime": {
     "end_time": "2024-08-06T16:25:31.482668Z",
     "start_time": "2024-08-06T16:25:31.463672Z"
    }
   },
   "outputs": [],
   "source": [
    "# Convert the data to a pandas dataframe\n",
    "raw_data_df = pd.DataFrame(data)"
   ]
  },
  {
   "cell_type": "code",
   "execution_count": 12,
   "id": "5e75325cfea0af7f",
   "metadata": {
    "ExecuteTime": {
     "end_time": "2024-08-06T19:45:46.717379Z",
     "start_time": "2024-08-06T19:45:46.665381Z"
    }
   },
   "outputs": [
    {
     "data": {
      "text/html": [
       "<div>\n",
       "<style scoped>\n",
       "    .dataframe tbody tr th:only-of-type {\n",
       "        vertical-align: middle;\n",
       "    }\n",
       "\n",
       "    .dataframe tbody tr th {\n",
       "        vertical-align: top;\n",
       "    }\n",
       "\n",
       "    .dataframe thead th {\n",
       "        text-align: right;\n",
       "    }\n",
       "</style>\n",
       "<table border=\"1\" class=\"dataframe\">\n",
       "  <thead>\n",
       "    <tr style=\"text-align: right;\">\n",
       "      <th></th>\n",
       "      <th>title</th>\n",
       "      <th>description</th>\n",
       "      <th>status</th>\n",
       "      <th>tag</th>\n",
       "      <th>vote</th>\n",
       "    </tr>\n",
       "  </thead>\n",
       "  <tbody>\n",
       "    <tr>\n",
       "      <th>0</th>\n",
       "      <td>Verkehrsberuhigter Bereich Holwedestraße</td>\n",
       "      <td>In der Holwedestraße ist der Verkehr viel zu s...</td>\n",
       "      <td>Umgesetzt</td>\n",
       "      <td>Verkehr</td>\n",
       "      <td>12 von 50</td>\n",
       "    </tr>\n",
       "    <tr>\n",
       "      <th>1</th>\n",
       "      <td>Sicherer Schulweg Querum</td>\n",
       "      <td>Eichhahnweg bis Wabenkamp Einbahnstrasse .Nur ...</td>\n",
       "      <td>Abgelehnt</td>\n",
       "      <td>Verkehr</td>\n",
       "      <td>0 von 50</td>\n",
       "    </tr>\n",
       "    <tr>\n",
       "      <th>2</th>\n",
       "      <td>Wickelboard auf städtischen Spielplätzen</td>\n",
       "      <td>Liebe MitarbeiterInnen der Stadt Braunschweig,...</td>\n",
       "      <td>Die Idee wird den politischen Gremien zur Ents...</td>\n",
       "      <td>Stadtgrün und Umwelt</td>\n",
       "      <td>50 von 50</td>\n",
       "    </tr>\n",
       "    <tr>\n",
       "      <th>3</th>\n",
       "      <td>Neugestaltung WOLLMARKT</td>\n",
       "      <td>Der Starkregen 2023 hat mal wieder verdeutlich...</td>\n",
       "      <td>Zeitraum für Stimmabgabe überschritten</td>\n",
       "      <td>Stadtgrün und Umwelt</td>\n",
       "      <td>19 von 50</td>\n",
       "    </tr>\n",
       "    <tr>\n",
       "      <th>4</th>\n",
       "      <td>Dauerhafte Begrünung des Schlossplatzes und Pl...</td>\n",
       "      <td>Der Schlossplatz und der Platz der Deutschen E...</td>\n",
       "      <td>Zeitraum für Stimmabgabe überschritten</td>\n",
       "      <td>Stadtgrün und Umwelt</td>\n",
       "      <td>27 von 50</td>\n",
       "    </tr>\n",
       "    <tr>\n",
       "      <th>...</th>\n",
       "      <td>...</td>\n",
       "      <td>...</td>\n",
       "      <td>...</td>\n",
       "      <td>...</td>\n",
       "      <td>...</td>\n",
       "    </tr>\n",
       "    <tr>\n",
       "      <th>125</th>\n",
       "      <td>Optimierung Fußgängerampel Ackerstr./Helmstedt...</td>\n",
       "      <td>Die Fußgängerampel Ackerstr./Helmstedter Str. ...</td>\n",
       "      <td>Zeitraum für Stimmabgabe überschritten</td>\n",
       "      <td>Verkehr</td>\n",
       "      <td>11 von 50</td>\n",
       "    </tr>\n",
       "    <tr>\n",
       "      <th>126</th>\n",
       "      <td>Abstimmungen im Protokoll mit Angabe des genau...</td>\n",
       "      <td>In den Protokollen der Stadträte wird bei Abst...</td>\n",
       "      <td>Abgelehnt</td>\n",
       "      <td>Allgemeine Verwaltung</td>\n",
       "      <td>14 von 50</td>\n",
       "    </tr>\n",
       "    <tr>\n",
       "      <th>127</th>\n",
       "      <td>Wilhelm-Bornstedt-Weg entlang der Oker besser ...</td>\n",
       "      <td>Der Weg wird zwischen altem Okerarm und Brücke...</td>\n",
       "      <td>Zeitraum für Stimmabgabe überschritten</td>\n",
       "      <td>Verkehr</td>\n",
       "      <td>7 von 50</td>\n",
       "    </tr>\n",
       "    <tr>\n",
       "      <th>128</th>\n",
       "      <td>Hundewiese Nußberg</td>\n",
       "      <td>Es fehlen Sitzbänke entlang des Trimm-Dich-Pfa...</td>\n",
       "      <td>Zeitraum für Stimmabgabe überschritten</td>\n",
       "      <td>Stadtgrün und Umwelt</td>\n",
       "      <td>8 von 50</td>\n",
       "    </tr>\n",
       "    <tr>\n",
       "      <th>129</th>\n",
       "      <td>Veranstaltungen richtig Planen</td>\n",
       "      <td>Moin, in Braunschweig gibt es Viele Veranstalt...</td>\n",
       "      <td>Wird bei zukünftigen Planungen berücksichtigt</td>\n",
       "      <td>Recht, Sicherheit und Ordnung</td>\n",
       "      <td>1 von 50</td>\n",
       "    </tr>\n",
       "  </tbody>\n",
       "</table>\n",
       "<p>130 rows × 5 columns</p>\n",
       "</div>"
      ],
      "text/plain": [
       "                                                 title  \\\n",
       "0             Verkehrsberuhigter Bereich Holwedestraße   \n",
       "1                             Sicherer Schulweg Querum   \n",
       "2             Wickelboard auf städtischen Spielplätzen   \n",
       "3                              Neugestaltung WOLLMARKT   \n",
       "4    Dauerhafte Begrünung des Schlossplatzes und Pl...   \n",
       "..                                                 ...   \n",
       "125  Optimierung Fußgängerampel Ackerstr./Helmstedt...   \n",
       "126  Abstimmungen im Protokoll mit Angabe des genau...   \n",
       "127  Wilhelm-Bornstedt-Weg entlang der Oker besser ...   \n",
       "128                                 Hundewiese Nußberg   \n",
       "129                     Veranstaltungen richtig Planen   \n",
       "\n",
       "                                           description  \\\n",
       "0    In der Holwedestraße ist der Verkehr viel zu s...   \n",
       "1    Eichhahnweg bis Wabenkamp Einbahnstrasse .Nur ...   \n",
       "2    Liebe MitarbeiterInnen der Stadt Braunschweig,...   \n",
       "3    Der Starkregen 2023 hat mal wieder verdeutlich...   \n",
       "4    Der Schlossplatz und der Platz der Deutschen E...   \n",
       "..                                                 ...   \n",
       "125  Die Fußgängerampel Ackerstr./Helmstedter Str. ...   \n",
       "126  In den Protokollen der Stadträte wird bei Abst...   \n",
       "127  Der Weg wird zwischen altem Okerarm und Brücke...   \n",
       "128  Es fehlen Sitzbänke entlang des Trimm-Dich-Pfa...   \n",
       "129  Moin, in Braunschweig gibt es Viele Veranstalt...   \n",
       "\n",
       "                                                status  \\\n",
       "0                                            Umgesetzt   \n",
       "1                                            Abgelehnt   \n",
       "2    Die Idee wird den politischen Gremien zur Ents...   \n",
       "3               Zeitraum für Stimmabgabe überschritten   \n",
       "4               Zeitraum für Stimmabgabe überschritten   \n",
       "..                                                 ...   \n",
       "125             Zeitraum für Stimmabgabe überschritten   \n",
       "126                                          Abgelehnt   \n",
       "127             Zeitraum für Stimmabgabe überschritten   \n",
       "128             Zeitraum für Stimmabgabe überschritten   \n",
       "129      Wird bei zukünftigen Planungen berücksichtigt   \n",
       "\n",
       "                               tag       vote  \n",
       "0                          Verkehr  12 von 50  \n",
       "1                          Verkehr   0 von 50  \n",
       "2             Stadtgrün und Umwelt  50 von 50  \n",
       "3             Stadtgrün und Umwelt  19 von 50  \n",
       "4             Stadtgrün und Umwelt  27 von 50  \n",
       "..                             ...        ...  \n",
       "125                        Verkehr  11 von 50  \n",
       "126          Allgemeine Verwaltung  14 von 50  \n",
       "127                        Verkehr   7 von 50  \n",
       "128           Stadtgrün und Umwelt   8 von 50  \n",
       "129  Recht, Sicherheit und Ordnung   1 von 50  \n",
       "\n",
       "[130 rows x 5 columns]"
      ]
     },
     "execution_count": 12,
     "metadata": {},
     "output_type": "execute_result"
    }
   ],
   "source": [
    "raw_data_df"
   ]
  },
  {
   "cell_type": "code",
   "execution_count": 13,
   "id": "aee4a31318d20712",
   "metadata": {
    "ExecuteTime": {
     "end_time": "2024-08-06T20:25:23.077413Z",
     "start_time": "2024-08-06T20:25:23.059415Z"
    }
   },
   "outputs": [],
   "source": [
    "tags = raw_data_df[\"tag\"].tolist()"
   ]
  },
  {
   "cell_type": "code",
   "execution_count": 14,
   "id": "27ac00f256ca8042",
   "metadata": {
    "ExecuteTime": {
     "end_time": "2024-08-06T16:15:14.213387Z",
     "start_time": "2024-08-06T16:15:14.194688Z"
    }
   },
   "outputs": [],
   "source": [
    "# 2. Define sentences to encode \n",
    "sentences = raw_data_df['description'].tolist()\n",
    "titles = raw_data_df['title'].tolist()"
   ]
  },
  {
   "cell_type": "markdown",
   "id": "dc2343f6",
   "metadata": {},
   "source": [
    "## Visualize  the data \n",
    "TODO"
   ]
  },
  {
   "cell_type": "code",
   "execution_count": null,
   "id": "b28ce2a3",
   "metadata": {},
   "outputs": [],
   "source": []
  },
  {
   "cell_type": "markdown",
   "id": "d3c71c5d",
   "metadata": {},
   "source": [
    "# SBERT with Transformer model "
   ]
  },
  {
   "cell_type": "code",
   "execution_count": 7,
   "id": "626542c833dc3744",
   "metadata": {
    "ExecuteTime": {
     "end_time": "2024-08-06T16:15:10.303711Z",
     "start_time": "2024-08-06T16:15:03.067224Z"
    }
   },
   "outputs": [
    {
     "name": "stderr",
     "output_type": "stream",
     "text": [
      "/home/zeus/miniconda3/envs/cloudspace/lib/python3.10/site-packages/sentence_transformers/cross_encoder/CrossEncoder.py:11: TqdmExperimentalWarning: Using `tqdm.autonotebook.tqdm` in notebook mode. Use `tqdm.tqdm` instead to force console mode (e.g. in jupyter console)\n",
      "  from tqdm.autonotebook import tqdm, trange\n",
      "/home/zeus/miniconda3/envs/cloudspace/lib/python3.10/site-packages/transformers/tokenization_utils_base.py:1601: FutureWarning: `clean_up_tokenization_spaces` was not set. It will be set to `True` by default. This behavior will be depracted in transformers v4.45, and will be then set to `False` by default. For more details check this issue: https://github.com/huggingface/transformers/issues/31884\n",
      "  warnings.warn(\n"
     ]
    },
    {
     "data": {
      "text/plain": [
       "SentenceTransformer(\n",
       "  (0): Transformer({'max_seq_length': 256, 'do_lower_case': False}) with Transformer model: BertModel \n",
       "  (1): Pooling({'word_embedding_dimension': 384, 'pooling_mode_cls_token': False, 'pooling_mode_mean_tokens': True, 'pooling_mode_max_tokens': False, 'pooling_mode_mean_sqrt_len_tokens': False, 'pooling_mode_weightedmean_tokens': False, 'pooling_mode_lasttoken': False, 'include_prompt': True})\n",
       "  (2): Normalize()\n",
       ")"
      ]
     },
     "execution_count": 7,
     "metadata": {},
     "output_type": "execute_result"
    }
   ],
   "source": [
    "from sentence_transformers import SentenceTransformer\n",
    "\n",
    "# 1. Load a pretrained Sentence Transformer model\n",
    "model = SentenceTransformer(\"all-MiniLM-L6-v2\")\n",
    "model"
   ]
  },
  {
   "cell_type": "code",
   "execution_count": 8,
   "id": "74bc963cbed8d70b",
   "metadata": {
    "ExecuteTime": {
     "end_time": "2024-08-06T16:15:28.881875Z",
     "start_time": "2024-08-06T16:15:15.686374Z"
    }
   },
   "outputs": [],
   "source": [
    "# 3. Calculate embeddings by calling model.encode()\n",
    "embeddings = model.encode(sentences)"
   ]
  },
  {
   "cell_type": "code",
   "execution_count": 9,
   "id": "ee67c11630a94437",
   "metadata": {
    "ExecuteTime": {
     "end_time": "2024-08-06T16:16:09.986043Z",
     "start_time": "2024-08-06T16:16:09.978042Z"
    }
   },
   "outputs": [
    {
     "data": {
      "text/plain": [
       "(130, 384)"
      ]
     },
     "execution_count": 9,
     "metadata": {},
     "output_type": "execute_result"
    }
   ],
   "source": [
    "embeddings.shape"
   ]
  },
  {
   "cell_type": "markdown",
   "id": "28ba2626",
   "metadata": {},
   "source": [
    "## UMAP "
   ]
  },
  {
   "cell_type": "code",
   "execution_count": 21,
   "id": "89cfa4bfa2163bd1",
   "metadata": {
    "ExecuteTime": {
     "end_time": "2024-08-06T16:21:30.059684Z",
     "start_time": "2024-08-06T16:21:22.455964Z"
    }
   },
   "outputs": [],
   "source": [
    "from umap import UMAP\n",
    "\n",
    "# Initialize UMAP model\n",
    "umap_model = UMAP(n_neighbors=15, n_components=2, min_dist=0.0, metric=\"cosine\")"
   ]
  },
  {
   "cell_type": "code",
   "execution_count": 22,
   "id": "e11b1e4ee711d163",
   "metadata": {
    "ExecuteTime": {
     "end_time": "2024-08-06T16:21:47.185333Z",
     "start_time": "2024-08-06T16:21:35.248516Z"
    }
   },
   "outputs": [],
   "source": [
    "# Fit and transform the embeddings\n",
    "umap_embeddings = umap_model.fit_transform(embeddings)"
   ]
  },
  {
   "cell_type": "code",
   "execution_count": 23,
   "id": "51cbd830a0f3f63f",
   "metadata": {
    "ExecuteTime": {
     "end_time": "2024-08-06T19:47:37.241620Z",
     "start_time": "2024-08-06T19:47:37.227622Z"
    }
   },
   "outputs": [],
   "source": [
    "titles = raw_data_df[\"title\"].tolist()"
   ]
  },
  {
   "cell_type": "code",
   "execution_count": 24,
   "id": "42a0112cc2538bef",
   "metadata": {
    "ExecuteTime": {
     "end_time": "2024-08-06T20:20:18.068196Z",
     "start_time": "2024-08-06T20:20:18.055197Z"
    }
   },
   "outputs": [
    {
     "data": {
      "text/plain": [
       "['Verkehrsberuhigter Bereich Holwedestraße',\n",
       " 'Sicherer Schulweg Querum',\n",
       " 'Wickelboard auf städtischen Spielplätzen',\n",
       " 'Neugestaltung WOLLMARKT',\n",
       " 'Dauerhafte Begrünung des Schlossplatzes und Platz der Deutschen Einheit',\n",
       " 'Mehr Mülleimer im Waldstück zwischen Kralenriede, der Schuntersiedlung und Rühme.',\n",
       " 'Beleuchtung Wasserturm Giersberg',\n",
       " 'Tempo 30 Madamenweg/Ringgleis bis Kreuzung Madamenweg/Altstadring',\n",
       " 'Zeitgemäße Funktionalität für die Ideenplattform',\n",
       " 'Spielplätze im Herbst/Winter nutzbarer machen',\n",
       " 'Fahrradkonzept Wendenstraße überarbeiten...',\n",
       " 'Brodweg - brisant für alle Verkehrsteilnehmenden',\n",
       " 'Schulverkehr Querum',\n",
       " 'Solarunterstand für Räder',\n",
       " 'Kastanienallee Ampelschaltung anpassen',\n",
       " 'Verkehrspiegel Ausfahrt Buschweg auf die Hauptstraße in Wenden',\n",
       " 'Ampel für Radfahrer Wendenring Ecke Maschpl',\n",
       " 'Hundewiese am Jütenring einrichten - Bebauungsplan HA 137 ändern',\n",
       " 'Unterstützung für besonders gefährdete Menschen bei Hitze',\n",
       " 'Geschwindigkeits- und Durchfahrtsbegrenzung Querumer Straße',\n",
       " 'Sitzbänke an der Platane Okerstraße 8b',\n",
       " 'Aufführung des Dramas \"Julius von Tarent\" von Johann Anton Leisewitz',\n",
       " 'Steg am Schapenbruchteich',\n",
       " '\"Viktualienmarkt\" Burgpassage',\n",
       " 'Wickeltisch',\n",
       " 'FGÜ',\n",
       " 'Toiletten für den Löwenwall',\n",
       " 'Lärmaktionsplanung',\n",
       " 'Umrüstung der ÖPNV-Busflotte auf Elektromobilität',\n",
       " 'Einführung Stadtinterne Kinderbetreuung für Mütter',\n",
       " 'Umsetzen Informationsstele am Burgplatz',\n",
       " 'Mehr Mülleimer/ kotbeutelstation',\n",
       " 'Standort 2. Haferstroh-Toilette',\n",
       " 'Zebrastreifen an der Kreuzung Mittelweg Ringgleis.',\n",
       " 'Blitzer am Bohlweg ( vor Schloß )',\n",
       " 'Eltern-Kind-Schaukel für Spielplätze',\n",
       " 'Verbreiterung Fuß/Radweg Bienroder Weg',\n",
       " 'Fahrradpiktogramme Rüninger Weg endlich umsetzen',\n",
       " 'Einrichten eines Durchfahrtverbots für Transporter und Kraftfahrzeuge über 3,5 Tonnen in die Volmestraße',\n",
       " 'Ausnahmegenehmigung für pflegende Privatpersonen zum Parken',\n",
       " 'Umstellung der Beleuchtung auf LED',\n",
       " 'Einfacher Weg für die Genehmigung von nicht kommerziellen Tanzveranstaltungen in Braunschweiger Park und Grünanlagen',\n",
       " 'Mittelweg 30km/h Blitzer',\n",
       " 'Parkplatz auf dem Wollmarkt stoppen',\n",
       " 'Push & Pull',\n",
       " 'Mühlentrift Verkehr, Tempo 30, Anlieger Frei',\n",
       " 'Ponyclub Querum e.V.',\n",
       " 'Fahrradstraße Wilhelm-Bode-Straße und Karl-Marx-Straße mit Vorfahrt',\n",
       " 'Gefahrenstelle auf dem Ringgleis',\n",
       " 'Aufsteller mit Ladeninfos für den Handelsweg',\n",
       " 'Stadtkindergarten/Krippe',\n",
       " 'Bringzone für die Realschule Maschstraße',\n",
       " 'Mehr Bewohnerparkplätze in der Maschstraße',\n",
       " 'Verkehrssichere Max-Planck-Str',\n",
       " 'Nachhaltigere und effizientere Grünflächenbewässerung',\n",
       " 'Braunschweig braucht einen Wasserspielplatz!',\n",
       " 'Verkehrsspiegel Kreuzung Karl-Hintze-Weg und Mittelriede',\n",
       " 'Halteververbot auf der Altmarkstr. in Höhe Auf dem Anger',\n",
       " 'Einbahnstraße Wilhelmsgarten',\n",
       " 'Einbahnstraße St.-Ingbert-Straße zur Lärmreduzierung',\n",
       " 'Tiny House Fläche erstellen',\n",
       " 'Installation einer Strassen/wegbeleuchtung',\n",
       " 'Weiteres Angebot des Braunschweiger Schülertickets für 15 Euro',\n",
       " 'Mehr Bewohnerparkplätze am Burgundenplatz',\n",
       " 'Hinweisschild Einsatzfahrzeug Salzdahlumer Straße',\n",
       " 'Sichere Überquerungsmöglichkeit am Campus Forschungsflughafen',\n",
       " 'Parkplätze Adventsgeschäft - Forderung AAI',\n",
       " '§ 37 Hilfe bei Verwaltungsangelegenheiten Infoveranstaltung',\n",
       " 'Veloroute und Parkplatzsituation Helmstedeter Straße',\n",
       " 'Pflege /Gestaltung Grünanlagen',\n",
       " 'Aufrüstung Broitzemer Spielplätze für Kleinkinder',\n",
       " 'Geschwindigkeitsschwellen Holzmindener Straße',\n",
       " 'App Dorffunk',\n",
       " 'Ort für Grafitty und Tags statt Beschmieren im östlichen Ringgebiet',\n",
       " 'Petristraße für Radfahrer optimieren',\n",
       " 'Haltestelle extrem unsicher',\n",
       " 'Umwandlung des alten Galaria-Gebäudes in ein Parkhaus',\n",
       " '„Sichtschutz“ an RadfahrerInnenampel Ecke Gliedmaroder Str./Böcklinstr. für Autofahrende',\n",
       " 'Sensorgesteuerte Ampelschaltung Ringgleis/Celler Straße',\n",
       " 'Gesundheits- und Rehazentrum im Galeria-Gebäude',\n",
       " 'Parkplätze Querum',\n",
       " 'Basketballplatz erneuern am Spielplatz Hohetorwall',\n",
       " '100 künstlerisch gestaltete Bänke für Braunschweig!',\n",
       " 'Warnschilder vor der neuen Querungshilfe An der Rothenburg',\n",
       " 'Beleuchtung Ringgleis',\n",
       " 'Hinweisschild für Radfahrer beim Überholen von Fußgängern auf dem gesamten Ringgleis',\n",
       " 'Ein Zebrastreifen für den Handelsweg',\n",
       " 'Fahrradständer und grüner Pfeil für Fahrräder',\n",
       " 'Autos versperren Fußweg',\n",
       " 'Fahrradparkhaus Innenstadt',\n",
       " 'Verwaiste Einkaufswagen',\n",
       " 'Anpassung Strahler Dom/Münzstraße',\n",
       " 'T- Kreuzung Hordorfer Str. L 633/ Schapen/Weddel K41 ist lebensgefährlich',\n",
       " 'Schulweg von Grundschüler: Monatskarte ohne 2km Entfernung',\n",
       " 'Fahrradständer',\n",
       " 'Lehmanger sicherer machen!',\n",
       " 'Petition: Verbesserung des Skateparks am Westbahnhof in Braunschweig zum 10-jährigen Jubiläum',\n",
       " 'Lärmschutzwand A39 Geitelde',\n",
       " 'Rad und Fußweg Lehmanger Richtung Donauviertel',\n",
       " 'Zuwegung Bhf. Gliesmarode einladend randbepflanzen',\n",
       " '„Spielstraßen“ beruhigen',\n",
       " 'Skaterbahn Mutter Kind Spielplatz',\n",
       " 'Überprüfung und Aktualisierung von Verkehrsschildern',\n",
       " 'Markierung Radweg Kreuzung Steinweg/Ritterbrunnen',\n",
       " 'Begrenzung des Verkehrs auf der Münzstraße',\n",
       " 'Farbliche Markierung von Parkflächen',\n",
       " 'Unterirdischer Rebenring',\n",
       " 'Hundeplatz Melverode',\n",
       " 'Fahrtrichtung auf dem Radweg klar festlegen',\n",
       " 'Kaffee am Ölpersee',\n",
       " 'Einführung eines Blitzersystems mit Audiosensoren',\n",
       " 'Anmeldeportal Stadt Braunschweig',\n",
       " 'Leipziger Straße entlang keine Sitzbänke',\n",
       " 'Salzdahlumer Straße digitales Hinweisschild zur Vorrangschaltung',\n",
       " 'Entlastung der Bevenroder Str.',\n",
       " 'Hundeplatz Melverode',\n",
       " 'Signallampe Straßenbahnquerung',\n",
       " 'Bäume gegen Klimawandel',\n",
       " 'Kein Anwohnerparken im östlichen Ringgebiet',\n",
       " 'Verkehrsberuhigung Madamenweg',\n",
       " 'Wegbeleuchtung bauen',\n",
       " 'Ampelschaltung Hamburger Straße vorm Stadion optimieren',\n",
       " 'Ringbus erhalten – das südwestliche Ringgebiet darf nicht abgehängt werden!',\n",
       " 'Fußgängerüberweg für eine sicherere Grundschule in Querum',\n",
       " 'Rote Radwegmarkierung Münchenstraße/Broitzemer Straße',\n",
       " 'Optimierung Fußgängerampel Ackerstr./Helmstedter Str.',\n",
       " 'Abstimmungen im Protokoll mit Angabe des genauen Ergebnisses',\n",
       " 'Wilhelm-Bornstedt-Weg entlang der Oker besser befestigen',\n",
       " 'Hundewiese Nußberg',\n",
       " 'Veranstaltungen richtig Planen']"
      ]
     },
     "execution_count": 24,
     "metadata": {},
     "output_type": "execute_result"
    }
   ],
   "source": [
    "titles"
   ]
  },
  {
   "cell_type": "code",
   "execution_count": 25,
   "id": "cd2b83f80ed6d2e7",
   "metadata": {
    "ExecuteTime": {
     "end_time": "2024-08-06T20:27:28.812106Z",
     "start_time": "2024-08-06T20:27:28.435132Z"
    }
   },
   "outputs": [
    {
     "data": {
      "application/vnd.plotly.v1+json": {
       "config": {
        "plotlyServerURL": "https://plot.ly"
       },
       "data": [
        {
         "customdata": [
          [
           "Verkehrsberuhigter Bereich Holwedestraße"
          ],
          [
           "Sicherer Schulweg Querum"
          ],
          [
           "Tempo 30 Madamenweg/Ringgleis bis Kreuzung Madamenweg/Altstadring"
          ],
          [
           "Fahrradkonzept Wendenstraße überarbeiten..."
          ],
          [
           "Brodweg - brisant für alle Verkehrsteilnehmenden"
          ],
          [
           "Schulverkehr Querum"
          ],
          [
           "Solarunterstand für Räder"
          ],
          [
           "Kastanienallee Ampelschaltung anpassen"
          ],
          [
           "Verkehrspiegel Ausfahrt Buschweg auf die Hauptstraße in Wenden"
          ],
          [
           "Ampel für Radfahrer Wendenring Ecke Maschpl"
          ],
          [
           "Geschwindigkeits- und Durchfahrtsbegrenzung Querumer Straße"
          ],
          [
           "FGÜ"
          ],
          [
           "Umrüstung der ÖPNV-Busflotte auf Elektromobilität"
          ],
          [
           "Zebrastreifen an der Kreuzung Mittelweg Ringgleis."
          ],
          [
           "Blitzer am Bohlweg ( vor Schloß )"
          ],
          [
           "Verbreiterung Fuß/Radweg Bienroder Weg"
          ],
          [
           "Fahrradpiktogramme Rüninger Weg endlich umsetzen"
          ],
          [
           "Einrichten eines Durchfahrtverbots für Transporter und Kraftfahrzeuge über 3,5 Tonnen in die Volmestraße"
          ],
          [
           "Ausnahmegenehmigung für pflegende Privatpersonen zum Parken"
          ],
          [
           "Mittelweg 30km/h Blitzer"
          ],
          [
           "Parkplatz auf dem Wollmarkt stoppen"
          ],
          [
           "Push & Pull"
          ],
          [
           "Mühlentrift Verkehr, Tempo 30, Anlieger Frei"
          ],
          [
           "Fahrradstraße Wilhelm-Bode-Straße und Karl-Marx-Straße mit Vorfahrt"
          ],
          [
           "Gefahrenstelle auf dem Ringgleis"
          ],
          [
           "Bringzone für die Realschule Maschstraße"
          ],
          [
           "Mehr Bewohnerparkplätze in der Maschstraße"
          ],
          [
           "Verkehrssichere Max-Planck-Str"
          ],
          [
           "Verkehrsspiegel Kreuzung Karl-Hintze-Weg und Mittelriede"
          ],
          [
           "Halteververbot auf der Altmarkstr. in Höhe Auf dem Anger"
          ],
          [
           "Einbahnstraße Wilhelmsgarten"
          ],
          [
           "Einbahnstraße St.-Ingbert-Straße zur Lärmreduzierung"
          ],
          [
           "Mehr Bewohnerparkplätze am Burgundenplatz"
          ],
          [
           "Hinweisschild Einsatzfahrzeug Salzdahlumer Straße"
          ],
          [
           "Sichere Überquerungsmöglichkeit am Campus Forschungsflughafen"
          ],
          [
           "Veloroute und Parkplatzsituation Helmstedeter Straße"
          ],
          [
           "Geschwindigkeitsschwellen Holzmindener Straße"
          ],
          [
           "Petristraße für Radfahrer optimieren"
          ],
          [
           "„Sichtschutz“ an RadfahrerInnenampel Ecke Gliedmaroder Str./Böcklinstr. für Autofahrende"
          ],
          [
           "Sensorgesteuerte Ampelschaltung Ringgleis/Celler Straße"
          ],
          [
           "Parkplätze Querum"
          ],
          [
           "Warnschilder vor der neuen Querungshilfe An der Rothenburg"
          ],
          [
           "Beleuchtung Ringgleis"
          ],
          [
           "Hinweisschild für Radfahrer beim Überholen von Fußgängern auf dem gesamten Ringgleis"
          ],
          [
           "Ein Zebrastreifen für den Handelsweg"
          ],
          [
           "Fahrradständer und grüner Pfeil für Fahrräder"
          ],
          [
           "Autos versperren Fußweg"
          ],
          [
           "Fahrradparkhaus Innenstadt"
          ],
          [
           "Anpassung Strahler Dom/Münzstraße"
          ],
          [
           "T- Kreuzung Hordorfer Str. L 633/ Schapen/Weddel K41 ist lebensgefährlich"
          ],
          [
           "Schulweg von Grundschüler: Monatskarte ohne 2km Entfernung"
          ],
          [
           "Fahrradständer"
          ],
          [
           "Lehmanger sicherer machen!"
          ],
          [
           "Lärmschutzwand A39 Geitelde"
          ],
          [
           "Rad und Fußweg Lehmanger Richtung Donauviertel"
          ],
          [
           "„Spielstraßen“ beruhigen"
          ],
          [
           "Überprüfung und Aktualisierung von Verkehrsschildern"
          ],
          [
           "Markierung Radweg Kreuzung Steinweg/Ritterbrunnen"
          ],
          [
           "Begrenzung des Verkehrs auf der Münzstraße"
          ],
          [
           "Farbliche Markierung von Parkflächen"
          ],
          [
           "Unterirdischer Rebenring"
          ],
          [
           "Fahrtrichtung auf dem Radweg klar festlegen"
          ],
          [
           "Einführung eines Blitzersystems mit Audiosensoren"
          ],
          [
           "Salzdahlumer Straße digitales Hinweisschild zur Vorrangschaltung"
          ],
          [
           "Entlastung der Bevenroder Str."
          ],
          [
           "Signallampe Straßenbahnquerung"
          ],
          [
           "Kein Anwohnerparken im östlichen Ringgebiet"
          ],
          [
           "Verkehrsberuhigung Madamenweg"
          ],
          [
           "Ampelschaltung Hamburger Straße vorm Stadion optimieren"
          ],
          [
           "Ringbus erhalten – das südwestliche Ringgebiet darf nicht abgehängt werden!"
          ],
          [
           "Fußgängerüberweg für eine sicherere Grundschule in Querum"
          ],
          [
           "Rote Radwegmarkierung Münchenstraße/Broitzemer Straße"
          ],
          [
           "Optimierung Fußgängerampel Ackerstr./Helmstedter Str."
          ],
          [
           "Wilhelm-Bornstedt-Weg entlang der Oker besser befestigen"
          ]
         ],
         "hovertemplate": "label=Verkehr<br>x=%{x}<br>y=%{y}<br>hover_text=%{customdata[0]}<extra></extra>",
         "legendgroup": "Verkehr",
         "marker": {
          "color": "#636efa",
          "symbol": "circle"
         },
         "mode": "markers",
         "name": "Verkehr",
         "orientation": "v",
         "showlegend": true,
         "type": "scatter",
         "x": [
          4.1347165,
          3.3092065,
          4.068671,
          4.241812,
          5.2600403,
          5.416315,
          4.1020565,
          3.9392862,
          1.6074688,
          4.7322598,
          3.8932264,
          1.7118306,
          3.4880419,
          4.879256,
          3.192531,
          5.2072673,
          5.0857778,
          1.569714,
          2.0542595,
          4.383494,
          1.5246305,
          4.744056,
          4.1573253,
          4.4579816,
          4.965625,
          2.000213,
          1.4919028,
          3.8123708,
          3.5500937,
          2.4382818,
          3.3626344,
          4.0554633,
          1.2238985,
          4.8078,
          3.7522104,
          1.2467808,
          1.3959466,
          4.9914365,
          5.1218653,
          4.704817,
          1.1934228,
          3.4372773,
          5.326041,
          5.379142,
          4.518754,
          4.3788342,
          1.5964109,
          2.8073633,
          3.1212893,
          5.1247354,
          4.1503043,
          5.5424757,
          4.2652354,
          3.8666742,
          4.835699,
          4.020107,
          4.1898785,
          5.389657,
          1.3624243,
          1.4139773,
          2.523196,
          4.906833,
          3.8851283,
          4.7923207,
          2.7343261,
          5.0061216,
          1.89531,
          1.2048695,
          4.7308793,
          4.914665,
          3.7431004,
          3.0235016,
          2.8832977,
          5.09868
         ],
         "xaxis": "x",
         "y": [
          11.839834,
          13.339896,
          13.227149,
          13.367308,
          13.204434,
          14.670543,
          15.278605,
          14.383875,
          14.215803,
          12.619497,
          13.617006,
          13.810225,
          14.423003,
          12.168038,
          12.439832,
          13.188244,
          13.050987,
          15.244261,
          15.256525,
          12.807208,
          15.172426,
          12.255219,
          12.967778,
          13.2076845,
          12.235032,
          15.693755,
          14.776298,
          12.802893,
          14.835095,
          12.620616,
          12.761878,
          14.201546,
          14.817355,
          13.813754,
          14.025467,
          14.876877,
          14.419454,
          13.009495,
          12.873899,
          11.920545,
          14.785839,
          13.261392,
          12.147264,
          13.119164,
          12.781705,
          14.131802,
          14.016214,
          13.333156,
          12.408148,
          14.760127,
          13.888064,
          13.501051,
          12.144646,
          12.364928,
          12.00239,
          12.678192,
          14.685835,
          13.39759,
          14.668773,
          15.200627,
          13.374952,
          13.5852785,
          14.123927,
          13.792597,
          12.547461,
          11.852984,
          14.753222,
          14.494998,
          12.934367,
          11.940167,
          13.854189,
          13.323534,
          12.451181,
          14.560235
         ],
         "yaxis": "y"
        },
        {
         "customdata": [
          [
           "Wickelboard auf städtischen Spielplätzen"
          ],
          [
           "Neugestaltung WOLLMARKT"
          ],
          [
           "Dauerhafte Begrünung des Schlossplatzes und Platz der Deutschen Einheit"
          ],
          [
           "Mehr Mülleimer im Waldstück zwischen Kralenriede, der Schuntersiedlung und Rühme."
          ],
          [
           "Sitzbänke an der Platane Okerstraße 8b"
          ],
          [
           "Steg am Schapenbruchteich"
          ],
          [
           "Toiletten für den Löwenwall"
          ],
          [
           "Mehr Mülleimer/ kotbeutelstation"
          ],
          [
           "Nachhaltigere und effizientere Grünflächenbewässerung"
          ],
          [
           "Braunschweig braucht einen Wasserspielplatz!"
          ],
          [
           "Pflege /Gestaltung Grünanlagen"
          ],
          [
           "100 künstlerisch gestaltete Bänke für Braunschweig!"
          ],
          [
           "Verwaiste Einkaufswagen"
          ],
          [
           "Zuwegung Bhf. Gliesmarode einladend randbepflanzen"
          ],
          [
           "Hundeplatz Melverode"
          ],
          [
           "Kaffee am Ölpersee"
          ],
          [
           "Leipziger Straße entlang keine Sitzbänke"
          ],
          [
           "Hundeplatz Melverode"
          ],
          [
           "Bäume gegen Klimawandel"
          ],
          [
           "Hundewiese Nußberg"
          ]
         ],
         "hovertemplate": "label=Stadtgrün und Umwelt<br>x=%{x}<br>y=%{y}<br>hover_text=%{customdata[0]}<extra></extra>",
         "legendgroup": "Stadtgrün und Umwelt",
         "marker": {
          "color": "#EF553B",
          "symbol": "circle"
         },
         "mode": "markers",
         "name": "Stadtgrün und Umwelt",
         "orientation": "v",
         "showlegend": true,
         "type": "scatter",
         "x": [
          2.5348268,
          4.773669,
          2.413802,
          5.0313144,
          3.0641115,
          2.4616754,
          1.8242108,
          3.4066536,
          3.978063,
          2.2559483,
          4.4697437,
          3.0908976,
          2.7829838,
          4.8531566,
          4.635571,
          2.0928483,
          2.9375255,
          4.6513233,
          3.1084707,
          3.0138388
         ],
         "xaxis": "x",
         "y": [
          15.302983,
          15.116759,
          15.569665,
          14.503348,
          14.446783,
          12.637894,
          13.259277,
          12.187295,
          15.166982,
          15.117885,
          15.188538,
          14.405356,
          15.425141,
          14.775316,
          15.061462,
          14.369513,
          14.161094,
          15.174508,
          13.687852,
          14.320015
         ],
         "yaxis": "y"
        },
        {
         "customdata": [
          [
           "Beleuchtung Wasserturm Giersberg"
          ],
          [
           "Hundewiese am Jütenring einrichten - Bebauungsplan HA 137 ändern"
          ],
          [
           "\"Viktualienmarkt\" Burgpassage"
          ],
          [
           "Umsetzen Informationsstele am Burgplatz"
          ],
          [
           "Standort 2. Haferstroh-Toilette"
          ],
          [
           "Umstellung der Beleuchtung auf LED"
          ],
          [
           "Aufsteller mit Ladeninfos für den Handelsweg"
          ],
          [
           "Tiny House Fläche erstellen"
          ]
         ],
         "hovertemplate": "label=Bauen und Planung<br>x=%{x}<br>y=%{y}<br>hover_text=%{customdata[0]}<extra></extra>",
         "legendgroup": "Bauen und Planung",
         "marker": {
          "color": "#00cc96",
          "symbol": "circle"
         },
         "mode": "markers",
         "name": "Bauen und Planung",
         "orientation": "v",
         "showlegend": true,
         "type": "scatter",
         "x": [
          3.7386122,
          2.696378,
          2.3855855,
          2.4591067,
          1.960078,
          3.9314542,
          4.3001285,
          2.5177703
         ],
         "xaxis": "x",
         "y": [
          13.088599,
          14.615868,
          13.61763,
          13.568431,
          13.010218,
          13.0674305,
          14.744348,
          14.517285
         ],
         "yaxis": "y"
        },
        {
         "customdata": [
          [
           "Zeitgemäße Funktionalität für die Ideenplattform"
          ],
          [
           "Lärmaktionsplanung"
          ],
          [
           "Einfacher Weg für die Genehmigung von nicht kommerziellen Tanzveranstaltungen in Braunschweiger Park und Grünanlagen"
          ],
          [
           "§ 37 Hilfe bei Verwaltungsangelegenheiten Infoveranstaltung"
          ],
          [
           "App Dorffunk"
          ],
          [
           "Anmeldeportal Stadt Braunschweig"
          ],
          [
           "Abstimmungen im Protokoll mit Angabe des genauen Ergebnisses"
          ]
         ],
         "hovertemplate": "label=Allgemeine Verwaltung<br>x=%{x}<br>y=%{y}<br>hover_text=%{customdata[0]}<extra></extra>",
         "legendgroup": "Allgemeine Verwaltung",
         "marker": {
          "color": "#ab63fa",
          "symbol": "circle"
         },
         "mode": "markers",
         "name": "Allgemeine Verwaltung",
         "orientation": "v",
         "showlegend": true,
         "type": "scatter",
         "x": [
          4.884217,
          3.325148,
          2.3567338,
          2.6106093,
          3.9940429,
          2.476345,
          3.677434
         ],
         "xaxis": "x",
         "y": [
          12.906379,
          14.813964,
          15.284507,
          14.87464,
          11.883283,
          15.017152,
          15.23654
         ],
         "yaxis": "y"
        },
        {
         "customdata": [
          [
           "Spielplätze im Herbst/Winter nutzbarer machen"
          ],
          [
           "Unterstützung für besonders gefährdete Menschen bei Hitze"
          ],
          [
           "Wickeltisch"
          ],
          [
           "Einführung Stadtinterne Kinderbetreuung für Mütter"
          ],
          [
           "Eltern-Kind-Schaukel für Spielplätze"
          ],
          [
           "Ponyclub Querum e.V."
          ],
          [
           "Weiteres Angebot des Braunschweiger Schülertickets für 15 Euro"
          ],
          [
           "Aufrüstung Broitzemer Spielplätze für Kleinkinder"
          ],
          [
           "Ort für Grafitty und Tags statt Beschmieren im östlichen Ringgebiet"
          ],
          [
           "Basketballplatz erneuern am Spielplatz Hohetorwall"
          ],
          [
           "Petition: Verbesserung des Skateparks am Westbahnhof in Braunschweig zum 10-jährigen Jubiläum"
          ],
          [
           "Skaterbahn Mutter Kind Spielplatz"
          ]
         ],
         "hovertemplate": "label=Soziales, Jugend und Gesundheit<br>x=%{x}<br>y=%{y}<br>hover_text=%{customdata[0]}<extra></extra>",
         "legendgroup": "Soziales, Jugend und Gesundheit",
         "marker": {
          "color": "#FFA15A",
          "symbol": "circle"
         },
         "mode": "markers",
         "name": "Soziales, Jugend und Gesundheit",
         "orientation": "v",
         "showlegend": true,
         "type": "scatter",
         "x": [
          3.0179965,
          3.2579026,
          1.9606222,
          3.412264,
          2.7734845,
          2.638586,
          2.9695415,
          2.5278573,
          4.0867057,
          2.6360555,
          1.7061887,
          2.6372948
         ],
         "xaxis": "x",
         "y": [
          15.793799,
          14.960095,
          13.233529,
          15.234495,
          15.943157,
          15.239343,
          14.8755,
          15.970752,
          11.781614,
          16.005941,
          15.039287,
          15.886116
         ],
         "yaxis": "y"
        },
        {
         "customdata": [
          [
           "Aufführung des Dramas \"Julius von Tarent\" von Johann Anton Leisewitz"
          ],
          [
           "Stadtkindergarten/Krippe"
          ]
         ],
         "hovertemplate": "label=Schule und Kultur<br>x=%{x}<br>y=%{y}<br>hover_text=%{customdata[0]}<extra></extra>",
         "legendgroup": "Schule und Kultur",
         "marker": {
          "color": "#19d3f3",
          "symbol": "circle"
         },
         "mode": "markers",
         "name": "Schule und Kultur",
         "orientation": "v",
         "showlegend": true,
         "type": "scatter",
         "x": [
          3.8143985,
          3.3790708
         ],
         "xaxis": "x",
         "y": [
          15.203803,
          15.298479
         ],
         "yaxis": "y"
        },
        {
         "customdata": [
          [
           "Installation einer Strassen/wegbeleuchtung"
          ],
          [
           "Haltestelle extrem unsicher"
          ],
          [
           "Wegbeleuchtung bauen"
          ],
          [
           "Veranstaltungen richtig Planen"
          ]
         ],
         "hovertemplate": "label=Recht, Sicherheit und Ordnung<br>x=%{x}<br>y=%{y}<br>hover_text=%{customdata[0]}<extra></extra>",
         "legendgroup": "Recht, Sicherheit und Ordnung",
         "marker": {
          "color": "#FF6692",
          "symbol": "circle"
         },
         "mode": "markers",
         "name": "Recht, Sicherheit und Ordnung",
         "orientation": "v",
         "showlegend": true,
         "type": "scatter",
         "x": [
          5.472395,
          4.0355725,
          5.562049,
          3.1337442
         ],
         "xaxis": "x",
         "y": [
          14.633189,
          13.526695,
          14.320541,
          15.168962
         ],
         "yaxis": "y"
        },
        {
         "customdata": [
          [
           "Parkplätze Adventsgeschäft - Forderung AAI"
          ],
          [
           "Umwandlung des alten Galaria-Gebäudes in ein Parkhaus"
          ],
          [
           "Gesundheits- und Rehazentrum im Galeria-Gebäude"
          ]
         ],
         "hovertemplate": "label=Wirtschaft<br>x=%{x}<br>y=%{y}<br>hover_text=%{customdata[0]}<extra></extra>",
         "legendgroup": "Wirtschaft",
         "marker": {
          "color": "#B6E880",
          "symbol": "circle"
         },
         "mode": "markers",
         "name": "Wirtschaft",
         "orientation": "v",
         "showlegend": true,
         "type": "scatter",
         "x": [
          1.6698905,
          2.0050685,
          4.5626345
         ],
         "xaxis": "x",
         "y": [
          15.292152,
          15.152107,
          14.393568
         ],
         "yaxis": "y"
        }
       ],
       "layout": {
        "legend": {
         "title": {
          "text": "label"
         },
         "tracegroupgap": 0
        },
        "margin": {
         "t": 60
        },
        "template": {
         "data": {
          "bar": [
           {
            "error_x": {
             "color": "#2a3f5f"
            },
            "error_y": {
             "color": "#2a3f5f"
            },
            "marker": {
             "line": {
              "color": "#E5ECF6",
              "width": 0.5
             },
             "pattern": {
              "fillmode": "overlay",
              "size": 10,
              "solidity": 0.2
             }
            },
            "type": "bar"
           }
          ],
          "barpolar": [
           {
            "marker": {
             "line": {
              "color": "#E5ECF6",
              "width": 0.5
             },
             "pattern": {
              "fillmode": "overlay",
              "size": 10,
              "solidity": 0.2
             }
            },
            "type": "barpolar"
           }
          ],
          "carpet": [
           {
            "aaxis": {
             "endlinecolor": "#2a3f5f",
             "gridcolor": "white",
             "linecolor": "white",
             "minorgridcolor": "white",
             "startlinecolor": "#2a3f5f"
            },
            "baxis": {
             "endlinecolor": "#2a3f5f",
             "gridcolor": "white",
             "linecolor": "white",
             "minorgridcolor": "white",
             "startlinecolor": "#2a3f5f"
            },
            "type": "carpet"
           }
          ],
          "choropleth": [
           {
            "colorbar": {
             "outlinewidth": 0,
             "ticks": ""
            },
            "type": "choropleth"
           }
          ],
          "contour": [
           {
            "colorbar": {
             "outlinewidth": 0,
             "ticks": ""
            },
            "colorscale": [
             [
              0,
              "#0d0887"
             ],
             [
              0.1111111111111111,
              "#46039f"
             ],
             [
              0.2222222222222222,
              "#7201a8"
             ],
             [
              0.3333333333333333,
              "#9c179e"
             ],
             [
              0.4444444444444444,
              "#bd3786"
             ],
             [
              0.5555555555555556,
              "#d8576b"
             ],
             [
              0.6666666666666666,
              "#ed7953"
             ],
             [
              0.7777777777777778,
              "#fb9f3a"
             ],
             [
              0.8888888888888888,
              "#fdca26"
             ],
             [
              1,
              "#f0f921"
             ]
            ],
            "type": "contour"
           }
          ],
          "contourcarpet": [
           {
            "colorbar": {
             "outlinewidth": 0,
             "ticks": ""
            },
            "type": "contourcarpet"
           }
          ],
          "heatmap": [
           {
            "colorbar": {
             "outlinewidth": 0,
             "ticks": ""
            },
            "colorscale": [
             [
              0,
              "#0d0887"
             ],
             [
              0.1111111111111111,
              "#46039f"
             ],
             [
              0.2222222222222222,
              "#7201a8"
             ],
             [
              0.3333333333333333,
              "#9c179e"
             ],
             [
              0.4444444444444444,
              "#bd3786"
             ],
             [
              0.5555555555555556,
              "#d8576b"
             ],
             [
              0.6666666666666666,
              "#ed7953"
             ],
             [
              0.7777777777777778,
              "#fb9f3a"
             ],
             [
              0.8888888888888888,
              "#fdca26"
             ],
             [
              1,
              "#f0f921"
             ]
            ],
            "type": "heatmap"
           }
          ],
          "heatmapgl": [
           {
            "colorbar": {
             "outlinewidth": 0,
             "ticks": ""
            },
            "colorscale": [
             [
              0,
              "#0d0887"
             ],
             [
              0.1111111111111111,
              "#46039f"
             ],
             [
              0.2222222222222222,
              "#7201a8"
             ],
             [
              0.3333333333333333,
              "#9c179e"
             ],
             [
              0.4444444444444444,
              "#bd3786"
             ],
             [
              0.5555555555555556,
              "#d8576b"
             ],
             [
              0.6666666666666666,
              "#ed7953"
             ],
             [
              0.7777777777777778,
              "#fb9f3a"
             ],
             [
              0.8888888888888888,
              "#fdca26"
             ],
             [
              1,
              "#f0f921"
             ]
            ],
            "type": "heatmapgl"
           }
          ],
          "histogram": [
           {
            "marker": {
             "pattern": {
              "fillmode": "overlay",
              "size": 10,
              "solidity": 0.2
             }
            },
            "type": "histogram"
           }
          ],
          "histogram2d": [
           {
            "colorbar": {
             "outlinewidth": 0,
             "ticks": ""
            },
            "colorscale": [
             [
              0,
              "#0d0887"
             ],
             [
              0.1111111111111111,
              "#46039f"
             ],
             [
              0.2222222222222222,
              "#7201a8"
             ],
             [
              0.3333333333333333,
              "#9c179e"
             ],
             [
              0.4444444444444444,
              "#bd3786"
             ],
             [
              0.5555555555555556,
              "#d8576b"
             ],
             [
              0.6666666666666666,
              "#ed7953"
             ],
             [
              0.7777777777777778,
              "#fb9f3a"
             ],
             [
              0.8888888888888888,
              "#fdca26"
             ],
             [
              1,
              "#f0f921"
             ]
            ],
            "type": "histogram2d"
           }
          ],
          "histogram2dcontour": [
           {
            "colorbar": {
             "outlinewidth": 0,
             "ticks": ""
            },
            "colorscale": [
             [
              0,
              "#0d0887"
             ],
             [
              0.1111111111111111,
              "#46039f"
             ],
             [
              0.2222222222222222,
              "#7201a8"
             ],
             [
              0.3333333333333333,
              "#9c179e"
             ],
             [
              0.4444444444444444,
              "#bd3786"
             ],
             [
              0.5555555555555556,
              "#d8576b"
             ],
             [
              0.6666666666666666,
              "#ed7953"
             ],
             [
              0.7777777777777778,
              "#fb9f3a"
             ],
             [
              0.8888888888888888,
              "#fdca26"
             ],
             [
              1,
              "#f0f921"
             ]
            ],
            "type": "histogram2dcontour"
           }
          ],
          "mesh3d": [
           {
            "colorbar": {
             "outlinewidth": 0,
             "ticks": ""
            },
            "type": "mesh3d"
           }
          ],
          "parcoords": [
           {
            "line": {
             "colorbar": {
              "outlinewidth": 0,
              "ticks": ""
             }
            },
            "type": "parcoords"
           }
          ],
          "pie": [
           {
            "automargin": true,
            "type": "pie"
           }
          ],
          "scatter": [
           {
            "fillpattern": {
             "fillmode": "overlay",
             "size": 10,
             "solidity": 0.2
            },
            "type": "scatter"
           }
          ],
          "scatter3d": [
           {
            "line": {
             "colorbar": {
              "outlinewidth": 0,
              "ticks": ""
             }
            },
            "marker": {
             "colorbar": {
              "outlinewidth": 0,
              "ticks": ""
             }
            },
            "type": "scatter3d"
           }
          ],
          "scattercarpet": [
           {
            "marker": {
             "colorbar": {
              "outlinewidth": 0,
              "ticks": ""
             }
            },
            "type": "scattercarpet"
           }
          ],
          "scattergeo": [
           {
            "marker": {
             "colorbar": {
              "outlinewidth": 0,
              "ticks": ""
             }
            },
            "type": "scattergeo"
           }
          ],
          "scattergl": [
           {
            "marker": {
             "colorbar": {
              "outlinewidth": 0,
              "ticks": ""
             }
            },
            "type": "scattergl"
           }
          ],
          "scattermapbox": [
           {
            "marker": {
             "colorbar": {
              "outlinewidth": 0,
              "ticks": ""
             }
            },
            "type": "scattermapbox"
           }
          ],
          "scatterpolar": [
           {
            "marker": {
             "colorbar": {
              "outlinewidth": 0,
              "ticks": ""
             }
            },
            "type": "scatterpolar"
           }
          ],
          "scatterpolargl": [
           {
            "marker": {
             "colorbar": {
              "outlinewidth": 0,
              "ticks": ""
             }
            },
            "type": "scatterpolargl"
           }
          ],
          "scatterternary": [
           {
            "marker": {
             "colorbar": {
              "outlinewidth": 0,
              "ticks": ""
             }
            },
            "type": "scatterternary"
           }
          ],
          "surface": [
           {
            "colorbar": {
             "outlinewidth": 0,
             "ticks": ""
            },
            "colorscale": [
             [
              0,
              "#0d0887"
             ],
             [
              0.1111111111111111,
              "#46039f"
             ],
             [
              0.2222222222222222,
              "#7201a8"
             ],
             [
              0.3333333333333333,
              "#9c179e"
             ],
             [
              0.4444444444444444,
              "#bd3786"
             ],
             [
              0.5555555555555556,
              "#d8576b"
             ],
             [
              0.6666666666666666,
              "#ed7953"
             ],
             [
              0.7777777777777778,
              "#fb9f3a"
             ],
             [
              0.8888888888888888,
              "#fdca26"
             ],
             [
              1,
              "#f0f921"
             ]
            ],
            "type": "surface"
           }
          ],
          "table": [
           {
            "cells": {
             "fill": {
              "color": "#EBF0F8"
             },
             "line": {
              "color": "white"
             }
            },
            "header": {
             "fill": {
              "color": "#C8D4E3"
             },
             "line": {
              "color": "white"
             }
            },
            "type": "table"
           }
          ]
         },
         "layout": {
          "annotationdefaults": {
           "arrowcolor": "#2a3f5f",
           "arrowhead": 0,
           "arrowwidth": 1
          },
          "autotypenumbers": "strict",
          "coloraxis": {
           "colorbar": {
            "outlinewidth": 0,
            "ticks": ""
           }
          },
          "colorscale": {
           "diverging": [
            [
             0,
             "#8e0152"
            ],
            [
             0.1,
             "#c51b7d"
            ],
            [
             0.2,
             "#de77ae"
            ],
            [
             0.3,
             "#f1b6da"
            ],
            [
             0.4,
             "#fde0ef"
            ],
            [
             0.5,
             "#f7f7f7"
            ],
            [
             0.6,
             "#e6f5d0"
            ],
            [
             0.7,
             "#b8e186"
            ],
            [
             0.8,
             "#7fbc41"
            ],
            [
             0.9,
             "#4d9221"
            ],
            [
             1,
             "#276419"
            ]
           ],
           "sequential": [
            [
             0,
             "#0d0887"
            ],
            [
             0.1111111111111111,
             "#46039f"
            ],
            [
             0.2222222222222222,
             "#7201a8"
            ],
            [
             0.3333333333333333,
             "#9c179e"
            ],
            [
             0.4444444444444444,
             "#bd3786"
            ],
            [
             0.5555555555555556,
             "#d8576b"
            ],
            [
             0.6666666666666666,
             "#ed7953"
            ],
            [
             0.7777777777777778,
             "#fb9f3a"
            ],
            [
             0.8888888888888888,
             "#fdca26"
            ],
            [
             1,
             "#f0f921"
            ]
           ],
           "sequentialminus": [
            [
             0,
             "#0d0887"
            ],
            [
             0.1111111111111111,
             "#46039f"
            ],
            [
             0.2222222222222222,
             "#7201a8"
            ],
            [
             0.3333333333333333,
             "#9c179e"
            ],
            [
             0.4444444444444444,
             "#bd3786"
            ],
            [
             0.5555555555555556,
             "#d8576b"
            ],
            [
             0.6666666666666666,
             "#ed7953"
            ],
            [
             0.7777777777777778,
             "#fb9f3a"
            ],
            [
             0.8888888888888888,
             "#fdca26"
            ],
            [
             1,
             "#f0f921"
            ]
           ]
          },
          "colorway": [
           "#636efa",
           "#EF553B",
           "#00cc96",
           "#ab63fa",
           "#FFA15A",
           "#19d3f3",
           "#FF6692",
           "#B6E880",
           "#FF97FF",
           "#FECB52"
          ],
          "font": {
           "color": "#2a3f5f"
          },
          "geo": {
           "bgcolor": "white",
           "lakecolor": "white",
           "landcolor": "#E5ECF6",
           "showlakes": true,
           "showland": true,
           "subunitcolor": "white"
          },
          "hoverlabel": {
           "align": "left"
          },
          "hovermode": "closest",
          "mapbox": {
           "style": "light"
          },
          "paper_bgcolor": "white",
          "plot_bgcolor": "#E5ECF6",
          "polar": {
           "angularaxis": {
            "gridcolor": "white",
            "linecolor": "white",
            "ticks": ""
           },
           "bgcolor": "#E5ECF6",
           "radialaxis": {
            "gridcolor": "white",
            "linecolor": "white",
            "ticks": ""
           }
          },
          "scene": {
           "xaxis": {
            "backgroundcolor": "#E5ECF6",
            "gridcolor": "white",
            "gridwidth": 2,
            "linecolor": "white",
            "showbackground": true,
            "ticks": "",
            "zerolinecolor": "white"
           },
           "yaxis": {
            "backgroundcolor": "#E5ECF6",
            "gridcolor": "white",
            "gridwidth": 2,
            "linecolor": "white",
            "showbackground": true,
            "ticks": "",
            "zerolinecolor": "white"
           },
           "zaxis": {
            "backgroundcolor": "#E5ECF6",
            "gridcolor": "white",
            "gridwidth": 2,
            "linecolor": "white",
            "showbackground": true,
            "ticks": "",
            "zerolinecolor": "white"
           }
          },
          "shapedefaults": {
           "line": {
            "color": "#2a3f5f"
           }
          },
          "ternary": {
           "aaxis": {
            "gridcolor": "white",
            "linecolor": "white",
            "ticks": ""
           },
           "baxis": {
            "gridcolor": "white",
            "linecolor": "white",
            "ticks": ""
           },
           "bgcolor": "#E5ECF6",
           "caxis": {
            "gridcolor": "white",
            "linecolor": "white",
            "ticks": ""
           }
          },
          "title": {
           "x": 0.05
          },
          "xaxis": {
           "automargin": true,
           "gridcolor": "white",
           "linecolor": "white",
           "ticks": "",
           "title": {
            "standoff": 15
           },
           "zerolinecolor": "white",
           "zerolinewidth": 2
          },
          "yaxis": {
           "automargin": true,
           "gridcolor": "white",
           "linecolor": "white",
           "ticks": "",
           "title": {
            "standoff": 15
           },
           "zerolinecolor": "white",
           "zerolinewidth": 2
          }
         }
        },
        "xaxis": {
         "anchor": "y",
         "domain": [
          0,
          1
         ],
         "title": {
          "text": "x"
         }
        },
        "yaxis": {
         "anchor": "x",
         "domain": [
          0,
          1
         ],
         "title": {
          "text": "y"
         }
        }
       }
      },
      "text/html": [
       "<div>                            <div id=\"86804696-0b32-4993-9e40-422ec30583e3\" class=\"plotly-graph-div\" style=\"height:525px; width:100%;\"></div>            <script type=\"text/javascript\">                require([\"plotly\"], function(Plotly) {                    window.PLOTLYENV=window.PLOTLYENV || {};                                    if (document.getElementById(\"86804696-0b32-4993-9e40-422ec30583e3\")) {                    Plotly.newPlot(                        \"86804696-0b32-4993-9e40-422ec30583e3\",                        [{\"customdata\":[[\"Verkehrsberuhigter Bereich Holwedestraße\"],[\"Sicherer Schulweg Querum\"],[\"Tempo 30 Madamenweg\\u002fRinggleis bis Kreuzung Madamenweg\\u002fAltstadring\"],[\"Fahrradkonzept Wendenstraße überarbeiten...\"],[\"Brodweg - brisant für alle Verkehrsteilnehmenden\"],[\"Schulverkehr Querum\"],[\"Solarunterstand für Räder\"],[\"Kastanienallee Ampelschaltung anpassen\"],[\"Verkehrspiegel Ausfahrt Buschweg auf die Hauptstraße in Wenden\"],[\"Ampel für Radfahrer Wendenring Ecke Maschpl\"],[\"Geschwindigkeits- und Durchfahrtsbegrenzung Querumer Straße\"],[\"FGÜ\"],[\"Umrüstung der ÖPNV-Busflotte auf Elektromobilität\"],[\"Zebrastreifen an der Kreuzung Mittelweg Ringgleis.\"],[\"Blitzer am Bohlweg ( vor Schloß )\"],[\"Verbreiterung Fuß\\u002fRadweg Bienroder Weg\"],[\"Fahrradpiktogramme Rüninger Weg endlich umsetzen\"],[\"Einrichten eines Durchfahrtverbots für Transporter und Kraftfahrzeuge über 3,5 Tonnen in die Volmestraße\"],[\"Ausnahmegenehmigung für pflegende Privatpersonen zum Parken\"],[\"Mittelweg 30km\\u002fh Blitzer\"],[\"Parkplatz auf dem Wollmarkt stoppen\"],[\"Push & Pull\"],[\"Mühlentrift Verkehr, Tempo 30, Anlieger Frei\"],[\"Fahrradstraße Wilhelm-Bode-Straße und Karl-Marx-Straße mit Vorfahrt\"],[\"Gefahrenstelle auf dem Ringgleis\"],[\"Bringzone für die Realschule Maschstraße\"],[\"Mehr Bewohnerparkplätze in der Maschstraße\"],[\"Verkehrssichere Max-Planck-Str\"],[\"Verkehrsspiegel Kreuzung Karl-Hintze-Weg und Mittelriede\"],[\"Halteververbot auf der Altmarkstr. in Höhe Auf dem Anger\"],[\"Einbahnstraße Wilhelmsgarten\"],[\"Einbahnstraße St.-Ingbert-Straße zur Lärmreduzierung\"],[\"Mehr Bewohnerparkplätze am Burgundenplatz\"],[\"Hinweisschild Einsatzfahrzeug Salzdahlumer Straße\"],[\"Sichere Überquerungsmöglichkeit am Campus Forschungsflughafen\"],[\"Veloroute und Parkplatzsituation Helmstedeter Straße\"],[\"Geschwindigkeitsschwellen Holzmindener Straße\"],[\"Petristraße für Radfahrer optimieren\"],[\"„Sichtschutz“ an RadfahrerInnenampel Ecke Gliedmaroder Str.\\u002fBöcklinstr. für Autofahrende\"],[\"Sensorgesteuerte Ampelschaltung Ringgleis\\u002fCeller Straße\"],[\"Parkplätze Querum\"],[\"Warnschilder vor der neuen Querungshilfe An der Rothenburg\"],[\"Beleuchtung Ringgleis\"],[\"Hinweisschild für Radfahrer beim Überholen von Fußgängern auf dem gesamten Ringgleis\"],[\"Ein Zebrastreifen für den Handelsweg\"],[\"Fahrradständer und grüner Pfeil für Fahrräder\"],[\"Autos versperren Fußweg\"],[\"Fahrradparkhaus Innenstadt\"],[\"Anpassung Strahler Dom\\u002fMünzstraße\"],[\"T- Kreuzung Hordorfer Str. L 633\\u002f Schapen\\u002fWeddel K41 ist lebensgefährlich\"],[\"Schulweg von Grundschüler: Monatskarte ohne 2km Entfernung\"],[\"Fahrradständer\"],[\"Lehmanger sicherer machen!\"],[\"Lärmschutzwand A39 Geitelde\"],[\"Rad und Fußweg Lehmanger Richtung Donauviertel\"],[\"„Spielstraßen“ beruhigen\"],[\"Überprüfung und Aktualisierung von Verkehrsschildern\"],[\"Markierung Radweg Kreuzung Steinweg\\u002fRitterbrunnen\"],[\"Begrenzung des Verkehrs auf der Münzstraße\"],[\"Farbliche Markierung von Parkflächen\"],[\"Unterirdischer Rebenring\"],[\"Fahrtrichtung auf dem Radweg klar festlegen\"],[\"Einführung eines Blitzersystems mit Audiosensoren\"],[\"Salzdahlumer Straße digitales Hinweisschild zur Vorrangschaltung\"],[\"Entlastung der Bevenroder Str.\"],[\"Signallampe Straßenbahnquerung\"],[\"Kein Anwohnerparken im östlichen Ringgebiet\"],[\"Verkehrsberuhigung Madamenweg\"],[\"Ampelschaltung Hamburger Straße vorm Stadion optimieren\"],[\"Ringbus erhalten – das südwestliche Ringgebiet darf nicht abgehängt werden!\"],[\"Fußgängerüberweg für eine sicherere Grundschule in Querum\"],[\"Rote Radwegmarkierung Münchenstraße\\u002fBroitzemer Straße\"],[\"Optimierung Fußgängerampel Ackerstr.\\u002fHelmstedter Str.\"],[\"Wilhelm-Bornstedt-Weg entlang der Oker besser befestigen\"]],\"hovertemplate\":\"label=Verkehr\\u003cbr\\u003ex=%{x}\\u003cbr\\u003ey=%{y}\\u003cbr\\u003ehover_text=%{customdata[0]}\\u003cextra\\u003e\\u003c\\u002fextra\\u003e\",\"legendgroup\":\"Verkehr\",\"marker\":{\"color\":\"#636efa\",\"symbol\":\"circle\"},\"mode\":\"markers\",\"name\":\"Verkehr\",\"orientation\":\"v\",\"showlegend\":true,\"x\":[4.1347165,3.3092065,4.068671,4.241812,5.2600403,5.416315,4.1020565,3.9392862,1.6074688,4.7322598,3.8932264,1.7118306,3.4880419,4.879256,3.192531,5.2072673,5.0857778,1.569714,2.0542595,4.383494,1.5246305,4.744056,4.1573253,4.4579816,4.965625,2.000213,1.4919028,3.8123708,3.5500937,2.4382818,3.3626344,4.0554633,1.2238985,4.8078,3.7522104,1.2467808,1.3959466,4.9914365,5.1218653,4.704817,1.1934228,3.4372773,5.326041,5.379142,4.518754,4.3788342,1.5964109,2.8073633,3.1212893,5.1247354,4.1503043,5.5424757,4.2652354,3.8666742,4.835699,4.020107,4.1898785,5.389657,1.3624243,1.4139773,2.523196,4.906833,3.8851283,4.7923207,2.7343261,5.0061216,1.89531,1.2048695,4.7308793,4.914665,3.7431004,3.0235016,2.8832977,5.09868],\"xaxis\":\"x\",\"y\":[11.839834,13.339896,13.227149,13.367308,13.204434,14.670543,15.278605,14.383875,14.215803,12.619497,13.617006,13.810225,14.423003,12.168038,12.439832,13.188244,13.050987,15.244261,15.256525,12.807208,15.172426,12.255219,12.967778,13.2076845,12.235032,15.693755,14.776298,12.802893,14.835095,12.620616,12.761878,14.201546,14.817355,13.813754,14.025467,14.876877,14.419454,13.009495,12.873899,11.920545,14.785839,13.261392,12.147264,13.119164,12.781705,14.131802,14.016214,13.333156,12.408148,14.760127,13.888064,13.501051,12.144646,12.364928,12.00239,12.678192,14.685835,13.39759,14.668773,15.200627,13.374952,13.5852785,14.123927,13.792597,12.547461,11.852984,14.753222,14.494998,12.934367,11.940167,13.854189,13.323534,12.451181,14.560235],\"yaxis\":\"y\",\"type\":\"scatter\"},{\"customdata\":[[\"Wickelboard auf städtischen Spielplätzen\"],[\"Neugestaltung WOLLMARKT\"],[\"Dauerhafte Begrünung des Schlossplatzes und Platz der Deutschen Einheit\"],[\"Mehr Mülleimer im Waldstück zwischen Kralenriede, der Schuntersiedlung und Rühme.\"],[\"Sitzbänke an der Platane Okerstraße 8b\"],[\"Steg am Schapenbruchteich\"],[\"Toiletten für den Löwenwall\"],[\"Mehr Mülleimer\\u002f kotbeutelstation\"],[\"Nachhaltigere und effizientere Grünflächenbewässerung\"],[\"Braunschweig braucht einen Wasserspielplatz!\"],[\"Pflege \\u002fGestaltung Grünanlagen\"],[\"100 künstlerisch gestaltete Bänke für Braunschweig!\"],[\"Verwaiste Einkaufswagen\"],[\"Zuwegung Bhf. Gliesmarode einladend randbepflanzen\"],[\"Hundeplatz Melverode\"],[\"Kaffee am Ölpersee\"],[\"Leipziger Straße entlang keine Sitzbänke\"],[\"Hundeplatz Melverode\"],[\"Bäume gegen Klimawandel\"],[\"Hundewiese Nußberg\"]],\"hovertemplate\":\"label=Stadtgrün und Umwelt\\u003cbr\\u003ex=%{x}\\u003cbr\\u003ey=%{y}\\u003cbr\\u003ehover_text=%{customdata[0]}\\u003cextra\\u003e\\u003c\\u002fextra\\u003e\",\"legendgroup\":\"Stadtgrün und Umwelt\",\"marker\":{\"color\":\"#EF553B\",\"symbol\":\"circle\"},\"mode\":\"markers\",\"name\":\"Stadtgrün und Umwelt\",\"orientation\":\"v\",\"showlegend\":true,\"x\":[2.5348268,4.773669,2.413802,5.0313144,3.0641115,2.4616754,1.8242108,3.4066536,3.978063,2.2559483,4.4697437,3.0908976,2.7829838,4.8531566,4.635571,2.0928483,2.9375255,4.6513233,3.1084707,3.0138388],\"xaxis\":\"x\",\"y\":[15.302983,15.116759,15.569665,14.503348,14.446783,12.637894,13.259277,12.187295,15.166982,15.117885,15.188538,14.405356,15.425141,14.775316,15.061462,14.369513,14.161094,15.174508,13.687852,14.320015],\"yaxis\":\"y\",\"type\":\"scatter\"},{\"customdata\":[[\"Beleuchtung Wasserturm Giersberg\"],[\"Hundewiese am Jütenring einrichten - Bebauungsplan HA 137 ändern\"],[\"\\\"Viktualienmarkt\\\" Burgpassage\"],[\"Umsetzen Informationsstele am Burgplatz\"],[\"Standort 2. Haferstroh-Toilette\"],[\"Umstellung der Beleuchtung auf LED\"],[\"Aufsteller mit Ladeninfos für den Handelsweg\"],[\"Tiny House Fläche erstellen\"]],\"hovertemplate\":\"label=Bauen und Planung\\u003cbr\\u003ex=%{x}\\u003cbr\\u003ey=%{y}\\u003cbr\\u003ehover_text=%{customdata[0]}\\u003cextra\\u003e\\u003c\\u002fextra\\u003e\",\"legendgroup\":\"Bauen und Planung\",\"marker\":{\"color\":\"#00cc96\",\"symbol\":\"circle\"},\"mode\":\"markers\",\"name\":\"Bauen und Planung\",\"orientation\":\"v\",\"showlegend\":true,\"x\":[3.7386122,2.696378,2.3855855,2.4591067,1.960078,3.9314542,4.3001285,2.5177703],\"xaxis\":\"x\",\"y\":[13.088599,14.615868,13.61763,13.568431,13.010218,13.0674305,14.744348,14.517285],\"yaxis\":\"y\",\"type\":\"scatter\"},{\"customdata\":[[\"Zeitgemäße Funktionalität für die Ideenplattform\"],[\"Lärmaktionsplanung\"],[\"Einfacher Weg für die Genehmigung von nicht kommerziellen Tanzveranstaltungen in Braunschweiger Park und Grünanlagen\"],[\"§ 37 Hilfe bei Verwaltungsangelegenheiten Infoveranstaltung\"],[\"App Dorffunk\"],[\"Anmeldeportal Stadt Braunschweig\"],[\"Abstimmungen im Protokoll mit Angabe des genauen Ergebnisses\"]],\"hovertemplate\":\"label=Allgemeine Verwaltung\\u003cbr\\u003ex=%{x}\\u003cbr\\u003ey=%{y}\\u003cbr\\u003ehover_text=%{customdata[0]}\\u003cextra\\u003e\\u003c\\u002fextra\\u003e\",\"legendgroup\":\"Allgemeine Verwaltung\",\"marker\":{\"color\":\"#ab63fa\",\"symbol\":\"circle\"},\"mode\":\"markers\",\"name\":\"Allgemeine Verwaltung\",\"orientation\":\"v\",\"showlegend\":true,\"x\":[4.884217,3.325148,2.3567338,2.6106093,3.9940429,2.476345,3.677434],\"xaxis\":\"x\",\"y\":[12.906379,14.813964,15.284507,14.87464,11.883283,15.017152,15.23654],\"yaxis\":\"y\",\"type\":\"scatter\"},{\"customdata\":[[\"Spielplätze im Herbst\\u002fWinter nutzbarer machen\"],[\"Unterstützung für besonders gefährdete Menschen bei Hitze\"],[\"Wickeltisch\"],[\"Einführung Stadtinterne Kinderbetreuung für Mütter\"],[\"Eltern-Kind-Schaukel für Spielplätze\"],[\"Ponyclub Querum e.V.\"],[\"Weiteres Angebot des Braunschweiger Schülertickets für 15 Euro\"],[\"Aufrüstung Broitzemer Spielplätze für Kleinkinder\"],[\"Ort für Grafitty und Tags statt Beschmieren im östlichen Ringgebiet\"],[\"Basketballplatz erneuern am Spielplatz Hohetorwall\"],[\"Petition: Verbesserung des Skateparks am Westbahnhof in Braunschweig zum 10-jährigen Jubiläum\"],[\"Skaterbahn Mutter Kind Spielplatz\"]],\"hovertemplate\":\"label=Soziales, Jugend und Gesundheit\\u003cbr\\u003ex=%{x}\\u003cbr\\u003ey=%{y}\\u003cbr\\u003ehover_text=%{customdata[0]}\\u003cextra\\u003e\\u003c\\u002fextra\\u003e\",\"legendgroup\":\"Soziales, Jugend und Gesundheit\",\"marker\":{\"color\":\"#FFA15A\",\"symbol\":\"circle\"},\"mode\":\"markers\",\"name\":\"Soziales, Jugend und Gesundheit\",\"orientation\":\"v\",\"showlegend\":true,\"x\":[3.0179965,3.2579026,1.9606222,3.412264,2.7734845,2.638586,2.9695415,2.5278573,4.0867057,2.6360555,1.7061887,2.6372948],\"xaxis\":\"x\",\"y\":[15.793799,14.960095,13.233529,15.234495,15.943157,15.239343,14.8755,15.970752,11.781614,16.005941,15.039287,15.886116],\"yaxis\":\"y\",\"type\":\"scatter\"},{\"customdata\":[[\"Aufführung des Dramas \\\"Julius von Tarent\\\" von Johann Anton Leisewitz\"],[\"Stadtkindergarten\\u002fKrippe\"]],\"hovertemplate\":\"label=Schule und Kultur\\u003cbr\\u003ex=%{x}\\u003cbr\\u003ey=%{y}\\u003cbr\\u003ehover_text=%{customdata[0]}\\u003cextra\\u003e\\u003c\\u002fextra\\u003e\",\"legendgroup\":\"Schule und Kultur\",\"marker\":{\"color\":\"#19d3f3\",\"symbol\":\"circle\"},\"mode\":\"markers\",\"name\":\"Schule und Kultur\",\"orientation\":\"v\",\"showlegend\":true,\"x\":[3.8143985,3.3790708],\"xaxis\":\"x\",\"y\":[15.203803,15.298479],\"yaxis\":\"y\",\"type\":\"scatter\"},{\"customdata\":[[\"Installation einer Strassen\\u002fwegbeleuchtung\"],[\"Haltestelle extrem unsicher\"],[\"Wegbeleuchtung bauen\"],[\"Veranstaltungen richtig Planen\"]],\"hovertemplate\":\"label=Recht, Sicherheit und Ordnung\\u003cbr\\u003ex=%{x}\\u003cbr\\u003ey=%{y}\\u003cbr\\u003ehover_text=%{customdata[0]}\\u003cextra\\u003e\\u003c\\u002fextra\\u003e\",\"legendgroup\":\"Recht, Sicherheit und Ordnung\",\"marker\":{\"color\":\"#FF6692\",\"symbol\":\"circle\"},\"mode\":\"markers\",\"name\":\"Recht, Sicherheit und Ordnung\",\"orientation\":\"v\",\"showlegend\":true,\"x\":[5.472395,4.0355725,5.562049,3.1337442],\"xaxis\":\"x\",\"y\":[14.633189,13.526695,14.320541,15.168962],\"yaxis\":\"y\",\"type\":\"scatter\"},{\"customdata\":[[\"Parkplätze Adventsgeschäft - Forderung AAI\"],[\"Umwandlung des alten Galaria-Gebäudes in ein Parkhaus\"],[\"Gesundheits- und Rehazentrum im Galeria-Gebäude\"]],\"hovertemplate\":\"label=Wirtschaft\\u003cbr\\u003ex=%{x}\\u003cbr\\u003ey=%{y}\\u003cbr\\u003ehover_text=%{customdata[0]}\\u003cextra\\u003e\\u003c\\u002fextra\\u003e\",\"legendgroup\":\"Wirtschaft\",\"marker\":{\"color\":\"#B6E880\",\"symbol\":\"circle\"},\"mode\":\"markers\",\"name\":\"Wirtschaft\",\"orientation\":\"v\",\"showlegend\":true,\"x\":[1.6698905,2.0050685,4.5626345],\"xaxis\":\"x\",\"y\":[15.292152,15.152107,14.393568],\"yaxis\":\"y\",\"type\":\"scatter\"}],                        {\"template\":{\"data\":{\"histogram2dcontour\":[{\"type\":\"histogram2dcontour\",\"colorbar\":{\"outlinewidth\":0,\"ticks\":\"\"},\"colorscale\":[[0.0,\"#0d0887\"],[0.1111111111111111,\"#46039f\"],[0.2222222222222222,\"#7201a8\"],[0.3333333333333333,\"#9c179e\"],[0.4444444444444444,\"#bd3786\"],[0.5555555555555556,\"#d8576b\"],[0.6666666666666666,\"#ed7953\"],[0.7777777777777778,\"#fb9f3a\"],[0.8888888888888888,\"#fdca26\"],[1.0,\"#f0f921\"]]}],\"choropleth\":[{\"type\":\"choropleth\",\"colorbar\":{\"outlinewidth\":0,\"ticks\":\"\"}}],\"histogram2d\":[{\"type\":\"histogram2d\",\"colorbar\":{\"outlinewidth\":0,\"ticks\":\"\"},\"colorscale\":[[0.0,\"#0d0887\"],[0.1111111111111111,\"#46039f\"],[0.2222222222222222,\"#7201a8\"],[0.3333333333333333,\"#9c179e\"],[0.4444444444444444,\"#bd3786\"],[0.5555555555555556,\"#d8576b\"],[0.6666666666666666,\"#ed7953\"],[0.7777777777777778,\"#fb9f3a\"],[0.8888888888888888,\"#fdca26\"],[1.0,\"#f0f921\"]]}],\"heatmap\":[{\"type\":\"heatmap\",\"colorbar\":{\"outlinewidth\":0,\"ticks\":\"\"},\"colorscale\":[[0.0,\"#0d0887\"],[0.1111111111111111,\"#46039f\"],[0.2222222222222222,\"#7201a8\"],[0.3333333333333333,\"#9c179e\"],[0.4444444444444444,\"#bd3786\"],[0.5555555555555556,\"#d8576b\"],[0.6666666666666666,\"#ed7953\"],[0.7777777777777778,\"#fb9f3a\"],[0.8888888888888888,\"#fdca26\"],[1.0,\"#f0f921\"]]}],\"heatmapgl\":[{\"type\":\"heatmapgl\",\"colorbar\":{\"outlinewidth\":0,\"ticks\":\"\"},\"colorscale\":[[0.0,\"#0d0887\"],[0.1111111111111111,\"#46039f\"],[0.2222222222222222,\"#7201a8\"],[0.3333333333333333,\"#9c179e\"],[0.4444444444444444,\"#bd3786\"],[0.5555555555555556,\"#d8576b\"],[0.6666666666666666,\"#ed7953\"],[0.7777777777777778,\"#fb9f3a\"],[0.8888888888888888,\"#fdca26\"],[1.0,\"#f0f921\"]]}],\"contourcarpet\":[{\"type\":\"contourcarpet\",\"colorbar\":{\"outlinewidth\":0,\"ticks\":\"\"}}],\"contour\":[{\"type\":\"contour\",\"colorbar\":{\"outlinewidth\":0,\"ticks\":\"\"},\"colorscale\":[[0.0,\"#0d0887\"],[0.1111111111111111,\"#46039f\"],[0.2222222222222222,\"#7201a8\"],[0.3333333333333333,\"#9c179e\"],[0.4444444444444444,\"#bd3786\"],[0.5555555555555556,\"#d8576b\"],[0.6666666666666666,\"#ed7953\"],[0.7777777777777778,\"#fb9f3a\"],[0.8888888888888888,\"#fdca26\"],[1.0,\"#f0f921\"]]}],\"surface\":[{\"type\":\"surface\",\"colorbar\":{\"outlinewidth\":0,\"ticks\":\"\"},\"colorscale\":[[0.0,\"#0d0887\"],[0.1111111111111111,\"#46039f\"],[0.2222222222222222,\"#7201a8\"],[0.3333333333333333,\"#9c179e\"],[0.4444444444444444,\"#bd3786\"],[0.5555555555555556,\"#d8576b\"],[0.6666666666666666,\"#ed7953\"],[0.7777777777777778,\"#fb9f3a\"],[0.8888888888888888,\"#fdca26\"],[1.0,\"#f0f921\"]]}],\"mesh3d\":[{\"type\":\"mesh3d\",\"colorbar\":{\"outlinewidth\":0,\"ticks\":\"\"}}],\"scatter\":[{\"fillpattern\":{\"fillmode\":\"overlay\",\"size\":10,\"solidity\":0.2},\"type\":\"scatter\"}],\"parcoords\":[{\"type\":\"parcoords\",\"line\":{\"colorbar\":{\"outlinewidth\":0,\"ticks\":\"\"}}}],\"scatterpolargl\":[{\"type\":\"scatterpolargl\",\"marker\":{\"colorbar\":{\"outlinewidth\":0,\"ticks\":\"\"}}}],\"bar\":[{\"error_x\":{\"color\":\"#2a3f5f\"},\"error_y\":{\"color\":\"#2a3f5f\"},\"marker\":{\"line\":{\"color\":\"#E5ECF6\",\"width\":0.5},\"pattern\":{\"fillmode\":\"overlay\",\"size\":10,\"solidity\":0.2}},\"type\":\"bar\"}],\"scattergeo\":[{\"type\":\"scattergeo\",\"marker\":{\"colorbar\":{\"outlinewidth\":0,\"ticks\":\"\"}}}],\"scatterpolar\":[{\"type\":\"scatterpolar\",\"marker\":{\"colorbar\":{\"outlinewidth\":0,\"ticks\":\"\"}}}],\"histogram\":[{\"marker\":{\"pattern\":{\"fillmode\":\"overlay\",\"size\":10,\"solidity\":0.2}},\"type\":\"histogram\"}],\"scattergl\":[{\"type\":\"scattergl\",\"marker\":{\"colorbar\":{\"outlinewidth\":0,\"ticks\":\"\"}}}],\"scatter3d\":[{\"type\":\"scatter3d\",\"line\":{\"colorbar\":{\"outlinewidth\":0,\"ticks\":\"\"}},\"marker\":{\"colorbar\":{\"outlinewidth\":0,\"ticks\":\"\"}}}],\"scattermapbox\":[{\"type\":\"scattermapbox\",\"marker\":{\"colorbar\":{\"outlinewidth\":0,\"ticks\":\"\"}}}],\"scatterternary\":[{\"type\":\"scatterternary\",\"marker\":{\"colorbar\":{\"outlinewidth\":0,\"ticks\":\"\"}}}],\"scattercarpet\":[{\"type\":\"scattercarpet\",\"marker\":{\"colorbar\":{\"outlinewidth\":0,\"ticks\":\"\"}}}],\"carpet\":[{\"aaxis\":{\"endlinecolor\":\"#2a3f5f\",\"gridcolor\":\"white\",\"linecolor\":\"white\",\"minorgridcolor\":\"white\",\"startlinecolor\":\"#2a3f5f\"},\"baxis\":{\"endlinecolor\":\"#2a3f5f\",\"gridcolor\":\"white\",\"linecolor\":\"white\",\"minorgridcolor\":\"white\",\"startlinecolor\":\"#2a3f5f\"},\"type\":\"carpet\"}],\"table\":[{\"cells\":{\"fill\":{\"color\":\"#EBF0F8\"},\"line\":{\"color\":\"white\"}},\"header\":{\"fill\":{\"color\":\"#C8D4E3\"},\"line\":{\"color\":\"white\"}},\"type\":\"table\"}],\"barpolar\":[{\"marker\":{\"line\":{\"color\":\"#E5ECF6\",\"width\":0.5},\"pattern\":{\"fillmode\":\"overlay\",\"size\":10,\"solidity\":0.2}},\"type\":\"barpolar\"}],\"pie\":[{\"automargin\":true,\"type\":\"pie\"}]},\"layout\":{\"autotypenumbers\":\"strict\",\"colorway\":[\"#636efa\",\"#EF553B\",\"#00cc96\",\"#ab63fa\",\"#FFA15A\",\"#19d3f3\",\"#FF6692\",\"#B6E880\",\"#FF97FF\",\"#FECB52\"],\"font\":{\"color\":\"#2a3f5f\"},\"hovermode\":\"closest\",\"hoverlabel\":{\"align\":\"left\"},\"paper_bgcolor\":\"white\",\"plot_bgcolor\":\"#E5ECF6\",\"polar\":{\"bgcolor\":\"#E5ECF6\",\"angularaxis\":{\"gridcolor\":\"white\",\"linecolor\":\"white\",\"ticks\":\"\"},\"radialaxis\":{\"gridcolor\":\"white\",\"linecolor\":\"white\",\"ticks\":\"\"}},\"ternary\":{\"bgcolor\":\"#E5ECF6\",\"aaxis\":{\"gridcolor\":\"white\",\"linecolor\":\"white\",\"ticks\":\"\"},\"baxis\":{\"gridcolor\":\"white\",\"linecolor\":\"white\",\"ticks\":\"\"},\"caxis\":{\"gridcolor\":\"white\",\"linecolor\":\"white\",\"ticks\":\"\"}},\"coloraxis\":{\"colorbar\":{\"outlinewidth\":0,\"ticks\":\"\"}},\"colorscale\":{\"sequential\":[[0.0,\"#0d0887\"],[0.1111111111111111,\"#46039f\"],[0.2222222222222222,\"#7201a8\"],[0.3333333333333333,\"#9c179e\"],[0.4444444444444444,\"#bd3786\"],[0.5555555555555556,\"#d8576b\"],[0.6666666666666666,\"#ed7953\"],[0.7777777777777778,\"#fb9f3a\"],[0.8888888888888888,\"#fdca26\"],[1.0,\"#f0f921\"]],\"sequentialminus\":[[0.0,\"#0d0887\"],[0.1111111111111111,\"#46039f\"],[0.2222222222222222,\"#7201a8\"],[0.3333333333333333,\"#9c179e\"],[0.4444444444444444,\"#bd3786\"],[0.5555555555555556,\"#d8576b\"],[0.6666666666666666,\"#ed7953\"],[0.7777777777777778,\"#fb9f3a\"],[0.8888888888888888,\"#fdca26\"],[1.0,\"#f0f921\"]],\"diverging\":[[0,\"#8e0152\"],[0.1,\"#c51b7d\"],[0.2,\"#de77ae\"],[0.3,\"#f1b6da\"],[0.4,\"#fde0ef\"],[0.5,\"#f7f7f7\"],[0.6,\"#e6f5d0\"],[0.7,\"#b8e186\"],[0.8,\"#7fbc41\"],[0.9,\"#4d9221\"],[1,\"#276419\"]]},\"xaxis\":{\"gridcolor\":\"white\",\"linecolor\":\"white\",\"ticks\":\"\",\"title\":{\"standoff\":15},\"zerolinecolor\":\"white\",\"automargin\":true,\"zerolinewidth\":2},\"yaxis\":{\"gridcolor\":\"white\",\"linecolor\":\"white\",\"ticks\":\"\",\"title\":{\"standoff\":15},\"zerolinecolor\":\"white\",\"automargin\":true,\"zerolinewidth\":2},\"scene\":{\"xaxis\":{\"backgroundcolor\":\"#E5ECF6\",\"gridcolor\":\"white\",\"linecolor\":\"white\",\"showbackground\":true,\"ticks\":\"\",\"zerolinecolor\":\"white\",\"gridwidth\":2},\"yaxis\":{\"backgroundcolor\":\"#E5ECF6\",\"gridcolor\":\"white\",\"linecolor\":\"white\",\"showbackground\":true,\"ticks\":\"\",\"zerolinecolor\":\"white\",\"gridwidth\":2},\"zaxis\":{\"backgroundcolor\":\"#E5ECF6\",\"gridcolor\":\"white\",\"linecolor\":\"white\",\"showbackground\":true,\"ticks\":\"\",\"zerolinecolor\":\"white\",\"gridwidth\":2}},\"shapedefaults\":{\"line\":{\"color\":\"#2a3f5f\"}},\"annotationdefaults\":{\"arrowcolor\":\"#2a3f5f\",\"arrowhead\":0,\"arrowwidth\":1},\"geo\":{\"bgcolor\":\"white\",\"landcolor\":\"#E5ECF6\",\"subunitcolor\":\"white\",\"showland\":true,\"showlakes\":true,\"lakecolor\":\"white\"},\"title\":{\"x\":0.05},\"mapbox\":{\"style\":\"light\"}}},\"xaxis\":{\"anchor\":\"y\",\"domain\":[0.0,1.0],\"title\":{\"text\":\"x\"}},\"yaxis\":{\"anchor\":\"x\",\"domain\":[0.0,1.0],\"title\":{\"text\":\"y\"}},\"legend\":{\"title\":{\"text\":\"label\"},\"tracegroupgap\":0},\"margin\":{\"t\":60}},                        {\"responsive\": true}                    ).then(function(){\n",
       "                            \n",
       "var gd = document.getElementById('86804696-0b32-4993-9e40-422ec30583e3');\n",
       "var x = new MutationObserver(function (mutations, observer) {{\n",
       "        var display = window.getComputedStyle(gd).display;\n",
       "        if (!display || display === 'none') {{\n",
       "            console.log([gd, 'removed!']);\n",
       "            Plotly.purge(gd);\n",
       "            observer.disconnect();\n",
       "        }}\n",
       "}});\n",
       "\n",
       "// Listen for the removal of the full notebook cells\n",
       "var notebookContainer = gd.closest('#notebook-container');\n",
       "if (notebookContainer) {{\n",
       "    x.observe(notebookContainer, {childList: true});\n",
       "}}\n",
       "\n",
       "// Listen for the clearing of the current output cell\n",
       "var outputEl = gd.closest('.output');\n",
       "if (outputEl) {{\n",
       "    x.observe(outputEl, {childList: true});\n",
       "}}\n",
       "\n",
       "                        })                };                });            </script>        </div>"
      ]
     },
     "metadata": {},
     "output_type": "display_data"
    }
   ],
   "source": [
    "# Create a dataframe for visualization\n",
    "import plotly.express as px\n",
    "import pandas as pd\n",
    "\n",
    "# Create a new column for hover data with truncated text\n",
    "umap_embeddings_df = pd.DataFrame(umap_embeddings, columns=[\"x\", \"y\"])\n",
    "umap_embeddings_df[\"hover_text\"] = titles\n",
    "umap_embeddings_df[\"label\"] = tags\n",
    "\n",
    "# Plotting using Plotly\n",
    "fig = px.scatter(umap_embeddings_df, x=\"x\", y=\"y\", color=\"label\", hover_data=[\"hover_text\"])\n",
    "fig.show()"
   ]
  },
  {
   "cell_type": "code",
   "execution_count": 15,
   "id": "77f784291936c95",
   "metadata": {
    "ExecuteTime": {
     "end_time": "2024-08-06T20:28:41.073631Z",
     "start_time": "2024-08-06T20:28:37.954636Z"
    }
   },
   "outputs": [],
   "source": [
    "# Initialize UMAP model with n_components=3 for dimensionality reduction to 3 dimensions\n",
    "umap_model = UMAP(n_neighbors=10, n_components=3, min_dist=0.0, metric=\"cosine\")\n",
    "\n",
    "# Fit and transform the embeddings\n",
    "umap_embeddings = umap_model.fit_transform(embeddings)"
   ]
  },
  {
   "cell_type": "code",
   "execution_count": 16,
   "id": "e81449b2c07e5fe8",
   "metadata": {
    "ExecuteTime": {
     "end_time": "2024-08-06T20:29:22.636516Z",
     "start_time": "2024-08-06T20:29:22.470496Z"
    }
   },
   "outputs": [
    {
     "data": {
      "application/vnd.plotly.v1+json": {
       "config": {
        "plotlyServerURL": "https://plot.ly"
       },
       "data": [
        {
         "customdata": [
          [
           "Verkehrsberuhigter Bereich Holwedestraße"
          ],
          [
           "Sicherer Schulweg Querum"
          ],
          [
           "Tempo 30 Madamenweg/Ringgleis bis Kreuzung Madamenweg/Altstadring"
          ],
          [
           "Fahrradkonzept Wendenstraße überarbeiten..."
          ],
          [
           "Brodweg - brisant für alle Verkehrsteilnehmenden"
          ],
          [
           "Schulverkehr Querum"
          ],
          [
           "Solarunterstand für Räder"
          ],
          [
           "Kastanienallee Ampelschaltung anpassen"
          ],
          [
           "Verkehrspiegel Ausfahrt Buschweg auf die Hauptstraße in Wenden"
          ],
          [
           "Ampel für Radfahrer Wendenring Ecke Maschpl"
          ],
          [
           "Geschwindigkeits- und Durchfahrtsbegrenzung Querumer Straße"
          ],
          [
           "FGÜ"
          ],
          [
           "Umrüstung der ÖPNV-Busflotte auf Elektromobilität"
          ],
          [
           "Zebrastreifen an der Kreuzung Mittelweg Ringgleis."
          ],
          [
           "Blitzer am Bohlweg ( vor Schloß )"
          ],
          [
           "Verbreiterung Fuß/Radweg Bienroder Weg"
          ],
          [
           "Fahrradpiktogramme Rüninger Weg endlich umsetzen"
          ],
          [
           "Einrichten eines Durchfahrtverbots für Transporter und Kraftfahrzeuge über 3,5 Tonnen in die Volmestraße"
          ],
          [
           "Ausnahmegenehmigung für pflegende Privatpersonen zum Parken"
          ],
          [
           "Mittelweg 30km/h Blitzer"
          ],
          [
           "Parkplatz auf dem Wollmarkt stoppen"
          ],
          [
           "Push & Pull"
          ],
          [
           "Mühlentrift Verkehr, Tempo 30, Anlieger Frei"
          ],
          [
           "Fahrradstraße Wilhelm-Bode-Straße und Karl-Marx-Straße mit Vorfahrt"
          ],
          [
           "Gefahrenstelle auf dem Ringgleis"
          ],
          [
           "Bringzone für die Realschule Maschstraße"
          ],
          [
           "Mehr Bewohnerparkplätze in der Maschstraße"
          ],
          [
           "Verkehrssichere Max-Planck-Str"
          ],
          [
           "Verkehrsspiegel Kreuzung Karl-Hintze-Weg und Mittelriede"
          ],
          [
           "Halteververbot auf der Altmarkstr. in Höhe Auf dem Anger"
          ],
          [
           "Einbahnstraße Wilhelmsgarten"
          ],
          [
           "Einbahnstraße St.-Ingbert-Straße zur Lärmreduzierung"
          ],
          [
           "Mehr Bewohnerparkplätze am Burgundenplatz"
          ],
          [
           "Hinweisschild Einsatzfahrzeug Salzdahlumer Straße"
          ],
          [
           "Sichere Überquerungsmöglichkeit am Campus Forschungsflughafen"
          ],
          [
           "Veloroute und Parkplatzsituation Helmstedeter Straße"
          ],
          [
           "Geschwindigkeitsschwellen Holzmindener Straße"
          ],
          [
           "Petristraße für Radfahrer optimieren"
          ],
          [
           "„Sichtschutz“ an RadfahrerInnenampel Ecke Gliedmaroder Str./Böcklinstr. für Autofahrende"
          ],
          [
           "Sensorgesteuerte Ampelschaltung Ringgleis/Celler Straße"
          ],
          [
           "Parkplätze Querum"
          ],
          [
           "Warnschilder vor der neuen Querungshilfe An der Rothenburg"
          ],
          [
           "Beleuchtung Ringgleis"
          ],
          [
           "Hinweisschild für Radfahrer beim Überholen von Fußgängern auf dem gesamten Ringgleis"
          ],
          [
           "Ein Zebrastreifen für den Handelsweg"
          ],
          [
           "Fahrradständer und grüner Pfeil für Fahrräder"
          ],
          [
           "Autos versperren Fußweg"
          ],
          [
           "Fahrradparkhaus Innenstadt"
          ],
          [
           "Anpassung Strahler Dom/Münzstraße"
          ],
          [
           "T- Kreuzung Hordorfer Str. L 633/ Schapen/Weddel K41 ist lebensgefährlich"
          ],
          [
           "Schulweg von Grundschüler: Monatskarte ohne 2km Entfernung"
          ],
          [
           "Fahrradständer"
          ],
          [
           "Lehmanger sicherer machen!"
          ],
          [
           "Lärmschutzwand A39 Geitelde"
          ],
          [
           "Rad und Fußweg Lehmanger Richtung Donauviertel"
          ],
          [
           "„Spielstraßen“ beruhigen"
          ],
          [
           "Überprüfung und Aktualisierung von Verkehrsschildern"
          ],
          [
           "Markierung Radweg Kreuzung Steinweg/Ritterbrunnen"
          ],
          [
           "Begrenzung des Verkehrs auf der Münzstraße"
          ],
          [
           "Farbliche Markierung von Parkflächen"
          ],
          [
           "Unterirdischer Rebenring"
          ],
          [
           "Fahrtrichtung auf dem Radweg klar festlegen"
          ],
          [
           "Einführung eines Blitzersystems mit Audiosensoren"
          ],
          [
           "Salzdahlumer Straße digitales Hinweisschild zur Vorrangschaltung"
          ],
          [
           "Entlastung der Bevenroder Str."
          ],
          [
           "Signallampe Straßenbahnquerung"
          ],
          [
           "Kein Anwohnerparken im östlichen Ringgebiet"
          ],
          [
           "Verkehrsberuhigung Madamenweg"
          ],
          [
           "Ampelschaltung Hamburger Straße vorm Stadion optimieren"
          ],
          [
           "Ringbus erhalten – das südwestliche Ringgebiet darf nicht abgehängt werden!"
          ],
          [
           "Fußgängerüberweg für eine sicherere Grundschule in Querum"
          ],
          [
           "Rote Radwegmarkierung Münchenstraße/Broitzemer Straße"
          ],
          [
           "Optimierung Fußgängerampel Ackerstr./Helmstedter Str."
          ],
          [
           "Wilhelm-Bornstedt-Weg entlang der Oker besser befestigen"
          ]
         ],
         "hovertemplate": "label=Verkehr<br>x=%{x}<br>y=%{y}<br>z=%{z}<br>hover_text=%{customdata[0]}<extra></extra>",
         "legendgroup": "Verkehr",
         "marker": {
          "color": "#636efa",
          "symbol": "circle"
         },
         "mode": "markers",
         "name": "Verkehr",
         "scene": "scene",
         "showlegend": true,
         "type": "scatter3d",
         "x": [
          11.307224,
          10.019213,
          10.222269,
          9.979763,
          10.085701,
          9.842244,
          8.382244,
          9.531756,
          9.962576,
          10.47654,
          9.9336405,
          9.43461,
          8.242502,
          11.054262,
          10.876031,
          9.993909,
          10.155664,
          8.699255,
          8.819401,
          10.708232,
          8.757318,
          10.9949875,
          10.5690155,
          10.158502,
          10.992201,
          9.639401,
          9.023263,
          10.62514,
          9.007827,
          10.542737,
          10.364728,
          9.416657,
          8.974496,
          9.436748,
          9.524123,
          9.041808,
          9.405007,
          10.27935,
          10.284831,
          11.002587,
          9.172867,
          10.139169,
          10.361232,
          9.998089,
          10.443764,
          9.29955,
          9.108463,
          10.243607,
          10.873971,
          9.753354,
          9.61618,
          9.975275,
          11.105957,
          11.029483,
          11.209616,
          10.829277,
          8.66,
          10.0208235,
          9.135658,
          8.95203,
          10.027609,
          9.658899,
          9.772556,
          9.371068,
          10.670653,
          11.323114,
          8.7758045,
          9.341379,
          10.246414,
          11.144144,
          9.767839,
          10.597126,
          10.8788395,
          10.065406
         ],
         "y": [
          10.903241,
          10.360344,
          9.906137,
          10.63999,
          11.161053,
          11.674336,
          10.929526,
          9.977762,
          9.169886,
          10.90374,
          10.19127,
          9.463371,
          10.129349,
          11.26176,
          10.441375,
          11.288815,
          11.141211,
          9.470893,
          10.064966,
          10.836327,
          9.597697,
          11.048547,
          10.13007,
          10.465459,
          11.239618,
          9.9435425,
          9.220488,
          10.056837,
          10.319806,
          10.940248,
          10.432658,
          10.106727,
          8.908017,
          10.617667,
          10.007877,
          9.114497,
          8.768944,
          10.942224,
          10.995372,
          11.029255,
          8.868267,
          10.42076,
          12.05408,
          11.270702,
          10.651847,
          10.348751,
          9.279207,
          9.889036,
          10.697521,
          12.118875,
          10.514525,
          11.644936,
          11.154977,
          10.386986,
          11.214225,
          10.151182,
          11.297011,
          11.513525,
          8.856785,
          9.475499,
          10.384272,
          10.893454,
          9.875654,
          10.570542,
          10.910185,
          11.2528715,
          9.414448,
          8.721947,
          11.177721,
          11.2139,
          10.134215,
          9.649288,
          10.770327,
          12.1327715
         ],
         "z": [
          1.9661273,
          2.526976,
          1.6577243,
          1.8966509,
          0.75710785,
          2.4858797,
          2.7589781,
          1.6227279,
          3.0031266,
          1.016885,
          1.882652,
          4.097589,
          2.3883843,
          1.4378934,
          2.674557,
          0.85381466,
          0.71691054,
          4.08171,
          4.05015,
          1.2172166,
          3.9568384,
          1.0301262,
          1.7666912,
          1.402718,
          1.1837953,
          2.431316,
          4.033743,
          2.223622,
          1.839509,
          3.6618314,
          2.4772506,
          1.7198042,
          3.52586,
          1.2527766,
          2.3257403,
          3.7532253,
          3.4990501,
          0.7259149,
          0.76752853,
          1.0403233,
          3.644085,
          2.3932383,
          2.203281,
          0.77413964,
          1.3834836,
          1.5113852,
          4.174936,
          2.8952038,
          2.826842,
          2.4340117,
          2.1738944,
          1.2379193,
          1.7604384,
          2.0770981,
          1.4467155,
          1.9686191,
          2.4410985,
          1.1199007,
          3.6439378,
          4.214235,
          3.4331112,
          1.0695304,
          1.7499217,
          1.2829245,
          3.3735535,
          1.2391236,
          3.2805243,
          3.6139286,
          1.1738044,
          1.1173234,
          2.155392,
          2.3979793,
          3.1192136,
          2.3956108
         ]
        },
        {
         "customdata": [
          [
           "Wickelboard auf städtischen Spielplätzen"
          ],
          [
           "Neugestaltung WOLLMARKT"
          ],
          [
           "Dauerhafte Begrünung des Schlossplatzes und Platz der Deutschen Einheit"
          ],
          [
           "Mehr Mülleimer im Waldstück zwischen Kralenriede, der Schuntersiedlung und Rühme."
          ],
          [
           "Sitzbänke an der Platane Okerstraße 8b"
          ],
          [
           "Steg am Schapenbruchteich"
          ],
          [
           "Toiletten für den Löwenwall"
          ],
          [
           "Mehr Mülleimer/ kotbeutelstation"
          ],
          [
           "Nachhaltigere und effizientere Grünflächenbewässerung"
          ],
          [
           "Braunschweig braucht einen Wasserspielplatz!"
          ],
          [
           "Pflege /Gestaltung Grünanlagen"
          ],
          [
           "100 künstlerisch gestaltete Bänke für Braunschweig!"
          ],
          [
           "Verwaiste Einkaufswagen"
          ],
          [
           "Zuwegung Bhf. Gliesmarode einladend randbepflanzen"
          ],
          [
           "Hundeplatz Melverode"
          ],
          [
           "Kaffee am Ölpersee"
          ],
          [
           "Leipziger Straße entlang keine Sitzbänke"
          ],
          [
           "Hundeplatz Melverode"
          ],
          [
           "Bäume gegen Klimawandel"
          ],
          [
           "Hundewiese Nußberg"
          ]
         ],
         "hovertemplate": "label=Stadtgrün und Umwelt<br>x=%{x}<br>y=%{y}<br>z=%{z}<br>hover_text=%{customdata[0]}<extra></extra>",
         "legendgroup": "Stadtgrün und Umwelt",
         "marker": {
          "color": "#EF553B",
          "symbol": "circle"
         },
         "mode": "markers",
         "name": "Stadtgrün und Umwelt",
         "scene": "scene",
         "showlegend": true,
         "type": "scatter3d",
         "x": [
          8.787852,
          8.950072,
          9.094083,
          10.064073,
          8.954673,
          10.491011,
          9.673182,
          10.8912945,
          8.33257,
          8.961123,
          8.725276,
          8.682606,
          8.6329155,
          9.316661,
          8.924603,
          9.422912,
          8.92289,
          8.861891,
          10.422729,
          8.868286
         ],
         "y": [
          10.372501,
          11.844733,
          10.733492,
          12.119764,
          9.737179,
          11.030169,
          9.897046,
          10.856428,
          10.818966,
          10.483685,
          11.605606,
          9.684621,
          10.592691,
          11.7658205,
          11.724773,
          8.935913,
          9.595143,
          11.765041,
          9.522905,
          9.649731
         ],
         "z": [
          3.8678732,
          2.9852273,
          3.7661233,
          2.440471,
          2.2465613,
          3.6148162,
          4.321186,
          2.7422523,
          2.6672287,
          3.6090539,
          2.9333115,
          2.2344487,
          3.6650481,
          2.5818558,
          2.9451177,
          3.2724004,
          2.2387967,
          2.8755004,
          2.4808915,
          2.2083259
         ]
        },
        {
         "customdata": [
          [
           "Beleuchtung Wasserturm Giersberg"
          ],
          [
           "Hundewiese am Jütenring einrichten - Bebauungsplan HA 137 ändern"
          ],
          [
           "\"Viktualienmarkt\" Burgpassage"
          ],
          [
           "Umsetzen Informationsstele am Burgplatz"
          ],
          [
           "Standort 2. Haferstroh-Toilette"
          ],
          [
           "Umstellung der Beleuchtung auf LED"
          ],
          [
           "Aufsteller mit Ladeninfos für den Handelsweg"
          ],
          [
           "Tiny House Fläche erstellen"
          ]
         ],
         "hovertemplate": "label=Bauen und Planung<br>x=%{x}<br>y=%{y}<br>z=%{z}<br>hover_text=%{customdata[0]}<extra></extra>",
         "legendgroup": "Bauen und Planung",
         "marker": {
          "color": "#00cc96",
          "symbol": "circle"
         },
         "mode": "markers",
         "name": "Bauen und Planung",
         "scene": "scene",
         "showlegend": true,
         "type": "scatter3d",
         "x": [
          10.372174,
          8.803675,
          9.797173,
          9.856021,
          9.907472,
          10.408118,
          8.711952,
          8.924213
         ],
         "y": [
          10.985289,
          10.79202,
          10.368786,
          10.380513,
          10.110131,
          10.635986,
          11.374262,
          10.564787
         ],
         "z": [
          2.7681081,
          3.02271,
          3.7078464,
          3.637705,
          4.2972374,
          1.7955654,
          2.5184603,
          3.1376717
         ]
        },
        {
         "customdata": [
          [
           "Zeitgemäße Funktionalität für die Ideenplattform"
          ],
          [
           "Lärmaktionsplanung"
          ],
          [
           "Einfacher Weg für die Genehmigung von nicht kommerziellen Tanzveranstaltungen in Braunschweiger Park und Grünanlagen"
          ],
          [
           "§ 37 Hilfe bei Verwaltungsangelegenheiten Infoveranstaltung"
          ],
          [
           "App Dorffunk"
          ],
          [
           "Anmeldeportal Stadt Braunschweig"
          ],
          [
           "Abstimmungen im Protokoll mit Angabe des genauen Ergebnisses"
          ]
         ],
         "hovertemplate": "label=Allgemeine Verwaltung<br>x=%{x}<br>y=%{y}<br>z=%{z}<br>hover_text=%{customdata[0]}<extra></extra>",
         "legendgroup": "Allgemeine Verwaltung",
         "marker": {
          "color": "#ab63fa",
          "symbol": "circle"
         },
         "mode": "markers",
         "name": "Allgemeine Verwaltung",
         "scene": "scene",
         "showlegend": true,
         "type": "scatter3d",
         "x": [
          10.29968,
          8.793425,
          8.580915,
          8.800839,
          11.36786,
          8.929924,
          8.412818
         ],
         "y": [
          10.696007,
          9.760912,
          10.148912,
          10.247955,
          10.692314,
          10.400769,
          10.616194
         ],
         "z": [
          0.91011065,
          2.654106,
          3.805776,
          3.1473475,
          2.1953363,
          3.5057518,
          2.1893027
         ]
        },
        {
         "customdata": [
          [
           "Spielplätze im Herbst/Winter nutzbarer machen"
          ],
          [
           "Unterstützung für besonders gefährdete Menschen bei Hitze"
          ],
          [
           "Wickeltisch"
          ],
          [
           "Einführung Stadtinterne Kinderbetreuung für Mütter"
          ],
          [
           "Eltern-Kind-Schaukel für Spielplätze"
          ],
          [
           "Ponyclub Querum e.V."
          ],
          [
           "Weiteres Angebot des Braunschweiger Schülertickets für 15 Euro"
          ],
          [
           "Aufrüstung Broitzemer Spielplätze für Kleinkinder"
          ],
          [
           "Ort für Grafitty und Tags statt Beschmieren im östlichen Ringgebiet"
          ],
          [
           "Basketballplatz erneuern am Spielplatz Hohetorwall"
          ],
          [
           "Petition: Verbesserung des Skateparks am Westbahnhof in Braunschweig zum 10-jährigen Jubiläum"
          ],
          [
           "Skaterbahn Mutter Kind Spielplatz"
          ]
         ],
         "hovertemplate": "label=Soziales, Jugend und Gesundheit<br>x=%{x}<br>y=%{y}<br>z=%{z}<br>hover_text=%{customdata[0]}<extra></extra>",
         "legendgroup": "Soziales, Jugend und Gesundheit",
         "marker": {
          "color": "#FFA15A",
          "symbol": "circle"
         },
         "mode": "markers",
         "name": "Soziales, Jugend und Gesundheit",
         "scene": "scene",
         "showlegend": true,
         "type": "scatter3d",
         "x": [
          9.445517,
          8.576346,
          9.830203,
          8.695895,
          9.353414,
          8.488171,
          8.311992,
          9.227274,
          11.346949,
          9.203841,
          8.73876,
          8.969456
         ],
         "y": [
          11.352939,
          9.935505,
          10.037853,
          10.386727,
          11.4291315,
          10.398835,
          9.949324,
          11.387407,
          10.835768,
          11.454506,
          9.505494,
          11.677476
         ],
         "z": [
          3.4835904,
          2.3751996,
          4.2938814,
          1.9850332,
          3.6270363,
          3.7095153,
          2.6569333,
          3.8120694,
          2.0175405,
          3.8105073,
          3.8912976,
          3.4985955
         ]
        },
        {
         "customdata": [
          [
           "Aufführung des Dramas \"Julius von Tarent\" von Johann Anton Leisewitz"
          ],
          [
           "Stadtkindergarten/Krippe"
          ]
         ],
         "hovertemplate": "label=Schule und Kultur<br>x=%{x}<br>y=%{y}<br>z=%{z}<br>hover_text=%{customdata[0]}<extra></extra>",
         "legendgroup": "Schule und Kultur",
         "marker": {
          "color": "#19d3f3",
          "symbol": "circle"
         },
         "mode": "markers",
         "name": "Schule und Kultur",
         "scene": "scene",
         "showlegend": true,
         "type": "scatter3d",
         "x": [
          8.382493,
          8.692082
         ],
         "y": [
          10.566534,
          10.401774
         ],
         "z": [
          2.1308374,
          1.9709674
         ]
        },
        {
         "customdata": [
          [
           "Installation einer Strassen/wegbeleuchtung"
          ],
          [
           "Haltestelle extrem unsicher"
          ],
          [
           "Wegbeleuchtung bauen"
          ],
          [
           "Veranstaltungen richtig Planen"
          ]
         ],
         "hovertemplate": "label=Recht, Sicherheit und Ordnung<br>x=%{x}<br>y=%{y}<br>z=%{z}<br>hover_text=%{customdata[0]}<extra></extra>",
         "legendgroup": "Recht, Sicherheit und Ordnung",
         "marker": {
          "color": "#FF6692",
          "symbol": "circle"
         },
         "mode": "markers",
         "name": "Recht, Sicherheit und Ordnung",
         "scene": "scene",
         "showlegend": true,
         "type": "scatter3d",
         "x": [
          10.060424,
          9.782376,
          10.229081,
          8.652491
         ],
         "y": [
          11.899145,
          10.525314,
          12.001987,
          9.577264
         ],
         "z": [
          2.24361,
          1.8165098,
          2.0451732,
          2.877656
         ]
        },
        {
         "customdata": [
          [
           "Parkplätze Adventsgeschäft - Forderung AAI"
          ],
          [
           "Umwandlung des alten Galaria-Gebäudes in ein Parkhaus"
          ],
          [
           "Gesundheits- und Rehazentrum im Galeria-Gebäude"
          ]
         ],
         "hovertemplate": "label=Wirtschaft<br>x=%{x}<br>y=%{y}<br>z=%{z}<br>hover_text=%{customdata[0]}<extra></extra>",
         "legendgroup": "Wirtschaft",
         "marker": {
          "color": "#B6E880",
          "symbol": "circle"
         },
         "mode": "markers",
         "name": "Wirtschaft",
         "scene": "scene",
         "showlegend": true,
         "type": "scatter3d",
         "x": [
          8.666317,
          8.72479,
          9.522004
         ],
         "y": [
          9.707207,
          9.900189,
          11.423046
         ],
         "z": [
          3.7415164,
          3.9827576,
          2.4204717
         ]
        }
       ],
       "layout": {
        "legend": {
         "title": {
          "text": "label"
         },
         "tracegroupgap": 0
        },
        "margin": {
         "t": 60
        },
        "scene": {
         "domain": {
          "x": [
           0,
           1
          ],
          "y": [
           0,
           1
          ]
         },
         "xaxis": {
          "title": {
           "text": "x"
          }
         },
         "yaxis": {
          "title": {
           "text": "y"
          }
         },
         "zaxis": {
          "title": {
           "text": "z"
          }
         }
        },
        "template": {
         "data": {
          "bar": [
           {
            "error_x": {
             "color": "#2a3f5f"
            },
            "error_y": {
             "color": "#2a3f5f"
            },
            "marker": {
             "line": {
              "color": "#E5ECF6",
              "width": 0.5
             },
             "pattern": {
              "fillmode": "overlay",
              "size": 10,
              "solidity": 0.2
             }
            },
            "type": "bar"
           }
          ],
          "barpolar": [
           {
            "marker": {
             "line": {
              "color": "#E5ECF6",
              "width": 0.5
             },
             "pattern": {
              "fillmode": "overlay",
              "size": 10,
              "solidity": 0.2
             }
            },
            "type": "barpolar"
           }
          ],
          "carpet": [
           {
            "aaxis": {
             "endlinecolor": "#2a3f5f",
             "gridcolor": "white",
             "linecolor": "white",
             "minorgridcolor": "white",
             "startlinecolor": "#2a3f5f"
            },
            "baxis": {
             "endlinecolor": "#2a3f5f",
             "gridcolor": "white",
             "linecolor": "white",
             "minorgridcolor": "white",
             "startlinecolor": "#2a3f5f"
            },
            "type": "carpet"
           }
          ],
          "choropleth": [
           {
            "colorbar": {
             "outlinewidth": 0,
             "ticks": ""
            },
            "type": "choropleth"
           }
          ],
          "contour": [
           {
            "colorbar": {
             "outlinewidth": 0,
             "ticks": ""
            },
            "colorscale": [
             [
              0,
              "#0d0887"
             ],
             [
              0.1111111111111111,
              "#46039f"
             ],
             [
              0.2222222222222222,
              "#7201a8"
             ],
             [
              0.3333333333333333,
              "#9c179e"
             ],
             [
              0.4444444444444444,
              "#bd3786"
             ],
             [
              0.5555555555555556,
              "#d8576b"
             ],
             [
              0.6666666666666666,
              "#ed7953"
             ],
             [
              0.7777777777777778,
              "#fb9f3a"
             ],
             [
              0.8888888888888888,
              "#fdca26"
             ],
             [
              1,
              "#f0f921"
             ]
            ],
            "type": "contour"
           }
          ],
          "contourcarpet": [
           {
            "colorbar": {
             "outlinewidth": 0,
             "ticks": ""
            },
            "type": "contourcarpet"
           }
          ],
          "heatmap": [
           {
            "colorbar": {
             "outlinewidth": 0,
             "ticks": ""
            },
            "colorscale": [
             [
              0,
              "#0d0887"
             ],
             [
              0.1111111111111111,
              "#46039f"
             ],
             [
              0.2222222222222222,
              "#7201a8"
             ],
             [
              0.3333333333333333,
              "#9c179e"
             ],
             [
              0.4444444444444444,
              "#bd3786"
             ],
             [
              0.5555555555555556,
              "#d8576b"
             ],
             [
              0.6666666666666666,
              "#ed7953"
             ],
             [
              0.7777777777777778,
              "#fb9f3a"
             ],
             [
              0.8888888888888888,
              "#fdca26"
             ],
             [
              1,
              "#f0f921"
             ]
            ],
            "type": "heatmap"
           }
          ],
          "heatmapgl": [
           {
            "colorbar": {
             "outlinewidth": 0,
             "ticks": ""
            },
            "colorscale": [
             [
              0,
              "#0d0887"
             ],
             [
              0.1111111111111111,
              "#46039f"
             ],
             [
              0.2222222222222222,
              "#7201a8"
             ],
             [
              0.3333333333333333,
              "#9c179e"
             ],
             [
              0.4444444444444444,
              "#bd3786"
             ],
             [
              0.5555555555555556,
              "#d8576b"
             ],
             [
              0.6666666666666666,
              "#ed7953"
             ],
             [
              0.7777777777777778,
              "#fb9f3a"
             ],
             [
              0.8888888888888888,
              "#fdca26"
             ],
             [
              1,
              "#f0f921"
             ]
            ],
            "type": "heatmapgl"
           }
          ],
          "histogram": [
           {
            "marker": {
             "pattern": {
              "fillmode": "overlay",
              "size": 10,
              "solidity": 0.2
             }
            },
            "type": "histogram"
           }
          ],
          "histogram2d": [
           {
            "colorbar": {
             "outlinewidth": 0,
             "ticks": ""
            },
            "colorscale": [
             [
              0,
              "#0d0887"
             ],
             [
              0.1111111111111111,
              "#46039f"
             ],
             [
              0.2222222222222222,
              "#7201a8"
             ],
             [
              0.3333333333333333,
              "#9c179e"
             ],
             [
              0.4444444444444444,
              "#bd3786"
             ],
             [
              0.5555555555555556,
              "#d8576b"
             ],
             [
              0.6666666666666666,
              "#ed7953"
             ],
             [
              0.7777777777777778,
              "#fb9f3a"
             ],
             [
              0.8888888888888888,
              "#fdca26"
             ],
             [
              1,
              "#f0f921"
             ]
            ],
            "type": "histogram2d"
           }
          ],
          "histogram2dcontour": [
           {
            "colorbar": {
             "outlinewidth": 0,
             "ticks": ""
            },
            "colorscale": [
             [
              0,
              "#0d0887"
             ],
             [
              0.1111111111111111,
              "#46039f"
             ],
             [
              0.2222222222222222,
              "#7201a8"
             ],
             [
              0.3333333333333333,
              "#9c179e"
             ],
             [
              0.4444444444444444,
              "#bd3786"
             ],
             [
              0.5555555555555556,
              "#d8576b"
             ],
             [
              0.6666666666666666,
              "#ed7953"
             ],
             [
              0.7777777777777778,
              "#fb9f3a"
             ],
             [
              0.8888888888888888,
              "#fdca26"
             ],
             [
              1,
              "#f0f921"
             ]
            ],
            "type": "histogram2dcontour"
           }
          ],
          "mesh3d": [
           {
            "colorbar": {
             "outlinewidth": 0,
             "ticks": ""
            },
            "type": "mesh3d"
           }
          ],
          "parcoords": [
           {
            "line": {
             "colorbar": {
              "outlinewidth": 0,
              "ticks": ""
             }
            },
            "type": "parcoords"
           }
          ],
          "pie": [
           {
            "automargin": true,
            "type": "pie"
           }
          ],
          "scatter": [
           {
            "fillpattern": {
             "fillmode": "overlay",
             "size": 10,
             "solidity": 0.2
            },
            "type": "scatter"
           }
          ],
          "scatter3d": [
           {
            "line": {
             "colorbar": {
              "outlinewidth": 0,
              "ticks": ""
             }
            },
            "marker": {
             "colorbar": {
              "outlinewidth": 0,
              "ticks": ""
             }
            },
            "type": "scatter3d"
           }
          ],
          "scattercarpet": [
           {
            "marker": {
             "colorbar": {
              "outlinewidth": 0,
              "ticks": ""
             }
            },
            "type": "scattercarpet"
           }
          ],
          "scattergeo": [
           {
            "marker": {
             "colorbar": {
              "outlinewidth": 0,
              "ticks": ""
             }
            },
            "type": "scattergeo"
           }
          ],
          "scattergl": [
           {
            "marker": {
             "colorbar": {
              "outlinewidth": 0,
              "ticks": ""
             }
            },
            "type": "scattergl"
           }
          ],
          "scattermapbox": [
           {
            "marker": {
             "colorbar": {
              "outlinewidth": 0,
              "ticks": ""
             }
            },
            "type": "scattermapbox"
           }
          ],
          "scatterpolar": [
           {
            "marker": {
             "colorbar": {
              "outlinewidth": 0,
              "ticks": ""
             }
            },
            "type": "scatterpolar"
           }
          ],
          "scatterpolargl": [
           {
            "marker": {
             "colorbar": {
              "outlinewidth": 0,
              "ticks": ""
             }
            },
            "type": "scatterpolargl"
           }
          ],
          "scatterternary": [
           {
            "marker": {
             "colorbar": {
              "outlinewidth": 0,
              "ticks": ""
             }
            },
            "type": "scatterternary"
           }
          ],
          "surface": [
           {
            "colorbar": {
             "outlinewidth": 0,
             "ticks": ""
            },
            "colorscale": [
             [
              0,
              "#0d0887"
             ],
             [
              0.1111111111111111,
              "#46039f"
             ],
             [
              0.2222222222222222,
              "#7201a8"
             ],
             [
              0.3333333333333333,
              "#9c179e"
             ],
             [
              0.4444444444444444,
              "#bd3786"
             ],
             [
              0.5555555555555556,
              "#d8576b"
             ],
             [
              0.6666666666666666,
              "#ed7953"
             ],
             [
              0.7777777777777778,
              "#fb9f3a"
             ],
             [
              0.8888888888888888,
              "#fdca26"
             ],
             [
              1,
              "#f0f921"
             ]
            ],
            "type": "surface"
           }
          ],
          "table": [
           {
            "cells": {
             "fill": {
              "color": "#EBF0F8"
             },
             "line": {
              "color": "white"
             }
            },
            "header": {
             "fill": {
              "color": "#C8D4E3"
             },
             "line": {
              "color": "white"
             }
            },
            "type": "table"
           }
          ]
         },
         "layout": {
          "annotationdefaults": {
           "arrowcolor": "#2a3f5f",
           "arrowhead": 0,
           "arrowwidth": 1
          },
          "autotypenumbers": "strict",
          "coloraxis": {
           "colorbar": {
            "outlinewidth": 0,
            "ticks": ""
           }
          },
          "colorscale": {
           "diverging": [
            [
             0,
             "#8e0152"
            ],
            [
             0.1,
             "#c51b7d"
            ],
            [
             0.2,
             "#de77ae"
            ],
            [
             0.3,
             "#f1b6da"
            ],
            [
             0.4,
             "#fde0ef"
            ],
            [
             0.5,
             "#f7f7f7"
            ],
            [
             0.6,
             "#e6f5d0"
            ],
            [
             0.7,
             "#b8e186"
            ],
            [
             0.8,
             "#7fbc41"
            ],
            [
             0.9,
             "#4d9221"
            ],
            [
             1,
             "#276419"
            ]
           ],
           "sequential": [
            [
             0,
             "#0d0887"
            ],
            [
             0.1111111111111111,
             "#46039f"
            ],
            [
             0.2222222222222222,
             "#7201a8"
            ],
            [
             0.3333333333333333,
             "#9c179e"
            ],
            [
             0.4444444444444444,
             "#bd3786"
            ],
            [
             0.5555555555555556,
             "#d8576b"
            ],
            [
             0.6666666666666666,
             "#ed7953"
            ],
            [
             0.7777777777777778,
             "#fb9f3a"
            ],
            [
             0.8888888888888888,
             "#fdca26"
            ],
            [
             1,
             "#f0f921"
            ]
           ],
           "sequentialminus": [
            [
             0,
             "#0d0887"
            ],
            [
             0.1111111111111111,
             "#46039f"
            ],
            [
             0.2222222222222222,
             "#7201a8"
            ],
            [
             0.3333333333333333,
             "#9c179e"
            ],
            [
             0.4444444444444444,
             "#bd3786"
            ],
            [
             0.5555555555555556,
             "#d8576b"
            ],
            [
             0.6666666666666666,
             "#ed7953"
            ],
            [
             0.7777777777777778,
             "#fb9f3a"
            ],
            [
             0.8888888888888888,
             "#fdca26"
            ],
            [
             1,
             "#f0f921"
            ]
           ]
          },
          "colorway": [
           "#636efa",
           "#EF553B",
           "#00cc96",
           "#ab63fa",
           "#FFA15A",
           "#19d3f3",
           "#FF6692",
           "#B6E880",
           "#FF97FF",
           "#FECB52"
          ],
          "font": {
           "color": "#2a3f5f"
          },
          "geo": {
           "bgcolor": "white",
           "lakecolor": "white",
           "landcolor": "#E5ECF6",
           "showlakes": true,
           "showland": true,
           "subunitcolor": "white"
          },
          "hoverlabel": {
           "align": "left"
          },
          "hovermode": "closest",
          "mapbox": {
           "style": "light"
          },
          "paper_bgcolor": "white",
          "plot_bgcolor": "#E5ECF6",
          "polar": {
           "angularaxis": {
            "gridcolor": "white",
            "linecolor": "white",
            "ticks": ""
           },
           "bgcolor": "#E5ECF6",
           "radialaxis": {
            "gridcolor": "white",
            "linecolor": "white",
            "ticks": ""
           }
          },
          "scene": {
           "xaxis": {
            "backgroundcolor": "#E5ECF6",
            "gridcolor": "white",
            "gridwidth": 2,
            "linecolor": "white",
            "showbackground": true,
            "ticks": "",
            "zerolinecolor": "white"
           },
           "yaxis": {
            "backgroundcolor": "#E5ECF6",
            "gridcolor": "white",
            "gridwidth": 2,
            "linecolor": "white",
            "showbackground": true,
            "ticks": "",
            "zerolinecolor": "white"
           },
           "zaxis": {
            "backgroundcolor": "#E5ECF6",
            "gridcolor": "white",
            "gridwidth": 2,
            "linecolor": "white",
            "showbackground": true,
            "ticks": "",
            "zerolinecolor": "white"
           }
          },
          "shapedefaults": {
           "line": {
            "color": "#2a3f5f"
           }
          },
          "ternary": {
           "aaxis": {
            "gridcolor": "white",
            "linecolor": "white",
            "ticks": ""
           },
           "baxis": {
            "gridcolor": "white",
            "linecolor": "white",
            "ticks": ""
           },
           "bgcolor": "#E5ECF6",
           "caxis": {
            "gridcolor": "white",
            "linecolor": "white",
            "ticks": ""
           }
          },
          "title": {
           "x": 0.05
          },
          "xaxis": {
           "automargin": true,
           "gridcolor": "white",
           "linecolor": "white",
           "ticks": "",
           "title": {
            "standoff": 15
           },
           "zerolinecolor": "white",
           "zerolinewidth": 2
          },
          "yaxis": {
           "automargin": true,
           "gridcolor": "white",
           "linecolor": "white",
           "ticks": "",
           "title": {
            "standoff": 15
           },
           "zerolinecolor": "white",
           "zerolinewidth": 2
          }
         }
        }
       }
      },
      "text/html": [
       "<div>                            <div id=\"4ee84ae5-b8f6-4c61-9587-d23c53d9e3a6\" class=\"plotly-graph-div\" style=\"height:525px; width:100%;\"></div>            <script type=\"text/javascript\">                require([\"plotly\"], function(Plotly) {                    window.PLOTLYENV=window.PLOTLYENV || {};                                    if (document.getElementById(\"4ee84ae5-b8f6-4c61-9587-d23c53d9e3a6\")) {                    Plotly.newPlot(                        \"4ee84ae5-b8f6-4c61-9587-d23c53d9e3a6\",                        [{\"customdata\":[[\"Verkehrsberuhigter Bereich Holwedestraße\"],[\"Sicherer Schulweg Querum\"],[\"Tempo 30 Madamenweg\\u002fRinggleis bis Kreuzung Madamenweg\\u002fAltstadring\"],[\"Fahrradkonzept Wendenstraße überarbeiten...\"],[\"Brodweg - brisant für alle Verkehrsteilnehmenden\"],[\"Schulverkehr Querum\"],[\"Solarunterstand für Räder\"],[\"Kastanienallee Ampelschaltung anpassen\"],[\"Verkehrspiegel Ausfahrt Buschweg auf die Hauptstraße in Wenden\"],[\"Ampel für Radfahrer Wendenring Ecke Maschpl\"],[\"Geschwindigkeits- und Durchfahrtsbegrenzung Querumer Straße\"],[\"FGÜ\"],[\"Umrüstung der ÖPNV-Busflotte auf Elektromobilität\"],[\"Zebrastreifen an der Kreuzung Mittelweg Ringgleis.\"],[\"Blitzer am Bohlweg ( vor Schloß )\"],[\"Verbreiterung Fuß\\u002fRadweg Bienroder Weg\"],[\"Fahrradpiktogramme Rüninger Weg endlich umsetzen\"],[\"Einrichten eines Durchfahrtverbots für Transporter und Kraftfahrzeuge über 3,5 Tonnen in die Volmestraße\"],[\"Ausnahmegenehmigung für pflegende Privatpersonen zum Parken\"],[\"Mittelweg 30km\\u002fh Blitzer\"],[\"Parkplatz auf dem Wollmarkt stoppen\"],[\"Push & Pull\"],[\"Mühlentrift Verkehr, Tempo 30, Anlieger Frei\"],[\"Fahrradstraße Wilhelm-Bode-Straße und Karl-Marx-Straße mit Vorfahrt\"],[\"Gefahrenstelle auf dem Ringgleis\"],[\"Bringzone für die Realschule Maschstraße\"],[\"Mehr Bewohnerparkplätze in der Maschstraße\"],[\"Verkehrssichere Max-Planck-Str\"],[\"Verkehrsspiegel Kreuzung Karl-Hintze-Weg und Mittelriede\"],[\"Halteververbot auf der Altmarkstr. in Höhe Auf dem Anger\"],[\"Einbahnstraße Wilhelmsgarten\"],[\"Einbahnstraße St.-Ingbert-Straße zur Lärmreduzierung\"],[\"Mehr Bewohnerparkplätze am Burgundenplatz\"],[\"Hinweisschild Einsatzfahrzeug Salzdahlumer Straße\"],[\"Sichere Überquerungsmöglichkeit am Campus Forschungsflughafen\"],[\"Veloroute und Parkplatzsituation Helmstedeter Straße\"],[\"Geschwindigkeitsschwellen Holzmindener Straße\"],[\"Petristraße für Radfahrer optimieren\"],[\"„Sichtschutz“ an RadfahrerInnenampel Ecke Gliedmaroder Str.\\u002fBöcklinstr. für Autofahrende\"],[\"Sensorgesteuerte Ampelschaltung Ringgleis\\u002fCeller Straße\"],[\"Parkplätze Querum\"],[\"Warnschilder vor der neuen Querungshilfe An der Rothenburg\"],[\"Beleuchtung Ringgleis\"],[\"Hinweisschild für Radfahrer beim Überholen von Fußgängern auf dem gesamten Ringgleis\"],[\"Ein Zebrastreifen für den Handelsweg\"],[\"Fahrradständer und grüner Pfeil für Fahrräder\"],[\"Autos versperren Fußweg\"],[\"Fahrradparkhaus Innenstadt\"],[\"Anpassung Strahler Dom\\u002fMünzstraße\"],[\"T- Kreuzung Hordorfer Str. L 633\\u002f Schapen\\u002fWeddel K41 ist lebensgefährlich\"],[\"Schulweg von Grundschüler: Monatskarte ohne 2km Entfernung\"],[\"Fahrradständer\"],[\"Lehmanger sicherer machen!\"],[\"Lärmschutzwand A39 Geitelde\"],[\"Rad und Fußweg Lehmanger Richtung Donauviertel\"],[\"„Spielstraßen“ beruhigen\"],[\"Überprüfung und Aktualisierung von Verkehrsschildern\"],[\"Markierung Radweg Kreuzung Steinweg\\u002fRitterbrunnen\"],[\"Begrenzung des Verkehrs auf der Münzstraße\"],[\"Farbliche Markierung von Parkflächen\"],[\"Unterirdischer Rebenring\"],[\"Fahrtrichtung auf dem Radweg klar festlegen\"],[\"Einführung eines Blitzersystems mit Audiosensoren\"],[\"Salzdahlumer Straße digitales Hinweisschild zur Vorrangschaltung\"],[\"Entlastung der Bevenroder Str.\"],[\"Signallampe Straßenbahnquerung\"],[\"Kein Anwohnerparken im östlichen Ringgebiet\"],[\"Verkehrsberuhigung Madamenweg\"],[\"Ampelschaltung Hamburger Straße vorm Stadion optimieren\"],[\"Ringbus erhalten – das südwestliche Ringgebiet darf nicht abgehängt werden!\"],[\"Fußgängerüberweg für eine sicherere Grundschule in Querum\"],[\"Rote Radwegmarkierung Münchenstraße\\u002fBroitzemer Straße\"],[\"Optimierung Fußgängerampel Ackerstr.\\u002fHelmstedter Str.\"],[\"Wilhelm-Bornstedt-Weg entlang der Oker besser befestigen\"]],\"hovertemplate\":\"label=Verkehr\\u003cbr\\u003ex=%{x}\\u003cbr\\u003ey=%{y}\\u003cbr\\u003ez=%{z}\\u003cbr\\u003ehover_text=%{customdata[0]}\\u003cextra\\u003e\\u003c\\u002fextra\\u003e\",\"legendgroup\":\"Verkehr\",\"marker\":{\"color\":\"#636efa\",\"symbol\":\"circle\"},\"mode\":\"markers\",\"name\":\"Verkehr\",\"scene\":\"scene\",\"showlegend\":true,\"x\":[11.307224,10.019213,10.222269,9.979763,10.085701,9.842244,8.382244,9.531756,9.962576,10.47654,9.9336405,9.43461,8.242502,11.054262,10.876031,9.993909,10.155664,8.699255,8.819401,10.708232,8.757318,10.9949875,10.5690155,10.158502,10.992201,9.639401,9.023263,10.62514,9.007827,10.542737,10.364728,9.416657,8.974496,9.436748,9.524123,9.041808,9.405007,10.27935,10.284831,11.002587,9.172867,10.139169,10.361232,9.998089,10.443764,9.29955,9.108463,10.243607,10.873971,9.753354,9.61618,9.975275,11.105957,11.029483,11.209616,10.829277,8.66,10.0208235,9.135658,8.95203,10.027609,9.658899,9.772556,9.371068,10.670653,11.323114,8.7758045,9.341379,10.246414,11.144144,9.767839,10.597126,10.8788395,10.065406],\"y\":[10.903241,10.360344,9.906137,10.63999,11.161053,11.674336,10.929526,9.977762,9.169886,10.90374,10.19127,9.463371,10.129349,11.26176,10.441375,11.288815,11.141211,9.470893,10.064966,10.836327,9.597697,11.048547,10.13007,10.465459,11.239618,9.9435425,9.220488,10.056837,10.319806,10.940248,10.432658,10.106727,8.908017,10.617667,10.007877,9.114497,8.768944,10.942224,10.995372,11.029255,8.868267,10.42076,12.05408,11.270702,10.651847,10.348751,9.279207,9.889036,10.697521,12.118875,10.514525,11.644936,11.154977,10.386986,11.214225,10.151182,11.297011,11.513525,8.856785,9.475499,10.384272,10.893454,9.875654,10.570542,10.910185,11.2528715,9.414448,8.721947,11.177721,11.2139,10.134215,9.649288,10.770327,12.1327715],\"z\":[1.9661273,2.526976,1.6577243,1.8966509,0.75710785,2.4858797,2.7589781,1.6227279,3.0031266,1.016885,1.882652,4.097589,2.3883843,1.4378934,2.674557,0.85381466,0.71691054,4.08171,4.05015,1.2172166,3.9568384,1.0301262,1.7666912,1.402718,1.1837953,2.431316,4.033743,2.223622,1.839509,3.6618314,2.4772506,1.7198042,3.52586,1.2527766,2.3257403,3.7532253,3.4990501,0.7259149,0.76752853,1.0403233,3.644085,2.3932383,2.203281,0.77413964,1.3834836,1.5113852,4.174936,2.8952038,2.826842,2.4340117,2.1738944,1.2379193,1.7604384,2.0770981,1.4467155,1.9686191,2.4410985,1.1199007,3.6439378,4.214235,3.4331112,1.0695304,1.7499217,1.2829245,3.3735535,1.2391236,3.2805243,3.6139286,1.1738044,1.1173234,2.155392,2.3979793,3.1192136,2.3956108],\"type\":\"scatter3d\"},{\"customdata\":[[\"Wickelboard auf städtischen Spielplätzen\"],[\"Neugestaltung WOLLMARKT\"],[\"Dauerhafte Begrünung des Schlossplatzes und Platz der Deutschen Einheit\"],[\"Mehr Mülleimer im Waldstück zwischen Kralenriede, der Schuntersiedlung und Rühme.\"],[\"Sitzbänke an der Platane Okerstraße 8b\"],[\"Steg am Schapenbruchteich\"],[\"Toiletten für den Löwenwall\"],[\"Mehr Mülleimer\\u002f kotbeutelstation\"],[\"Nachhaltigere und effizientere Grünflächenbewässerung\"],[\"Braunschweig braucht einen Wasserspielplatz!\"],[\"Pflege \\u002fGestaltung Grünanlagen\"],[\"100 künstlerisch gestaltete Bänke für Braunschweig!\"],[\"Verwaiste Einkaufswagen\"],[\"Zuwegung Bhf. Gliesmarode einladend randbepflanzen\"],[\"Hundeplatz Melverode\"],[\"Kaffee am Ölpersee\"],[\"Leipziger Straße entlang keine Sitzbänke\"],[\"Hundeplatz Melverode\"],[\"Bäume gegen Klimawandel\"],[\"Hundewiese Nußberg\"]],\"hovertemplate\":\"label=Stadtgrün und Umwelt\\u003cbr\\u003ex=%{x}\\u003cbr\\u003ey=%{y}\\u003cbr\\u003ez=%{z}\\u003cbr\\u003ehover_text=%{customdata[0]}\\u003cextra\\u003e\\u003c\\u002fextra\\u003e\",\"legendgroup\":\"Stadtgrün und Umwelt\",\"marker\":{\"color\":\"#EF553B\",\"symbol\":\"circle\"},\"mode\":\"markers\",\"name\":\"Stadtgrün und Umwelt\",\"scene\":\"scene\",\"showlegend\":true,\"x\":[8.787852,8.950072,9.094083,10.064073,8.954673,10.491011,9.673182,10.8912945,8.33257,8.961123,8.725276,8.682606,8.6329155,9.316661,8.924603,9.422912,8.92289,8.861891,10.422729,8.868286],\"y\":[10.372501,11.844733,10.733492,12.119764,9.737179,11.030169,9.897046,10.856428,10.818966,10.483685,11.605606,9.684621,10.592691,11.7658205,11.724773,8.935913,9.595143,11.765041,9.522905,9.649731],\"z\":[3.8678732,2.9852273,3.7661233,2.440471,2.2465613,3.6148162,4.321186,2.7422523,2.6672287,3.6090539,2.9333115,2.2344487,3.6650481,2.5818558,2.9451177,3.2724004,2.2387967,2.8755004,2.4808915,2.2083259],\"type\":\"scatter3d\"},{\"customdata\":[[\"Beleuchtung Wasserturm Giersberg\"],[\"Hundewiese am Jütenring einrichten - Bebauungsplan HA 137 ändern\"],[\"\\\"Viktualienmarkt\\\" Burgpassage\"],[\"Umsetzen Informationsstele am Burgplatz\"],[\"Standort 2. Haferstroh-Toilette\"],[\"Umstellung der Beleuchtung auf LED\"],[\"Aufsteller mit Ladeninfos für den Handelsweg\"],[\"Tiny House Fläche erstellen\"]],\"hovertemplate\":\"label=Bauen und Planung\\u003cbr\\u003ex=%{x}\\u003cbr\\u003ey=%{y}\\u003cbr\\u003ez=%{z}\\u003cbr\\u003ehover_text=%{customdata[0]}\\u003cextra\\u003e\\u003c\\u002fextra\\u003e\",\"legendgroup\":\"Bauen und Planung\",\"marker\":{\"color\":\"#00cc96\",\"symbol\":\"circle\"},\"mode\":\"markers\",\"name\":\"Bauen und Planung\",\"scene\":\"scene\",\"showlegend\":true,\"x\":[10.372174,8.803675,9.797173,9.856021,9.907472,10.408118,8.711952,8.924213],\"y\":[10.985289,10.79202,10.368786,10.380513,10.110131,10.635986,11.374262,10.564787],\"z\":[2.7681081,3.02271,3.7078464,3.637705,4.2972374,1.7955654,2.5184603,3.1376717],\"type\":\"scatter3d\"},{\"customdata\":[[\"Zeitgemäße Funktionalität für die Ideenplattform\"],[\"Lärmaktionsplanung\"],[\"Einfacher Weg für die Genehmigung von nicht kommerziellen Tanzveranstaltungen in Braunschweiger Park und Grünanlagen\"],[\"§ 37 Hilfe bei Verwaltungsangelegenheiten Infoveranstaltung\"],[\"App Dorffunk\"],[\"Anmeldeportal Stadt Braunschweig\"],[\"Abstimmungen im Protokoll mit Angabe des genauen Ergebnisses\"]],\"hovertemplate\":\"label=Allgemeine Verwaltung\\u003cbr\\u003ex=%{x}\\u003cbr\\u003ey=%{y}\\u003cbr\\u003ez=%{z}\\u003cbr\\u003ehover_text=%{customdata[0]}\\u003cextra\\u003e\\u003c\\u002fextra\\u003e\",\"legendgroup\":\"Allgemeine Verwaltung\",\"marker\":{\"color\":\"#ab63fa\",\"symbol\":\"circle\"},\"mode\":\"markers\",\"name\":\"Allgemeine Verwaltung\",\"scene\":\"scene\",\"showlegend\":true,\"x\":[10.29968,8.793425,8.580915,8.800839,11.36786,8.929924,8.412818],\"y\":[10.696007,9.760912,10.148912,10.247955,10.692314,10.400769,10.616194],\"z\":[0.91011065,2.654106,3.805776,3.1473475,2.1953363,3.5057518,2.1893027],\"type\":\"scatter3d\"},{\"customdata\":[[\"Spielplätze im Herbst\\u002fWinter nutzbarer machen\"],[\"Unterstützung für besonders gefährdete Menschen bei Hitze\"],[\"Wickeltisch\"],[\"Einführung Stadtinterne Kinderbetreuung für Mütter\"],[\"Eltern-Kind-Schaukel für Spielplätze\"],[\"Ponyclub Querum e.V.\"],[\"Weiteres Angebot des Braunschweiger Schülertickets für 15 Euro\"],[\"Aufrüstung Broitzemer Spielplätze für Kleinkinder\"],[\"Ort für Grafitty und Tags statt Beschmieren im östlichen Ringgebiet\"],[\"Basketballplatz erneuern am Spielplatz Hohetorwall\"],[\"Petition: Verbesserung des Skateparks am Westbahnhof in Braunschweig zum 10-jährigen Jubiläum\"],[\"Skaterbahn Mutter Kind Spielplatz\"]],\"hovertemplate\":\"label=Soziales, Jugend und Gesundheit\\u003cbr\\u003ex=%{x}\\u003cbr\\u003ey=%{y}\\u003cbr\\u003ez=%{z}\\u003cbr\\u003ehover_text=%{customdata[0]}\\u003cextra\\u003e\\u003c\\u002fextra\\u003e\",\"legendgroup\":\"Soziales, Jugend und Gesundheit\",\"marker\":{\"color\":\"#FFA15A\",\"symbol\":\"circle\"},\"mode\":\"markers\",\"name\":\"Soziales, Jugend und Gesundheit\",\"scene\":\"scene\",\"showlegend\":true,\"x\":[9.445517,8.576346,9.830203,8.695895,9.353414,8.488171,8.311992,9.227274,11.346949,9.203841,8.73876,8.969456],\"y\":[11.352939,9.935505,10.037853,10.386727,11.4291315,10.398835,9.949324,11.387407,10.835768,11.454506,9.505494,11.677476],\"z\":[3.4835904,2.3751996,4.2938814,1.9850332,3.6270363,3.7095153,2.6569333,3.8120694,2.0175405,3.8105073,3.8912976,3.4985955],\"type\":\"scatter3d\"},{\"customdata\":[[\"Aufführung des Dramas \\\"Julius von Tarent\\\" von Johann Anton Leisewitz\"],[\"Stadtkindergarten\\u002fKrippe\"]],\"hovertemplate\":\"label=Schule und Kultur\\u003cbr\\u003ex=%{x}\\u003cbr\\u003ey=%{y}\\u003cbr\\u003ez=%{z}\\u003cbr\\u003ehover_text=%{customdata[0]}\\u003cextra\\u003e\\u003c\\u002fextra\\u003e\",\"legendgroup\":\"Schule und Kultur\",\"marker\":{\"color\":\"#19d3f3\",\"symbol\":\"circle\"},\"mode\":\"markers\",\"name\":\"Schule und Kultur\",\"scene\":\"scene\",\"showlegend\":true,\"x\":[8.382493,8.692082],\"y\":[10.566534,10.401774],\"z\":[2.1308374,1.9709674],\"type\":\"scatter3d\"},{\"customdata\":[[\"Installation einer Strassen\\u002fwegbeleuchtung\"],[\"Haltestelle extrem unsicher\"],[\"Wegbeleuchtung bauen\"],[\"Veranstaltungen richtig Planen\"]],\"hovertemplate\":\"label=Recht, Sicherheit und Ordnung\\u003cbr\\u003ex=%{x}\\u003cbr\\u003ey=%{y}\\u003cbr\\u003ez=%{z}\\u003cbr\\u003ehover_text=%{customdata[0]}\\u003cextra\\u003e\\u003c\\u002fextra\\u003e\",\"legendgroup\":\"Recht, Sicherheit und Ordnung\",\"marker\":{\"color\":\"#FF6692\",\"symbol\":\"circle\"},\"mode\":\"markers\",\"name\":\"Recht, Sicherheit und Ordnung\",\"scene\":\"scene\",\"showlegend\":true,\"x\":[10.060424,9.782376,10.229081,8.652491],\"y\":[11.899145,10.525314,12.001987,9.577264],\"z\":[2.24361,1.8165098,2.0451732,2.877656],\"type\":\"scatter3d\"},{\"customdata\":[[\"Parkplätze Adventsgeschäft - Forderung AAI\"],[\"Umwandlung des alten Galaria-Gebäudes in ein Parkhaus\"],[\"Gesundheits- und Rehazentrum im Galeria-Gebäude\"]],\"hovertemplate\":\"label=Wirtschaft\\u003cbr\\u003ex=%{x}\\u003cbr\\u003ey=%{y}\\u003cbr\\u003ez=%{z}\\u003cbr\\u003ehover_text=%{customdata[0]}\\u003cextra\\u003e\\u003c\\u002fextra\\u003e\",\"legendgroup\":\"Wirtschaft\",\"marker\":{\"color\":\"#B6E880\",\"symbol\":\"circle\"},\"mode\":\"markers\",\"name\":\"Wirtschaft\",\"scene\":\"scene\",\"showlegend\":true,\"x\":[8.666317,8.72479,9.522004],\"y\":[9.707207,9.900189,11.423046],\"z\":[3.7415164,3.9827576,2.4204717],\"type\":\"scatter3d\"}],                        {\"template\":{\"data\":{\"histogram2dcontour\":[{\"type\":\"histogram2dcontour\",\"colorbar\":{\"outlinewidth\":0,\"ticks\":\"\"},\"colorscale\":[[0.0,\"#0d0887\"],[0.1111111111111111,\"#46039f\"],[0.2222222222222222,\"#7201a8\"],[0.3333333333333333,\"#9c179e\"],[0.4444444444444444,\"#bd3786\"],[0.5555555555555556,\"#d8576b\"],[0.6666666666666666,\"#ed7953\"],[0.7777777777777778,\"#fb9f3a\"],[0.8888888888888888,\"#fdca26\"],[1.0,\"#f0f921\"]]}],\"choropleth\":[{\"type\":\"choropleth\",\"colorbar\":{\"outlinewidth\":0,\"ticks\":\"\"}}],\"histogram2d\":[{\"type\":\"histogram2d\",\"colorbar\":{\"outlinewidth\":0,\"ticks\":\"\"},\"colorscale\":[[0.0,\"#0d0887\"],[0.1111111111111111,\"#46039f\"],[0.2222222222222222,\"#7201a8\"],[0.3333333333333333,\"#9c179e\"],[0.4444444444444444,\"#bd3786\"],[0.5555555555555556,\"#d8576b\"],[0.6666666666666666,\"#ed7953\"],[0.7777777777777778,\"#fb9f3a\"],[0.8888888888888888,\"#fdca26\"],[1.0,\"#f0f921\"]]}],\"heatmap\":[{\"type\":\"heatmap\",\"colorbar\":{\"outlinewidth\":0,\"ticks\":\"\"},\"colorscale\":[[0.0,\"#0d0887\"],[0.1111111111111111,\"#46039f\"],[0.2222222222222222,\"#7201a8\"],[0.3333333333333333,\"#9c179e\"],[0.4444444444444444,\"#bd3786\"],[0.5555555555555556,\"#d8576b\"],[0.6666666666666666,\"#ed7953\"],[0.7777777777777778,\"#fb9f3a\"],[0.8888888888888888,\"#fdca26\"],[1.0,\"#f0f921\"]]}],\"heatmapgl\":[{\"type\":\"heatmapgl\",\"colorbar\":{\"outlinewidth\":0,\"ticks\":\"\"},\"colorscale\":[[0.0,\"#0d0887\"],[0.1111111111111111,\"#46039f\"],[0.2222222222222222,\"#7201a8\"],[0.3333333333333333,\"#9c179e\"],[0.4444444444444444,\"#bd3786\"],[0.5555555555555556,\"#d8576b\"],[0.6666666666666666,\"#ed7953\"],[0.7777777777777778,\"#fb9f3a\"],[0.8888888888888888,\"#fdca26\"],[1.0,\"#f0f921\"]]}],\"contourcarpet\":[{\"type\":\"contourcarpet\",\"colorbar\":{\"outlinewidth\":0,\"ticks\":\"\"}}],\"contour\":[{\"type\":\"contour\",\"colorbar\":{\"outlinewidth\":0,\"ticks\":\"\"},\"colorscale\":[[0.0,\"#0d0887\"],[0.1111111111111111,\"#46039f\"],[0.2222222222222222,\"#7201a8\"],[0.3333333333333333,\"#9c179e\"],[0.4444444444444444,\"#bd3786\"],[0.5555555555555556,\"#d8576b\"],[0.6666666666666666,\"#ed7953\"],[0.7777777777777778,\"#fb9f3a\"],[0.8888888888888888,\"#fdca26\"],[1.0,\"#f0f921\"]]}],\"surface\":[{\"type\":\"surface\",\"colorbar\":{\"outlinewidth\":0,\"ticks\":\"\"},\"colorscale\":[[0.0,\"#0d0887\"],[0.1111111111111111,\"#46039f\"],[0.2222222222222222,\"#7201a8\"],[0.3333333333333333,\"#9c179e\"],[0.4444444444444444,\"#bd3786\"],[0.5555555555555556,\"#d8576b\"],[0.6666666666666666,\"#ed7953\"],[0.7777777777777778,\"#fb9f3a\"],[0.8888888888888888,\"#fdca26\"],[1.0,\"#f0f921\"]]}],\"mesh3d\":[{\"type\":\"mesh3d\",\"colorbar\":{\"outlinewidth\":0,\"ticks\":\"\"}}],\"scatter\":[{\"fillpattern\":{\"fillmode\":\"overlay\",\"size\":10,\"solidity\":0.2},\"type\":\"scatter\"}],\"parcoords\":[{\"type\":\"parcoords\",\"line\":{\"colorbar\":{\"outlinewidth\":0,\"ticks\":\"\"}}}],\"scatterpolargl\":[{\"type\":\"scatterpolargl\",\"marker\":{\"colorbar\":{\"outlinewidth\":0,\"ticks\":\"\"}}}],\"bar\":[{\"error_x\":{\"color\":\"#2a3f5f\"},\"error_y\":{\"color\":\"#2a3f5f\"},\"marker\":{\"line\":{\"color\":\"#E5ECF6\",\"width\":0.5},\"pattern\":{\"fillmode\":\"overlay\",\"size\":10,\"solidity\":0.2}},\"type\":\"bar\"}],\"scattergeo\":[{\"type\":\"scattergeo\",\"marker\":{\"colorbar\":{\"outlinewidth\":0,\"ticks\":\"\"}}}],\"scatterpolar\":[{\"type\":\"scatterpolar\",\"marker\":{\"colorbar\":{\"outlinewidth\":0,\"ticks\":\"\"}}}],\"histogram\":[{\"marker\":{\"pattern\":{\"fillmode\":\"overlay\",\"size\":10,\"solidity\":0.2}},\"type\":\"histogram\"}],\"scattergl\":[{\"type\":\"scattergl\",\"marker\":{\"colorbar\":{\"outlinewidth\":0,\"ticks\":\"\"}}}],\"scatter3d\":[{\"type\":\"scatter3d\",\"line\":{\"colorbar\":{\"outlinewidth\":0,\"ticks\":\"\"}},\"marker\":{\"colorbar\":{\"outlinewidth\":0,\"ticks\":\"\"}}}],\"scattermapbox\":[{\"type\":\"scattermapbox\",\"marker\":{\"colorbar\":{\"outlinewidth\":0,\"ticks\":\"\"}}}],\"scatterternary\":[{\"type\":\"scatterternary\",\"marker\":{\"colorbar\":{\"outlinewidth\":0,\"ticks\":\"\"}}}],\"scattercarpet\":[{\"type\":\"scattercarpet\",\"marker\":{\"colorbar\":{\"outlinewidth\":0,\"ticks\":\"\"}}}],\"carpet\":[{\"aaxis\":{\"endlinecolor\":\"#2a3f5f\",\"gridcolor\":\"white\",\"linecolor\":\"white\",\"minorgridcolor\":\"white\",\"startlinecolor\":\"#2a3f5f\"},\"baxis\":{\"endlinecolor\":\"#2a3f5f\",\"gridcolor\":\"white\",\"linecolor\":\"white\",\"minorgridcolor\":\"white\",\"startlinecolor\":\"#2a3f5f\"},\"type\":\"carpet\"}],\"table\":[{\"cells\":{\"fill\":{\"color\":\"#EBF0F8\"},\"line\":{\"color\":\"white\"}},\"header\":{\"fill\":{\"color\":\"#C8D4E3\"},\"line\":{\"color\":\"white\"}},\"type\":\"table\"}],\"barpolar\":[{\"marker\":{\"line\":{\"color\":\"#E5ECF6\",\"width\":0.5},\"pattern\":{\"fillmode\":\"overlay\",\"size\":10,\"solidity\":0.2}},\"type\":\"barpolar\"}],\"pie\":[{\"automargin\":true,\"type\":\"pie\"}]},\"layout\":{\"autotypenumbers\":\"strict\",\"colorway\":[\"#636efa\",\"#EF553B\",\"#00cc96\",\"#ab63fa\",\"#FFA15A\",\"#19d3f3\",\"#FF6692\",\"#B6E880\",\"#FF97FF\",\"#FECB52\"],\"font\":{\"color\":\"#2a3f5f\"},\"hovermode\":\"closest\",\"hoverlabel\":{\"align\":\"left\"},\"paper_bgcolor\":\"white\",\"plot_bgcolor\":\"#E5ECF6\",\"polar\":{\"bgcolor\":\"#E5ECF6\",\"angularaxis\":{\"gridcolor\":\"white\",\"linecolor\":\"white\",\"ticks\":\"\"},\"radialaxis\":{\"gridcolor\":\"white\",\"linecolor\":\"white\",\"ticks\":\"\"}},\"ternary\":{\"bgcolor\":\"#E5ECF6\",\"aaxis\":{\"gridcolor\":\"white\",\"linecolor\":\"white\",\"ticks\":\"\"},\"baxis\":{\"gridcolor\":\"white\",\"linecolor\":\"white\",\"ticks\":\"\"},\"caxis\":{\"gridcolor\":\"white\",\"linecolor\":\"white\",\"ticks\":\"\"}},\"coloraxis\":{\"colorbar\":{\"outlinewidth\":0,\"ticks\":\"\"}},\"colorscale\":{\"sequential\":[[0.0,\"#0d0887\"],[0.1111111111111111,\"#46039f\"],[0.2222222222222222,\"#7201a8\"],[0.3333333333333333,\"#9c179e\"],[0.4444444444444444,\"#bd3786\"],[0.5555555555555556,\"#d8576b\"],[0.6666666666666666,\"#ed7953\"],[0.7777777777777778,\"#fb9f3a\"],[0.8888888888888888,\"#fdca26\"],[1.0,\"#f0f921\"]],\"sequentialminus\":[[0.0,\"#0d0887\"],[0.1111111111111111,\"#46039f\"],[0.2222222222222222,\"#7201a8\"],[0.3333333333333333,\"#9c179e\"],[0.4444444444444444,\"#bd3786\"],[0.5555555555555556,\"#d8576b\"],[0.6666666666666666,\"#ed7953\"],[0.7777777777777778,\"#fb9f3a\"],[0.8888888888888888,\"#fdca26\"],[1.0,\"#f0f921\"]],\"diverging\":[[0,\"#8e0152\"],[0.1,\"#c51b7d\"],[0.2,\"#de77ae\"],[0.3,\"#f1b6da\"],[0.4,\"#fde0ef\"],[0.5,\"#f7f7f7\"],[0.6,\"#e6f5d0\"],[0.7,\"#b8e186\"],[0.8,\"#7fbc41\"],[0.9,\"#4d9221\"],[1,\"#276419\"]]},\"xaxis\":{\"gridcolor\":\"white\",\"linecolor\":\"white\",\"ticks\":\"\",\"title\":{\"standoff\":15},\"zerolinecolor\":\"white\",\"automargin\":true,\"zerolinewidth\":2},\"yaxis\":{\"gridcolor\":\"white\",\"linecolor\":\"white\",\"ticks\":\"\",\"title\":{\"standoff\":15},\"zerolinecolor\":\"white\",\"automargin\":true,\"zerolinewidth\":2},\"scene\":{\"xaxis\":{\"backgroundcolor\":\"#E5ECF6\",\"gridcolor\":\"white\",\"linecolor\":\"white\",\"showbackground\":true,\"ticks\":\"\",\"zerolinecolor\":\"white\",\"gridwidth\":2},\"yaxis\":{\"backgroundcolor\":\"#E5ECF6\",\"gridcolor\":\"white\",\"linecolor\":\"white\",\"showbackground\":true,\"ticks\":\"\",\"zerolinecolor\":\"white\",\"gridwidth\":2},\"zaxis\":{\"backgroundcolor\":\"#E5ECF6\",\"gridcolor\":\"white\",\"linecolor\":\"white\",\"showbackground\":true,\"ticks\":\"\",\"zerolinecolor\":\"white\",\"gridwidth\":2}},\"shapedefaults\":{\"line\":{\"color\":\"#2a3f5f\"}},\"annotationdefaults\":{\"arrowcolor\":\"#2a3f5f\",\"arrowhead\":0,\"arrowwidth\":1},\"geo\":{\"bgcolor\":\"white\",\"landcolor\":\"#E5ECF6\",\"subunitcolor\":\"white\",\"showland\":true,\"showlakes\":true,\"lakecolor\":\"white\"},\"title\":{\"x\":0.05},\"mapbox\":{\"style\":\"light\"}}},\"scene\":{\"domain\":{\"x\":[0.0,1.0],\"y\":[0.0,1.0]},\"xaxis\":{\"title\":{\"text\":\"x\"}},\"yaxis\":{\"title\":{\"text\":\"y\"}},\"zaxis\":{\"title\":{\"text\":\"z\"}}},\"legend\":{\"title\":{\"text\":\"label\"},\"tracegroupgap\":0},\"margin\":{\"t\":60}},                        {\"responsive\": true}                    ).then(function(){\n",
       "                            \n",
       "var gd = document.getElementById('4ee84ae5-b8f6-4c61-9587-d23c53d9e3a6');\n",
       "var x = new MutationObserver(function (mutations, observer) {{\n",
       "        var display = window.getComputedStyle(gd).display;\n",
       "        if (!display || display === 'none') {{\n",
       "            console.log([gd, 'removed!']);\n",
       "            Plotly.purge(gd);\n",
       "            observer.disconnect();\n",
       "        }}\n",
       "}});\n",
       "\n",
       "// Listen for the removal of the full notebook cells\n",
       "var notebookContainer = gd.closest('#notebook-container');\n",
       "if (notebookContainer) {{\n",
       "    x.observe(notebookContainer, {childList: true});\n",
       "}}\n",
       "\n",
       "// Listen for the clearing of the current output cell\n",
       "var outputEl = gd.closest('.output');\n",
       "if (outputEl) {{\n",
       "    x.observe(outputEl, {childList: true});\n",
       "}}\n",
       "\n",
       "                        })                };                });            </script>        </div>"
      ]
     },
     "metadata": {},
     "output_type": "display_data"
    }
   ],
   "source": [
    "# Create a dataframe for visualization\n",
    "import plotly.express as px\n",
    "import pandas as pd\n",
    "\n",
    "# Create a new column for hover data with truncated text\n",
    "umap_embeddings_df = pd.DataFrame(umap_embeddings, columns=[\"x\", \"y\", \"z\"])\n",
    "umap_embeddings_df[\"hover_text\"] = titles\n",
    "umap_embeddings_df[\"label\"] = tags\n",
    "\n",
    "# Plotting using scatter_3d instead of scatter with extra \"z\" argument\n",
    "fig = px.scatter_3d(umap_embeddings_df, x=\"x\", y=\"y\", z=\"z\", color=\"label\", hover_data=[\"hover_text\"])\n",
    "fig.show()"
   ]
  },
  {
   "cell_type": "markdown",
   "id": "b34713e0",
   "metadata": {},
   "source": [
    "## Topic Modeling with BERTopic \n",
    "\n",
    "ref : https://www.kaggle.com/code/johannareiml/intuitions-about-bertopic#Installing-BERTopic\n",
    "\n",
    "tune BERTopic : https://maartengr.github.io/BERTopic/getting_started/parameter%20tuning/parametertuning.html"
   ]
  },
  {
   "cell_type": "code",
   "execution_count": 26,
   "id": "1d38ee96354d31c1",
   "metadata": {},
   "outputs": [],
   "source": [
    "from nltk.corpus import stopwords\n",
    "from bertopic import BERTopic\n",
    "from sklearn.feature_extraction.text import CountVectorizer"
   ]
  },
  {
   "cell_type": "code",
   "execution_count": 27,
   "id": "242cf85d",
   "metadata": {},
   "outputs": [
    {
     "name": "stderr",
     "output_type": "stream",
     "text": [
      "huggingface/tokenizers: The current process just got forked, after parallelism has already been used. Disabling parallelism to avoid deadlocks...\n",
      "To disable this warning, you can either:\n",
      "\t- Avoid using `tokenizers` before the fork if possible\n",
      "\t- Explicitly set the environment variable TOKENIZERS_PARALLELISM=(true | false)\n"
     ]
    },
    {
     "name": "stdout",
     "output_type": "stream",
     "text": [
      "Requirement already satisfied: stop-words in /system/conda/miniconda3/envs/cloudspace/lib/python3.10/site-packages (2018.7.23)\n",
      "\n",
      "\u001b[1m[\u001b[0m\u001b[34;49mnotice\u001b[0m\u001b[1;39;49m]\u001b[0m\u001b[39;49m A new release of pip is available: \u001b[0m\u001b[31;49m24.1.2\u001b[0m\u001b[39;49m -> \u001b[0m\u001b[32;49m24.2\u001b[0m\n",
      "\u001b[1m[\u001b[0m\u001b[34;49mnotice\u001b[0m\u001b[1;39;49m]\u001b[0m\u001b[39;49m To update, run: \u001b[0m\u001b[32;49mpip install --upgrade pip\u001b[0m\n"
     ]
    }
   ],
   "source": [
    "!pip install stop-words"
   ]
  },
  {
   "cell_type": "code",
   "execution_count": null,
   "id": "2466af0b",
   "metadata": {},
   "outputs": [],
   "source": [
    "import nltk\n",
    "nltk.download('stopwords')"
   ]
  },
  {
   "cell_type": "code",
   "execution_count": 28,
   "id": "d6a51f9f",
   "metadata": {},
   "outputs": [
    {
     "name": "stdout",
     "output_type": "stream",
     "text": [
      "['arabic', 'bulgarian', 'catalan', 'czech', 'danish', 'german', 'greek', 'english', 'spanish', 'estonian', 'persian', 'finnish', 'french', 'canadian french', 'galician', 'gujarati', 'hebrew', 'hindi', 'croatian', 'hungarian', 'armenian', 'indonesian', 'italian', 'japanese', 'georgian', 'korean', 'kurdish', 'lithuanian', 'latvian', 'macedonian', 'mongolian', 'marathi', 'malay', 'burmese', 'norwegian bokmal', 'dutch', 'polish', 'portuguese', 'brazilian portuguese', 'romanian', 'russian', 'slovak', 'slovenian', 'albanian', 'serbian', 'swedish', 'thai', 'turkish', 'ukrainian', 'urdu', 'vietnamese', 'chinese (simplified)', 'chinese (traditional)']\n"
     ]
    }
   ],
   "source": [
    "from bertopic.backend import languages\n",
    "print(languages)"
   ]
  },
  {
   "cell_type": "code",
   "execution_count": 29,
   "id": "a1d4be4a",
   "metadata": {},
   "outputs": [],
   "source": [
    "from stop_words import get_stop_words\n",
    "\n",
    "stop_words = get_stop_words('de')"
   ]
  },
  {
   "cell_type": "code",
   "execution_count": 30,
   "id": "925568df",
   "metadata": {},
   "outputs": [],
   "source": [
    "# count vectorizer is for turning documents into words. stop words refer to common tokens like \"the\" or \"a\"\n",
    "\n",
    "german_stop_words = stopwords.words('german')\n",
    "from stop_words import get_stop_words\n",
    "\n",
    "stop_words = get_stop_words('de')\n",
    "\n",
    "vectorizer_model = CountVectorizer(stop_words = stop_words)\n",
    "topic_model = BERTopic(vectorizer_model=vectorizer_model,\n",
    "                       language=\"german\",\n",
    "                       top_n_words= 20,\n",
    "                       n_gram_range= (1, 1),\n",
    "                       min_topic_size= 2,\n",
    "                       nr_topics= None,\n",
    "                       verbose=True)"
   ]
  },
  {
   "cell_type": "code",
   "execution_count": 31,
   "id": "29c3b4c9",
   "metadata": {},
   "outputs": [
    {
     "name": "stderr",
     "output_type": "stream",
     "text": [
      "2024-08-07 15:42:00,297 - BERTopic - Embedding - Transforming documents to embeddings.\n"
     ]
    },
    {
     "data": {
      "application/vnd.jupyter.widget-view+json": {
       "model_id": "c2aa01da10dd4b118ce32aa77e27b07b",
       "version_major": 2,
       "version_minor": 0
      },
      "text/plain": [
       "Batches:   0%|          | 0/5 [00:00<?, ?it/s]"
      ]
     },
     "metadata": {},
     "output_type": "display_data"
    },
    {
     "name": "stderr",
     "output_type": "stream",
     "text": [
      "2024-08-07 15:42:06,854 - BERTopic - Embedding - Completed ✓\n",
      "2024-08-07 15:42:06,854 - BERTopic - Dimensionality - Fitting the dimensionality reduction algorithm\n",
      "2024-08-07 15:42:08,256 - BERTopic - Dimensionality - Completed ✓\n",
      "2024-08-07 15:42:08,259 - BERTopic - Cluster - Start clustering the reduced embeddings\n",
      "2024-08-07 15:42:08,279 - BERTopic - Cluster - Completed ✓\n",
      "2024-08-07 15:42:08,284 - BERTopic - Representation - Extracting topics from clusters using representation models.\n",
      "2024-08-07 15:42:08,320 - BERTopic - Representation - Completed ✓\n"
     ]
    },
    {
     "data": {
      "text/plain": [
       "<bertopic._bertopic.BERTopic at 0x7fe3c41a2d40>"
      ]
     },
     "execution_count": 31,
     "metadata": {},
     "output_type": "execute_result"
    }
   ],
   "source": [
    "topic_model.fit(sentences)"
   ]
  },
  {
   "cell_type": "code",
   "execution_count": 32,
   "id": "f6c812c0",
   "metadata": {},
   "outputs": [
    {
     "data": {
      "text/html": [
       "<div>\n",
       "<style scoped>\n",
       "    .dataframe tbody tr th:only-of-type {\n",
       "        vertical-align: middle;\n",
       "    }\n",
       "\n",
       "    .dataframe tbody tr th {\n",
       "        vertical-align: top;\n",
       "    }\n",
       "\n",
       "    .dataframe thead th {\n",
       "        text-align: right;\n",
       "    }\n",
       "</style>\n",
       "<table border=\"1\" class=\"dataframe\">\n",
       "  <thead>\n",
       "    <tr style=\"text-align: right;\">\n",
       "      <th></th>\n",
       "      <th>Topic</th>\n",
       "      <th>Count</th>\n",
       "      <th>Name</th>\n",
       "      <th>Representation</th>\n",
       "      <th>Representative_Docs</th>\n",
       "    </tr>\n",
       "  </thead>\n",
       "  <tbody>\n",
       "    <tr>\n",
       "      <th>0</th>\n",
       "      <td>-1</td>\n",
       "      <td>24</td>\n",
       "      <td>-1_mütter_stadt_arbeiten_kind</td>\n",
       "      <td>[mütter, stadt, arbeiten, kind, sodass, fahren...</td>\n",
       "      <td>[Bei einem Universitäts-Campus sollte es sich ...</td>\n",
       "    </tr>\n",
       "    <tr>\n",
       "      <th>1</th>\n",
       "      <td>0</td>\n",
       "      <td>12</td>\n",
       "      <td>0_parkplätze_linien_mehr_parkflächen</td>\n",
       "      <td>[parkplätze, linien, mehr, parkflächen, stadt,...</td>\n",
       "      <td>[In der Braunschweiger Zeitung bzw. deren Onli...</td>\n",
       "    </tr>\n",
       "    <tr>\n",
       "      <th>2</th>\n",
       "      <td>1</td>\n",
       "      <td>11</td>\n",
       "      <td>1_radweg_radfahrer_richtung_wendenstraße</td>\n",
       "      <td>[radweg, radfahrer, richtung, wendenstraße, re...</td>\n",
       "      <td>[Der Handelsweg ist eine der beliebtesten Stra...</td>\n",
       "    </tr>\n",
       "    <tr>\n",
       "      <th>3</th>\n",
       "      <td>2</td>\n",
       "      <td>7</td>\n",
       "      <td>2_radfahrer_fußgänger_ringgleis_fahrbahn</td>\n",
       "      <td>[radfahrer, fußgänger, ringgleis, fahrbahn, st...</td>\n",
       "      <td>[Sehr geehrte Damen und Herren,an der vorgenan...</td>\n",
       "    </tr>\n",
       "    <tr>\n",
       "      <th>4</th>\n",
       "      <td>3</td>\n",
       "      <td>7</td>\n",
       "      <td>3_hunde_hundewiese_fläche_hundebesitzer</td>\n",
       "      <td>[hunde, hundewiese, fläche, hundebesitzer, pum...</td>\n",
       "      <td>[Die bisherigen und zukünftigen Anwohner am ge...</td>\n",
       "    </tr>\n",
       "    <tr>\n",
       "      <th>5</th>\n",
       "      <td>4</td>\n",
       "      <td>7</td>\n",
       "      <td>4_menschen_grünflächen_hitze_hitzetage</td>\n",
       "      <td>[menschen, grünflächen, hitze, hitzetage, bode...</td>\n",
       "      <td>[Unsere Böden verarmen, die Artenvielfalt nimm...</td>\n",
       "    </tr>\n",
       "    <tr>\n",
       "      <th>6</th>\n",
       "      <td>5</td>\n",
       "      <td>7</td>\n",
       "      <td>5_skatepark_spielplatz_wasserspielplatz_spielen</td>\n",
       "      <td>[skatepark, spielplatz, wasserspielplatz, spie...</td>\n",
       "      <td>[Broitzem hat einige schöne Spielplätze. Aller...</td>\n",
       "    </tr>\n",
       "    <tr>\n",
       "      <th>7</th>\n",
       "      <td>6</td>\n",
       "      <td>6</td>\n",
       "      <td>6_braunschweig_tarent_leisewitz_johann</td>\n",
       "      <td>[braunschweig, tarent, leisewitz, johann, proj...</td>\n",
       "      <td>[Liebe MitarbeiterInnen der Stadt Braunschweig...</td>\n",
       "    </tr>\n",
       "    <tr>\n",
       "      <th>8</th>\n",
       "      <td>7</td>\n",
       "      <td>5</td>\n",
       "      <td>7_lärm_ingbert_gegenstimmen_konzerte</td>\n",
       "      <td>[lärm, ingbert, gegenstimmen, konzerte, st, ge...</td>\n",
       "      <td>[In den Protokollen der Stadträte wird bei Abs...</td>\n",
       "    </tr>\n",
       "    <tr>\n",
       "      <th>9</th>\n",
       "      <td>8</td>\n",
       "      <td>5</td>\n",
       "      <td>8_burg_läden_burgplatz_gasse</td>\n",
       "      <td>[burg, läden, burgplatz, gasse, plätze, handel...</td>\n",
       "      <td>[Die Burgpassage zu einem dauerhaften Markt um...</td>\n",
       "    </tr>\n",
       "    <tr>\n",
       "      <th>10</th>\n",
       "      <td>9</td>\n",
       "      <td>5</td>\n",
       "      <td>9_schule_eltern_grundschüler_2km</td>\n",
       "      <td>[schule, eltern, grundschüler, 2km, schülertic...</td>\n",
       "      <td>[Guten Morgen,vor der Grundschule in Querum gi...</td>\n",
       "    </tr>\n",
       "    <tr>\n",
       "      <th>11</th>\n",
       "      <td>10</td>\n",
       "      <td>5</td>\n",
       "      <td>10_led_dunkel_beleuchtung_vorallen</td>\n",
       "      <td>[led, dunkel, beleuchtung, vorallen, leimenweg...</td>\n",
       "      <td>[Wie wäre es mit ein paar Leuchten auf dem Rin...</td>\n",
       "    </tr>\n",
       "    <tr>\n",
       "      <th>12</th>\n",
       "      <td>11</td>\n",
       "      <td>5</td>\n",
       "      <td>11_grüße_toiletten_löwenwall_öffentliche</td>\n",
       "      <td>[grüße, toiletten, löwenwall, öffentliche, gib...</td>\n",
       "      <td>[Ich war am Sonntag im Prinzenpark und mir feh...</td>\n",
       "    </tr>\n",
       "    <tr>\n",
       "      <th>13</th>\n",
       "      <td>12</td>\n",
       "      <td>4</td>\n",
       "      <td>12_elektromobilität_öpnv_uhr_öffentlicher</td>\n",
       "      <td>[elektromobilität, öpnv, uhr, öffentlicher, el...</td>\n",
       "      <td>[Wenn BS wirklich bis 2030 den Verkehr in der ...</td>\n",
       "    </tr>\n",
       "    <tr>\n",
       "      <th>14</th>\n",
       "      <td>13</td>\n",
       "      <td>3</td>\n",
       "      <td>13_vorm_vorallem_schloss_rathaus</td>\n",
       "      <td>[vorm, vorallem, schloss, rathaus, bereich, da...</td>\n",
       "      <td>[Im Bereich des Madamenwegs, beginnend am Mill...</td>\n",
       "    </tr>\n",
       "    <tr>\n",
       "      <th>15</th>\n",
       "      <td>14</td>\n",
       "      <td>3</td>\n",
       "      <td>14_fahrräder_innen_raabe_baumkranz</td>\n",
       "      <td>[fahrräder, innen, raabe, baumkranz, abgesperr...</td>\n",
       "      <td>[Hallo zusammen,mr ist aufgefallen, dass es in...</td>\n",
       "    </tr>\n",
       "    <tr>\n",
       "      <th>16</th>\n",
       "      <td>15</td>\n",
       "      <td>3</td>\n",
       "      <td>15_tempo_30er_grüne_zone</td>\n",
       "      <td>[tempo, 30er, grüne, zone, sinn, lärm, besonde...</td>\n",
       "      <td>[Wie vermutlich auch das Messgerät bestätigt h...</td>\n",
       "    </tr>\n",
       "    <tr>\n",
       "      <th>17</th>\n",
       "      <td>16</td>\n",
       "      <td>3</td>\n",
       "      <td>16_übergang_selten_anforderung_autos</td>\n",
       "      <td>[übergang, selten, anforderung, autos, kinderw...</td>\n",
       "      <td>[Der FGÜ in der Herzogin-Elisabeth-Straße zwis...</td>\n",
       "    </tr>\n",
       "    <tr>\n",
       "      <th>18</th>\n",
       "      <td>17</td>\n",
       "      <td>2</td>\n",
       "      <td>17_lkw_pkw_weiterhin_5t</td>\n",
       "      <td>[lkw, pkw, weiterhin, 5t, hierbei, straße, ste...</td>\n",
       "      <td>[Am Straßenübergang des Verbindungswegs zwisch...</td>\n",
       "    </tr>\n",
       "    <tr>\n",
       "      <th>19</th>\n",
       "      <td>18</td>\n",
       "      <td>2</td>\n",
       "      <td>18_vielzahl_eng_straße_kommt</td>\n",
       "      <td>[vielzahl, eng, straße, kommt, wilhelmsgarten,...</td>\n",
       "      <td>[Die Straße im Wilhelmsgarten ist viel zu eng ...</td>\n",
       "    </tr>\n",
       "    <tr>\n",
       "      <th>20</th>\n",
       "      <td>19</td>\n",
       "      <td>2</td>\n",
       "      <td>19_lehmanger_aufstellen_sicheren_sprich</td>\n",
       "      <td>[lehmanger, aufstellen, sicheren, sprich, hebb...</td>\n",
       "      <td>[Es kommt hier zu gefährlichen Situationen., D...</td>\n",
       "    </tr>\n",
       "    <tr>\n",
       "      <th>21</th>\n",
       "      <td>20</td>\n",
       "      <td>2</td>\n",
       "      <td>20_vorrangschaltung_fahrzeugführer_salzdahlume...</td>\n",
       "      <td>[vorrangschaltung, fahrzeugführer, salzdahlume...</td>\n",
       "      <td>[Ist dies ein Mängel, oder eine Verbesserungsi...</td>\n",
       "    </tr>\n",
       "  </tbody>\n",
       "</table>\n",
       "</div>"
      ],
      "text/plain": [
       "    Topic  Count                                               Name  \\\n",
       "0      -1     24                      -1_mütter_stadt_arbeiten_kind   \n",
       "1       0     12               0_parkplätze_linien_mehr_parkflächen   \n",
       "2       1     11           1_radweg_radfahrer_richtung_wendenstraße   \n",
       "3       2      7           2_radfahrer_fußgänger_ringgleis_fahrbahn   \n",
       "4       3      7            3_hunde_hundewiese_fläche_hundebesitzer   \n",
       "5       4      7             4_menschen_grünflächen_hitze_hitzetage   \n",
       "6       5      7    5_skatepark_spielplatz_wasserspielplatz_spielen   \n",
       "7       6      6             6_braunschweig_tarent_leisewitz_johann   \n",
       "8       7      5               7_lärm_ingbert_gegenstimmen_konzerte   \n",
       "9       8      5                       8_burg_läden_burgplatz_gasse   \n",
       "10      9      5                   9_schule_eltern_grundschüler_2km   \n",
       "11     10      5                 10_led_dunkel_beleuchtung_vorallen   \n",
       "12     11      5           11_grüße_toiletten_löwenwall_öffentliche   \n",
       "13     12      4          12_elektromobilität_öpnv_uhr_öffentlicher   \n",
       "14     13      3                   13_vorm_vorallem_schloss_rathaus   \n",
       "15     14      3                 14_fahrräder_innen_raabe_baumkranz   \n",
       "16     15      3                           15_tempo_30er_grüne_zone   \n",
       "17     16      3               16_übergang_selten_anforderung_autos   \n",
       "18     17      2                            17_lkw_pkw_weiterhin_5t   \n",
       "19     18      2                       18_vielzahl_eng_straße_kommt   \n",
       "20     19      2            19_lehmanger_aufstellen_sicheren_sprich   \n",
       "21     20      2  20_vorrangschaltung_fahrzeugführer_salzdahlume...   \n",
       "\n",
       "                                       Representation  \\\n",
       "0   [mütter, stadt, arbeiten, kind, sodass, fahren...   \n",
       "1   [parkplätze, linien, mehr, parkflächen, stadt,...   \n",
       "2   [radweg, radfahrer, richtung, wendenstraße, re...   \n",
       "3   [radfahrer, fußgänger, ringgleis, fahrbahn, st...   \n",
       "4   [hunde, hundewiese, fläche, hundebesitzer, pum...   \n",
       "5   [menschen, grünflächen, hitze, hitzetage, bode...   \n",
       "6   [skatepark, spielplatz, wasserspielplatz, spie...   \n",
       "7   [braunschweig, tarent, leisewitz, johann, proj...   \n",
       "8   [lärm, ingbert, gegenstimmen, konzerte, st, ge...   \n",
       "9   [burg, läden, burgplatz, gasse, plätze, handel...   \n",
       "10  [schule, eltern, grundschüler, 2km, schülertic...   \n",
       "11  [led, dunkel, beleuchtung, vorallen, leimenweg...   \n",
       "12  [grüße, toiletten, löwenwall, öffentliche, gib...   \n",
       "13  [elektromobilität, öpnv, uhr, öffentlicher, el...   \n",
       "14  [vorm, vorallem, schloss, rathaus, bereich, da...   \n",
       "15  [fahrräder, innen, raabe, baumkranz, abgesperr...   \n",
       "16  [tempo, 30er, grüne, zone, sinn, lärm, besonde...   \n",
       "17  [übergang, selten, anforderung, autos, kinderw...   \n",
       "18  [lkw, pkw, weiterhin, 5t, hierbei, straße, ste...   \n",
       "19  [vielzahl, eng, straße, kommt, wilhelmsgarten,...   \n",
       "20  [lehmanger, aufstellen, sicheren, sprich, hebb...   \n",
       "21  [vorrangschaltung, fahrzeugführer, salzdahlume...   \n",
       "\n",
       "                                  Representative_Docs  \n",
       "0   [Bei einem Universitäts-Campus sollte es sich ...  \n",
       "1   [In der Braunschweiger Zeitung bzw. deren Onli...  \n",
       "2   [Der Handelsweg ist eine der beliebtesten Stra...  \n",
       "3   [Sehr geehrte Damen und Herren,an der vorgenan...  \n",
       "4   [Die bisherigen und zukünftigen Anwohner am ge...  \n",
       "5   [Unsere Böden verarmen, die Artenvielfalt nimm...  \n",
       "6   [Broitzem hat einige schöne Spielplätze. Aller...  \n",
       "7   [Liebe MitarbeiterInnen der Stadt Braunschweig...  \n",
       "8   [In den Protokollen der Stadträte wird bei Abs...  \n",
       "9   [Die Burgpassage zu einem dauerhaften Markt um...  \n",
       "10  [Guten Morgen,vor der Grundschule in Querum gi...  \n",
       "11  [Wie wäre es mit ein paar Leuchten auf dem Rin...  \n",
       "12  [Ich war am Sonntag im Prinzenpark und mir feh...  \n",
       "13  [Wenn BS wirklich bis 2030 den Verkehr in der ...  \n",
       "14  [Im Bereich des Madamenwegs, beginnend am Mill...  \n",
       "15  [Hallo zusammen,mr ist aufgefallen, dass es in...  \n",
       "16  [Wie vermutlich auch das Messgerät bestätigt h...  \n",
       "17  [Der FGÜ in der Herzogin-Elisabeth-Straße zwis...  \n",
       "18  [Am Straßenübergang des Verbindungswegs zwisch...  \n",
       "19  [Die Straße im Wilhelmsgarten ist viel zu eng ...  \n",
       "20  [Es kommt hier zu gefährlichen Situationen., D...  \n",
       "21  [Ist dies ein Mängel, oder eine Verbesserungsi...  "
      ]
     },
     "execution_count": 32,
     "metadata": {},
     "output_type": "execute_result"
    }
   ],
   "source": [
    "topics_df = topic_model.get_topic_info()\n",
    "topics_df"
   ]
  },
  {
   "cell_type": "code",
   "execution_count": 33,
   "id": "ef1727db",
   "metadata": {},
   "outputs": [
    {
     "data": {
      "text/plain": [
       "[13,\n",
       " 1,\n",
       " 6,\n",
       " 4,\n",
       " 8,\n",
       " 3,\n",
       " -1,\n",
       " 15,\n",
       " 6,\n",
       " 5,\n",
       " 1,\n",
       " -1,\n",
       " 9,\n",
       " 4,\n",
       " 15,\n",
       " 1,\n",
       " -1,\n",
       " 3,\n",
       " 4,\n",
       " 17,\n",
       " -1,\n",
       " 6,\n",
       " -1,\n",
       " 8,\n",
       " 11,\n",
       " 16,\n",
       " 11,\n",
       " 7,\n",
       " 12,\n",
       " -1,\n",
       " 8,\n",
       " 11,\n",
       " 11,\n",
       " -1,\n",
       " 13,\n",
       " 5,\n",
       " 2,\n",
       " 2,\n",
       " 0,\n",
       " 0,\n",
       " 10,\n",
       " -1,\n",
       " -1,\n",
       " 0,\n",
       " 12,\n",
       " 3,\n",
       " 3,\n",
       " 1,\n",
       " 2,\n",
       " 8,\n",
       " -1,\n",
       " 9,\n",
       " 0,\n",
       " 18,\n",
       " 4,\n",
       " 5,\n",
       " 2,\n",
       " 19,\n",
       " 18,\n",
       " 7,\n",
       " -1,\n",
       " 10,\n",
       " 9,\n",
       " 0,\n",
       " 20,\n",
       " -1,\n",
       " 0,\n",
       " 6,\n",
       " 0,\n",
       " 4,\n",
       " 5,\n",
       " 15,\n",
       " 6,\n",
       " 4,\n",
       " -1,\n",
       " 1,\n",
       " 8,\n",
       " 10,\n",
       " -1,\n",
       " -1,\n",
       " 0,\n",
       " 5,\n",
       " 6,\n",
       " 17,\n",
       " 10,\n",
       " 2,\n",
       " 1,\n",
       " 14,\n",
       " 16,\n",
       " 14,\n",
       " -1,\n",
       " 1,\n",
       " 12,\n",
       " 9,\n",
       " -1,\n",
       " -1,\n",
       " 5,\n",
       " 7,\n",
       " 19,\n",
       " -1,\n",
       " -1,\n",
       " 5,\n",
       " 0,\n",
       " 1,\n",
       " 0,\n",
       " 0,\n",
       " 1,\n",
       " 3,\n",
       " 1,\n",
       " 11,\n",
       " 7,\n",
       " -1,\n",
       " -1,\n",
       " -1,\n",
       " -1,\n",
       " 3,\n",
       " 20,\n",
       " 4,\n",
       " 0,\n",
       " 13,\n",
       " 10,\n",
       " 2,\n",
       " 12,\n",
       " 9,\n",
       " 1,\n",
       " 16,\n",
       " 7,\n",
       " 2,\n",
       " 3,\n",
       " 14]"
      ]
     },
     "execution_count": 33,
     "metadata": {},
     "output_type": "execute_result"
    }
   ],
   "source": [
    "topic_model.topics_"
   ]
  },
  {
   "cell_type": "code",
   "execution_count": 34,
   "id": "d599807d",
   "metadata": {},
   "outputs": [
    {
     "name": "stdout",
     "output_type": "stream",
     "text": [
      "-----------------------\n",
      "13_vorm_vorallem_schloss_rathaus\n",
      "tages : Verkehr\n",
      "\n",
      "\n",
      "('In der Holwedestraße ist der Verkehr viel zu schnell, extreme Raser vorallem '\n",
      " 'Abends, aber auch tagsüber. Dadurch besteht eine große Gefahr für Kinder '\n",
      " 'vorallem auch im Bereich der Kita oder aber auch Passanten im Bereich des '\n",
      " 'Klinikums. Es gibt schon eine Geschwindigkeitsbegrenzung, die aber absolut '\n",
      " 'ignoriert wird.')\n",
      "-----------------------\n",
      "-----------------------\n",
      "1_radweg_radfahrer_richtung_wendenstraße\n",
      "tages : Verkehr\n",
      "\n",
      "\n",
      "('Eichhahnweg bis Wabenkamp Einbahnstrasse .Nur einfahrt in den Eichhahnweg '\n",
      " 'von der Bevenroderstrasse.Somit währe die gesamte Situation '\n",
      " 'Eichhahnweg/Bevenroderstrasse entschärft.')\n",
      "-----------------------\n",
      "-----------------------\n",
      "6_braunschweig_tarent_leisewitz_johann\n",
      "tages : Stadtgrün und Umwelt\n",
      "\n",
      "\n",
      "('Liebe MitarbeiterInnen der Stadt Braunschweig,bei unserem letzten Urlaub in '\n",
      " 'Freiburg haben wir in einem Tierpark auf einem Spielplatz einen fest '\n",
      " 'installierten Outdoor-Wickeltisch vorgefunden und waren begeistert von '\n",
      " 'dieser simplen Erleichterung des Wickelns auf einem Spielplatz. Ich möchte '\n",
      " 'diese Inspiration und diesen Impuls gerne an die Stadt Braunschweig '\n",
      " 'weitergeben. Unter der Internetadressewww.wickelboard.definden sich die '\n",
      " 'Informationen zu dem kleinen Startup aus Freiburg.Gerade auf den '\n",
      " 'Spielplätzen im Prinzenpark, am Ringgleis oder auf dem Madamenweg, auf denen '\n",
      " 'es Angebote für Babys und Kleinkinder gibt, finde ich einen wind- und '\n",
      " 'regengeschützten Wickelplatz sinnvoll und hilfreich. Es bietet ein Stück '\n",
      " 'mehr Privatsphäre für die Kinder während des Wickelvorganges und ist '\n",
      " 'rückengerecht für die Eltern. Denn egal, wie frisch gewickelt die Kinder auf '\n",
      " 'den Spielplatz kommen - die ungeplanten Kackawindeln sind immer mit '\n",
      " 'einzuberechnen!Ich würde mich freuen, wenn diese Idee Gehör findet!')\n",
      "-----------------------\n",
      "-----------------------\n",
      "4_menschen_grünflächen_hitze_hitzetage\n",
      "tages : Stadtgrün und Umwelt\n",
      "\n",
      "\n",
      "('Der Starkregen 2023 hat mal wieder verdeutlicht, dass wir versiegelte '\n",
      " 'Flächen in der Innenstadt aufbrechen müssen und mehr Grünflächen '\n",
      " 'brauchen.Neben der zwingenden Modernisierung zum Versickern des Regens '\n",
      " 'brauchen wir in der Stadt mehr Grünflächen, um im Hochsommer Schattenflächen '\n",
      " 'und Sitzmöglichkeiten zum Verweilen zu bieten.Öffnen statt Versiegeln ist '\n",
      " 'zwangsläufig der Weg um dem wandelnden Klima und dem übergeordneten '\n",
      " 'Interesse gerecht werden!')\n",
      "-----------------------\n",
      "-----------------------\n",
      "8_burg_läden_burgplatz_gasse\n",
      "tages : Stadtgrün und Umwelt\n",
      "\n",
      "\n",
      "('Der Schlossplatz und der Platz der Deutschen Einheit sind trist und '\n",
      " 'langweilig. Eine dauerhafte Begrünung oder Bepflanzung mit diversen '\n",
      " 'Blumenkübeln würden die Plätze ansehnlicher machen und aufwerten. Diverse '\n",
      " 'Projekte zeigten schon wie schön diese Plätze aussehen könnten.')\n",
      "-----------------------\n",
      "-----------------------\n",
      "3_hunde_hundewiese_fläche_hundebesitzer\n",
      "tages : Stadtgrün und Umwelt\n",
      "\n",
      "\n",
      "('Viele Menschen beschweren sich immer wieder über Hundekot an den Wegen. '\n",
      " 'Neulich war ich im Waldstück (zwischen Kralenriede, Rühme und der '\n",
      " 'Schuntersiedlung) spazieren und wollte ein Taschentuch wegwerfen. Dabei ist '\n",
      " 'mir aufgefallen, dass es in dem ganzen Bereich keinen einzigen Mülleimer '\n",
      " 'gibt. Kein wunder, dass Menschen den Kot ihrer Hunde lieber liegen lassen '\n",
      " 'als eine halbe Stunden einen Kotbeutel spazieren zu tragen.')\n",
      "-----------------------\n",
      "-----------------------\n",
      "-1_mütter_stadt_arbeiten_kind\n",
      "tages : Bauen und Planung\n",
      "\n",
      "\n",
      "('Nachdem viele Beleuchtungen wieder eingeschaltet wurden, sollten auch die '\n",
      " 'LEDs am Wasserturm Giersberg wieder eingeschaltet werden. Das wäre ganz '\n",
      " 'sicher eine Bereicherung des Stadtbildes!')\n",
      "-----------------------\n",
      "-----------------------\n",
      "15_tempo_30er_grüne_zone\n",
      "tages : Verkehr\n",
      "\n",
      "\n",
      "('In diesem Teilstück des Mademenweg herrscht aktuell Tempo 50. Dies hat - '\n",
      " 'gerade in den Bezug auf die Kreuzung zum Altstadtring - die Folge, dass '\n",
      " 'Autofahrer vermehrt stark Beschleunigen um noch eine Grüne Ampelphase zu '\n",
      " 'erreichen. Für die Nachtstunden ist dieser Lärm aber unerträglich, sodass '\n",
      " 'eine Tempo 30 Geschwindigkeitsbegrenzung abhilfe schaffen könnte, wie sie '\n",
      " 'auch in den umliegenden Straßen bereits eingerichtet ist.')\n",
      "-----------------------\n",
      "-----------------------\n",
      "6_braunschweig_tarent_leisewitz_johann\n",
      "tages : Allgemeine Verwaltung\n",
      "\n",
      "\n",
      "('Die alte '\n",
      " 'Ideenplattform<https://mitreden2023.braunschweig.de/dialoge/ideenplattform&gt;ermöglichte '\n",
      " 'das Anfügen von Photos, hatte eine Suchfunktion, die meisten Hyperlinks '\n",
      " 'funktionierten (hier geht der Link zum Kontaktformular bei den FAQ unter \"An '\n",
      " 'wen wende ich mich ...) '\n",
      " '<https://mitreden.braunschweig.de/haeufige-fragen&gt; immer noch ins Leere!) '\n",
      " '... Eigentlich alles Selbstverständlichkeiten .Ich schlage vor, diese '\n",
      " 'Funktionen auch für die Ideenplattform nachzurüsten.')\n",
      "-----------------------\n",
      "-----------------------\n",
      "5_skatepark_spielplatz_wasserspielplatz_spielen\n",
      "tages : Soziales, Jugend und Gesundheit\n",
      "\n",
      "\n",
      "('Kinder spielen zu jeder Jahreszeit auf Spielplätzen. Das ist auch wichtig, '\n",
      " 'sie brauchen nicht zuletzt aus gesundheitlichen Gründen Bewegung. Da es in '\n",
      " 'den Herbst/Winter-Monaten aber bereits früher dunkel wird, sind die '\n",
      " '(unbeleuchteten) Spielplätze Nachmittags - z. B. nach der Kita - nicht '\n",
      " 'nutzbar oder birgen sogar gefahren. Die Spielplätze sollten von daher '\n",
      " 'Beleuchtung erhalten. Das bringt Sicherheit und mehr Bewegungsfreiheit für '\n",
      " 'Kinder.')\n",
      "-----------------------\n"
     ]
    }
   ],
   "source": [
    "import pprint\n",
    "pp = pprint.PrettyPrinter(indent=4)\n",
    "\n",
    "n_examples = 10\n",
    "example_docs = sentences[:n_examples]\n",
    "example_tags = tags[:n_examples]\n",
    "example_docs_topic_id = topic_model.topics_[:n_examples]\n",
    "\n",
    "for doc, label, topic_id in zip(example_docs,example_tags, example_docs_topic_id):\n",
    "    topic = topic_model.topic_labels_[topic_id]\n",
    "    print(\"-----------------------\")\n",
    "    print(topic)\n",
    "    print(f\"tages : {label}\")\n",
    "\n",
    "    print(\"\\n\")\n",
    "    pp.pprint(doc)\n",
    "    print(\"-----------------------\")"
   ]
  },
  {
   "cell_type": "code",
   "execution_count": 35,
   "id": "357e9e9e",
   "metadata": {},
   "outputs": [
    {
     "data": {
      "application/vnd.plotly.v1+json": {
       "config": {
        "plotlyServerURL": "https://plot.ly"
       },
       "data": [
        {
         "customdata": [
          [
           0,
           "parkplätze | linien | mehr | parkflächen | stadt",
           12
          ],
          [
           1,
           "radweg | radfahrer | richtung | wendenstraße | rechts",
           11
          ],
          [
           2,
           "radfahrer | fußgänger | ringgleis | fahrbahn | stelle",
           7
          ],
          [
           3,
           "hunde | hundewiese | fläche | hundebesitzer | pumptrack",
           7
          ],
          [
           4,
           "menschen | grünflächen | hitze | hitzetage | boden",
           7
          ],
          [
           5,
           "skatepark | spielplatz | wasserspielplatz | spielen | möchten",
           7
          ],
          [
           6,
           "braunschweig | tarent | leisewitz | johann | projekt",
           6
          ],
          [
           7,
           "lärm | ingbert | gegenstimmen | konzerte | st",
           5
          ],
          [
           8,
           "burg | läden | burgplatz | gasse | plätze",
           5
          ],
          [
           9,
           "schule | eltern | grundschüler | 2km | schülertickets",
           5
          ],
          [
           10,
           "led | dunkel | beleuchtung | vorallen | leimenweg",
           5
          ],
          [
           11,
           "grüße | toiletten | löwenwall | öffentliche | gibt",
           5
          ],
          [
           12,
           "elektromobilität | öpnv | uhr | öffentlicher | elektrobusse",
           4
          ],
          [
           13,
           "vorm | vorallem | schloss | rathaus | bereich",
           3
          ],
          [
           14,
           "fahrräder | innen | raabe | baumkranz | abgesperrt",
           3
          ],
          [
           15,
           "tempo | 30er | grüne | zone | sinn",
           3
          ],
          [
           16,
           "übergang | selten | anforderung | autos | kinderwagen",
           3
          ],
          [
           17,
           "lkw | pkw | weiterhin | 5t | hierbei",
           2
          ],
          [
           18,
           "vielzahl | eng | straße | kommt | wilhelmsgarten",
           2
          ],
          [
           19,
           "lehmanger | aufstellen | sicheren | sprich | hebbelstraße",
           2
          ],
          [
           20,
           "vorrangschaltung | fahrzeugführer | salzdahlumer | los | rotphase",
           2
          ]
         ],
         "hovertemplate": "<b>Topic %{customdata[0]}</b><br>%{customdata[1]}<br>Size: %{customdata[2]}",
         "legendgroup": "",
         "marker": {
          "color": "#B0BEC5",
          "line": {
           "color": "DarkSlateGrey",
           "width": 2
          },
          "size": [
           12,
           11,
           7,
           7,
           7,
           7,
           6,
           5,
           5,
           5,
           5,
           5,
           4,
           3,
           3,
           3,
           3,
           2,
           2,
           2,
           2
          ],
          "sizemode": "area",
          "sizeref": 0.0075,
          "symbol": "circle"
         },
         "mode": "markers",
         "name": "",
         "orientation": "v",
         "showlegend": false,
         "type": "scatter",
         "x": [
          5.86587,
          5.046288,
          6.184783,
          -8.534328,
          6.0118856,
          5.200122,
          4.636894,
          7.8133044,
          4.745109,
          5.510707,
          6.161584,
          -8.533871,
          8.053531,
          4.7779775,
          5.839892,
          5.726793,
          5.077708,
          7.647326,
          6.9334707,
          4.4768887,
          6.0395923
         ],
         "xaxis": "x",
         "y": [
          7.807155,
          9.80436,
          11.947052,
          -6.923473,
          8.128502,
          7.3278165,
          6.92401,
          11.874346,
          7.1825433,
          7.9686675,
          11.011007,
          -6.9240003,
          12.154575,
          12.028655,
          12.133921,
          11.10216,
          9.26799,
          11.923493,
          11.984664,
          12.054064,
          11.3493
         ],
         "yaxis": "y"
        }
       ],
       "layout": {
        "annotations": [
         {
          "showarrow": false,
          "text": "D1",
          "x": -9.814477729797364,
          "y": 3.0075806736946107,
          "yshift": 10
         },
         {
          "showarrow": false,
          "text": "D2",
          "x": -0.2764587163925176,
          "xshift": 10,
          "y": 13.97776165008545
         }
        ],
        "height": 650,
        "hoverlabel": {
         "bgcolor": "white",
         "font": {
          "family": "Rockwell",
          "size": 16
         }
        },
        "legend": {
         "itemsizing": "constant",
         "tracegroupgap": 0
        },
        "margin": {
         "t": 60
        },
        "shapes": [
         {
          "line": {
           "color": "#CFD8DC",
           "width": 2
          },
          "type": "line",
          "x0": -0.2764587163925176,
          "x1": -0.2764587163925176,
          "y0": -7.962600302696228,
          "y1": 13.97776165008545
         },
         {
          "line": {
           "color": "#9E9E9E",
           "width": 2
          },
          "type": "line",
          "x0": -9.814477729797364,
          "x1": 9.261560297012329,
          "y0": 3.0075806736946107,
          "y1": 3.0075806736946107
         }
        ],
        "sliders": [
         {
          "active": 0,
          "pad": {
           "t": 50
          },
          "steps": [
           {
            "args": [
             {
              "marker.color": [
               [
                "red",
                "#B0BEC5",
                "#B0BEC5",
                "#B0BEC5",
                "#B0BEC5",
                "#B0BEC5",
                "#B0BEC5",
                "#B0BEC5",
                "#B0BEC5",
                "#B0BEC5",
                "#B0BEC5",
                "#B0BEC5",
                "#B0BEC5",
                "#B0BEC5",
                "#B0BEC5",
                "#B0BEC5",
                "#B0BEC5",
                "#B0BEC5",
                "#B0BEC5",
                "#B0BEC5",
                "#B0BEC5"
               ]
              ]
             }
            ],
            "label": "Topic 0",
            "method": "update"
           },
           {
            "args": [
             {
              "marker.color": [
               [
                "#B0BEC5",
                "red",
                "#B0BEC5",
                "#B0BEC5",
                "#B0BEC5",
                "#B0BEC5",
                "#B0BEC5",
                "#B0BEC5",
                "#B0BEC5",
                "#B0BEC5",
                "#B0BEC5",
                "#B0BEC5",
                "#B0BEC5",
                "#B0BEC5",
                "#B0BEC5",
                "#B0BEC5",
                "#B0BEC5",
                "#B0BEC5",
                "#B0BEC5",
                "#B0BEC5",
                "#B0BEC5"
               ]
              ]
             }
            ],
            "label": "Topic 1",
            "method": "update"
           },
           {
            "args": [
             {
              "marker.color": [
               [
                "#B0BEC5",
                "#B0BEC5",
                "red",
                "#B0BEC5",
                "#B0BEC5",
                "#B0BEC5",
                "#B0BEC5",
                "#B0BEC5",
                "#B0BEC5",
                "#B0BEC5",
                "#B0BEC5",
                "#B0BEC5",
                "#B0BEC5",
                "#B0BEC5",
                "#B0BEC5",
                "#B0BEC5",
                "#B0BEC5",
                "#B0BEC5",
                "#B0BEC5",
                "#B0BEC5",
                "#B0BEC5"
               ]
              ]
             }
            ],
            "label": "Topic 2",
            "method": "update"
           },
           {
            "args": [
             {
              "marker.color": [
               [
                "#B0BEC5",
                "#B0BEC5",
                "#B0BEC5",
                "red",
                "#B0BEC5",
                "#B0BEC5",
                "#B0BEC5",
                "#B0BEC5",
                "#B0BEC5",
                "#B0BEC5",
                "#B0BEC5",
                "#B0BEC5",
                "#B0BEC5",
                "#B0BEC5",
                "#B0BEC5",
                "#B0BEC5",
                "#B0BEC5",
                "#B0BEC5",
                "#B0BEC5",
                "#B0BEC5",
                "#B0BEC5"
               ]
              ]
             }
            ],
            "label": "Topic 3",
            "method": "update"
           },
           {
            "args": [
             {
              "marker.color": [
               [
                "#B0BEC5",
                "#B0BEC5",
                "#B0BEC5",
                "#B0BEC5",
                "red",
                "#B0BEC5",
                "#B0BEC5",
                "#B0BEC5",
                "#B0BEC5",
                "#B0BEC5",
                "#B0BEC5",
                "#B0BEC5",
                "#B0BEC5",
                "#B0BEC5",
                "#B0BEC5",
                "#B0BEC5",
                "#B0BEC5",
                "#B0BEC5",
                "#B0BEC5",
                "#B0BEC5",
                "#B0BEC5"
               ]
              ]
             }
            ],
            "label": "Topic 4",
            "method": "update"
           },
           {
            "args": [
             {
              "marker.color": [
               [
                "#B0BEC5",
                "#B0BEC5",
                "#B0BEC5",
                "#B0BEC5",
                "#B0BEC5",
                "red",
                "#B0BEC5",
                "#B0BEC5",
                "#B0BEC5",
                "#B0BEC5",
                "#B0BEC5",
                "#B0BEC5",
                "#B0BEC5",
                "#B0BEC5",
                "#B0BEC5",
                "#B0BEC5",
                "#B0BEC5",
                "#B0BEC5",
                "#B0BEC5",
                "#B0BEC5",
                "#B0BEC5"
               ]
              ]
             }
            ],
            "label": "Topic 5",
            "method": "update"
           },
           {
            "args": [
             {
              "marker.color": [
               [
                "#B0BEC5",
                "#B0BEC5",
                "#B0BEC5",
                "#B0BEC5",
                "#B0BEC5",
                "#B0BEC5",
                "red",
                "#B0BEC5",
                "#B0BEC5",
                "#B0BEC5",
                "#B0BEC5",
                "#B0BEC5",
                "#B0BEC5",
                "#B0BEC5",
                "#B0BEC5",
                "#B0BEC5",
                "#B0BEC5",
                "#B0BEC5",
                "#B0BEC5",
                "#B0BEC5",
                "#B0BEC5"
               ]
              ]
             }
            ],
            "label": "Topic 6",
            "method": "update"
           },
           {
            "args": [
             {
              "marker.color": [
               [
                "#B0BEC5",
                "#B0BEC5",
                "#B0BEC5",
                "#B0BEC5",
                "#B0BEC5",
                "#B0BEC5",
                "#B0BEC5",
                "red",
                "#B0BEC5",
                "#B0BEC5",
                "#B0BEC5",
                "#B0BEC5",
                "#B0BEC5",
                "#B0BEC5",
                "#B0BEC5",
                "#B0BEC5",
                "#B0BEC5",
                "#B0BEC5",
                "#B0BEC5",
                "#B0BEC5",
                "#B0BEC5"
               ]
              ]
             }
            ],
            "label": "Topic 7",
            "method": "update"
           },
           {
            "args": [
             {
              "marker.color": [
               [
                "#B0BEC5",
                "#B0BEC5",
                "#B0BEC5",
                "#B0BEC5",
                "#B0BEC5",
                "#B0BEC5",
                "#B0BEC5",
                "#B0BEC5",
                "red",
                "#B0BEC5",
                "#B0BEC5",
                "#B0BEC5",
                "#B0BEC5",
                "#B0BEC5",
                "#B0BEC5",
                "#B0BEC5",
                "#B0BEC5",
                "#B0BEC5",
                "#B0BEC5",
                "#B0BEC5",
                "#B0BEC5"
               ]
              ]
             }
            ],
            "label": "Topic 8",
            "method": "update"
           },
           {
            "args": [
             {
              "marker.color": [
               [
                "#B0BEC5",
                "#B0BEC5",
                "#B0BEC5",
                "#B0BEC5",
                "#B0BEC5",
                "#B0BEC5",
                "#B0BEC5",
                "#B0BEC5",
                "#B0BEC5",
                "red",
                "#B0BEC5",
                "#B0BEC5",
                "#B0BEC5",
                "#B0BEC5",
                "#B0BEC5",
                "#B0BEC5",
                "#B0BEC5",
                "#B0BEC5",
                "#B0BEC5",
                "#B0BEC5",
                "#B0BEC5"
               ]
              ]
             }
            ],
            "label": "Topic 9",
            "method": "update"
           },
           {
            "args": [
             {
              "marker.color": [
               [
                "#B0BEC5",
                "#B0BEC5",
                "#B0BEC5",
                "#B0BEC5",
                "#B0BEC5",
                "#B0BEC5",
                "#B0BEC5",
                "#B0BEC5",
                "#B0BEC5",
                "#B0BEC5",
                "red",
                "#B0BEC5",
                "#B0BEC5",
                "#B0BEC5",
                "#B0BEC5",
                "#B0BEC5",
                "#B0BEC5",
                "#B0BEC5",
                "#B0BEC5",
                "#B0BEC5",
                "#B0BEC5"
               ]
              ]
             }
            ],
            "label": "Topic 10",
            "method": "update"
           },
           {
            "args": [
             {
              "marker.color": [
               [
                "#B0BEC5",
                "#B0BEC5",
                "#B0BEC5",
                "#B0BEC5",
                "#B0BEC5",
                "#B0BEC5",
                "#B0BEC5",
                "#B0BEC5",
                "#B0BEC5",
                "#B0BEC5",
                "#B0BEC5",
                "red",
                "#B0BEC5",
                "#B0BEC5",
                "#B0BEC5",
                "#B0BEC5",
                "#B0BEC5",
                "#B0BEC5",
                "#B0BEC5",
                "#B0BEC5",
                "#B0BEC5"
               ]
              ]
             }
            ],
            "label": "Topic 11",
            "method": "update"
           },
           {
            "args": [
             {
              "marker.color": [
               [
                "#B0BEC5",
                "#B0BEC5",
                "#B0BEC5",
                "#B0BEC5",
                "#B0BEC5",
                "#B0BEC5",
                "#B0BEC5",
                "#B0BEC5",
                "#B0BEC5",
                "#B0BEC5",
                "#B0BEC5",
                "#B0BEC5",
                "red",
                "#B0BEC5",
                "#B0BEC5",
                "#B0BEC5",
                "#B0BEC5",
                "#B0BEC5",
                "#B0BEC5",
                "#B0BEC5",
                "#B0BEC5"
               ]
              ]
             }
            ],
            "label": "Topic 12",
            "method": "update"
           },
           {
            "args": [
             {
              "marker.color": [
               [
                "#B0BEC5",
                "#B0BEC5",
                "#B0BEC5",
                "#B0BEC5",
                "#B0BEC5",
                "#B0BEC5",
                "#B0BEC5",
                "#B0BEC5",
                "#B0BEC5",
                "#B0BEC5",
                "#B0BEC5",
                "#B0BEC5",
                "#B0BEC5",
                "red",
                "#B0BEC5",
                "#B0BEC5",
                "#B0BEC5",
                "#B0BEC5",
                "#B0BEC5",
                "#B0BEC5",
                "#B0BEC5"
               ]
              ]
             }
            ],
            "label": "Topic 13",
            "method": "update"
           },
           {
            "args": [
             {
              "marker.color": [
               [
                "#B0BEC5",
                "#B0BEC5",
                "#B0BEC5",
                "#B0BEC5",
                "#B0BEC5",
                "#B0BEC5",
                "#B0BEC5",
                "#B0BEC5",
                "#B0BEC5",
                "#B0BEC5",
                "#B0BEC5",
                "#B0BEC5",
                "#B0BEC5",
                "#B0BEC5",
                "red",
                "#B0BEC5",
                "#B0BEC5",
                "#B0BEC5",
                "#B0BEC5",
                "#B0BEC5",
                "#B0BEC5"
               ]
              ]
             }
            ],
            "label": "Topic 14",
            "method": "update"
           },
           {
            "args": [
             {
              "marker.color": [
               [
                "#B0BEC5",
                "#B0BEC5",
                "#B0BEC5",
                "#B0BEC5",
                "#B0BEC5",
                "#B0BEC5",
                "#B0BEC5",
                "#B0BEC5",
                "#B0BEC5",
                "#B0BEC5",
                "#B0BEC5",
                "#B0BEC5",
                "#B0BEC5",
                "#B0BEC5",
                "#B0BEC5",
                "red",
                "#B0BEC5",
                "#B0BEC5",
                "#B0BEC5",
                "#B0BEC5",
                "#B0BEC5"
               ]
              ]
             }
            ],
            "label": "Topic 15",
            "method": "update"
           },
           {
            "args": [
             {
              "marker.color": [
               [
                "#B0BEC5",
                "#B0BEC5",
                "#B0BEC5",
                "#B0BEC5",
                "#B0BEC5",
                "#B0BEC5",
                "#B0BEC5",
                "#B0BEC5",
                "#B0BEC5",
                "#B0BEC5",
                "#B0BEC5",
                "#B0BEC5",
                "#B0BEC5",
                "#B0BEC5",
                "#B0BEC5",
                "#B0BEC5",
                "red",
                "#B0BEC5",
                "#B0BEC5",
                "#B0BEC5",
                "#B0BEC5"
               ]
              ]
             }
            ],
            "label": "Topic 16",
            "method": "update"
           },
           {
            "args": [
             {
              "marker.color": [
               [
                "#B0BEC5",
                "#B0BEC5",
                "#B0BEC5",
                "#B0BEC5",
                "#B0BEC5",
                "#B0BEC5",
                "#B0BEC5",
                "#B0BEC5",
                "#B0BEC5",
                "#B0BEC5",
                "#B0BEC5",
                "#B0BEC5",
                "#B0BEC5",
                "#B0BEC5",
                "#B0BEC5",
                "#B0BEC5",
                "#B0BEC5",
                "red",
                "#B0BEC5",
                "#B0BEC5",
                "#B0BEC5"
               ]
              ]
             }
            ],
            "label": "Topic 17",
            "method": "update"
           },
           {
            "args": [
             {
              "marker.color": [
               [
                "#B0BEC5",
                "#B0BEC5",
                "#B0BEC5",
                "#B0BEC5",
                "#B0BEC5",
                "#B0BEC5",
                "#B0BEC5",
                "#B0BEC5",
                "#B0BEC5",
                "#B0BEC5",
                "#B0BEC5",
                "#B0BEC5",
                "#B0BEC5",
                "#B0BEC5",
                "#B0BEC5",
                "#B0BEC5",
                "#B0BEC5",
                "#B0BEC5",
                "red",
                "#B0BEC5",
                "#B0BEC5"
               ]
              ]
             }
            ],
            "label": "Topic 18",
            "method": "update"
           },
           {
            "args": [
             {
              "marker.color": [
               [
                "#B0BEC5",
                "#B0BEC5",
                "#B0BEC5",
                "#B0BEC5",
                "#B0BEC5",
                "#B0BEC5",
                "#B0BEC5",
                "#B0BEC5",
                "#B0BEC5",
                "#B0BEC5",
                "#B0BEC5",
                "#B0BEC5",
                "#B0BEC5",
                "#B0BEC5",
                "#B0BEC5",
                "#B0BEC5",
                "#B0BEC5",
                "#B0BEC5",
                "#B0BEC5",
                "red",
                "#B0BEC5"
               ]
              ]
             }
            ],
            "label": "Topic 19",
            "method": "update"
           },
           {
            "args": [
             {
              "marker.color": [
               [
                "#B0BEC5",
                "#B0BEC5",
                "#B0BEC5",
                "#B0BEC5",
                "#B0BEC5",
                "#B0BEC5",
                "#B0BEC5",
                "#B0BEC5",
                "#B0BEC5",
                "#B0BEC5",
                "#B0BEC5",
                "#B0BEC5",
                "#B0BEC5",
                "#B0BEC5",
                "#B0BEC5",
                "#B0BEC5",
                "#B0BEC5",
                "#B0BEC5",
                "#B0BEC5",
                "#B0BEC5",
                "red"
               ]
              ]
             }
            ],
            "label": "Topic 20",
            "method": "update"
           }
          ]
         }
        ],
        "template": {
         "data": {
          "bar": [
           {
            "error_x": {
             "color": "rgb(36,36,36)"
            },
            "error_y": {
             "color": "rgb(36,36,36)"
            },
            "marker": {
             "line": {
              "color": "white",
              "width": 0.5
             },
             "pattern": {
              "fillmode": "overlay",
              "size": 10,
              "solidity": 0.2
             }
            },
            "type": "bar"
           }
          ],
          "barpolar": [
           {
            "marker": {
             "line": {
              "color": "white",
              "width": 0.5
             },
             "pattern": {
              "fillmode": "overlay",
              "size": 10,
              "solidity": 0.2
             }
            },
            "type": "barpolar"
           }
          ],
          "carpet": [
           {
            "aaxis": {
             "endlinecolor": "rgb(36,36,36)",
             "gridcolor": "white",
             "linecolor": "white",
             "minorgridcolor": "white",
             "startlinecolor": "rgb(36,36,36)"
            },
            "baxis": {
             "endlinecolor": "rgb(36,36,36)",
             "gridcolor": "white",
             "linecolor": "white",
             "minorgridcolor": "white",
             "startlinecolor": "rgb(36,36,36)"
            },
            "type": "carpet"
           }
          ],
          "choropleth": [
           {
            "colorbar": {
             "outlinewidth": 1,
             "tickcolor": "rgb(36,36,36)",
             "ticks": "outside"
            },
            "type": "choropleth"
           }
          ],
          "contour": [
           {
            "colorbar": {
             "outlinewidth": 1,
             "tickcolor": "rgb(36,36,36)",
             "ticks": "outside"
            },
            "colorscale": [
             [
              0,
              "#440154"
             ],
             [
              0.1111111111111111,
              "#482878"
             ],
             [
              0.2222222222222222,
              "#3e4989"
             ],
             [
              0.3333333333333333,
              "#31688e"
             ],
             [
              0.4444444444444444,
              "#26828e"
             ],
             [
              0.5555555555555556,
              "#1f9e89"
             ],
             [
              0.6666666666666666,
              "#35b779"
             ],
             [
              0.7777777777777778,
              "#6ece58"
             ],
             [
              0.8888888888888888,
              "#b5de2b"
             ],
             [
              1,
              "#fde725"
             ]
            ],
            "type": "contour"
           }
          ],
          "contourcarpet": [
           {
            "colorbar": {
             "outlinewidth": 1,
             "tickcolor": "rgb(36,36,36)",
             "ticks": "outside"
            },
            "type": "contourcarpet"
           }
          ],
          "heatmap": [
           {
            "colorbar": {
             "outlinewidth": 1,
             "tickcolor": "rgb(36,36,36)",
             "ticks": "outside"
            },
            "colorscale": [
             [
              0,
              "#440154"
             ],
             [
              0.1111111111111111,
              "#482878"
             ],
             [
              0.2222222222222222,
              "#3e4989"
             ],
             [
              0.3333333333333333,
              "#31688e"
             ],
             [
              0.4444444444444444,
              "#26828e"
             ],
             [
              0.5555555555555556,
              "#1f9e89"
             ],
             [
              0.6666666666666666,
              "#35b779"
             ],
             [
              0.7777777777777778,
              "#6ece58"
             ],
             [
              0.8888888888888888,
              "#b5de2b"
             ],
             [
              1,
              "#fde725"
             ]
            ],
            "type": "heatmap"
           }
          ],
          "heatmapgl": [
           {
            "colorbar": {
             "outlinewidth": 1,
             "tickcolor": "rgb(36,36,36)",
             "ticks": "outside"
            },
            "colorscale": [
             [
              0,
              "#440154"
             ],
             [
              0.1111111111111111,
              "#482878"
             ],
             [
              0.2222222222222222,
              "#3e4989"
             ],
             [
              0.3333333333333333,
              "#31688e"
             ],
             [
              0.4444444444444444,
              "#26828e"
             ],
             [
              0.5555555555555556,
              "#1f9e89"
             ],
             [
              0.6666666666666666,
              "#35b779"
             ],
             [
              0.7777777777777778,
              "#6ece58"
             ],
             [
              0.8888888888888888,
              "#b5de2b"
             ],
             [
              1,
              "#fde725"
             ]
            ],
            "type": "heatmapgl"
           }
          ],
          "histogram": [
           {
            "marker": {
             "line": {
              "color": "white",
              "width": 0.6
             }
            },
            "type": "histogram"
           }
          ],
          "histogram2d": [
           {
            "colorbar": {
             "outlinewidth": 1,
             "tickcolor": "rgb(36,36,36)",
             "ticks": "outside"
            },
            "colorscale": [
             [
              0,
              "#440154"
             ],
             [
              0.1111111111111111,
              "#482878"
             ],
             [
              0.2222222222222222,
              "#3e4989"
             ],
             [
              0.3333333333333333,
              "#31688e"
             ],
             [
              0.4444444444444444,
              "#26828e"
             ],
             [
              0.5555555555555556,
              "#1f9e89"
             ],
             [
              0.6666666666666666,
              "#35b779"
             ],
             [
              0.7777777777777778,
              "#6ece58"
             ],
             [
              0.8888888888888888,
              "#b5de2b"
             ],
             [
              1,
              "#fde725"
             ]
            ],
            "type": "histogram2d"
           }
          ],
          "histogram2dcontour": [
           {
            "colorbar": {
             "outlinewidth": 1,
             "tickcolor": "rgb(36,36,36)",
             "ticks": "outside"
            },
            "colorscale": [
             [
              0,
              "#440154"
             ],
             [
              0.1111111111111111,
              "#482878"
             ],
             [
              0.2222222222222222,
              "#3e4989"
             ],
             [
              0.3333333333333333,
              "#31688e"
             ],
             [
              0.4444444444444444,
              "#26828e"
             ],
             [
              0.5555555555555556,
              "#1f9e89"
             ],
             [
              0.6666666666666666,
              "#35b779"
             ],
             [
              0.7777777777777778,
              "#6ece58"
             ],
             [
              0.8888888888888888,
              "#b5de2b"
             ],
             [
              1,
              "#fde725"
             ]
            ],
            "type": "histogram2dcontour"
           }
          ],
          "mesh3d": [
           {
            "colorbar": {
             "outlinewidth": 1,
             "tickcolor": "rgb(36,36,36)",
             "ticks": "outside"
            },
            "type": "mesh3d"
           }
          ],
          "parcoords": [
           {
            "line": {
             "colorbar": {
              "outlinewidth": 1,
              "tickcolor": "rgb(36,36,36)",
              "ticks": "outside"
             }
            },
            "type": "parcoords"
           }
          ],
          "pie": [
           {
            "automargin": true,
            "type": "pie"
           }
          ],
          "scatter": [
           {
            "fillpattern": {
             "fillmode": "overlay",
             "size": 10,
             "solidity": 0.2
            },
            "type": "scatter"
           }
          ],
          "scatter3d": [
           {
            "line": {
             "colorbar": {
              "outlinewidth": 1,
              "tickcolor": "rgb(36,36,36)",
              "ticks": "outside"
             }
            },
            "marker": {
             "colorbar": {
              "outlinewidth": 1,
              "tickcolor": "rgb(36,36,36)",
              "ticks": "outside"
             }
            },
            "type": "scatter3d"
           }
          ],
          "scattercarpet": [
           {
            "marker": {
             "colorbar": {
              "outlinewidth": 1,
              "tickcolor": "rgb(36,36,36)",
              "ticks": "outside"
             }
            },
            "type": "scattercarpet"
           }
          ],
          "scattergeo": [
           {
            "marker": {
             "colorbar": {
              "outlinewidth": 1,
              "tickcolor": "rgb(36,36,36)",
              "ticks": "outside"
             }
            },
            "type": "scattergeo"
           }
          ],
          "scattergl": [
           {
            "marker": {
             "colorbar": {
              "outlinewidth": 1,
              "tickcolor": "rgb(36,36,36)",
              "ticks": "outside"
             }
            },
            "type": "scattergl"
           }
          ],
          "scattermapbox": [
           {
            "marker": {
             "colorbar": {
              "outlinewidth": 1,
              "tickcolor": "rgb(36,36,36)",
              "ticks": "outside"
             }
            },
            "type": "scattermapbox"
           }
          ],
          "scatterpolar": [
           {
            "marker": {
             "colorbar": {
              "outlinewidth": 1,
              "tickcolor": "rgb(36,36,36)",
              "ticks": "outside"
             }
            },
            "type": "scatterpolar"
           }
          ],
          "scatterpolargl": [
           {
            "marker": {
             "colorbar": {
              "outlinewidth": 1,
              "tickcolor": "rgb(36,36,36)",
              "ticks": "outside"
             }
            },
            "type": "scatterpolargl"
           }
          ],
          "scatterternary": [
           {
            "marker": {
             "colorbar": {
              "outlinewidth": 1,
              "tickcolor": "rgb(36,36,36)",
              "ticks": "outside"
             }
            },
            "type": "scatterternary"
           }
          ],
          "surface": [
           {
            "colorbar": {
             "outlinewidth": 1,
             "tickcolor": "rgb(36,36,36)",
             "ticks": "outside"
            },
            "colorscale": [
             [
              0,
              "#440154"
             ],
             [
              0.1111111111111111,
              "#482878"
             ],
             [
              0.2222222222222222,
              "#3e4989"
             ],
             [
              0.3333333333333333,
              "#31688e"
             ],
             [
              0.4444444444444444,
              "#26828e"
             ],
             [
              0.5555555555555556,
              "#1f9e89"
             ],
             [
              0.6666666666666666,
              "#35b779"
             ],
             [
              0.7777777777777778,
              "#6ece58"
             ],
             [
              0.8888888888888888,
              "#b5de2b"
             ],
             [
              1,
              "#fde725"
             ]
            ],
            "type": "surface"
           }
          ],
          "table": [
           {
            "cells": {
             "fill": {
              "color": "rgb(237,237,237)"
             },
             "line": {
              "color": "white"
             }
            },
            "header": {
             "fill": {
              "color": "rgb(217,217,217)"
             },
             "line": {
              "color": "white"
             }
            },
            "type": "table"
           }
          ]
         },
         "layout": {
          "annotationdefaults": {
           "arrowhead": 0,
           "arrowwidth": 1
          },
          "autotypenumbers": "strict",
          "coloraxis": {
           "colorbar": {
            "outlinewidth": 1,
            "tickcolor": "rgb(36,36,36)",
            "ticks": "outside"
           }
          },
          "colorscale": {
           "diverging": [
            [
             0,
             "rgb(103,0,31)"
            ],
            [
             0.1,
             "rgb(178,24,43)"
            ],
            [
             0.2,
             "rgb(214,96,77)"
            ],
            [
             0.3,
             "rgb(244,165,130)"
            ],
            [
             0.4,
             "rgb(253,219,199)"
            ],
            [
             0.5,
             "rgb(247,247,247)"
            ],
            [
             0.6,
             "rgb(209,229,240)"
            ],
            [
             0.7,
             "rgb(146,197,222)"
            ],
            [
             0.8,
             "rgb(67,147,195)"
            ],
            [
             0.9,
             "rgb(33,102,172)"
            ],
            [
             1,
             "rgb(5,48,97)"
            ]
           ],
           "sequential": [
            [
             0,
             "#440154"
            ],
            [
             0.1111111111111111,
             "#482878"
            ],
            [
             0.2222222222222222,
             "#3e4989"
            ],
            [
             0.3333333333333333,
             "#31688e"
            ],
            [
             0.4444444444444444,
             "#26828e"
            ],
            [
             0.5555555555555556,
             "#1f9e89"
            ],
            [
             0.6666666666666666,
             "#35b779"
            ],
            [
             0.7777777777777778,
             "#6ece58"
            ],
            [
             0.8888888888888888,
             "#b5de2b"
            ],
            [
             1,
             "#fde725"
            ]
           ],
           "sequentialminus": [
            [
             0,
             "#440154"
            ],
            [
             0.1111111111111111,
             "#482878"
            ],
            [
             0.2222222222222222,
             "#3e4989"
            ],
            [
             0.3333333333333333,
             "#31688e"
            ],
            [
             0.4444444444444444,
             "#26828e"
            ],
            [
             0.5555555555555556,
             "#1f9e89"
            ],
            [
             0.6666666666666666,
             "#35b779"
            ],
            [
             0.7777777777777778,
             "#6ece58"
            ],
            [
             0.8888888888888888,
             "#b5de2b"
            ],
            [
             1,
             "#fde725"
            ]
           ]
          },
          "colorway": [
           "#1F77B4",
           "#FF7F0E",
           "#2CA02C",
           "#D62728",
           "#9467BD",
           "#8C564B",
           "#E377C2",
           "#7F7F7F",
           "#BCBD22",
           "#17BECF"
          ],
          "font": {
           "color": "rgb(36,36,36)"
          },
          "geo": {
           "bgcolor": "white",
           "lakecolor": "white",
           "landcolor": "white",
           "showlakes": true,
           "showland": true,
           "subunitcolor": "white"
          },
          "hoverlabel": {
           "align": "left"
          },
          "hovermode": "closest",
          "mapbox": {
           "style": "light"
          },
          "paper_bgcolor": "white",
          "plot_bgcolor": "white",
          "polar": {
           "angularaxis": {
            "gridcolor": "rgb(232,232,232)",
            "linecolor": "rgb(36,36,36)",
            "showgrid": false,
            "showline": true,
            "ticks": "outside"
           },
           "bgcolor": "white",
           "radialaxis": {
            "gridcolor": "rgb(232,232,232)",
            "linecolor": "rgb(36,36,36)",
            "showgrid": false,
            "showline": true,
            "ticks": "outside"
           }
          },
          "scene": {
           "xaxis": {
            "backgroundcolor": "white",
            "gridcolor": "rgb(232,232,232)",
            "gridwidth": 2,
            "linecolor": "rgb(36,36,36)",
            "showbackground": true,
            "showgrid": false,
            "showline": true,
            "ticks": "outside",
            "zeroline": false,
            "zerolinecolor": "rgb(36,36,36)"
           },
           "yaxis": {
            "backgroundcolor": "white",
            "gridcolor": "rgb(232,232,232)",
            "gridwidth": 2,
            "linecolor": "rgb(36,36,36)",
            "showbackground": true,
            "showgrid": false,
            "showline": true,
            "ticks": "outside",
            "zeroline": false,
            "zerolinecolor": "rgb(36,36,36)"
           },
           "zaxis": {
            "backgroundcolor": "white",
            "gridcolor": "rgb(232,232,232)",
            "gridwidth": 2,
            "linecolor": "rgb(36,36,36)",
            "showbackground": true,
            "showgrid": false,
            "showline": true,
            "ticks": "outside",
            "zeroline": false,
            "zerolinecolor": "rgb(36,36,36)"
           }
          },
          "shapedefaults": {
           "fillcolor": "black",
           "line": {
            "width": 0
           },
           "opacity": 0.3
          },
          "ternary": {
           "aaxis": {
            "gridcolor": "rgb(232,232,232)",
            "linecolor": "rgb(36,36,36)",
            "showgrid": false,
            "showline": true,
            "ticks": "outside"
           },
           "baxis": {
            "gridcolor": "rgb(232,232,232)",
            "linecolor": "rgb(36,36,36)",
            "showgrid": false,
            "showline": true,
            "ticks": "outside"
           },
           "bgcolor": "white",
           "caxis": {
            "gridcolor": "rgb(232,232,232)",
            "linecolor": "rgb(36,36,36)",
            "showgrid": false,
            "showline": true,
            "ticks": "outside"
           }
          },
          "title": {
           "x": 0.05
          },
          "xaxis": {
           "automargin": true,
           "gridcolor": "rgb(232,232,232)",
           "linecolor": "rgb(36,36,36)",
           "showgrid": false,
           "showline": true,
           "ticks": "outside",
           "title": {
            "standoff": 15
           },
           "zeroline": false,
           "zerolinecolor": "rgb(36,36,36)"
          },
          "yaxis": {
           "automargin": true,
           "gridcolor": "rgb(232,232,232)",
           "linecolor": "rgb(36,36,36)",
           "showgrid": false,
           "showline": true,
           "ticks": "outside",
           "title": {
            "standoff": 15
           },
           "zeroline": false,
           "zerolinecolor": "rgb(36,36,36)"
          }
         }
        },
        "title": {
         "font": {
          "color": "Black",
          "size": 22
         },
         "text": "<b>Intertopic Distance Map</b>",
         "x": 0.5,
         "xanchor": "center",
         "y": 0.95,
         "yanchor": "top"
        },
        "width": 650,
        "xaxis": {
         "anchor": "y",
         "domain": [
          0,
          1
         ],
         "range": [
          -9.814477729797364,
          9.261560297012329
         ],
         "title": {
          "text": ""
         },
         "visible": false
        },
        "yaxis": {
         "anchor": "x",
         "domain": [
          0,
          1
         ],
         "range": [
          -7.962600302696228,
          13.97776165008545
         ],
         "title": {
          "text": ""
         },
         "visible": false
        }
       }
      },
      "text/html": [
       "<div>                            <div id=\"4fabadaa-56f9-4ab7-ad2b-8f80db31d488\" class=\"plotly-graph-div\" style=\"height:650px; width:650px;\"></div>            <script type=\"text/javascript\">                require([\"plotly\"], function(Plotly) {                    window.PLOTLYENV=window.PLOTLYENV || {};                                    if (document.getElementById(\"4fabadaa-56f9-4ab7-ad2b-8f80db31d488\")) {                    Plotly.newPlot(                        \"4fabadaa-56f9-4ab7-ad2b-8f80db31d488\",                        [{\"customdata\":[[0,\"parkplätze | linien | mehr | parkflächen | stadt\",12],[1,\"radweg | radfahrer | richtung | wendenstraße | rechts\",11],[2,\"radfahrer | fußgänger | ringgleis | fahrbahn | stelle\",7],[3,\"hunde | hundewiese | fläche | hundebesitzer | pumptrack\",7],[4,\"menschen | grünflächen | hitze | hitzetage | boden\",7],[5,\"skatepark | spielplatz | wasserspielplatz | spielen | möchten\",7],[6,\"braunschweig | tarent | leisewitz | johann | projekt\",6],[7,\"lärm | ingbert | gegenstimmen | konzerte | st\",5],[8,\"burg | läden | burgplatz | gasse | plätze\",5],[9,\"schule | eltern | grundschüler | 2km | schülertickets\",5],[10,\"led | dunkel | beleuchtung | vorallen | leimenweg\",5],[11,\"grüße | toiletten | löwenwall | öffentliche | gibt\",5],[12,\"elektromobilität | öpnv | uhr | öffentlicher | elektrobusse\",4],[13,\"vorm | vorallem | schloss | rathaus | bereich\",3],[14,\"fahrräder | innen | raabe | baumkranz | abgesperrt\",3],[15,\"tempo | 30er | grüne | zone | sinn\",3],[16,\"übergang | selten | anforderung | autos | kinderwagen\",3],[17,\"lkw | pkw | weiterhin | 5t | hierbei\",2],[18,\"vielzahl | eng | straße | kommt | wilhelmsgarten\",2],[19,\"lehmanger | aufstellen | sicheren | sprich | hebbelstraße\",2],[20,\"vorrangschaltung | fahrzeugführer | salzdahlumer | los | rotphase\",2]],\"hovertemplate\":\"\\u003cb\\u003eTopic %{customdata[0]}\\u003c\\u002fb\\u003e\\u003cbr\\u003e%{customdata[1]}\\u003cbr\\u003eSize: %{customdata[2]}\",\"legendgroup\":\"\",\"marker\":{\"color\":\"#B0BEC5\",\"size\":[12,11,7,7,7,7,6,5,5,5,5,5,4,3,3,3,3,2,2,2,2],\"sizemode\":\"area\",\"sizeref\":0.0075,\"symbol\":\"circle\",\"line\":{\"color\":\"DarkSlateGrey\",\"width\":2}},\"mode\":\"markers\",\"name\":\"\",\"orientation\":\"v\",\"showlegend\":false,\"x\":[5.86587,5.046288,6.184783,-8.534328,6.0118856,5.200122,4.636894,7.8133044,4.745109,5.510707,6.161584,-8.533871,8.053531,4.7779775,5.839892,5.726793,5.077708,7.647326,6.9334707,4.4768887,6.0395923],\"xaxis\":\"x\",\"y\":[7.807155,9.80436,11.947052,-6.923473,8.128502,7.3278165,6.92401,11.874346,7.1825433,7.9686675,11.011007,-6.9240003,12.154575,12.028655,12.133921,11.10216,9.26799,11.923493,11.984664,12.054064,11.3493],\"yaxis\":\"y\",\"type\":\"scatter\"}],                        {\"template\":{\"data\":{\"barpolar\":[{\"marker\":{\"line\":{\"color\":\"white\",\"width\":0.5},\"pattern\":{\"fillmode\":\"overlay\",\"size\":10,\"solidity\":0.2}},\"type\":\"barpolar\"}],\"bar\":[{\"error_x\":{\"color\":\"rgb(36,36,36)\"},\"error_y\":{\"color\":\"rgb(36,36,36)\"},\"marker\":{\"line\":{\"color\":\"white\",\"width\":0.5},\"pattern\":{\"fillmode\":\"overlay\",\"size\":10,\"solidity\":0.2}},\"type\":\"bar\"}],\"carpet\":[{\"aaxis\":{\"endlinecolor\":\"rgb(36,36,36)\",\"gridcolor\":\"white\",\"linecolor\":\"white\",\"minorgridcolor\":\"white\",\"startlinecolor\":\"rgb(36,36,36)\"},\"baxis\":{\"endlinecolor\":\"rgb(36,36,36)\",\"gridcolor\":\"white\",\"linecolor\":\"white\",\"minorgridcolor\":\"white\",\"startlinecolor\":\"rgb(36,36,36)\"},\"type\":\"carpet\"}],\"choropleth\":[{\"colorbar\":{\"outlinewidth\":1,\"tickcolor\":\"rgb(36,36,36)\",\"ticks\":\"outside\"},\"type\":\"choropleth\"}],\"contourcarpet\":[{\"colorbar\":{\"outlinewidth\":1,\"tickcolor\":\"rgb(36,36,36)\",\"ticks\":\"outside\"},\"type\":\"contourcarpet\"}],\"contour\":[{\"colorbar\":{\"outlinewidth\":1,\"tickcolor\":\"rgb(36,36,36)\",\"ticks\":\"outside\"},\"colorscale\":[[0.0,\"#440154\"],[0.1111111111111111,\"#482878\"],[0.2222222222222222,\"#3e4989\"],[0.3333333333333333,\"#31688e\"],[0.4444444444444444,\"#26828e\"],[0.5555555555555556,\"#1f9e89\"],[0.6666666666666666,\"#35b779\"],[0.7777777777777778,\"#6ece58\"],[0.8888888888888888,\"#b5de2b\"],[1.0,\"#fde725\"]],\"type\":\"contour\"}],\"heatmapgl\":[{\"colorbar\":{\"outlinewidth\":1,\"tickcolor\":\"rgb(36,36,36)\",\"ticks\":\"outside\"},\"colorscale\":[[0.0,\"#440154\"],[0.1111111111111111,\"#482878\"],[0.2222222222222222,\"#3e4989\"],[0.3333333333333333,\"#31688e\"],[0.4444444444444444,\"#26828e\"],[0.5555555555555556,\"#1f9e89\"],[0.6666666666666666,\"#35b779\"],[0.7777777777777778,\"#6ece58\"],[0.8888888888888888,\"#b5de2b\"],[1.0,\"#fde725\"]],\"type\":\"heatmapgl\"}],\"heatmap\":[{\"colorbar\":{\"outlinewidth\":1,\"tickcolor\":\"rgb(36,36,36)\",\"ticks\":\"outside\"},\"colorscale\":[[0.0,\"#440154\"],[0.1111111111111111,\"#482878\"],[0.2222222222222222,\"#3e4989\"],[0.3333333333333333,\"#31688e\"],[0.4444444444444444,\"#26828e\"],[0.5555555555555556,\"#1f9e89\"],[0.6666666666666666,\"#35b779\"],[0.7777777777777778,\"#6ece58\"],[0.8888888888888888,\"#b5de2b\"],[1.0,\"#fde725\"]],\"type\":\"heatmap\"}],\"histogram2dcontour\":[{\"colorbar\":{\"outlinewidth\":1,\"tickcolor\":\"rgb(36,36,36)\",\"ticks\":\"outside\"},\"colorscale\":[[0.0,\"#440154\"],[0.1111111111111111,\"#482878\"],[0.2222222222222222,\"#3e4989\"],[0.3333333333333333,\"#31688e\"],[0.4444444444444444,\"#26828e\"],[0.5555555555555556,\"#1f9e89\"],[0.6666666666666666,\"#35b779\"],[0.7777777777777778,\"#6ece58\"],[0.8888888888888888,\"#b5de2b\"],[1.0,\"#fde725\"]],\"type\":\"histogram2dcontour\"}],\"histogram2d\":[{\"colorbar\":{\"outlinewidth\":1,\"tickcolor\":\"rgb(36,36,36)\",\"ticks\":\"outside\"},\"colorscale\":[[0.0,\"#440154\"],[0.1111111111111111,\"#482878\"],[0.2222222222222222,\"#3e4989\"],[0.3333333333333333,\"#31688e\"],[0.4444444444444444,\"#26828e\"],[0.5555555555555556,\"#1f9e89\"],[0.6666666666666666,\"#35b779\"],[0.7777777777777778,\"#6ece58\"],[0.8888888888888888,\"#b5de2b\"],[1.0,\"#fde725\"]],\"type\":\"histogram2d\"}],\"histogram\":[{\"marker\":{\"line\":{\"color\":\"white\",\"width\":0.6}},\"type\":\"histogram\"}],\"mesh3d\":[{\"colorbar\":{\"outlinewidth\":1,\"tickcolor\":\"rgb(36,36,36)\",\"ticks\":\"outside\"},\"type\":\"mesh3d\"}],\"parcoords\":[{\"line\":{\"colorbar\":{\"outlinewidth\":1,\"tickcolor\":\"rgb(36,36,36)\",\"ticks\":\"outside\"}},\"type\":\"parcoords\"}],\"pie\":[{\"automargin\":true,\"type\":\"pie\"}],\"scatter3d\":[{\"line\":{\"colorbar\":{\"outlinewidth\":1,\"tickcolor\":\"rgb(36,36,36)\",\"ticks\":\"outside\"}},\"marker\":{\"colorbar\":{\"outlinewidth\":1,\"tickcolor\":\"rgb(36,36,36)\",\"ticks\":\"outside\"}},\"type\":\"scatter3d\"}],\"scattercarpet\":[{\"marker\":{\"colorbar\":{\"outlinewidth\":1,\"tickcolor\":\"rgb(36,36,36)\",\"ticks\":\"outside\"}},\"type\":\"scattercarpet\"}],\"scattergeo\":[{\"marker\":{\"colorbar\":{\"outlinewidth\":1,\"tickcolor\":\"rgb(36,36,36)\",\"ticks\":\"outside\"}},\"type\":\"scattergeo\"}],\"scattergl\":[{\"marker\":{\"colorbar\":{\"outlinewidth\":1,\"tickcolor\":\"rgb(36,36,36)\",\"ticks\":\"outside\"}},\"type\":\"scattergl\"}],\"scattermapbox\":[{\"marker\":{\"colorbar\":{\"outlinewidth\":1,\"tickcolor\":\"rgb(36,36,36)\",\"ticks\":\"outside\"}},\"type\":\"scattermapbox\"}],\"scatterpolargl\":[{\"marker\":{\"colorbar\":{\"outlinewidth\":1,\"tickcolor\":\"rgb(36,36,36)\",\"ticks\":\"outside\"}},\"type\":\"scatterpolargl\"}],\"scatterpolar\":[{\"marker\":{\"colorbar\":{\"outlinewidth\":1,\"tickcolor\":\"rgb(36,36,36)\",\"ticks\":\"outside\"}},\"type\":\"scatterpolar\"}],\"scatter\":[{\"fillpattern\":{\"fillmode\":\"overlay\",\"size\":10,\"solidity\":0.2},\"type\":\"scatter\"}],\"scatterternary\":[{\"marker\":{\"colorbar\":{\"outlinewidth\":1,\"tickcolor\":\"rgb(36,36,36)\",\"ticks\":\"outside\"}},\"type\":\"scatterternary\"}],\"surface\":[{\"colorbar\":{\"outlinewidth\":1,\"tickcolor\":\"rgb(36,36,36)\",\"ticks\":\"outside\"},\"colorscale\":[[0.0,\"#440154\"],[0.1111111111111111,\"#482878\"],[0.2222222222222222,\"#3e4989\"],[0.3333333333333333,\"#31688e\"],[0.4444444444444444,\"#26828e\"],[0.5555555555555556,\"#1f9e89\"],[0.6666666666666666,\"#35b779\"],[0.7777777777777778,\"#6ece58\"],[0.8888888888888888,\"#b5de2b\"],[1.0,\"#fde725\"]],\"type\":\"surface\"}],\"table\":[{\"cells\":{\"fill\":{\"color\":\"rgb(237,237,237)\"},\"line\":{\"color\":\"white\"}},\"header\":{\"fill\":{\"color\":\"rgb(217,217,217)\"},\"line\":{\"color\":\"white\"}},\"type\":\"table\"}]},\"layout\":{\"annotationdefaults\":{\"arrowhead\":0,\"arrowwidth\":1},\"autotypenumbers\":\"strict\",\"coloraxis\":{\"colorbar\":{\"outlinewidth\":1,\"tickcolor\":\"rgb(36,36,36)\",\"ticks\":\"outside\"}},\"colorscale\":{\"diverging\":[[0.0,\"rgb(103,0,31)\"],[0.1,\"rgb(178,24,43)\"],[0.2,\"rgb(214,96,77)\"],[0.3,\"rgb(244,165,130)\"],[0.4,\"rgb(253,219,199)\"],[0.5,\"rgb(247,247,247)\"],[0.6,\"rgb(209,229,240)\"],[0.7,\"rgb(146,197,222)\"],[0.8,\"rgb(67,147,195)\"],[0.9,\"rgb(33,102,172)\"],[1.0,\"rgb(5,48,97)\"]],\"sequential\":[[0.0,\"#440154\"],[0.1111111111111111,\"#482878\"],[0.2222222222222222,\"#3e4989\"],[0.3333333333333333,\"#31688e\"],[0.4444444444444444,\"#26828e\"],[0.5555555555555556,\"#1f9e89\"],[0.6666666666666666,\"#35b779\"],[0.7777777777777778,\"#6ece58\"],[0.8888888888888888,\"#b5de2b\"],[1.0,\"#fde725\"]],\"sequentialminus\":[[0.0,\"#440154\"],[0.1111111111111111,\"#482878\"],[0.2222222222222222,\"#3e4989\"],[0.3333333333333333,\"#31688e\"],[0.4444444444444444,\"#26828e\"],[0.5555555555555556,\"#1f9e89\"],[0.6666666666666666,\"#35b779\"],[0.7777777777777778,\"#6ece58\"],[0.8888888888888888,\"#b5de2b\"],[1.0,\"#fde725\"]]},\"colorway\":[\"#1F77B4\",\"#FF7F0E\",\"#2CA02C\",\"#D62728\",\"#9467BD\",\"#8C564B\",\"#E377C2\",\"#7F7F7F\",\"#BCBD22\",\"#17BECF\"],\"font\":{\"color\":\"rgb(36,36,36)\"},\"geo\":{\"bgcolor\":\"white\",\"lakecolor\":\"white\",\"landcolor\":\"white\",\"showlakes\":true,\"showland\":true,\"subunitcolor\":\"white\"},\"hoverlabel\":{\"align\":\"left\"},\"hovermode\":\"closest\",\"mapbox\":{\"style\":\"light\"},\"paper_bgcolor\":\"white\",\"plot_bgcolor\":\"white\",\"polar\":{\"angularaxis\":{\"gridcolor\":\"rgb(232,232,232)\",\"linecolor\":\"rgb(36,36,36)\",\"showgrid\":false,\"showline\":true,\"ticks\":\"outside\"},\"bgcolor\":\"white\",\"radialaxis\":{\"gridcolor\":\"rgb(232,232,232)\",\"linecolor\":\"rgb(36,36,36)\",\"showgrid\":false,\"showline\":true,\"ticks\":\"outside\"}},\"scene\":{\"xaxis\":{\"backgroundcolor\":\"white\",\"gridcolor\":\"rgb(232,232,232)\",\"gridwidth\":2,\"linecolor\":\"rgb(36,36,36)\",\"showbackground\":true,\"showgrid\":false,\"showline\":true,\"ticks\":\"outside\",\"zeroline\":false,\"zerolinecolor\":\"rgb(36,36,36)\"},\"yaxis\":{\"backgroundcolor\":\"white\",\"gridcolor\":\"rgb(232,232,232)\",\"gridwidth\":2,\"linecolor\":\"rgb(36,36,36)\",\"showbackground\":true,\"showgrid\":false,\"showline\":true,\"ticks\":\"outside\",\"zeroline\":false,\"zerolinecolor\":\"rgb(36,36,36)\"},\"zaxis\":{\"backgroundcolor\":\"white\",\"gridcolor\":\"rgb(232,232,232)\",\"gridwidth\":2,\"linecolor\":\"rgb(36,36,36)\",\"showbackground\":true,\"showgrid\":false,\"showline\":true,\"ticks\":\"outside\",\"zeroline\":false,\"zerolinecolor\":\"rgb(36,36,36)\"}},\"shapedefaults\":{\"fillcolor\":\"black\",\"line\":{\"width\":0},\"opacity\":0.3},\"ternary\":{\"aaxis\":{\"gridcolor\":\"rgb(232,232,232)\",\"linecolor\":\"rgb(36,36,36)\",\"showgrid\":false,\"showline\":true,\"ticks\":\"outside\"},\"baxis\":{\"gridcolor\":\"rgb(232,232,232)\",\"linecolor\":\"rgb(36,36,36)\",\"showgrid\":false,\"showline\":true,\"ticks\":\"outside\"},\"bgcolor\":\"white\",\"caxis\":{\"gridcolor\":\"rgb(232,232,232)\",\"linecolor\":\"rgb(36,36,36)\",\"showgrid\":false,\"showline\":true,\"ticks\":\"outside\"}},\"title\":{\"x\":0.05},\"xaxis\":{\"automargin\":true,\"gridcolor\":\"rgb(232,232,232)\",\"linecolor\":\"rgb(36,36,36)\",\"showgrid\":false,\"showline\":true,\"ticks\":\"outside\",\"title\":{\"standoff\":15},\"zeroline\":false,\"zerolinecolor\":\"rgb(36,36,36)\"},\"yaxis\":{\"automargin\":true,\"gridcolor\":\"rgb(232,232,232)\",\"linecolor\":\"rgb(36,36,36)\",\"showgrid\":false,\"showline\":true,\"ticks\":\"outside\",\"title\":{\"standoff\":15},\"zeroline\":false,\"zerolinecolor\":\"rgb(36,36,36)\"}}},\"xaxis\":{\"anchor\":\"y\",\"domain\":[0.0,1.0],\"title\":{\"text\":\"\"},\"visible\":false,\"range\":[-9.814477729797364,9.261560297012329]},\"yaxis\":{\"anchor\":\"x\",\"domain\":[0.0,1.0],\"title\":{\"text\":\"\"},\"visible\":false,\"range\":[-7.962600302696228,13.97776165008545]},\"legend\":{\"tracegroupgap\":0,\"itemsizing\":\"constant\"},\"margin\":{\"t\":60},\"title\":{\"font\":{\"size\":22,\"color\":\"Black\"},\"text\":\"\\u003cb\\u003eIntertopic Distance Map\\u003c\\u002fb\\u003e\",\"y\":0.95,\"x\":0.5,\"xanchor\":\"center\",\"yanchor\":\"top\"},\"hoverlabel\":{\"font\":{\"size\":16,\"family\":\"Rockwell\"},\"bgcolor\":\"white\"},\"width\":650,\"height\":650,\"sliders\":[{\"active\":0,\"pad\":{\"t\":50},\"steps\":[{\"args\":[{\"marker.color\":[[\"red\",\"#B0BEC5\",\"#B0BEC5\",\"#B0BEC5\",\"#B0BEC5\",\"#B0BEC5\",\"#B0BEC5\",\"#B0BEC5\",\"#B0BEC5\",\"#B0BEC5\",\"#B0BEC5\",\"#B0BEC5\",\"#B0BEC5\",\"#B0BEC5\",\"#B0BEC5\",\"#B0BEC5\",\"#B0BEC5\",\"#B0BEC5\",\"#B0BEC5\",\"#B0BEC5\",\"#B0BEC5\"]]}],\"label\":\"Topic 0\",\"method\":\"update\"},{\"args\":[{\"marker.color\":[[\"#B0BEC5\",\"red\",\"#B0BEC5\",\"#B0BEC5\",\"#B0BEC5\",\"#B0BEC5\",\"#B0BEC5\",\"#B0BEC5\",\"#B0BEC5\",\"#B0BEC5\",\"#B0BEC5\",\"#B0BEC5\",\"#B0BEC5\",\"#B0BEC5\",\"#B0BEC5\",\"#B0BEC5\",\"#B0BEC5\",\"#B0BEC5\",\"#B0BEC5\",\"#B0BEC5\",\"#B0BEC5\"]]}],\"label\":\"Topic 1\",\"method\":\"update\"},{\"args\":[{\"marker.color\":[[\"#B0BEC5\",\"#B0BEC5\",\"red\",\"#B0BEC5\",\"#B0BEC5\",\"#B0BEC5\",\"#B0BEC5\",\"#B0BEC5\",\"#B0BEC5\",\"#B0BEC5\",\"#B0BEC5\",\"#B0BEC5\",\"#B0BEC5\",\"#B0BEC5\",\"#B0BEC5\",\"#B0BEC5\",\"#B0BEC5\",\"#B0BEC5\",\"#B0BEC5\",\"#B0BEC5\",\"#B0BEC5\"]]}],\"label\":\"Topic 2\",\"method\":\"update\"},{\"args\":[{\"marker.color\":[[\"#B0BEC5\",\"#B0BEC5\",\"#B0BEC5\",\"red\",\"#B0BEC5\",\"#B0BEC5\",\"#B0BEC5\",\"#B0BEC5\",\"#B0BEC5\",\"#B0BEC5\",\"#B0BEC5\",\"#B0BEC5\",\"#B0BEC5\",\"#B0BEC5\",\"#B0BEC5\",\"#B0BEC5\",\"#B0BEC5\",\"#B0BEC5\",\"#B0BEC5\",\"#B0BEC5\",\"#B0BEC5\"]]}],\"label\":\"Topic 3\",\"method\":\"update\"},{\"args\":[{\"marker.color\":[[\"#B0BEC5\",\"#B0BEC5\",\"#B0BEC5\",\"#B0BEC5\",\"red\",\"#B0BEC5\",\"#B0BEC5\",\"#B0BEC5\",\"#B0BEC5\",\"#B0BEC5\",\"#B0BEC5\",\"#B0BEC5\",\"#B0BEC5\",\"#B0BEC5\",\"#B0BEC5\",\"#B0BEC5\",\"#B0BEC5\",\"#B0BEC5\",\"#B0BEC5\",\"#B0BEC5\",\"#B0BEC5\"]]}],\"label\":\"Topic 4\",\"method\":\"update\"},{\"args\":[{\"marker.color\":[[\"#B0BEC5\",\"#B0BEC5\",\"#B0BEC5\",\"#B0BEC5\",\"#B0BEC5\",\"red\",\"#B0BEC5\",\"#B0BEC5\",\"#B0BEC5\",\"#B0BEC5\",\"#B0BEC5\",\"#B0BEC5\",\"#B0BEC5\",\"#B0BEC5\",\"#B0BEC5\",\"#B0BEC5\",\"#B0BEC5\",\"#B0BEC5\",\"#B0BEC5\",\"#B0BEC5\",\"#B0BEC5\"]]}],\"label\":\"Topic 5\",\"method\":\"update\"},{\"args\":[{\"marker.color\":[[\"#B0BEC5\",\"#B0BEC5\",\"#B0BEC5\",\"#B0BEC5\",\"#B0BEC5\",\"#B0BEC5\",\"red\",\"#B0BEC5\",\"#B0BEC5\",\"#B0BEC5\",\"#B0BEC5\",\"#B0BEC5\",\"#B0BEC5\",\"#B0BEC5\",\"#B0BEC5\",\"#B0BEC5\",\"#B0BEC5\",\"#B0BEC5\",\"#B0BEC5\",\"#B0BEC5\",\"#B0BEC5\"]]}],\"label\":\"Topic 6\",\"method\":\"update\"},{\"args\":[{\"marker.color\":[[\"#B0BEC5\",\"#B0BEC5\",\"#B0BEC5\",\"#B0BEC5\",\"#B0BEC5\",\"#B0BEC5\",\"#B0BEC5\",\"red\",\"#B0BEC5\",\"#B0BEC5\",\"#B0BEC5\",\"#B0BEC5\",\"#B0BEC5\",\"#B0BEC5\",\"#B0BEC5\",\"#B0BEC5\",\"#B0BEC5\",\"#B0BEC5\",\"#B0BEC5\",\"#B0BEC5\",\"#B0BEC5\"]]}],\"label\":\"Topic 7\",\"method\":\"update\"},{\"args\":[{\"marker.color\":[[\"#B0BEC5\",\"#B0BEC5\",\"#B0BEC5\",\"#B0BEC5\",\"#B0BEC5\",\"#B0BEC5\",\"#B0BEC5\",\"#B0BEC5\",\"red\",\"#B0BEC5\",\"#B0BEC5\",\"#B0BEC5\",\"#B0BEC5\",\"#B0BEC5\",\"#B0BEC5\",\"#B0BEC5\",\"#B0BEC5\",\"#B0BEC5\",\"#B0BEC5\",\"#B0BEC5\",\"#B0BEC5\"]]}],\"label\":\"Topic 8\",\"method\":\"update\"},{\"args\":[{\"marker.color\":[[\"#B0BEC5\",\"#B0BEC5\",\"#B0BEC5\",\"#B0BEC5\",\"#B0BEC5\",\"#B0BEC5\",\"#B0BEC5\",\"#B0BEC5\",\"#B0BEC5\",\"red\",\"#B0BEC5\",\"#B0BEC5\",\"#B0BEC5\",\"#B0BEC5\",\"#B0BEC5\",\"#B0BEC5\",\"#B0BEC5\",\"#B0BEC5\",\"#B0BEC5\",\"#B0BEC5\",\"#B0BEC5\"]]}],\"label\":\"Topic 9\",\"method\":\"update\"},{\"args\":[{\"marker.color\":[[\"#B0BEC5\",\"#B0BEC5\",\"#B0BEC5\",\"#B0BEC5\",\"#B0BEC5\",\"#B0BEC5\",\"#B0BEC5\",\"#B0BEC5\",\"#B0BEC5\",\"#B0BEC5\",\"red\",\"#B0BEC5\",\"#B0BEC5\",\"#B0BEC5\",\"#B0BEC5\",\"#B0BEC5\",\"#B0BEC5\",\"#B0BEC5\",\"#B0BEC5\",\"#B0BEC5\",\"#B0BEC5\"]]}],\"label\":\"Topic 10\",\"method\":\"update\"},{\"args\":[{\"marker.color\":[[\"#B0BEC5\",\"#B0BEC5\",\"#B0BEC5\",\"#B0BEC5\",\"#B0BEC5\",\"#B0BEC5\",\"#B0BEC5\",\"#B0BEC5\",\"#B0BEC5\",\"#B0BEC5\",\"#B0BEC5\",\"red\",\"#B0BEC5\",\"#B0BEC5\",\"#B0BEC5\",\"#B0BEC5\",\"#B0BEC5\",\"#B0BEC5\",\"#B0BEC5\",\"#B0BEC5\",\"#B0BEC5\"]]}],\"label\":\"Topic 11\",\"method\":\"update\"},{\"args\":[{\"marker.color\":[[\"#B0BEC5\",\"#B0BEC5\",\"#B0BEC5\",\"#B0BEC5\",\"#B0BEC5\",\"#B0BEC5\",\"#B0BEC5\",\"#B0BEC5\",\"#B0BEC5\",\"#B0BEC5\",\"#B0BEC5\",\"#B0BEC5\",\"red\",\"#B0BEC5\",\"#B0BEC5\",\"#B0BEC5\",\"#B0BEC5\",\"#B0BEC5\",\"#B0BEC5\",\"#B0BEC5\",\"#B0BEC5\"]]}],\"label\":\"Topic 12\",\"method\":\"update\"},{\"args\":[{\"marker.color\":[[\"#B0BEC5\",\"#B0BEC5\",\"#B0BEC5\",\"#B0BEC5\",\"#B0BEC5\",\"#B0BEC5\",\"#B0BEC5\",\"#B0BEC5\",\"#B0BEC5\",\"#B0BEC5\",\"#B0BEC5\",\"#B0BEC5\",\"#B0BEC5\",\"red\",\"#B0BEC5\",\"#B0BEC5\",\"#B0BEC5\",\"#B0BEC5\",\"#B0BEC5\",\"#B0BEC5\",\"#B0BEC5\"]]}],\"label\":\"Topic 13\",\"method\":\"update\"},{\"args\":[{\"marker.color\":[[\"#B0BEC5\",\"#B0BEC5\",\"#B0BEC5\",\"#B0BEC5\",\"#B0BEC5\",\"#B0BEC5\",\"#B0BEC5\",\"#B0BEC5\",\"#B0BEC5\",\"#B0BEC5\",\"#B0BEC5\",\"#B0BEC5\",\"#B0BEC5\",\"#B0BEC5\",\"red\",\"#B0BEC5\",\"#B0BEC5\",\"#B0BEC5\",\"#B0BEC5\",\"#B0BEC5\",\"#B0BEC5\"]]}],\"label\":\"Topic 14\",\"method\":\"update\"},{\"args\":[{\"marker.color\":[[\"#B0BEC5\",\"#B0BEC5\",\"#B0BEC5\",\"#B0BEC5\",\"#B0BEC5\",\"#B0BEC5\",\"#B0BEC5\",\"#B0BEC5\",\"#B0BEC5\",\"#B0BEC5\",\"#B0BEC5\",\"#B0BEC5\",\"#B0BEC5\",\"#B0BEC5\",\"#B0BEC5\",\"red\",\"#B0BEC5\",\"#B0BEC5\",\"#B0BEC5\",\"#B0BEC5\",\"#B0BEC5\"]]}],\"label\":\"Topic 15\",\"method\":\"update\"},{\"args\":[{\"marker.color\":[[\"#B0BEC5\",\"#B0BEC5\",\"#B0BEC5\",\"#B0BEC5\",\"#B0BEC5\",\"#B0BEC5\",\"#B0BEC5\",\"#B0BEC5\",\"#B0BEC5\",\"#B0BEC5\",\"#B0BEC5\",\"#B0BEC5\",\"#B0BEC5\",\"#B0BEC5\",\"#B0BEC5\",\"#B0BEC5\",\"red\",\"#B0BEC5\",\"#B0BEC5\",\"#B0BEC5\",\"#B0BEC5\"]]}],\"label\":\"Topic 16\",\"method\":\"update\"},{\"args\":[{\"marker.color\":[[\"#B0BEC5\",\"#B0BEC5\",\"#B0BEC5\",\"#B0BEC5\",\"#B0BEC5\",\"#B0BEC5\",\"#B0BEC5\",\"#B0BEC5\",\"#B0BEC5\",\"#B0BEC5\",\"#B0BEC5\",\"#B0BEC5\",\"#B0BEC5\",\"#B0BEC5\",\"#B0BEC5\",\"#B0BEC5\",\"#B0BEC5\",\"red\",\"#B0BEC5\",\"#B0BEC5\",\"#B0BEC5\"]]}],\"label\":\"Topic 17\",\"method\":\"update\"},{\"args\":[{\"marker.color\":[[\"#B0BEC5\",\"#B0BEC5\",\"#B0BEC5\",\"#B0BEC5\",\"#B0BEC5\",\"#B0BEC5\",\"#B0BEC5\",\"#B0BEC5\",\"#B0BEC5\",\"#B0BEC5\",\"#B0BEC5\",\"#B0BEC5\",\"#B0BEC5\",\"#B0BEC5\",\"#B0BEC5\",\"#B0BEC5\",\"#B0BEC5\",\"#B0BEC5\",\"red\",\"#B0BEC5\",\"#B0BEC5\"]]}],\"label\":\"Topic 18\",\"method\":\"update\"},{\"args\":[{\"marker.color\":[[\"#B0BEC5\",\"#B0BEC5\",\"#B0BEC5\",\"#B0BEC5\",\"#B0BEC5\",\"#B0BEC5\",\"#B0BEC5\",\"#B0BEC5\",\"#B0BEC5\",\"#B0BEC5\",\"#B0BEC5\",\"#B0BEC5\",\"#B0BEC5\",\"#B0BEC5\",\"#B0BEC5\",\"#B0BEC5\",\"#B0BEC5\",\"#B0BEC5\",\"#B0BEC5\",\"red\",\"#B0BEC5\"]]}],\"label\":\"Topic 19\",\"method\":\"update\"},{\"args\":[{\"marker.color\":[[\"#B0BEC5\",\"#B0BEC5\",\"#B0BEC5\",\"#B0BEC5\",\"#B0BEC5\",\"#B0BEC5\",\"#B0BEC5\",\"#B0BEC5\",\"#B0BEC5\",\"#B0BEC5\",\"#B0BEC5\",\"#B0BEC5\",\"#B0BEC5\",\"#B0BEC5\",\"#B0BEC5\",\"#B0BEC5\",\"#B0BEC5\",\"#B0BEC5\",\"#B0BEC5\",\"#B0BEC5\",\"red\"]]}],\"label\":\"Topic 20\",\"method\":\"update\"}]}],\"shapes\":[{\"line\":{\"color\":\"#CFD8DC\",\"width\":2},\"type\":\"line\",\"x0\":-0.2764587163925176,\"x1\":-0.2764587163925176,\"y0\":-7.962600302696228,\"y1\":13.97776165008545},{\"line\":{\"color\":\"#9E9E9E\",\"width\":2},\"type\":\"line\",\"x0\":-9.814477729797364,\"x1\":9.261560297012329,\"y0\":3.0075806736946107,\"y1\":3.0075806736946107}],\"annotations\":[{\"showarrow\":false,\"text\":\"D1\",\"x\":-9.814477729797364,\"y\":3.0075806736946107,\"yshift\":10},{\"showarrow\":false,\"text\":\"D2\",\"x\":-0.2764587163925176,\"xshift\":10,\"y\":13.97776165008545}]},                        {\"responsive\": true}                    ).then(function(){\n",
       "                            \n",
       "var gd = document.getElementById('4fabadaa-56f9-4ab7-ad2b-8f80db31d488');\n",
       "var x = new MutationObserver(function (mutations, observer) {{\n",
       "        var display = window.getComputedStyle(gd).display;\n",
       "        if (!display || display === 'none') {{\n",
       "            console.log([gd, 'removed!']);\n",
       "            Plotly.purge(gd);\n",
       "            observer.disconnect();\n",
       "        }}\n",
       "}});\n",
       "\n",
       "// Listen for the removal of the full notebook cells\n",
       "var notebookContainer = gd.closest('#notebook-container');\n",
       "if (notebookContainer) {{\n",
       "    x.observe(notebookContainer, {childList: true});\n",
       "}}\n",
       "\n",
       "// Listen for the clearing of the current output cell\n",
       "var outputEl = gd.closest('.output');\n",
       "if (outputEl) {{\n",
       "    x.observe(outputEl, {childList: true});\n",
       "}}\n",
       "\n",
       "                        })                };                });            </script>        </div>"
      ]
     },
     "metadata": {},
     "output_type": "display_data"
    }
   ],
   "source": [
    "topic_model.visualize_topics()"
   ]
  },
  {
   "cell_type": "code",
   "execution_count": 36,
   "id": "5a231c3d",
   "metadata": {},
   "outputs": [
    {
     "data": {
      "application/vnd.plotly.v1+json": {
       "config": {
        "plotlyServerURL": "https://plot.ly"
       },
       "data": [
        {
         "hoverinfo": "text",
         "marker": {
          "color": "rgb(61,153,112)"
         },
         "mode": "lines",
         "type": "scatter",
         "x": [
          0,
          0.8850629728735895,
          0.8850629728735895,
          0
         ],
         "xaxis": "x",
         "y": [
          -15,
          -15,
          -25,
          -25
         ],
         "yaxis": "y"
        },
        {
         "hoverinfo": "text",
         "marker": {
          "color": "rgb(61,153,112)"
         },
         "mode": "lines",
         "type": "scatter",
         "x": [
          0,
          0.8991013470216264,
          0.8991013470216264,
          0
         ],
         "xaxis": "x",
         "y": [
          -45,
          -45,
          -55,
          -55
         ],
         "yaxis": "y"
        },
        {
         "hoverinfo": "text",
         "marker": {
          "color": "rgb(61,153,112)"
         },
         "mode": "lines",
         "type": "scatter",
         "x": [
          0,
          0.9201486814117283,
          0.9201486814117283,
          0.8991013470216264
         ],
         "xaxis": "x",
         "y": [
          -35,
          -35,
          -50,
          -50
         ],
         "yaxis": "y"
        },
        {
         "hoverinfo": "text",
         "marker": {
          "color": "rgb(61,153,112)"
         },
         "mode": "lines",
         "type": "scatter",
         "x": [
          0.9201486814117283,
          0.9273099273246744,
          0.9273099273246744,
          0
         ],
         "xaxis": "x",
         "y": [
          -42.5,
          -42.5,
          -65,
          -65
         ],
         "yaxis": "y"
        },
        {
         "hoverinfo": "text",
         "marker": {
          "color": "rgb(61,153,112)"
         },
         "mode": "lines",
         "type": "scatter",
         "x": [
          0.8850629728735895,
          0.9569823743531863,
          0.9569823743531863,
          0.9273099273246744
         ],
         "xaxis": "x",
         "y": [
          -20,
          -20,
          -53.75,
          -53.75
         ],
         "yaxis": "y"
        },
        {
         "hoverinfo": "text",
         "marker": {
          "color": "rgb(61,153,112)"
         },
         "mode": "lines",
         "type": "scatter",
         "x": [
          0,
          0.9675824142955208,
          0.9675824142955208,
          0.9569823743531863
         ],
         "xaxis": "x",
         "y": [
          -5,
          -5,
          -36.875,
          -36.875
         ],
         "yaxis": "y"
        },
        {
         "hoverinfo": "text",
         "marker": {
          "color": "rgb(61,153,112)"
         },
         "mode": "lines",
         "type": "scatter",
         "x": [
          0,
          0.9305180995766701,
          0.9305180995766701,
          0
         ],
         "xaxis": "x",
         "y": [
          -75,
          -75,
          -85,
          -85
         ],
         "yaxis": "y"
        },
        {
         "hoverinfo": "text",
         "marker": {
          "color": "rgb(61,153,112)"
         },
         "mode": "lines",
         "type": "scatter",
         "x": [
          0.9675824142955208,
          0.978209433462286,
          0.978209433462286,
          0.9305180995766701
         ],
         "xaxis": "x",
         "y": [
          -20.9375,
          -20.9375,
          -80,
          -80
         ],
         "yaxis": "y"
        },
        {
         "hoverinfo": "text",
         "marker": {
          "color": "rgb(255,65,54)"
         },
         "mode": "lines",
         "type": "scatter",
         "x": [
          0,
          0.9229055381372677,
          0.9229055381372677,
          0
         ],
         "xaxis": "x",
         "y": [
          -95,
          -95,
          -105,
          -105
         ],
         "yaxis": "y"
        },
        {
         "hoverinfo": "text",
         "marker": {
          "color": "rgb(255,65,54)"
         },
         "mode": "lines",
         "type": "scatter",
         "x": [
          0.9229055381372677,
          0.9541021059214777,
          0.9541021059214777,
          0
         ],
         "xaxis": "x",
         "y": [
          -100,
          -100,
          -115,
          -115
         ],
         "yaxis": "y"
        },
        {
         "hoverinfo": "text",
         "marker": {
          "color": "rgb(255,65,54)"
         },
         "mode": "lines",
         "type": "scatter",
         "x": [
          0.9541021059214777,
          0.9638946128950255,
          0.9638946128950255,
          0
         ],
         "xaxis": "x",
         "y": [
          -107.5,
          -107.5,
          -125,
          -125
         ],
         "yaxis": "y"
        },
        {
         "hoverinfo": "text",
         "marker": {
          "color": "rgb(0,116,217)"
         },
         "mode": "lines",
         "type": "scatter",
         "x": [
          0.978209433462286,
          1.0139127151127925,
          1.0139127151127925,
          0.9638946128950255
         ],
         "xaxis": "x",
         "y": [
          -50.46875,
          -50.46875,
          -116.25,
          -116.25
         ],
         "yaxis": "y"
        },
        {
         "hoverinfo": "text",
         "marker": {
          "color": "rgb(35,205,205)"
         },
         "mode": "lines",
         "type": "scatter",
         "x": [
          0,
          0.7801044359395517,
          0.7801044359395517,
          0
         ],
         "xaxis": "x",
         "y": [
          -145,
          -145,
          -155,
          -155
         ],
         "yaxis": "y"
        },
        {
         "hoverinfo": "text",
         "marker": {
          "color": "rgb(35,205,205)"
         },
         "mode": "lines",
         "type": "scatter",
         "x": [
          0,
          0.8981930352652645,
          0.8981930352652645,
          0
         ],
         "xaxis": "x",
         "y": [
          -165,
          -165,
          -175,
          -175
         ],
         "yaxis": "y"
        },
        {
         "hoverinfo": "text",
         "marker": {
          "color": "rgb(35,205,205)"
         },
         "mode": "lines",
         "type": "scatter",
         "x": [
          0.7801044359395517,
          0.9330970841662217,
          0.9330970841662217,
          0.8981930352652645
         ],
         "xaxis": "x",
         "y": [
          -150,
          -150,
          -170,
          -170
         ],
         "yaxis": "y"
        },
        {
         "hoverinfo": "text",
         "marker": {
          "color": "rgb(35,205,205)"
         },
         "mode": "lines",
         "type": "scatter",
         "x": [
          0,
          0.9546508488050469,
          0.9546508488050469,
          0.9330970841662217
         ],
         "xaxis": "x",
         "y": [
          -135,
          -135,
          -160,
          -160
         ],
         "yaxis": "y"
        },
        {
         "hoverinfo": "text",
         "marker": {
          "color": "rgb(133,20,75)"
         },
         "mode": "lines",
         "type": "scatter",
         "x": [
          0,
          0.9458935963192798,
          0.9458935963192798,
          0
         ],
         "xaxis": "x",
         "y": [
          -185,
          -185,
          -195,
          -195
         ],
         "yaxis": "y"
        },
        {
         "hoverinfo": "text",
         "marker": {
          "color": "rgb(133,20,75)"
         },
         "mode": "lines",
         "type": "scatter",
         "x": [
          0.9458935963192798,
          0.9848614167544254,
          0.9848614167544254,
          0
         ],
         "xaxis": "x",
         "y": [
          -190,
          -190,
          -205,
          -205
         ],
         "yaxis": "y"
        },
        {
         "hoverinfo": "text",
         "marker": {
          "color": "rgb(0,116,217)"
         },
         "mode": "lines",
         "type": "scatter",
         "x": [
          0.9546508488050469,
          1.0295491255664349,
          1.0295491255664349,
          0.9848614167544254
         ],
         "xaxis": "x",
         "y": [
          -147.5,
          -147.5,
          -197.5,
          -197.5
         ],
         "yaxis": "y"
        },
        {
         "hoverinfo": "text",
         "marker": {
          "color": "rgb(0,116,217)"
         },
         "mode": "lines",
         "type": "scatter",
         "x": [
          1.0139127151127925,
          1.1339097268746237,
          1.1339097268746237,
          1.0295491255664349
         ],
         "xaxis": "x",
         "y": [
          -83.359375,
          -83.359375,
          -172.5,
          -172.5
         ],
         "yaxis": "y"
        }
       ],
       "layout": {
        "autosize": false,
        "height": 515,
        "hoverlabel": {
         "bgcolor": "white",
         "font": {
          "family": "Rockwell",
          "size": 16
         }
        },
        "hovermode": "closest",
        "plot_bgcolor": "#ECEFF1",
        "showlegend": false,
        "template": {
         "data": {
          "bar": [
           {
            "error_x": {
             "color": "#2a3f5f"
            },
            "error_y": {
             "color": "#2a3f5f"
            },
            "marker": {
             "line": {
              "color": "white",
              "width": 0.5
             },
             "pattern": {
              "fillmode": "overlay",
              "size": 10,
              "solidity": 0.2
             }
            },
            "type": "bar"
           }
          ],
          "barpolar": [
           {
            "marker": {
             "line": {
              "color": "white",
              "width": 0.5
             },
             "pattern": {
              "fillmode": "overlay",
              "size": 10,
              "solidity": 0.2
             }
            },
            "type": "barpolar"
           }
          ],
          "carpet": [
           {
            "aaxis": {
             "endlinecolor": "#2a3f5f",
             "gridcolor": "#C8D4E3",
             "linecolor": "#C8D4E3",
             "minorgridcolor": "#C8D4E3",
             "startlinecolor": "#2a3f5f"
            },
            "baxis": {
             "endlinecolor": "#2a3f5f",
             "gridcolor": "#C8D4E3",
             "linecolor": "#C8D4E3",
             "minorgridcolor": "#C8D4E3",
             "startlinecolor": "#2a3f5f"
            },
            "type": "carpet"
           }
          ],
          "choropleth": [
           {
            "colorbar": {
             "outlinewidth": 0,
             "ticks": ""
            },
            "type": "choropleth"
           }
          ],
          "contour": [
           {
            "colorbar": {
             "outlinewidth": 0,
             "ticks": ""
            },
            "colorscale": [
             [
              0,
              "#0d0887"
             ],
             [
              0.1111111111111111,
              "#46039f"
             ],
             [
              0.2222222222222222,
              "#7201a8"
             ],
             [
              0.3333333333333333,
              "#9c179e"
             ],
             [
              0.4444444444444444,
              "#bd3786"
             ],
             [
              0.5555555555555556,
              "#d8576b"
             ],
             [
              0.6666666666666666,
              "#ed7953"
             ],
             [
              0.7777777777777778,
              "#fb9f3a"
             ],
             [
              0.8888888888888888,
              "#fdca26"
             ],
             [
              1,
              "#f0f921"
             ]
            ],
            "type": "contour"
           }
          ],
          "contourcarpet": [
           {
            "colorbar": {
             "outlinewidth": 0,
             "ticks": ""
            },
            "type": "contourcarpet"
           }
          ],
          "heatmap": [
           {
            "colorbar": {
             "outlinewidth": 0,
             "ticks": ""
            },
            "colorscale": [
             [
              0,
              "#0d0887"
             ],
             [
              0.1111111111111111,
              "#46039f"
             ],
             [
              0.2222222222222222,
              "#7201a8"
             ],
             [
              0.3333333333333333,
              "#9c179e"
             ],
             [
              0.4444444444444444,
              "#bd3786"
             ],
             [
              0.5555555555555556,
              "#d8576b"
             ],
             [
              0.6666666666666666,
              "#ed7953"
             ],
             [
              0.7777777777777778,
              "#fb9f3a"
             ],
             [
              0.8888888888888888,
              "#fdca26"
             ],
             [
              1,
              "#f0f921"
             ]
            ],
            "type": "heatmap"
           }
          ],
          "heatmapgl": [
           {
            "colorbar": {
             "outlinewidth": 0,
             "ticks": ""
            },
            "colorscale": [
             [
              0,
              "#0d0887"
             ],
             [
              0.1111111111111111,
              "#46039f"
             ],
             [
              0.2222222222222222,
              "#7201a8"
             ],
             [
              0.3333333333333333,
              "#9c179e"
             ],
             [
              0.4444444444444444,
              "#bd3786"
             ],
             [
              0.5555555555555556,
              "#d8576b"
             ],
             [
              0.6666666666666666,
              "#ed7953"
             ],
             [
              0.7777777777777778,
              "#fb9f3a"
             ],
             [
              0.8888888888888888,
              "#fdca26"
             ],
             [
              1,
              "#f0f921"
             ]
            ],
            "type": "heatmapgl"
           }
          ],
          "histogram": [
           {
            "marker": {
             "pattern": {
              "fillmode": "overlay",
              "size": 10,
              "solidity": 0.2
             }
            },
            "type": "histogram"
           }
          ],
          "histogram2d": [
           {
            "colorbar": {
             "outlinewidth": 0,
             "ticks": ""
            },
            "colorscale": [
             [
              0,
              "#0d0887"
             ],
             [
              0.1111111111111111,
              "#46039f"
             ],
             [
              0.2222222222222222,
              "#7201a8"
             ],
             [
              0.3333333333333333,
              "#9c179e"
             ],
             [
              0.4444444444444444,
              "#bd3786"
             ],
             [
              0.5555555555555556,
              "#d8576b"
             ],
             [
              0.6666666666666666,
              "#ed7953"
             ],
             [
              0.7777777777777778,
              "#fb9f3a"
             ],
             [
              0.8888888888888888,
              "#fdca26"
             ],
             [
              1,
              "#f0f921"
             ]
            ],
            "type": "histogram2d"
           }
          ],
          "histogram2dcontour": [
           {
            "colorbar": {
             "outlinewidth": 0,
             "ticks": ""
            },
            "colorscale": [
             [
              0,
              "#0d0887"
             ],
             [
              0.1111111111111111,
              "#46039f"
             ],
             [
              0.2222222222222222,
              "#7201a8"
             ],
             [
              0.3333333333333333,
              "#9c179e"
             ],
             [
              0.4444444444444444,
              "#bd3786"
             ],
             [
              0.5555555555555556,
              "#d8576b"
             ],
             [
              0.6666666666666666,
              "#ed7953"
             ],
             [
              0.7777777777777778,
              "#fb9f3a"
             ],
             [
              0.8888888888888888,
              "#fdca26"
             ],
             [
              1,
              "#f0f921"
             ]
            ],
            "type": "histogram2dcontour"
           }
          ],
          "mesh3d": [
           {
            "colorbar": {
             "outlinewidth": 0,
             "ticks": ""
            },
            "type": "mesh3d"
           }
          ],
          "parcoords": [
           {
            "line": {
             "colorbar": {
              "outlinewidth": 0,
              "ticks": ""
             }
            },
            "type": "parcoords"
           }
          ],
          "pie": [
           {
            "automargin": true,
            "type": "pie"
           }
          ],
          "scatter": [
           {
            "fillpattern": {
             "fillmode": "overlay",
             "size": 10,
             "solidity": 0.2
            },
            "type": "scatter"
           }
          ],
          "scatter3d": [
           {
            "line": {
             "colorbar": {
              "outlinewidth": 0,
              "ticks": ""
             }
            },
            "marker": {
             "colorbar": {
              "outlinewidth": 0,
              "ticks": ""
             }
            },
            "type": "scatter3d"
           }
          ],
          "scattercarpet": [
           {
            "marker": {
             "colorbar": {
              "outlinewidth": 0,
              "ticks": ""
             }
            },
            "type": "scattercarpet"
           }
          ],
          "scattergeo": [
           {
            "marker": {
             "colorbar": {
              "outlinewidth": 0,
              "ticks": ""
             }
            },
            "type": "scattergeo"
           }
          ],
          "scattergl": [
           {
            "marker": {
             "colorbar": {
              "outlinewidth": 0,
              "ticks": ""
             }
            },
            "type": "scattergl"
           }
          ],
          "scattermapbox": [
           {
            "marker": {
             "colorbar": {
              "outlinewidth": 0,
              "ticks": ""
             }
            },
            "type": "scattermapbox"
           }
          ],
          "scatterpolar": [
           {
            "marker": {
             "colorbar": {
              "outlinewidth": 0,
              "ticks": ""
             }
            },
            "type": "scatterpolar"
           }
          ],
          "scatterpolargl": [
           {
            "marker": {
             "colorbar": {
              "outlinewidth": 0,
              "ticks": ""
             }
            },
            "type": "scatterpolargl"
           }
          ],
          "scatterternary": [
           {
            "marker": {
             "colorbar": {
              "outlinewidth": 0,
              "ticks": ""
             }
            },
            "type": "scatterternary"
           }
          ],
          "surface": [
           {
            "colorbar": {
             "outlinewidth": 0,
             "ticks": ""
            },
            "colorscale": [
             [
              0,
              "#0d0887"
             ],
             [
              0.1111111111111111,
              "#46039f"
             ],
             [
              0.2222222222222222,
              "#7201a8"
             ],
             [
              0.3333333333333333,
              "#9c179e"
             ],
             [
              0.4444444444444444,
              "#bd3786"
             ],
             [
              0.5555555555555556,
              "#d8576b"
             ],
             [
              0.6666666666666666,
              "#ed7953"
             ],
             [
              0.7777777777777778,
              "#fb9f3a"
             ],
             [
              0.8888888888888888,
              "#fdca26"
             ],
             [
              1,
              "#f0f921"
             ]
            ],
            "type": "surface"
           }
          ],
          "table": [
           {
            "cells": {
             "fill": {
              "color": "#EBF0F8"
             },
             "line": {
              "color": "white"
             }
            },
            "header": {
             "fill": {
              "color": "#C8D4E3"
             },
             "line": {
              "color": "white"
             }
            },
            "type": "table"
           }
          ]
         },
         "layout": {
          "annotationdefaults": {
           "arrowcolor": "#2a3f5f",
           "arrowhead": 0,
           "arrowwidth": 1
          },
          "autotypenumbers": "strict",
          "coloraxis": {
           "colorbar": {
            "outlinewidth": 0,
            "ticks": ""
           }
          },
          "colorscale": {
           "diverging": [
            [
             0,
             "#8e0152"
            ],
            [
             0.1,
             "#c51b7d"
            ],
            [
             0.2,
             "#de77ae"
            ],
            [
             0.3,
             "#f1b6da"
            ],
            [
             0.4,
             "#fde0ef"
            ],
            [
             0.5,
             "#f7f7f7"
            ],
            [
             0.6,
             "#e6f5d0"
            ],
            [
             0.7,
             "#b8e186"
            ],
            [
             0.8,
             "#7fbc41"
            ],
            [
             0.9,
             "#4d9221"
            ],
            [
             1,
             "#276419"
            ]
           ],
           "sequential": [
            [
             0,
             "#0d0887"
            ],
            [
             0.1111111111111111,
             "#46039f"
            ],
            [
             0.2222222222222222,
             "#7201a8"
            ],
            [
             0.3333333333333333,
             "#9c179e"
            ],
            [
             0.4444444444444444,
             "#bd3786"
            ],
            [
             0.5555555555555556,
             "#d8576b"
            ],
            [
             0.6666666666666666,
             "#ed7953"
            ],
            [
             0.7777777777777778,
             "#fb9f3a"
            ],
            [
             0.8888888888888888,
             "#fdca26"
            ],
            [
             1,
             "#f0f921"
            ]
           ],
           "sequentialminus": [
            [
             0,
             "#0d0887"
            ],
            [
             0.1111111111111111,
             "#46039f"
            ],
            [
             0.2222222222222222,
             "#7201a8"
            ],
            [
             0.3333333333333333,
             "#9c179e"
            ],
            [
             0.4444444444444444,
             "#bd3786"
            ],
            [
             0.5555555555555556,
             "#d8576b"
            ],
            [
             0.6666666666666666,
             "#ed7953"
            ],
            [
             0.7777777777777778,
             "#fb9f3a"
            ],
            [
             0.8888888888888888,
             "#fdca26"
            ],
            [
             1,
             "#f0f921"
            ]
           ]
          },
          "colorway": [
           "#636efa",
           "#EF553B",
           "#00cc96",
           "#ab63fa",
           "#FFA15A",
           "#19d3f3",
           "#FF6692",
           "#B6E880",
           "#FF97FF",
           "#FECB52"
          ],
          "font": {
           "color": "#2a3f5f"
          },
          "geo": {
           "bgcolor": "white",
           "lakecolor": "white",
           "landcolor": "white",
           "showlakes": true,
           "showland": true,
           "subunitcolor": "#C8D4E3"
          },
          "hoverlabel": {
           "align": "left"
          },
          "hovermode": "closest",
          "mapbox": {
           "style": "light"
          },
          "paper_bgcolor": "white",
          "plot_bgcolor": "white",
          "polar": {
           "angularaxis": {
            "gridcolor": "#EBF0F8",
            "linecolor": "#EBF0F8",
            "ticks": ""
           },
           "bgcolor": "white",
           "radialaxis": {
            "gridcolor": "#EBF0F8",
            "linecolor": "#EBF0F8",
            "ticks": ""
           }
          },
          "scene": {
           "xaxis": {
            "backgroundcolor": "white",
            "gridcolor": "#DFE8F3",
            "gridwidth": 2,
            "linecolor": "#EBF0F8",
            "showbackground": true,
            "ticks": "",
            "zerolinecolor": "#EBF0F8"
           },
           "yaxis": {
            "backgroundcolor": "white",
            "gridcolor": "#DFE8F3",
            "gridwidth": 2,
            "linecolor": "#EBF0F8",
            "showbackground": true,
            "ticks": "",
            "zerolinecolor": "#EBF0F8"
           },
           "zaxis": {
            "backgroundcolor": "white",
            "gridcolor": "#DFE8F3",
            "gridwidth": 2,
            "linecolor": "#EBF0F8",
            "showbackground": true,
            "ticks": "",
            "zerolinecolor": "#EBF0F8"
           }
          },
          "shapedefaults": {
           "line": {
            "color": "#2a3f5f"
           }
          },
          "ternary": {
           "aaxis": {
            "gridcolor": "#DFE8F3",
            "linecolor": "#A2B1C6",
            "ticks": ""
           },
           "baxis": {
            "gridcolor": "#DFE8F3",
            "linecolor": "#A2B1C6",
            "ticks": ""
           },
           "bgcolor": "white",
           "caxis": {
            "gridcolor": "#DFE8F3",
            "linecolor": "#A2B1C6",
            "ticks": ""
           }
          },
          "title": {
           "x": 0.05
          },
          "xaxis": {
           "automargin": true,
           "gridcolor": "#EBF0F8",
           "linecolor": "#EBF0F8",
           "ticks": "",
           "title": {
            "standoff": 15
           },
           "zerolinecolor": "#EBF0F8",
           "zerolinewidth": 2
          },
          "yaxis": {
           "automargin": true,
           "gridcolor": "#EBF0F8",
           "linecolor": "#EBF0F8",
           "ticks": "",
           "title": {
            "standoff": 15
           },
           "zerolinecolor": "#EBF0F8",
           "zerolinewidth": 2
          }
         }
        },
        "title": {
         "font": {
          "color": "Black",
          "size": 22
         },
         "text": "<b>Hierarchical Clustering</b>",
         "x": 0.5,
         "xanchor": "center",
         "yanchor": "top"
        },
        "width": 1000,
        "xaxis": {
         "mirror": "allticks",
         "rangemode": "tozero",
         "showgrid": false,
         "showline": true,
         "showticklabels": true,
         "ticks": "outside",
         "type": "linear",
         "zeroline": false
        },
        "yaxis": {
         "mirror": "allticks",
         "range": [
          -210,
          0
         ],
         "rangemode": "tozero",
         "showgrid": false,
         "showline": true,
         "showticklabels": true,
         "tickmode": "array",
         "ticks": "outside",
         "ticktext": [
          "8_burg_läden_burgplatz",
          "6_braunschweig_tarent_leise...",
          "5_skatepark_spielplatz_wass...",
          "7_lärm_ingbert_gegenstimmen",
          "0_parkplätze_linien_mehr",
          "3_hunde_hundewiese_fläche",
          "4_menschen_grünflächen_hitze",
          "12_elektromobilität_öpnv_uhr",
          "9_schule_eltern_grundschüler",
          "14_fahrräder_innen_raabe",
          "11_grüße_toiletten_löwenwall",
          "15_tempo_30er_grüne",
          "10_led_dunkel_beleuchtung",
          "17_lkw_pkw_weiterhin",
          "1_radweg_radfahrer_richtung",
          "2_radfahrer_fußgänger_ringg...",
          "16_übergang_selten_anforder...",
          "18_vielzahl_eng_straße",
          "19_lehmanger_aufstellen_sic...",
          "13_vorm_vorallem_schloss",
          "20_vorrangschaltung_fahrzeu..."
         ],
         "tickvals": [
          -5,
          -15,
          -25,
          -35,
          -45,
          -55,
          -65,
          -75,
          -85,
          -95,
          -105,
          -115,
          -125,
          -135,
          -145,
          -155,
          -165,
          -175,
          -185,
          -195,
          -205
         ],
         "type": "linear",
         "zeroline": false
        }
       }
      },
      "text/html": [
       "<div>                            <div id=\"b7b8952b-cc78-4f0a-b212-0eadadc659cc\" class=\"plotly-graph-div\" style=\"height:515px; width:1000px;\"></div>            <script type=\"text/javascript\">                require([\"plotly\"], function(Plotly) {                    window.PLOTLYENV=window.PLOTLYENV || {};                                    if (document.getElementById(\"b7b8952b-cc78-4f0a-b212-0eadadc659cc\")) {                    Plotly.newPlot(                        \"b7b8952b-cc78-4f0a-b212-0eadadc659cc\",                        [{\"hoverinfo\":\"text\",\"marker\":{\"color\":\"rgb(61,153,112)\"},\"mode\":\"lines\",\"x\":[0.0,0.8850629728735895,0.8850629728735895,0.0],\"xaxis\":\"x\",\"y\":[-15.0,-15.0,-25.0,-25.0],\"yaxis\":\"y\",\"type\":\"scatter\"},{\"hoverinfo\":\"text\",\"marker\":{\"color\":\"rgb(61,153,112)\"},\"mode\":\"lines\",\"x\":[0.0,0.8991013470216264,0.8991013470216264,0.0],\"xaxis\":\"x\",\"y\":[-45.0,-45.0,-55.0,-55.0],\"yaxis\":\"y\",\"type\":\"scatter\"},{\"hoverinfo\":\"text\",\"marker\":{\"color\":\"rgb(61,153,112)\"},\"mode\":\"lines\",\"x\":[0.0,0.9201486814117283,0.9201486814117283,0.8991013470216264],\"xaxis\":\"x\",\"y\":[-35.0,-35.0,-50.0,-50.0],\"yaxis\":\"y\",\"type\":\"scatter\"},{\"hoverinfo\":\"text\",\"marker\":{\"color\":\"rgb(61,153,112)\"},\"mode\":\"lines\",\"x\":[0.9201486814117283,0.9273099273246744,0.9273099273246744,0.0],\"xaxis\":\"x\",\"y\":[-42.5,-42.5,-65.0,-65.0],\"yaxis\":\"y\",\"type\":\"scatter\"},{\"hoverinfo\":\"text\",\"marker\":{\"color\":\"rgb(61,153,112)\"},\"mode\":\"lines\",\"x\":[0.8850629728735895,0.9569823743531863,0.9569823743531863,0.9273099273246744],\"xaxis\":\"x\",\"y\":[-20.0,-20.0,-53.75,-53.75],\"yaxis\":\"y\",\"type\":\"scatter\"},{\"hoverinfo\":\"text\",\"marker\":{\"color\":\"rgb(61,153,112)\"},\"mode\":\"lines\",\"x\":[0.0,0.9675824142955208,0.9675824142955208,0.9569823743531863],\"xaxis\":\"x\",\"y\":[-5.0,-5.0,-36.875,-36.875],\"yaxis\":\"y\",\"type\":\"scatter\"},{\"hoverinfo\":\"text\",\"marker\":{\"color\":\"rgb(61,153,112)\"},\"mode\":\"lines\",\"x\":[0.0,0.9305180995766701,0.9305180995766701,0.0],\"xaxis\":\"x\",\"y\":[-75.0,-75.0,-85.0,-85.0],\"yaxis\":\"y\",\"type\":\"scatter\"},{\"hoverinfo\":\"text\",\"marker\":{\"color\":\"rgb(61,153,112)\"},\"mode\":\"lines\",\"x\":[0.9675824142955208,0.978209433462286,0.978209433462286,0.9305180995766701],\"xaxis\":\"x\",\"y\":[-20.9375,-20.9375,-80.0,-80.0],\"yaxis\":\"y\",\"type\":\"scatter\"},{\"hoverinfo\":\"text\",\"marker\":{\"color\":\"rgb(255,65,54)\"},\"mode\":\"lines\",\"x\":[0.0,0.9229055381372677,0.9229055381372677,0.0],\"xaxis\":\"x\",\"y\":[-95.0,-95.0,-105.0,-105.0],\"yaxis\":\"y\",\"type\":\"scatter\"},{\"hoverinfo\":\"text\",\"marker\":{\"color\":\"rgb(255,65,54)\"},\"mode\":\"lines\",\"x\":[0.9229055381372677,0.9541021059214777,0.9541021059214777,0.0],\"xaxis\":\"x\",\"y\":[-100.0,-100.0,-115.0,-115.0],\"yaxis\":\"y\",\"type\":\"scatter\"},{\"hoverinfo\":\"text\",\"marker\":{\"color\":\"rgb(255,65,54)\"},\"mode\":\"lines\",\"x\":[0.9541021059214777,0.9638946128950255,0.9638946128950255,0.0],\"xaxis\":\"x\",\"y\":[-107.5,-107.5,-125.0,-125.0],\"yaxis\":\"y\",\"type\":\"scatter\"},{\"hoverinfo\":\"text\",\"marker\":{\"color\":\"rgb(0,116,217)\"},\"mode\":\"lines\",\"x\":[0.978209433462286,1.0139127151127925,1.0139127151127925,0.9638946128950255],\"xaxis\":\"x\",\"y\":[-50.46875,-50.46875,-116.25,-116.25],\"yaxis\":\"y\",\"type\":\"scatter\"},{\"hoverinfo\":\"text\",\"marker\":{\"color\":\"rgb(35,205,205)\"},\"mode\":\"lines\",\"x\":[0.0,0.7801044359395517,0.7801044359395517,0.0],\"xaxis\":\"x\",\"y\":[-145.0,-145.0,-155.0,-155.0],\"yaxis\":\"y\",\"type\":\"scatter\"},{\"hoverinfo\":\"text\",\"marker\":{\"color\":\"rgb(35,205,205)\"},\"mode\":\"lines\",\"x\":[0.0,0.8981930352652645,0.8981930352652645,0.0],\"xaxis\":\"x\",\"y\":[-165.0,-165.0,-175.0,-175.0],\"yaxis\":\"y\",\"type\":\"scatter\"},{\"hoverinfo\":\"text\",\"marker\":{\"color\":\"rgb(35,205,205)\"},\"mode\":\"lines\",\"x\":[0.7801044359395517,0.9330970841662217,0.9330970841662217,0.8981930352652645],\"xaxis\":\"x\",\"y\":[-150.0,-150.0,-170.0,-170.0],\"yaxis\":\"y\",\"type\":\"scatter\"},{\"hoverinfo\":\"text\",\"marker\":{\"color\":\"rgb(35,205,205)\"},\"mode\":\"lines\",\"x\":[0.0,0.9546508488050469,0.9546508488050469,0.9330970841662217],\"xaxis\":\"x\",\"y\":[-135.0,-135.0,-160.0,-160.0],\"yaxis\":\"y\",\"type\":\"scatter\"},{\"hoverinfo\":\"text\",\"marker\":{\"color\":\"rgb(133,20,75)\"},\"mode\":\"lines\",\"x\":[0.0,0.9458935963192798,0.9458935963192798,0.0],\"xaxis\":\"x\",\"y\":[-185.0,-185.0,-195.0,-195.0],\"yaxis\":\"y\",\"type\":\"scatter\"},{\"hoverinfo\":\"text\",\"marker\":{\"color\":\"rgb(133,20,75)\"},\"mode\":\"lines\",\"x\":[0.9458935963192798,0.9848614167544254,0.9848614167544254,0.0],\"xaxis\":\"x\",\"y\":[-190.0,-190.0,-205.0,-205.0],\"yaxis\":\"y\",\"type\":\"scatter\"},{\"hoverinfo\":\"text\",\"marker\":{\"color\":\"rgb(0,116,217)\"},\"mode\":\"lines\",\"x\":[0.9546508488050469,1.0295491255664349,1.0295491255664349,0.9848614167544254],\"xaxis\":\"x\",\"y\":[-147.5,-147.5,-197.5,-197.5],\"yaxis\":\"y\",\"type\":\"scatter\"},{\"hoverinfo\":\"text\",\"marker\":{\"color\":\"rgb(0,116,217)\"},\"mode\":\"lines\",\"x\":[1.0139127151127925,1.1339097268746237,1.1339097268746237,1.0295491255664349],\"xaxis\":\"x\",\"y\":[-83.359375,-83.359375,-172.5,-172.5],\"yaxis\":\"y\",\"type\":\"scatter\"}],                        {\"autosize\":false,\"height\":515,\"hovermode\":\"closest\",\"showlegend\":false,\"width\":1000,\"xaxis\":{\"mirror\":\"allticks\",\"rangemode\":\"tozero\",\"showgrid\":false,\"showline\":true,\"showticklabels\":true,\"ticks\":\"outside\",\"type\":\"linear\",\"zeroline\":false},\"yaxis\":{\"mirror\":\"allticks\",\"rangemode\":\"tozero\",\"showgrid\":false,\"showline\":true,\"showticklabels\":true,\"tickmode\":\"array\",\"ticks\":\"outside\",\"ticktext\":[\"8_burg_läden_burgplatz\",\"6_braunschweig_tarent_leise...\",\"5_skatepark_spielplatz_wass...\",\"7_lärm_ingbert_gegenstimmen\",\"0_parkplätze_linien_mehr\",\"3_hunde_hundewiese_fläche\",\"4_menschen_grünflächen_hitze\",\"12_elektromobilität_öpnv_uhr\",\"9_schule_eltern_grundschüler\",\"14_fahrräder_innen_raabe\",\"11_grüße_toiletten_löwenwall\",\"15_tempo_30er_grüne\",\"10_led_dunkel_beleuchtung\",\"17_lkw_pkw_weiterhin\",\"1_radweg_radfahrer_richtung\",\"2_radfahrer_fußgänger_ringg...\",\"16_übergang_selten_anforder...\",\"18_vielzahl_eng_straße\",\"19_lehmanger_aufstellen_sic...\",\"13_vorm_vorallem_schloss\",\"20_vorrangschaltung_fahrzeu...\"],\"tickvals\":[-5.0,-15.0,-25.0,-35.0,-45.0,-55.0,-65.0,-75.0,-85.0,-95.0,-105.0,-115.0,-125.0,-135.0,-145.0,-155.0,-165.0,-175.0,-185.0,-195.0,-205.0],\"type\":\"linear\",\"zeroline\":false,\"range\":[-210.0,0.0]},\"template\":{\"data\":{\"barpolar\":[{\"marker\":{\"line\":{\"color\":\"white\",\"width\":0.5},\"pattern\":{\"fillmode\":\"overlay\",\"size\":10,\"solidity\":0.2}},\"type\":\"barpolar\"}],\"bar\":[{\"error_x\":{\"color\":\"#2a3f5f\"},\"error_y\":{\"color\":\"#2a3f5f\"},\"marker\":{\"line\":{\"color\":\"white\",\"width\":0.5},\"pattern\":{\"fillmode\":\"overlay\",\"size\":10,\"solidity\":0.2}},\"type\":\"bar\"}],\"carpet\":[{\"aaxis\":{\"endlinecolor\":\"#2a3f5f\",\"gridcolor\":\"#C8D4E3\",\"linecolor\":\"#C8D4E3\",\"minorgridcolor\":\"#C8D4E3\",\"startlinecolor\":\"#2a3f5f\"},\"baxis\":{\"endlinecolor\":\"#2a3f5f\",\"gridcolor\":\"#C8D4E3\",\"linecolor\":\"#C8D4E3\",\"minorgridcolor\":\"#C8D4E3\",\"startlinecolor\":\"#2a3f5f\"},\"type\":\"carpet\"}],\"choropleth\":[{\"colorbar\":{\"outlinewidth\":0,\"ticks\":\"\"},\"type\":\"choropleth\"}],\"contourcarpet\":[{\"colorbar\":{\"outlinewidth\":0,\"ticks\":\"\"},\"type\":\"contourcarpet\"}],\"contour\":[{\"colorbar\":{\"outlinewidth\":0,\"ticks\":\"\"},\"colorscale\":[[0.0,\"#0d0887\"],[0.1111111111111111,\"#46039f\"],[0.2222222222222222,\"#7201a8\"],[0.3333333333333333,\"#9c179e\"],[0.4444444444444444,\"#bd3786\"],[0.5555555555555556,\"#d8576b\"],[0.6666666666666666,\"#ed7953\"],[0.7777777777777778,\"#fb9f3a\"],[0.8888888888888888,\"#fdca26\"],[1.0,\"#f0f921\"]],\"type\":\"contour\"}],\"heatmapgl\":[{\"colorbar\":{\"outlinewidth\":0,\"ticks\":\"\"},\"colorscale\":[[0.0,\"#0d0887\"],[0.1111111111111111,\"#46039f\"],[0.2222222222222222,\"#7201a8\"],[0.3333333333333333,\"#9c179e\"],[0.4444444444444444,\"#bd3786\"],[0.5555555555555556,\"#d8576b\"],[0.6666666666666666,\"#ed7953\"],[0.7777777777777778,\"#fb9f3a\"],[0.8888888888888888,\"#fdca26\"],[1.0,\"#f0f921\"]],\"type\":\"heatmapgl\"}],\"heatmap\":[{\"colorbar\":{\"outlinewidth\":0,\"ticks\":\"\"},\"colorscale\":[[0.0,\"#0d0887\"],[0.1111111111111111,\"#46039f\"],[0.2222222222222222,\"#7201a8\"],[0.3333333333333333,\"#9c179e\"],[0.4444444444444444,\"#bd3786\"],[0.5555555555555556,\"#d8576b\"],[0.6666666666666666,\"#ed7953\"],[0.7777777777777778,\"#fb9f3a\"],[0.8888888888888888,\"#fdca26\"],[1.0,\"#f0f921\"]],\"type\":\"heatmap\"}],\"histogram2dcontour\":[{\"colorbar\":{\"outlinewidth\":0,\"ticks\":\"\"},\"colorscale\":[[0.0,\"#0d0887\"],[0.1111111111111111,\"#46039f\"],[0.2222222222222222,\"#7201a8\"],[0.3333333333333333,\"#9c179e\"],[0.4444444444444444,\"#bd3786\"],[0.5555555555555556,\"#d8576b\"],[0.6666666666666666,\"#ed7953\"],[0.7777777777777778,\"#fb9f3a\"],[0.8888888888888888,\"#fdca26\"],[1.0,\"#f0f921\"]],\"type\":\"histogram2dcontour\"}],\"histogram2d\":[{\"colorbar\":{\"outlinewidth\":0,\"ticks\":\"\"},\"colorscale\":[[0.0,\"#0d0887\"],[0.1111111111111111,\"#46039f\"],[0.2222222222222222,\"#7201a8\"],[0.3333333333333333,\"#9c179e\"],[0.4444444444444444,\"#bd3786\"],[0.5555555555555556,\"#d8576b\"],[0.6666666666666666,\"#ed7953\"],[0.7777777777777778,\"#fb9f3a\"],[0.8888888888888888,\"#fdca26\"],[1.0,\"#f0f921\"]],\"type\":\"histogram2d\"}],\"histogram\":[{\"marker\":{\"pattern\":{\"fillmode\":\"overlay\",\"size\":10,\"solidity\":0.2}},\"type\":\"histogram\"}],\"mesh3d\":[{\"colorbar\":{\"outlinewidth\":0,\"ticks\":\"\"},\"type\":\"mesh3d\"}],\"parcoords\":[{\"line\":{\"colorbar\":{\"outlinewidth\":0,\"ticks\":\"\"}},\"type\":\"parcoords\"}],\"pie\":[{\"automargin\":true,\"type\":\"pie\"}],\"scatter3d\":[{\"line\":{\"colorbar\":{\"outlinewidth\":0,\"ticks\":\"\"}},\"marker\":{\"colorbar\":{\"outlinewidth\":0,\"ticks\":\"\"}},\"type\":\"scatter3d\"}],\"scattercarpet\":[{\"marker\":{\"colorbar\":{\"outlinewidth\":0,\"ticks\":\"\"}},\"type\":\"scattercarpet\"}],\"scattergeo\":[{\"marker\":{\"colorbar\":{\"outlinewidth\":0,\"ticks\":\"\"}},\"type\":\"scattergeo\"}],\"scattergl\":[{\"marker\":{\"colorbar\":{\"outlinewidth\":0,\"ticks\":\"\"}},\"type\":\"scattergl\"}],\"scattermapbox\":[{\"marker\":{\"colorbar\":{\"outlinewidth\":0,\"ticks\":\"\"}},\"type\":\"scattermapbox\"}],\"scatterpolargl\":[{\"marker\":{\"colorbar\":{\"outlinewidth\":0,\"ticks\":\"\"}},\"type\":\"scatterpolargl\"}],\"scatterpolar\":[{\"marker\":{\"colorbar\":{\"outlinewidth\":0,\"ticks\":\"\"}},\"type\":\"scatterpolar\"}],\"scatter\":[{\"fillpattern\":{\"fillmode\":\"overlay\",\"size\":10,\"solidity\":0.2},\"type\":\"scatter\"}],\"scatterternary\":[{\"marker\":{\"colorbar\":{\"outlinewidth\":0,\"ticks\":\"\"}},\"type\":\"scatterternary\"}],\"surface\":[{\"colorbar\":{\"outlinewidth\":0,\"ticks\":\"\"},\"colorscale\":[[0.0,\"#0d0887\"],[0.1111111111111111,\"#46039f\"],[0.2222222222222222,\"#7201a8\"],[0.3333333333333333,\"#9c179e\"],[0.4444444444444444,\"#bd3786\"],[0.5555555555555556,\"#d8576b\"],[0.6666666666666666,\"#ed7953\"],[0.7777777777777778,\"#fb9f3a\"],[0.8888888888888888,\"#fdca26\"],[1.0,\"#f0f921\"]],\"type\":\"surface\"}],\"table\":[{\"cells\":{\"fill\":{\"color\":\"#EBF0F8\"},\"line\":{\"color\":\"white\"}},\"header\":{\"fill\":{\"color\":\"#C8D4E3\"},\"line\":{\"color\":\"white\"}},\"type\":\"table\"}]},\"layout\":{\"annotationdefaults\":{\"arrowcolor\":\"#2a3f5f\",\"arrowhead\":0,\"arrowwidth\":1},\"autotypenumbers\":\"strict\",\"coloraxis\":{\"colorbar\":{\"outlinewidth\":0,\"ticks\":\"\"}},\"colorscale\":{\"diverging\":[[0,\"#8e0152\"],[0.1,\"#c51b7d\"],[0.2,\"#de77ae\"],[0.3,\"#f1b6da\"],[0.4,\"#fde0ef\"],[0.5,\"#f7f7f7\"],[0.6,\"#e6f5d0\"],[0.7,\"#b8e186\"],[0.8,\"#7fbc41\"],[0.9,\"#4d9221\"],[1,\"#276419\"]],\"sequential\":[[0.0,\"#0d0887\"],[0.1111111111111111,\"#46039f\"],[0.2222222222222222,\"#7201a8\"],[0.3333333333333333,\"#9c179e\"],[0.4444444444444444,\"#bd3786\"],[0.5555555555555556,\"#d8576b\"],[0.6666666666666666,\"#ed7953\"],[0.7777777777777778,\"#fb9f3a\"],[0.8888888888888888,\"#fdca26\"],[1.0,\"#f0f921\"]],\"sequentialminus\":[[0.0,\"#0d0887\"],[0.1111111111111111,\"#46039f\"],[0.2222222222222222,\"#7201a8\"],[0.3333333333333333,\"#9c179e\"],[0.4444444444444444,\"#bd3786\"],[0.5555555555555556,\"#d8576b\"],[0.6666666666666666,\"#ed7953\"],[0.7777777777777778,\"#fb9f3a\"],[0.8888888888888888,\"#fdca26\"],[1.0,\"#f0f921\"]]},\"colorway\":[\"#636efa\",\"#EF553B\",\"#00cc96\",\"#ab63fa\",\"#FFA15A\",\"#19d3f3\",\"#FF6692\",\"#B6E880\",\"#FF97FF\",\"#FECB52\"],\"font\":{\"color\":\"#2a3f5f\"},\"geo\":{\"bgcolor\":\"white\",\"lakecolor\":\"white\",\"landcolor\":\"white\",\"showlakes\":true,\"showland\":true,\"subunitcolor\":\"#C8D4E3\"},\"hoverlabel\":{\"align\":\"left\"},\"hovermode\":\"closest\",\"mapbox\":{\"style\":\"light\"},\"paper_bgcolor\":\"white\",\"plot_bgcolor\":\"white\",\"polar\":{\"angularaxis\":{\"gridcolor\":\"#EBF0F8\",\"linecolor\":\"#EBF0F8\",\"ticks\":\"\"},\"bgcolor\":\"white\",\"radialaxis\":{\"gridcolor\":\"#EBF0F8\",\"linecolor\":\"#EBF0F8\",\"ticks\":\"\"}},\"scene\":{\"xaxis\":{\"backgroundcolor\":\"white\",\"gridcolor\":\"#DFE8F3\",\"gridwidth\":2,\"linecolor\":\"#EBF0F8\",\"showbackground\":true,\"ticks\":\"\",\"zerolinecolor\":\"#EBF0F8\"},\"yaxis\":{\"backgroundcolor\":\"white\",\"gridcolor\":\"#DFE8F3\",\"gridwidth\":2,\"linecolor\":\"#EBF0F8\",\"showbackground\":true,\"ticks\":\"\",\"zerolinecolor\":\"#EBF0F8\"},\"zaxis\":{\"backgroundcolor\":\"white\",\"gridcolor\":\"#DFE8F3\",\"gridwidth\":2,\"linecolor\":\"#EBF0F8\",\"showbackground\":true,\"ticks\":\"\",\"zerolinecolor\":\"#EBF0F8\"}},\"shapedefaults\":{\"line\":{\"color\":\"#2a3f5f\"}},\"ternary\":{\"aaxis\":{\"gridcolor\":\"#DFE8F3\",\"linecolor\":\"#A2B1C6\",\"ticks\":\"\"},\"baxis\":{\"gridcolor\":\"#DFE8F3\",\"linecolor\":\"#A2B1C6\",\"ticks\":\"\"},\"bgcolor\":\"white\",\"caxis\":{\"gridcolor\":\"#DFE8F3\",\"linecolor\":\"#A2B1C6\",\"ticks\":\"\"}},\"title\":{\"x\":0.05},\"xaxis\":{\"automargin\":true,\"gridcolor\":\"#EBF0F8\",\"linecolor\":\"#EBF0F8\",\"ticks\":\"\",\"title\":{\"standoff\":15},\"zerolinecolor\":\"#EBF0F8\",\"zerolinewidth\":2},\"yaxis\":{\"automargin\":true,\"gridcolor\":\"#EBF0F8\",\"linecolor\":\"#EBF0F8\",\"ticks\":\"\",\"title\":{\"standoff\":15},\"zerolinecolor\":\"#EBF0F8\",\"zerolinewidth\":2}}},\"title\":{\"font\":{\"size\":22,\"color\":\"Black\"},\"text\":\"\\u003cb\\u003eHierarchical Clustering\\u003c\\u002fb\\u003e\",\"x\":0.5,\"xanchor\":\"center\",\"yanchor\":\"top\"},\"hoverlabel\":{\"font\":{\"size\":16,\"family\":\"Rockwell\"},\"bgcolor\":\"white\"},\"plot_bgcolor\":\"#ECEFF1\"},                        {\"responsive\": true}                    ).then(function(){\n",
       "                            \n",
       "var gd = document.getElementById('b7b8952b-cc78-4f0a-b212-0eadadc659cc');\n",
       "var x = new MutationObserver(function (mutations, observer) {{\n",
       "        var display = window.getComputedStyle(gd).display;\n",
       "        if (!display || display === 'none') {{\n",
       "            console.log([gd, 'removed!']);\n",
       "            Plotly.purge(gd);\n",
       "            observer.disconnect();\n",
       "        }}\n",
       "}});\n",
       "\n",
       "// Listen for the removal of the full notebook cells\n",
       "var notebookContainer = gd.closest('#notebook-container');\n",
       "if (notebookContainer) {{\n",
       "    x.observe(notebookContainer, {childList: true});\n",
       "}}\n",
       "\n",
       "// Listen for the clearing of the current output cell\n",
       "var outputEl = gd.closest('.output');\n",
       "if (outputEl) {{\n",
       "    x.observe(outputEl, {childList: true});\n",
       "}}\n",
       "\n",
       "                        })                };                });            </script>        </div>"
      ]
     },
     "metadata": {},
     "output_type": "display_data"
    }
   ],
   "source": [
    "topic_model.visualize_hierarchy()"
   ]
  },
  {
   "cell_type": "code",
   "execution_count": 37,
   "id": "f53d14ff",
   "metadata": {},
   "outputs": [
    {
     "data": {
      "application/vnd.plotly.v1+json": {
       "config": {
        "plotlyServerURL": "https://plot.ly"
       },
       "data": [
        {
         "marker": {
          "color": "#D55E00"
         },
         "orientation": "h",
         "type": "bar",
         "x": [
          0.025806475981368864,
          0.02677676024710531,
          0.030319809516499728,
          0.030746609741487504,
          0.051732085239202454
         ],
         "xaxis": "x",
         "y": [
          "stadt  ",
          "parkflächen  ",
          "mehr  ",
          "linien  ",
          "parkplätze  "
         ],
         "yaxis": "y"
        },
        {
         "marker": {
          "color": "#0072B2"
         },
         "orientation": "h",
         "type": "bar",
         "x": [
          0.03291685695327322,
          0.03465946155770524,
          0.03595846256103855,
          0.0401749799806604,
          0.056209121799841506
         ],
         "xaxis": "x2",
         "y": [
          "rechts  ",
          "wendenstraße  ",
          "richtung  ",
          "radfahrer  ",
          "radweg  "
         ],
         "yaxis": "y2"
        },
        {
         "marker": {
          "color": "#CC79A7"
         },
         "orientation": "h",
         "type": "bar",
         "x": [
          0.04152374437900064,
          0.04844436844216741,
          0.04844436844216741,
          0.05195714905099991,
          0.05986373760530272
         ],
         "xaxis": "x3",
         "y": [
          "stelle  ",
          "fahrbahn  ",
          "ringgleis  ",
          "fußgänger  ",
          "radfahrer  "
         ],
         "yaxis": "y3"
        },
        {
         "marker": {
          "color": "#E69F00"
         },
         "orientation": "h",
         "type": "bar",
         "x": [
          0.04051626871907672,
          0.048098995258689166,
          0.054864605015554554,
          0.055230021202301624,
          0.06198777041324749
         ],
         "xaxis": "x4",
         "y": [
          "pumptrack  ",
          "hundebesitzer  ",
          "fläche  ",
          "hundewiese  ",
          "hunde  "
         ],
         "yaxis": "y4"
        },
        {
         "marker": {
          "color": "#56B4E9"
         },
         "orientation": "h",
         "type": "bar",
         "x": [
          0.035039770565482485,
          0.035039770565482485,
          0.035039770565482485,
          0.035039770565482485,
          0.038696836461944384
         ],
         "xaxis": "x5",
         "y": [
          "boden  ",
          "hitzetage  ",
          "hitze  ",
          "grünflächen  ",
          "menschen  "
         ],
         "yaxis": "y5"
        },
        {
         "marker": {
          "color": "#009E73"
         },
         "orientation": "h",
         "type": "bar",
         "x": [
          0.04643299654023177,
          0.05342920354852936,
          0.05804124567528972,
          0.05829315792399358,
          0.06664628256814051
         ],
         "xaxis": "x6",
         "y": [
          "möchten  ",
          "spielen  ",
          "wasserspielplatz  ",
          "spielplatz  ",
          "skatepark  "
         ],
         "yaxis": "y6"
        },
        {
         "marker": {
          "color": "#F0E442"
         },
         "orientation": "h",
         "type": "bar",
         "x": [
          0.034099679160067106,
          0.034099679160067106,
          0.04269031240644182,
          0.04269031240644182,
          0.04800174928922356
         ],
         "xaxis": "x7",
         "y": [
          "projekt  ",
          "johann  ",
          "leisewitz  ",
          "tarent  ",
          "braunschweig  "
         ],
         "yaxis": "y7"
        },
        {
         "marker": {
          "color": "#D55E00"
         },
         "orientation": "h",
         "type": "bar",
         "x": [
          0.038943923274728454,
          0.038943923274728454,
          0.038943923274728454,
          0.038943923274728454,
          0.04986668169758268
         ],
         "xaxis": "x8",
         "y": [
          "st  ",
          "konzerte  ",
          "gegenstimmen  ",
          "ingbert  ",
          "lärm  "
         ],
         "yaxis": "y8"
        },
        {
         "marker": {
          "color": "#0072B2"
         },
         "orientation": "h",
         "type": "bar",
         "x": [
          0.05357243421192557,
          0.05357243421192557,
          0.05357243421192557,
          0.07397284897157415,
          0.07397284897157415
         ],
         "xaxis": "x9",
         "y": [
          "plätze  ",
          "gasse  ",
          "burgplatz  ",
          "läden  ",
          "burg  "
         ],
         "yaxis": "y9"
        },
        {
         "marker": {
          "color": "#CC79A7"
         },
         "orientation": "h",
         "type": "bar",
         "x": [
          0.05197348868263016,
          0.05197348868263016,
          0.05197348868263016,
          0.06868234207926714,
          0.06868234207926714
         ],
         "xaxis": "x10",
         "y": [
          "schülertickets  ",
          "2km  ",
          "grundschüler  ",
          "eltern  ",
          "schule  "
         ],
         "yaxis": "y10"
        },
        {
         "marker": {
          "color": "#E69F00"
         },
         "orientation": "h",
         "type": "bar",
         "x": [
          0.056883090258729965,
          0.056883090258729965,
          0.070040784107035,
          0.07374871384820707,
          0.09833161846427609
         ],
         "xaxis": "x11",
         "y": [
          "leimenweg  ",
          "vorallen  ",
          "beleuchtung  ",
          "dunkel  ",
          "led  "
         ],
         "yaxis": "y11"
        },
        {
         "marker": {
          "color": "#56B4E9"
         },
         "orientation": "h",
         "type": "bar",
         "x": [
          0.0721674462521353,
          0.07744702693204046,
          0.08248299973821542,
          0.08960345191198171,
          0.10156276922322219
         ],
         "xaxis": "x12",
         "y": [
          "gibt  ",
          "öffentliche  ",
          "löwenwall  ",
          "toiletten  ",
          "grüße  "
         ],
         "yaxis": "y12"
        },
        {
         "marker": {
          "color": "#009E73"
         },
         "orientation": "h",
         "type": "bar",
         "x": [
          0.03234885005129052,
          0.03234885005129052,
          0.0419401631469037,
          0.0419401631469037,
          0.04466731135983231
         ],
         "xaxis": "x13",
         "y": [
          "elektrobusse  ",
          "öffentlicher  ",
          "uhr  ",
          "öpnv  ",
          "elektromobilität  "
         ],
         "yaxis": "y13"
        },
        {
         "marker": {
          "color": "#F0E442"
         },
         "orientation": "h",
         "type": "bar",
         "x": [
          0.11358619610853701,
          0.11543758862085399,
          0.12945248570025475,
          0.14062763980630463,
          0.19417872855038212
         ],
         "xaxis": "x14",
         "y": [
          "bereich  ",
          "rathaus  ",
          "schloss  ",
          "vorallem  ",
          "vorm  "
         ],
         "yaxis": "y14"
        },
        {
         "marker": {
          "color": "#D55E00"
         },
         "orientation": "h",
         "type": "bar",
         "x": [
          0.05852711020840424,
          0.05852711020840424,
          0.05852711020840424,
          0.060314885944478897,
          0.08845158321560005
         ],
         "xaxis": "x15",
         "y": [
          "abgesperrt  ",
          "baumkranz  ",
          "raabe  ",
          "innen  ",
          "fahrräder  "
         ],
         "yaxis": "y15"
        },
        {
         "marker": {
          "color": "#0072B2"
         },
         "orientation": "h",
         "type": "bar",
         "x": [
          0.0849661557603939,
          0.09049105796522662,
          0.09049105796522662,
          0.0983028161752809,
          0.11142323225460299
         ],
         "xaxis": "x16",
         "y": [
          "sinn  ",
          "zone  ",
          "grüne  ",
          "30er  ",
          "tempo  "
         ],
         "yaxis": "y16"
        },
        {
         "marker": {
          "color": "#CC79A7"
         },
         "orientation": "h",
         "type": "bar",
         "x": [
          0.09512515264478882,
          0.09681212058654935,
          0.10131064098280806,
          0.11005641376145579,
          0.14268772896718324
         ],
         "xaxis": "x17",
         "y": [
          "kinderwagen  ",
          "autos  ",
          "anforderung  ",
          "selten  ",
          "übergang  "
         ],
         "yaxis": "y17"
        },
        {
         "marker": {
          "color": "#E69F00"
         },
         "orientation": "h",
         "type": "bar",
         "x": [
          0.08804513100916464,
          0.08804513100916464,
          0.0963941740138584,
          0.10373638764954043,
          0.15220024423166212
         ],
         "xaxis": "x18",
         "y": [
          "hierbei  ",
          "5t  ",
          "weiterhin  ",
          "pkw  ",
          "lkw  "
         ],
         "yaxis": "y18"
        },
        {
         "marker": {
          "color": "#56B4E9"
         },
         "orientation": "h",
         "type": "bar",
         "x": [
          0.10459222979682968,
          0.1100546884443907,
          0.12212154548718367,
          0.15111829783093614,
          0.18409436483734423
         ],
         "xaxis": "x19",
         "y": [
          "wilhelmsgarten  ",
          "kommt  ",
          "straße  ",
          "eng  ",
          "vielzahl  "
         ],
         "yaxis": "y19"
        },
        {
         "marker": {
          "color": "#009E73"
         },
         "orientation": "h",
         "type": "bar",
         "x": [
          0.20544902281520117,
          0.20544902281520117,
          0.20544902281520117,
          0.20544902281520117,
          0.33287782037208363
         ],
         "xaxis": "x20",
         "y": [
          "hebbelstraße  ",
          "sprich  ",
          "sicheren  ",
          "aufstellen  ",
          "lehmanger  "
         ],
         "yaxis": "y20"
        }
       ],
       "layout": {
        "annotations": [
         {
          "font": {
           "size": 16
          },
          "showarrow": false,
          "text": "Topic 0",
          "x": 0.0875,
          "xanchor": "center",
          "xref": "paper",
          "y": 0.9999999999999999,
          "yanchor": "bottom",
          "yref": "paper"
         },
         {
          "font": {
           "size": 16
          },
          "showarrow": false,
          "text": "Topic 1",
          "x": 0.36250000000000004,
          "xanchor": "center",
          "xref": "paper",
          "y": 0.9999999999999999,
          "yanchor": "bottom",
          "yref": "paper"
         },
         {
          "font": {
           "size": 16
          },
          "showarrow": false,
          "text": "Topic 2",
          "x": 0.6375000000000001,
          "xanchor": "center",
          "xref": "paper",
          "y": 0.9999999999999999,
          "yanchor": "bottom",
          "yref": "paper"
         },
         {
          "font": {
           "size": 16
          },
          "showarrow": false,
          "text": "Topic 3",
          "x": 0.9125,
          "xanchor": "center",
          "xref": "paper",
          "y": 0.9999999999999999,
          "yanchor": "bottom",
          "yref": "paper"
         },
         {
          "font": {
           "size": 16
          },
          "showarrow": false,
          "text": "Topic 4",
          "x": 0.0875,
          "xanchor": "center",
          "xref": "paper",
          "y": 0.7839999999999999,
          "yanchor": "bottom",
          "yref": "paper"
         },
         {
          "font": {
           "size": 16
          },
          "showarrow": false,
          "text": "Topic 5",
          "x": 0.36250000000000004,
          "xanchor": "center",
          "xref": "paper",
          "y": 0.7839999999999999,
          "yanchor": "bottom",
          "yref": "paper"
         },
         {
          "font": {
           "size": 16
          },
          "showarrow": false,
          "text": "Topic 6",
          "x": 0.6375000000000001,
          "xanchor": "center",
          "xref": "paper",
          "y": 0.7839999999999999,
          "yanchor": "bottom",
          "yref": "paper"
         },
         {
          "font": {
           "size": 16
          },
          "showarrow": false,
          "text": "Topic 7",
          "x": 0.9125,
          "xanchor": "center",
          "xref": "paper",
          "y": 0.7839999999999999,
          "yanchor": "bottom",
          "yref": "paper"
         },
         {
          "font": {
           "size": 16
          },
          "showarrow": false,
          "text": "Topic 8",
          "x": 0.0875,
          "xanchor": "center",
          "xref": "paper",
          "y": 0.568,
          "yanchor": "bottom",
          "yref": "paper"
         },
         {
          "font": {
           "size": 16
          },
          "showarrow": false,
          "text": "Topic 9",
          "x": 0.36250000000000004,
          "xanchor": "center",
          "xref": "paper",
          "y": 0.568,
          "yanchor": "bottom",
          "yref": "paper"
         },
         {
          "font": {
           "size": 16
          },
          "showarrow": false,
          "text": "Topic 10",
          "x": 0.6375000000000001,
          "xanchor": "center",
          "xref": "paper",
          "y": 0.568,
          "yanchor": "bottom",
          "yref": "paper"
         },
         {
          "font": {
           "size": 16
          },
          "showarrow": false,
          "text": "Topic 11",
          "x": 0.9125,
          "xanchor": "center",
          "xref": "paper",
          "y": 0.568,
          "yanchor": "bottom",
          "yref": "paper"
         },
         {
          "font": {
           "size": 16
          },
          "showarrow": false,
          "text": "Topic 12",
          "x": 0.0875,
          "xanchor": "center",
          "xref": "paper",
          "y": 0.352,
          "yanchor": "bottom",
          "yref": "paper"
         },
         {
          "font": {
           "size": 16
          },
          "showarrow": false,
          "text": "Topic 13",
          "x": 0.36250000000000004,
          "xanchor": "center",
          "xref": "paper",
          "y": 0.352,
          "yanchor": "bottom",
          "yref": "paper"
         },
         {
          "font": {
           "size": 16
          },
          "showarrow": false,
          "text": "Topic 14",
          "x": 0.6375000000000001,
          "xanchor": "center",
          "xref": "paper",
          "y": 0.352,
          "yanchor": "bottom",
          "yref": "paper"
         },
         {
          "font": {
           "size": 16
          },
          "showarrow": false,
          "text": "Topic 15",
          "x": 0.9125,
          "xanchor": "center",
          "xref": "paper",
          "y": 0.352,
          "yanchor": "bottom",
          "yref": "paper"
         },
         {
          "font": {
           "size": 16
          },
          "showarrow": false,
          "text": "Topic 16",
          "x": 0.0875,
          "xanchor": "center",
          "xref": "paper",
          "y": 0.13599999999999998,
          "yanchor": "bottom",
          "yref": "paper"
         },
         {
          "font": {
           "size": 16
          },
          "showarrow": false,
          "text": "Topic 17",
          "x": 0.36250000000000004,
          "xanchor": "center",
          "xref": "paper",
          "y": 0.13599999999999998,
          "yanchor": "bottom",
          "yref": "paper"
         },
         {
          "font": {
           "size": 16
          },
          "showarrow": false,
          "text": "Topic 18",
          "x": 0.6375000000000001,
          "xanchor": "center",
          "xref": "paper",
          "y": 0.13599999999999998,
          "yanchor": "bottom",
          "yref": "paper"
         },
         {
          "font": {
           "size": 16
          },
          "showarrow": false,
          "text": "Topic 19",
          "x": 0.9125,
          "xanchor": "center",
          "xref": "paper",
          "y": 0.13599999999999998,
          "yanchor": "bottom",
          "yref": "paper"
         }
        ],
        "height": 1250,
        "hoverlabel": {
         "bgcolor": "white",
         "font": {
          "family": "Rockwell",
          "size": 16
         }
        },
        "showlegend": false,
        "template": {
         "data": {
          "bar": [
           {
            "error_x": {
             "color": "#2a3f5f"
            },
            "error_y": {
             "color": "#2a3f5f"
            },
            "marker": {
             "line": {
              "color": "white",
              "width": 0.5
             },
             "pattern": {
              "fillmode": "overlay",
              "size": 10,
              "solidity": 0.2
             }
            },
            "type": "bar"
           }
          ],
          "barpolar": [
           {
            "marker": {
             "line": {
              "color": "white",
              "width": 0.5
             },
             "pattern": {
              "fillmode": "overlay",
              "size": 10,
              "solidity": 0.2
             }
            },
            "type": "barpolar"
           }
          ],
          "carpet": [
           {
            "aaxis": {
             "endlinecolor": "#2a3f5f",
             "gridcolor": "#C8D4E3",
             "linecolor": "#C8D4E3",
             "minorgridcolor": "#C8D4E3",
             "startlinecolor": "#2a3f5f"
            },
            "baxis": {
             "endlinecolor": "#2a3f5f",
             "gridcolor": "#C8D4E3",
             "linecolor": "#C8D4E3",
             "minorgridcolor": "#C8D4E3",
             "startlinecolor": "#2a3f5f"
            },
            "type": "carpet"
           }
          ],
          "choropleth": [
           {
            "colorbar": {
             "outlinewidth": 0,
             "ticks": ""
            },
            "type": "choropleth"
           }
          ],
          "contour": [
           {
            "colorbar": {
             "outlinewidth": 0,
             "ticks": ""
            },
            "colorscale": [
             [
              0,
              "#0d0887"
             ],
             [
              0.1111111111111111,
              "#46039f"
             ],
             [
              0.2222222222222222,
              "#7201a8"
             ],
             [
              0.3333333333333333,
              "#9c179e"
             ],
             [
              0.4444444444444444,
              "#bd3786"
             ],
             [
              0.5555555555555556,
              "#d8576b"
             ],
             [
              0.6666666666666666,
              "#ed7953"
             ],
             [
              0.7777777777777778,
              "#fb9f3a"
             ],
             [
              0.8888888888888888,
              "#fdca26"
             ],
             [
              1,
              "#f0f921"
             ]
            ],
            "type": "contour"
           }
          ],
          "contourcarpet": [
           {
            "colorbar": {
             "outlinewidth": 0,
             "ticks": ""
            },
            "type": "contourcarpet"
           }
          ],
          "heatmap": [
           {
            "colorbar": {
             "outlinewidth": 0,
             "ticks": ""
            },
            "colorscale": [
             [
              0,
              "#0d0887"
             ],
             [
              0.1111111111111111,
              "#46039f"
             ],
             [
              0.2222222222222222,
              "#7201a8"
             ],
             [
              0.3333333333333333,
              "#9c179e"
             ],
             [
              0.4444444444444444,
              "#bd3786"
             ],
             [
              0.5555555555555556,
              "#d8576b"
             ],
             [
              0.6666666666666666,
              "#ed7953"
             ],
             [
              0.7777777777777778,
              "#fb9f3a"
             ],
             [
              0.8888888888888888,
              "#fdca26"
             ],
             [
              1,
              "#f0f921"
             ]
            ],
            "type": "heatmap"
           }
          ],
          "heatmapgl": [
           {
            "colorbar": {
             "outlinewidth": 0,
             "ticks": ""
            },
            "colorscale": [
             [
              0,
              "#0d0887"
             ],
             [
              0.1111111111111111,
              "#46039f"
             ],
             [
              0.2222222222222222,
              "#7201a8"
             ],
             [
              0.3333333333333333,
              "#9c179e"
             ],
             [
              0.4444444444444444,
              "#bd3786"
             ],
             [
              0.5555555555555556,
              "#d8576b"
             ],
             [
              0.6666666666666666,
              "#ed7953"
             ],
             [
              0.7777777777777778,
              "#fb9f3a"
             ],
             [
              0.8888888888888888,
              "#fdca26"
             ],
             [
              1,
              "#f0f921"
             ]
            ],
            "type": "heatmapgl"
           }
          ],
          "histogram": [
           {
            "marker": {
             "pattern": {
              "fillmode": "overlay",
              "size": 10,
              "solidity": 0.2
             }
            },
            "type": "histogram"
           }
          ],
          "histogram2d": [
           {
            "colorbar": {
             "outlinewidth": 0,
             "ticks": ""
            },
            "colorscale": [
             [
              0,
              "#0d0887"
             ],
             [
              0.1111111111111111,
              "#46039f"
             ],
             [
              0.2222222222222222,
              "#7201a8"
             ],
             [
              0.3333333333333333,
              "#9c179e"
             ],
             [
              0.4444444444444444,
              "#bd3786"
             ],
             [
              0.5555555555555556,
              "#d8576b"
             ],
             [
              0.6666666666666666,
              "#ed7953"
             ],
             [
              0.7777777777777778,
              "#fb9f3a"
             ],
             [
              0.8888888888888888,
              "#fdca26"
             ],
             [
              1,
              "#f0f921"
             ]
            ],
            "type": "histogram2d"
           }
          ],
          "histogram2dcontour": [
           {
            "colorbar": {
             "outlinewidth": 0,
             "ticks": ""
            },
            "colorscale": [
             [
              0,
              "#0d0887"
             ],
             [
              0.1111111111111111,
              "#46039f"
             ],
             [
              0.2222222222222222,
              "#7201a8"
             ],
             [
              0.3333333333333333,
              "#9c179e"
             ],
             [
              0.4444444444444444,
              "#bd3786"
             ],
             [
              0.5555555555555556,
              "#d8576b"
             ],
             [
              0.6666666666666666,
              "#ed7953"
             ],
             [
              0.7777777777777778,
              "#fb9f3a"
             ],
             [
              0.8888888888888888,
              "#fdca26"
             ],
             [
              1,
              "#f0f921"
             ]
            ],
            "type": "histogram2dcontour"
           }
          ],
          "mesh3d": [
           {
            "colorbar": {
             "outlinewidth": 0,
             "ticks": ""
            },
            "type": "mesh3d"
           }
          ],
          "parcoords": [
           {
            "line": {
             "colorbar": {
              "outlinewidth": 0,
              "ticks": ""
             }
            },
            "type": "parcoords"
           }
          ],
          "pie": [
           {
            "automargin": true,
            "type": "pie"
           }
          ],
          "scatter": [
           {
            "fillpattern": {
             "fillmode": "overlay",
             "size": 10,
             "solidity": 0.2
            },
            "type": "scatter"
           }
          ],
          "scatter3d": [
           {
            "line": {
             "colorbar": {
              "outlinewidth": 0,
              "ticks": ""
             }
            },
            "marker": {
             "colorbar": {
              "outlinewidth": 0,
              "ticks": ""
             }
            },
            "type": "scatter3d"
           }
          ],
          "scattercarpet": [
           {
            "marker": {
             "colorbar": {
              "outlinewidth": 0,
              "ticks": ""
             }
            },
            "type": "scattercarpet"
           }
          ],
          "scattergeo": [
           {
            "marker": {
             "colorbar": {
              "outlinewidth": 0,
              "ticks": ""
             }
            },
            "type": "scattergeo"
           }
          ],
          "scattergl": [
           {
            "marker": {
             "colorbar": {
              "outlinewidth": 0,
              "ticks": ""
             }
            },
            "type": "scattergl"
           }
          ],
          "scattermapbox": [
           {
            "marker": {
             "colorbar": {
              "outlinewidth": 0,
              "ticks": ""
             }
            },
            "type": "scattermapbox"
           }
          ],
          "scatterpolar": [
           {
            "marker": {
             "colorbar": {
              "outlinewidth": 0,
              "ticks": ""
             }
            },
            "type": "scatterpolar"
           }
          ],
          "scatterpolargl": [
           {
            "marker": {
             "colorbar": {
              "outlinewidth": 0,
              "ticks": ""
             }
            },
            "type": "scatterpolargl"
           }
          ],
          "scatterternary": [
           {
            "marker": {
             "colorbar": {
              "outlinewidth": 0,
              "ticks": ""
             }
            },
            "type": "scatterternary"
           }
          ],
          "surface": [
           {
            "colorbar": {
             "outlinewidth": 0,
             "ticks": ""
            },
            "colorscale": [
             [
              0,
              "#0d0887"
             ],
             [
              0.1111111111111111,
              "#46039f"
             ],
             [
              0.2222222222222222,
              "#7201a8"
             ],
             [
              0.3333333333333333,
              "#9c179e"
             ],
             [
              0.4444444444444444,
              "#bd3786"
             ],
             [
              0.5555555555555556,
              "#d8576b"
             ],
             [
              0.6666666666666666,
              "#ed7953"
             ],
             [
              0.7777777777777778,
              "#fb9f3a"
             ],
             [
              0.8888888888888888,
              "#fdca26"
             ],
             [
              1,
              "#f0f921"
             ]
            ],
            "type": "surface"
           }
          ],
          "table": [
           {
            "cells": {
             "fill": {
              "color": "#EBF0F8"
             },
             "line": {
              "color": "white"
             }
            },
            "header": {
             "fill": {
              "color": "#C8D4E3"
             },
             "line": {
              "color": "white"
             }
            },
            "type": "table"
           }
          ]
         },
         "layout": {
          "annotationdefaults": {
           "arrowcolor": "#2a3f5f",
           "arrowhead": 0,
           "arrowwidth": 1
          },
          "autotypenumbers": "strict",
          "coloraxis": {
           "colorbar": {
            "outlinewidth": 0,
            "ticks": ""
           }
          },
          "colorscale": {
           "diverging": [
            [
             0,
             "#8e0152"
            ],
            [
             0.1,
             "#c51b7d"
            ],
            [
             0.2,
             "#de77ae"
            ],
            [
             0.3,
             "#f1b6da"
            ],
            [
             0.4,
             "#fde0ef"
            ],
            [
             0.5,
             "#f7f7f7"
            ],
            [
             0.6,
             "#e6f5d0"
            ],
            [
             0.7,
             "#b8e186"
            ],
            [
             0.8,
             "#7fbc41"
            ],
            [
             0.9,
             "#4d9221"
            ],
            [
             1,
             "#276419"
            ]
           ],
           "sequential": [
            [
             0,
             "#0d0887"
            ],
            [
             0.1111111111111111,
             "#46039f"
            ],
            [
             0.2222222222222222,
             "#7201a8"
            ],
            [
             0.3333333333333333,
             "#9c179e"
            ],
            [
             0.4444444444444444,
             "#bd3786"
            ],
            [
             0.5555555555555556,
             "#d8576b"
            ],
            [
             0.6666666666666666,
             "#ed7953"
            ],
            [
             0.7777777777777778,
             "#fb9f3a"
            ],
            [
             0.8888888888888888,
             "#fdca26"
            ],
            [
             1,
             "#f0f921"
            ]
           ],
           "sequentialminus": [
            [
             0,
             "#0d0887"
            ],
            [
             0.1111111111111111,
             "#46039f"
            ],
            [
             0.2222222222222222,
             "#7201a8"
            ],
            [
             0.3333333333333333,
             "#9c179e"
            ],
            [
             0.4444444444444444,
             "#bd3786"
            ],
            [
             0.5555555555555556,
             "#d8576b"
            ],
            [
             0.6666666666666666,
             "#ed7953"
            ],
            [
             0.7777777777777778,
             "#fb9f3a"
            ],
            [
             0.8888888888888888,
             "#fdca26"
            ],
            [
             1,
             "#f0f921"
            ]
           ]
          },
          "colorway": [
           "#636efa",
           "#EF553B",
           "#00cc96",
           "#ab63fa",
           "#FFA15A",
           "#19d3f3",
           "#FF6692",
           "#B6E880",
           "#FF97FF",
           "#FECB52"
          ],
          "font": {
           "color": "#2a3f5f"
          },
          "geo": {
           "bgcolor": "white",
           "lakecolor": "white",
           "landcolor": "white",
           "showlakes": true,
           "showland": true,
           "subunitcolor": "#C8D4E3"
          },
          "hoverlabel": {
           "align": "left"
          },
          "hovermode": "closest",
          "mapbox": {
           "style": "light"
          },
          "paper_bgcolor": "white",
          "plot_bgcolor": "white",
          "polar": {
           "angularaxis": {
            "gridcolor": "#EBF0F8",
            "linecolor": "#EBF0F8",
            "ticks": ""
           },
           "bgcolor": "white",
           "radialaxis": {
            "gridcolor": "#EBF0F8",
            "linecolor": "#EBF0F8",
            "ticks": ""
           }
          },
          "scene": {
           "xaxis": {
            "backgroundcolor": "white",
            "gridcolor": "#DFE8F3",
            "gridwidth": 2,
            "linecolor": "#EBF0F8",
            "showbackground": true,
            "ticks": "",
            "zerolinecolor": "#EBF0F8"
           },
           "yaxis": {
            "backgroundcolor": "white",
            "gridcolor": "#DFE8F3",
            "gridwidth": 2,
            "linecolor": "#EBF0F8",
            "showbackground": true,
            "ticks": "",
            "zerolinecolor": "#EBF0F8"
           },
           "zaxis": {
            "backgroundcolor": "white",
            "gridcolor": "#DFE8F3",
            "gridwidth": 2,
            "linecolor": "#EBF0F8",
            "showbackground": true,
            "ticks": "",
            "zerolinecolor": "#EBF0F8"
           }
          },
          "shapedefaults": {
           "line": {
            "color": "#2a3f5f"
           }
          },
          "ternary": {
           "aaxis": {
            "gridcolor": "#DFE8F3",
            "linecolor": "#A2B1C6",
            "ticks": ""
           },
           "baxis": {
            "gridcolor": "#DFE8F3",
            "linecolor": "#A2B1C6",
            "ticks": ""
           },
           "bgcolor": "white",
           "caxis": {
            "gridcolor": "#DFE8F3",
            "linecolor": "#A2B1C6",
            "ticks": ""
           }
          },
          "title": {
           "x": 0.05
          },
          "xaxis": {
           "automargin": true,
           "gridcolor": "#EBF0F8",
           "linecolor": "#EBF0F8",
           "ticks": "",
           "title": {
            "standoff": 15
           },
           "zerolinecolor": "#EBF0F8",
           "zerolinewidth": 2
          },
          "yaxis": {
           "automargin": true,
           "gridcolor": "#EBF0F8",
           "linecolor": "#EBF0F8",
           "ticks": "",
           "title": {
            "standoff": 15
           },
           "zerolinecolor": "#EBF0F8",
           "zerolinewidth": 2
          }
         }
        },
        "title": {
         "font": {
          "color": "Black",
          "size": 22
         },
         "text": "Topic Word Scores",
         "x": 0.5,
         "xanchor": "center",
         "yanchor": "top"
        },
        "width": 1000,
        "xaxis": {
         "anchor": "y",
         "domain": [
          0,
          0.175
         ],
         "showgrid": true
        },
        "xaxis10": {
         "anchor": "y10",
         "domain": [
          0.275,
          0.45
         ],
         "showgrid": true
        },
        "xaxis11": {
         "anchor": "y11",
         "domain": [
          0.55,
          0.7250000000000001
         ],
         "showgrid": true
        },
        "xaxis12": {
         "anchor": "y12",
         "domain": [
          0.825,
          1
         ],
         "showgrid": true
        },
        "xaxis13": {
         "anchor": "y13",
         "domain": [
          0,
          0.175
         ],
         "showgrid": true
        },
        "xaxis14": {
         "anchor": "y14",
         "domain": [
          0.275,
          0.45
         ],
         "showgrid": true
        },
        "xaxis15": {
         "anchor": "y15",
         "domain": [
          0.55,
          0.7250000000000001
         ],
         "showgrid": true
        },
        "xaxis16": {
         "anchor": "y16",
         "domain": [
          0.825,
          1
         ],
         "showgrid": true
        },
        "xaxis17": {
         "anchor": "y17",
         "domain": [
          0,
          0.175
         ],
         "showgrid": true
        },
        "xaxis18": {
         "anchor": "y18",
         "domain": [
          0.275,
          0.45
         ],
         "showgrid": true
        },
        "xaxis19": {
         "anchor": "y19",
         "domain": [
          0.55,
          0.7250000000000001
         ],
         "showgrid": true
        },
        "xaxis2": {
         "anchor": "y2",
         "domain": [
          0.275,
          0.45
         ],
         "showgrid": true
        },
        "xaxis20": {
         "anchor": "y20",
         "domain": [
          0.825,
          1
         ],
         "showgrid": true
        },
        "xaxis3": {
         "anchor": "y3",
         "domain": [
          0.55,
          0.7250000000000001
         ],
         "showgrid": true
        },
        "xaxis4": {
         "anchor": "y4",
         "domain": [
          0.825,
          1
         ],
         "showgrid": true
        },
        "xaxis5": {
         "anchor": "y5",
         "domain": [
          0,
          0.175
         ],
         "showgrid": true
        },
        "xaxis6": {
         "anchor": "y6",
         "domain": [
          0.275,
          0.45
         ],
         "showgrid": true
        },
        "xaxis7": {
         "anchor": "y7",
         "domain": [
          0.55,
          0.7250000000000001
         ],
         "showgrid": true
        },
        "xaxis8": {
         "anchor": "y8",
         "domain": [
          0.825,
          1
         ],
         "showgrid": true
        },
        "xaxis9": {
         "anchor": "y9",
         "domain": [
          0,
          0.175
         ],
         "showgrid": true
        },
        "yaxis": {
         "anchor": "x",
         "domain": [
          0.8639999999999999,
          0.9999999999999999
         ],
         "showgrid": true
        },
        "yaxis10": {
         "anchor": "x10",
         "domain": [
          0.43199999999999994,
          0.568
         ],
         "showgrid": true
        },
        "yaxis11": {
         "anchor": "x11",
         "domain": [
          0.43199999999999994,
          0.568
         ],
         "showgrid": true
        },
        "yaxis12": {
         "anchor": "x12",
         "domain": [
          0.43199999999999994,
          0.568
         ],
         "showgrid": true
        },
        "yaxis13": {
         "anchor": "x13",
         "domain": [
          0.21599999999999997,
          0.352
         ],
         "showgrid": true
        },
        "yaxis14": {
         "anchor": "x14",
         "domain": [
          0.21599999999999997,
          0.352
         ],
         "showgrid": true
        },
        "yaxis15": {
         "anchor": "x15",
         "domain": [
          0.21599999999999997,
          0.352
         ],
         "showgrid": true
        },
        "yaxis16": {
         "anchor": "x16",
         "domain": [
          0.21599999999999997,
          0.352
         ],
         "showgrid": true
        },
        "yaxis17": {
         "anchor": "x17",
         "domain": [
          0,
          0.13599999999999998
         ],
         "showgrid": true
        },
        "yaxis18": {
         "anchor": "x18",
         "domain": [
          0,
          0.13599999999999998
         ],
         "showgrid": true
        },
        "yaxis19": {
         "anchor": "x19",
         "domain": [
          0,
          0.13599999999999998
         ],
         "showgrid": true
        },
        "yaxis2": {
         "anchor": "x2",
         "domain": [
          0.8639999999999999,
          0.9999999999999999
         ],
         "showgrid": true
        },
        "yaxis20": {
         "anchor": "x20",
         "domain": [
          0,
          0.13599999999999998
         ],
         "showgrid": true
        },
        "yaxis3": {
         "anchor": "x3",
         "domain": [
          0.8639999999999999,
          0.9999999999999999
         ],
         "showgrid": true
        },
        "yaxis4": {
         "anchor": "x4",
         "domain": [
          0.8639999999999999,
          0.9999999999999999
         ],
         "showgrid": true
        },
        "yaxis5": {
         "anchor": "x5",
         "domain": [
          0.6479999999999999,
          0.7839999999999999
         ],
         "showgrid": true
        },
        "yaxis6": {
         "anchor": "x6",
         "domain": [
          0.6479999999999999,
          0.7839999999999999
         ],
         "showgrid": true
        },
        "yaxis7": {
         "anchor": "x7",
         "domain": [
          0.6479999999999999,
          0.7839999999999999
         ],
         "showgrid": true
        },
        "yaxis8": {
         "anchor": "x8",
         "domain": [
          0.6479999999999999,
          0.7839999999999999
         ],
         "showgrid": true
        },
        "yaxis9": {
         "anchor": "x9",
         "domain": [
          0.43199999999999994,
          0.568
         ],
         "showgrid": true
        }
       }
      },
      "text/html": [
       "<div>                            <div id=\"70d68f00-db4b-406d-ab93-5306c2324d92\" class=\"plotly-graph-div\" style=\"height:1250px; width:1000px;\"></div>            <script type=\"text/javascript\">                require([\"plotly\"], function(Plotly) {                    window.PLOTLYENV=window.PLOTLYENV || {};                                    if (document.getElementById(\"70d68f00-db4b-406d-ab93-5306c2324d92\")) {                    Plotly.newPlot(                        \"70d68f00-db4b-406d-ab93-5306c2324d92\",                        [{\"marker\":{\"color\":\"#D55E00\"},\"orientation\":\"h\",\"x\":[0.025806475981368864,0.02677676024710531,0.030319809516499728,0.030746609741487504,0.051732085239202454],\"y\":[\"stadt  \",\"parkflächen  \",\"mehr  \",\"linien  \",\"parkplätze  \"],\"type\":\"bar\",\"xaxis\":\"x\",\"yaxis\":\"y\"},{\"marker\":{\"color\":\"#0072B2\"},\"orientation\":\"h\",\"x\":[0.03291685695327322,0.03465946155770524,0.03595846256103855,0.0401749799806604,0.056209121799841506],\"y\":[\"rechts  \",\"wendenstraße  \",\"richtung  \",\"radfahrer  \",\"radweg  \"],\"type\":\"bar\",\"xaxis\":\"x2\",\"yaxis\":\"y2\"},{\"marker\":{\"color\":\"#CC79A7\"},\"orientation\":\"h\",\"x\":[0.04152374437900064,0.04844436844216741,0.04844436844216741,0.05195714905099991,0.05986373760530272],\"y\":[\"stelle  \",\"fahrbahn  \",\"ringgleis  \",\"fußgänger  \",\"radfahrer  \"],\"type\":\"bar\",\"xaxis\":\"x3\",\"yaxis\":\"y3\"},{\"marker\":{\"color\":\"#E69F00\"},\"orientation\":\"h\",\"x\":[0.04051626871907672,0.048098995258689166,0.054864605015554554,0.055230021202301624,0.06198777041324749],\"y\":[\"pumptrack  \",\"hundebesitzer  \",\"fläche  \",\"hundewiese  \",\"hunde  \"],\"type\":\"bar\",\"xaxis\":\"x4\",\"yaxis\":\"y4\"},{\"marker\":{\"color\":\"#56B4E9\"},\"orientation\":\"h\",\"x\":[0.035039770565482485,0.035039770565482485,0.035039770565482485,0.035039770565482485,0.038696836461944384],\"y\":[\"boden  \",\"hitzetage  \",\"hitze  \",\"grünflächen  \",\"menschen  \"],\"type\":\"bar\",\"xaxis\":\"x5\",\"yaxis\":\"y5\"},{\"marker\":{\"color\":\"#009E73\"},\"orientation\":\"h\",\"x\":[0.04643299654023177,0.05342920354852936,0.05804124567528972,0.05829315792399358,0.06664628256814051],\"y\":[\"möchten  \",\"spielen  \",\"wasserspielplatz  \",\"spielplatz  \",\"skatepark  \"],\"type\":\"bar\",\"xaxis\":\"x6\",\"yaxis\":\"y6\"},{\"marker\":{\"color\":\"#F0E442\"},\"orientation\":\"h\",\"x\":[0.034099679160067106,0.034099679160067106,0.04269031240644182,0.04269031240644182,0.04800174928922356],\"y\":[\"projekt  \",\"johann  \",\"leisewitz  \",\"tarent  \",\"braunschweig  \"],\"type\":\"bar\",\"xaxis\":\"x7\",\"yaxis\":\"y7\"},{\"marker\":{\"color\":\"#D55E00\"},\"orientation\":\"h\",\"x\":[0.038943923274728454,0.038943923274728454,0.038943923274728454,0.038943923274728454,0.04986668169758268],\"y\":[\"st  \",\"konzerte  \",\"gegenstimmen  \",\"ingbert  \",\"lärm  \"],\"type\":\"bar\",\"xaxis\":\"x8\",\"yaxis\":\"y8\"},{\"marker\":{\"color\":\"#0072B2\"},\"orientation\":\"h\",\"x\":[0.05357243421192557,0.05357243421192557,0.05357243421192557,0.07397284897157415,0.07397284897157415],\"y\":[\"plätze  \",\"gasse  \",\"burgplatz  \",\"läden  \",\"burg  \"],\"type\":\"bar\",\"xaxis\":\"x9\",\"yaxis\":\"y9\"},{\"marker\":{\"color\":\"#CC79A7\"},\"orientation\":\"h\",\"x\":[0.05197348868263016,0.05197348868263016,0.05197348868263016,0.06868234207926714,0.06868234207926714],\"y\":[\"schülertickets  \",\"2km  \",\"grundschüler  \",\"eltern  \",\"schule  \"],\"type\":\"bar\",\"xaxis\":\"x10\",\"yaxis\":\"y10\"},{\"marker\":{\"color\":\"#E69F00\"},\"orientation\":\"h\",\"x\":[0.056883090258729965,0.056883090258729965,0.070040784107035,0.07374871384820707,0.09833161846427609],\"y\":[\"leimenweg  \",\"vorallen  \",\"beleuchtung  \",\"dunkel  \",\"led  \"],\"type\":\"bar\",\"xaxis\":\"x11\",\"yaxis\":\"y11\"},{\"marker\":{\"color\":\"#56B4E9\"},\"orientation\":\"h\",\"x\":[0.0721674462521353,0.07744702693204046,0.08248299973821542,0.08960345191198171,0.10156276922322219],\"y\":[\"gibt  \",\"öffentliche  \",\"löwenwall  \",\"toiletten  \",\"grüße  \"],\"type\":\"bar\",\"xaxis\":\"x12\",\"yaxis\":\"y12\"},{\"marker\":{\"color\":\"#009E73\"},\"orientation\":\"h\",\"x\":[0.03234885005129052,0.03234885005129052,0.0419401631469037,0.0419401631469037,0.04466731135983231],\"y\":[\"elektrobusse  \",\"öffentlicher  \",\"uhr  \",\"öpnv  \",\"elektromobilität  \"],\"type\":\"bar\",\"xaxis\":\"x13\",\"yaxis\":\"y13\"},{\"marker\":{\"color\":\"#F0E442\"},\"orientation\":\"h\",\"x\":[0.11358619610853701,0.11543758862085399,0.12945248570025475,0.14062763980630463,0.19417872855038212],\"y\":[\"bereich  \",\"rathaus  \",\"schloss  \",\"vorallem  \",\"vorm  \"],\"type\":\"bar\",\"xaxis\":\"x14\",\"yaxis\":\"y14\"},{\"marker\":{\"color\":\"#D55E00\"},\"orientation\":\"h\",\"x\":[0.05852711020840424,0.05852711020840424,0.05852711020840424,0.060314885944478897,0.08845158321560005],\"y\":[\"abgesperrt  \",\"baumkranz  \",\"raabe  \",\"innen  \",\"fahrräder  \"],\"type\":\"bar\",\"xaxis\":\"x15\",\"yaxis\":\"y15\"},{\"marker\":{\"color\":\"#0072B2\"},\"orientation\":\"h\",\"x\":[0.0849661557603939,0.09049105796522662,0.09049105796522662,0.0983028161752809,0.11142323225460299],\"y\":[\"sinn  \",\"zone  \",\"grüne  \",\"30er  \",\"tempo  \"],\"type\":\"bar\",\"xaxis\":\"x16\",\"yaxis\":\"y16\"},{\"marker\":{\"color\":\"#CC79A7\"},\"orientation\":\"h\",\"x\":[0.09512515264478882,0.09681212058654935,0.10131064098280806,0.11005641376145579,0.14268772896718324],\"y\":[\"kinderwagen  \",\"autos  \",\"anforderung  \",\"selten  \",\"übergang  \"],\"type\":\"bar\",\"xaxis\":\"x17\",\"yaxis\":\"y17\"},{\"marker\":{\"color\":\"#E69F00\"},\"orientation\":\"h\",\"x\":[0.08804513100916464,0.08804513100916464,0.0963941740138584,0.10373638764954043,0.15220024423166212],\"y\":[\"hierbei  \",\"5t  \",\"weiterhin  \",\"pkw  \",\"lkw  \"],\"type\":\"bar\",\"xaxis\":\"x18\",\"yaxis\":\"y18\"},{\"marker\":{\"color\":\"#56B4E9\"},\"orientation\":\"h\",\"x\":[0.10459222979682968,0.1100546884443907,0.12212154548718367,0.15111829783093614,0.18409436483734423],\"y\":[\"wilhelmsgarten  \",\"kommt  \",\"straße  \",\"eng  \",\"vielzahl  \"],\"type\":\"bar\",\"xaxis\":\"x19\",\"yaxis\":\"y19\"},{\"marker\":{\"color\":\"#009E73\"},\"orientation\":\"h\",\"x\":[0.20544902281520117,0.20544902281520117,0.20544902281520117,0.20544902281520117,0.33287782037208363],\"y\":[\"hebbelstraße  \",\"sprich  \",\"sicheren  \",\"aufstellen  \",\"lehmanger  \"],\"type\":\"bar\",\"xaxis\":\"x20\",\"yaxis\":\"y20\"}],                        {\"template\":{\"data\":{\"barpolar\":[{\"marker\":{\"line\":{\"color\":\"white\",\"width\":0.5},\"pattern\":{\"fillmode\":\"overlay\",\"size\":10,\"solidity\":0.2}},\"type\":\"barpolar\"}],\"bar\":[{\"error_x\":{\"color\":\"#2a3f5f\"},\"error_y\":{\"color\":\"#2a3f5f\"},\"marker\":{\"line\":{\"color\":\"white\",\"width\":0.5},\"pattern\":{\"fillmode\":\"overlay\",\"size\":10,\"solidity\":0.2}},\"type\":\"bar\"}],\"carpet\":[{\"aaxis\":{\"endlinecolor\":\"#2a3f5f\",\"gridcolor\":\"#C8D4E3\",\"linecolor\":\"#C8D4E3\",\"minorgridcolor\":\"#C8D4E3\",\"startlinecolor\":\"#2a3f5f\"},\"baxis\":{\"endlinecolor\":\"#2a3f5f\",\"gridcolor\":\"#C8D4E3\",\"linecolor\":\"#C8D4E3\",\"minorgridcolor\":\"#C8D4E3\",\"startlinecolor\":\"#2a3f5f\"},\"type\":\"carpet\"}],\"choropleth\":[{\"colorbar\":{\"outlinewidth\":0,\"ticks\":\"\"},\"type\":\"choropleth\"}],\"contourcarpet\":[{\"colorbar\":{\"outlinewidth\":0,\"ticks\":\"\"},\"type\":\"contourcarpet\"}],\"contour\":[{\"colorbar\":{\"outlinewidth\":0,\"ticks\":\"\"},\"colorscale\":[[0.0,\"#0d0887\"],[0.1111111111111111,\"#46039f\"],[0.2222222222222222,\"#7201a8\"],[0.3333333333333333,\"#9c179e\"],[0.4444444444444444,\"#bd3786\"],[0.5555555555555556,\"#d8576b\"],[0.6666666666666666,\"#ed7953\"],[0.7777777777777778,\"#fb9f3a\"],[0.8888888888888888,\"#fdca26\"],[1.0,\"#f0f921\"]],\"type\":\"contour\"}],\"heatmapgl\":[{\"colorbar\":{\"outlinewidth\":0,\"ticks\":\"\"},\"colorscale\":[[0.0,\"#0d0887\"],[0.1111111111111111,\"#46039f\"],[0.2222222222222222,\"#7201a8\"],[0.3333333333333333,\"#9c179e\"],[0.4444444444444444,\"#bd3786\"],[0.5555555555555556,\"#d8576b\"],[0.6666666666666666,\"#ed7953\"],[0.7777777777777778,\"#fb9f3a\"],[0.8888888888888888,\"#fdca26\"],[1.0,\"#f0f921\"]],\"type\":\"heatmapgl\"}],\"heatmap\":[{\"colorbar\":{\"outlinewidth\":0,\"ticks\":\"\"},\"colorscale\":[[0.0,\"#0d0887\"],[0.1111111111111111,\"#46039f\"],[0.2222222222222222,\"#7201a8\"],[0.3333333333333333,\"#9c179e\"],[0.4444444444444444,\"#bd3786\"],[0.5555555555555556,\"#d8576b\"],[0.6666666666666666,\"#ed7953\"],[0.7777777777777778,\"#fb9f3a\"],[0.8888888888888888,\"#fdca26\"],[1.0,\"#f0f921\"]],\"type\":\"heatmap\"}],\"histogram2dcontour\":[{\"colorbar\":{\"outlinewidth\":0,\"ticks\":\"\"},\"colorscale\":[[0.0,\"#0d0887\"],[0.1111111111111111,\"#46039f\"],[0.2222222222222222,\"#7201a8\"],[0.3333333333333333,\"#9c179e\"],[0.4444444444444444,\"#bd3786\"],[0.5555555555555556,\"#d8576b\"],[0.6666666666666666,\"#ed7953\"],[0.7777777777777778,\"#fb9f3a\"],[0.8888888888888888,\"#fdca26\"],[1.0,\"#f0f921\"]],\"type\":\"histogram2dcontour\"}],\"histogram2d\":[{\"colorbar\":{\"outlinewidth\":0,\"ticks\":\"\"},\"colorscale\":[[0.0,\"#0d0887\"],[0.1111111111111111,\"#46039f\"],[0.2222222222222222,\"#7201a8\"],[0.3333333333333333,\"#9c179e\"],[0.4444444444444444,\"#bd3786\"],[0.5555555555555556,\"#d8576b\"],[0.6666666666666666,\"#ed7953\"],[0.7777777777777778,\"#fb9f3a\"],[0.8888888888888888,\"#fdca26\"],[1.0,\"#f0f921\"]],\"type\":\"histogram2d\"}],\"histogram\":[{\"marker\":{\"pattern\":{\"fillmode\":\"overlay\",\"size\":10,\"solidity\":0.2}},\"type\":\"histogram\"}],\"mesh3d\":[{\"colorbar\":{\"outlinewidth\":0,\"ticks\":\"\"},\"type\":\"mesh3d\"}],\"parcoords\":[{\"line\":{\"colorbar\":{\"outlinewidth\":0,\"ticks\":\"\"}},\"type\":\"parcoords\"}],\"pie\":[{\"automargin\":true,\"type\":\"pie\"}],\"scatter3d\":[{\"line\":{\"colorbar\":{\"outlinewidth\":0,\"ticks\":\"\"}},\"marker\":{\"colorbar\":{\"outlinewidth\":0,\"ticks\":\"\"}},\"type\":\"scatter3d\"}],\"scattercarpet\":[{\"marker\":{\"colorbar\":{\"outlinewidth\":0,\"ticks\":\"\"}},\"type\":\"scattercarpet\"}],\"scattergeo\":[{\"marker\":{\"colorbar\":{\"outlinewidth\":0,\"ticks\":\"\"}},\"type\":\"scattergeo\"}],\"scattergl\":[{\"marker\":{\"colorbar\":{\"outlinewidth\":0,\"ticks\":\"\"}},\"type\":\"scattergl\"}],\"scattermapbox\":[{\"marker\":{\"colorbar\":{\"outlinewidth\":0,\"ticks\":\"\"}},\"type\":\"scattermapbox\"}],\"scatterpolargl\":[{\"marker\":{\"colorbar\":{\"outlinewidth\":0,\"ticks\":\"\"}},\"type\":\"scatterpolargl\"}],\"scatterpolar\":[{\"marker\":{\"colorbar\":{\"outlinewidth\":0,\"ticks\":\"\"}},\"type\":\"scatterpolar\"}],\"scatter\":[{\"fillpattern\":{\"fillmode\":\"overlay\",\"size\":10,\"solidity\":0.2},\"type\":\"scatter\"}],\"scatterternary\":[{\"marker\":{\"colorbar\":{\"outlinewidth\":0,\"ticks\":\"\"}},\"type\":\"scatterternary\"}],\"surface\":[{\"colorbar\":{\"outlinewidth\":0,\"ticks\":\"\"},\"colorscale\":[[0.0,\"#0d0887\"],[0.1111111111111111,\"#46039f\"],[0.2222222222222222,\"#7201a8\"],[0.3333333333333333,\"#9c179e\"],[0.4444444444444444,\"#bd3786\"],[0.5555555555555556,\"#d8576b\"],[0.6666666666666666,\"#ed7953\"],[0.7777777777777778,\"#fb9f3a\"],[0.8888888888888888,\"#fdca26\"],[1.0,\"#f0f921\"]],\"type\":\"surface\"}],\"table\":[{\"cells\":{\"fill\":{\"color\":\"#EBF0F8\"},\"line\":{\"color\":\"white\"}},\"header\":{\"fill\":{\"color\":\"#C8D4E3\"},\"line\":{\"color\":\"white\"}},\"type\":\"table\"}]},\"layout\":{\"annotationdefaults\":{\"arrowcolor\":\"#2a3f5f\",\"arrowhead\":0,\"arrowwidth\":1},\"autotypenumbers\":\"strict\",\"coloraxis\":{\"colorbar\":{\"outlinewidth\":0,\"ticks\":\"\"}},\"colorscale\":{\"diverging\":[[0,\"#8e0152\"],[0.1,\"#c51b7d\"],[0.2,\"#de77ae\"],[0.3,\"#f1b6da\"],[0.4,\"#fde0ef\"],[0.5,\"#f7f7f7\"],[0.6,\"#e6f5d0\"],[0.7,\"#b8e186\"],[0.8,\"#7fbc41\"],[0.9,\"#4d9221\"],[1,\"#276419\"]],\"sequential\":[[0.0,\"#0d0887\"],[0.1111111111111111,\"#46039f\"],[0.2222222222222222,\"#7201a8\"],[0.3333333333333333,\"#9c179e\"],[0.4444444444444444,\"#bd3786\"],[0.5555555555555556,\"#d8576b\"],[0.6666666666666666,\"#ed7953\"],[0.7777777777777778,\"#fb9f3a\"],[0.8888888888888888,\"#fdca26\"],[1.0,\"#f0f921\"]],\"sequentialminus\":[[0.0,\"#0d0887\"],[0.1111111111111111,\"#46039f\"],[0.2222222222222222,\"#7201a8\"],[0.3333333333333333,\"#9c179e\"],[0.4444444444444444,\"#bd3786\"],[0.5555555555555556,\"#d8576b\"],[0.6666666666666666,\"#ed7953\"],[0.7777777777777778,\"#fb9f3a\"],[0.8888888888888888,\"#fdca26\"],[1.0,\"#f0f921\"]]},\"colorway\":[\"#636efa\",\"#EF553B\",\"#00cc96\",\"#ab63fa\",\"#FFA15A\",\"#19d3f3\",\"#FF6692\",\"#B6E880\",\"#FF97FF\",\"#FECB52\"],\"font\":{\"color\":\"#2a3f5f\"},\"geo\":{\"bgcolor\":\"white\",\"lakecolor\":\"white\",\"landcolor\":\"white\",\"showlakes\":true,\"showland\":true,\"subunitcolor\":\"#C8D4E3\"},\"hoverlabel\":{\"align\":\"left\"},\"hovermode\":\"closest\",\"mapbox\":{\"style\":\"light\"},\"paper_bgcolor\":\"white\",\"plot_bgcolor\":\"white\",\"polar\":{\"angularaxis\":{\"gridcolor\":\"#EBF0F8\",\"linecolor\":\"#EBF0F8\",\"ticks\":\"\"},\"bgcolor\":\"white\",\"radialaxis\":{\"gridcolor\":\"#EBF0F8\",\"linecolor\":\"#EBF0F8\",\"ticks\":\"\"}},\"scene\":{\"xaxis\":{\"backgroundcolor\":\"white\",\"gridcolor\":\"#DFE8F3\",\"gridwidth\":2,\"linecolor\":\"#EBF0F8\",\"showbackground\":true,\"ticks\":\"\",\"zerolinecolor\":\"#EBF0F8\"},\"yaxis\":{\"backgroundcolor\":\"white\",\"gridcolor\":\"#DFE8F3\",\"gridwidth\":2,\"linecolor\":\"#EBF0F8\",\"showbackground\":true,\"ticks\":\"\",\"zerolinecolor\":\"#EBF0F8\"},\"zaxis\":{\"backgroundcolor\":\"white\",\"gridcolor\":\"#DFE8F3\",\"gridwidth\":2,\"linecolor\":\"#EBF0F8\",\"showbackground\":true,\"ticks\":\"\",\"zerolinecolor\":\"#EBF0F8\"}},\"shapedefaults\":{\"line\":{\"color\":\"#2a3f5f\"}},\"ternary\":{\"aaxis\":{\"gridcolor\":\"#DFE8F3\",\"linecolor\":\"#A2B1C6\",\"ticks\":\"\"},\"baxis\":{\"gridcolor\":\"#DFE8F3\",\"linecolor\":\"#A2B1C6\",\"ticks\":\"\"},\"bgcolor\":\"white\",\"caxis\":{\"gridcolor\":\"#DFE8F3\",\"linecolor\":\"#A2B1C6\",\"ticks\":\"\"}},\"title\":{\"x\":0.05},\"xaxis\":{\"automargin\":true,\"gridcolor\":\"#EBF0F8\",\"linecolor\":\"#EBF0F8\",\"ticks\":\"\",\"title\":{\"standoff\":15},\"zerolinecolor\":\"#EBF0F8\",\"zerolinewidth\":2},\"yaxis\":{\"automargin\":true,\"gridcolor\":\"#EBF0F8\",\"linecolor\":\"#EBF0F8\",\"ticks\":\"\",\"title\":{\"standoff\":15},\"zerolinecolor\":\"#EBF0F8\",\"zerolinewidth\":2}}},\"xaxis\":{\"anchor\":\"y\",\"domain\":[0.0,0.175],\"showgrid\":true},\"yaxis\":{\"anchor\":\"x\",\"domain\":[0.8639999999999999,0.9999999999999999],\"showgrid\":true},\"xaxis2\":{\"anchor\":\"y2\",\"domain\":[0.275,0.45],\"showgrid\":true},\"yaxis2\":{\"anchor\":\"x2\",\"domain\":[0.8639999999999999,0.9999999999999999],\"showgrid\":true},\"xaxis3\":{\"anchor\":\"y3\",\"domain\":[0.55,0.7250000000000001],\"showgrid\":true},\"yaxis3\":{\"anchor\":\"x3\",\"domain\":[0.8639999999999999,0.9999999999999999],\"showgrid\":true},\"xaxis4\":{\"anchor\":\"y4\",\"domain\":[0.825,1.0],\"showgrid\":true},\"yaxis4\":{\"anchor\":\"x4\",\"domain\":[0.8639999999999999,0.9999999999999999],\"showgrid\":true},\"xaxis5\":{\"anchor\":\"y5\",\"domain\":[0.0,0.175],\"showgrid\":true},\"yaxis5\":{\"anchor\":\"x5\",\"domain\":[0.6479999999999999,0.7839999999999999],\"showgrid\":true},\"xaxis6\":{\"anchor\":\"y6\",\"domain\":[0.275,0.45],\"showgrid\":true},\"yaxis6\":{\"anchor\":\"x6\",\"domain\":[0.6479999999999999,0.7839999999999999],\"showgrid\":true},\"xaxis7\":{\"anchor\":\"y7\",\"domain\":[0.55,0.7250000000000001],\"showgrid\":true},\"yaxis7\":{\"anchor\":\"x7\",\"domain\":[0.6479999999999999,0.7839999999999999],\"showgrid\":true},\"xaxis8\":{\"anchor\":\"y8\",\"domain\":[0.825,1.0],\"showgrid\":true},\"yaxis8\":{\"anchor\":\"x8\",\"domain\":[0.6479999999999999,0.7839999999999999],\"showgrid\":true},\"xaxis9\":{\"anchor\":\"y9\",\"domain\":[0.0,0.175],\"showgrid\":true},\"yaxis9\":{\"anchor\":\"x9\",\"domain\":[0.43199999999999994,0.568],\"showgrid\":true},\"xaxis10\":{\"anchor\":\"y10\",\"domain\":[0.275,0.45],\"showgrid\":true},\"yaxis10\":{\"anchor\":\"x10\",\"domain\":[0.43199999999999994,0.568],\"showgrid\":true},\"xaxis11\":{\"anchor\":\"y11\",\"domain\":[0.55,0.7250000000000001],\"showgrid\":true},\"yaxis11\":{\"anchor\":\"x11\",\"domain\":[0.43199999999999994,0.568],\"showgrid\":true},\"xaxis12\":{\"anchor\":\"y12\",\"domain\":[0.825,1.0],\"showgrid\":true},\"yaxis12\":{\"anchor\":\"x12\",\"domain\":[0.43199999999999994,0.568],\"showgrid\":true},\"xaxis13\":{\"anchor\":\"y13\",\"domain\":[0.0,0.175],\"showgrid\":true},\"yaxis13\":{\"anchor\":\"x13\",\"domain\":[0.21599999999999997,0.352],\"showgrid\":true},\"xaxis14\":{\"anchor\":\"y14\",\"domain\":[0.275,0.45],\"showgrid\":true},\"yaxis14\":{\"anchor\":\"x14\",\"domain\":[0.21599999999999997,0.352],\"showgrid\":true},\"xaxis15\":{\"anchor\":\"y15\",\"domain\":[0.55,0.7250000000000001],\"showgrid\":true},\"yaxis15\":{\"anchor\":\"x15\",\"domain\":[0.21599999999999997,0.352],\"showgrid\":true},\"xaxis16\":{\"anchor\":\"y16\",\"domain\":[0.825,1.0],\"showgrid\":true},\"yaxis16\":{\"anchor\":\"x16\",\"domain\":[0.21599999999999997,0.352],\"showgrid\":true},\"xaxis17\":{\"anchor\":\"y17\",\"domain\":[0.0,0.175],\"showgrid\":true},\"yaxis17\":{\"anchor\":\"x17\",\"domain\":[0.0,0.13599999999999998],\"showgrid\":true},\"xaxis18\":{\"anchor\":\"y18\",\"domain\":[0.275,0.45],\"showgrid\":true},\"yaxis18\":{\"anchor\":\"x18\",\"domain\":[0.0,0.13599999999999998],\"showgrid\":true},\"xaxis19\":{\"anchor\":\"y19\",\"domain\":[0.55,0.7250000000000001],\"showgrid\":true},\"yaxis19\":{\"anchor\":\"x19\",\"domain\":[0.0,0.13599999999999998],\"showgrid\":true},\"xaxis20\":{\"anchor\":\"y20\",\"domain\":[0.825,1.0],\"showgrid\":true},\"yaxis20\":{\"anchor\":\"x20\",\"domain\":[0.0,0.13599999999999998],\"showgrid\":true},\"annotations\":[{\"font\":{\"size\":16},\"showarrow\":false,\"text\":\"Topic 0\",\"x\":0.0875,\"xanchor\":\"center\",\"xref\":\"paper\",\"y\":0.9999999999999999,\"yanchor\":\"bottom\",\"yref\":\"paper\"},{\"font\":{\"size\":16},\"showarrow\":false,\"text\":\"Topic 1\",\"x\":0.36250000000000004,\"xanchor\":\"center\",\"xref\":\"paper\",\"y\":0.9999999999999999,\"yanchor\":\"bottom\",\"yref\":\"paper\"},{\"font\":{\"size\":16},\"showarrow\":false,\"text\":\"Topic 2\",\"x\":0.6375000000000001,\"xanchor\":\"center\",\"xref\":\"paper\",\"y\":0.9999999999999999,\"yanchor\":\"bottom\",\"yref\":\"paper\"},{\"font\":{\"size\":16},\"showarrow\":false,\"text\":\"Topic 3\",\"x\":0.9125,\"xanchor\":\"center\",\"xref\":\"paper\",\"y\":0.9999999999999999,\"yanchor\":\"bottom\",\"yref\":\"paper\"},{\"font\":{\"size\":16},\"showarrow\":false,\"text\":\"Topic 4\",\"x\":0.0875,\"xanchor\":\"center\",\"xref\":\"paper\",\"y\":0.7839999999999999,\"yanchor\":\"bottom\",\"yref\":\"paper\"},{\"font\":{\"size\":16},\"showarrow\":false,\"text\":\"Topic 5\",\"x\":0.36250000000000004,\"xanchor\":\"center\",\"xref\":\"paper\",\"y\":0.7839999999999999,\"yanchor\":\"bottom\",\"yref\":\"paper\"},{\"font\":{\"size\":16},\"showarrow\":false,\"text\":\"Topic 6\",\"x\":0.6375000000000001,\"xanchor\":\"center\",\"xref\":\"paper\",\"y\":0.7839999999999999,\"yanchor\":\"bottom\",\"yref\":\"paper\"},{\"font\":{\"size\":16},\"showarrow\":false,\"text\":\"Topic 7\",\"x\":0.9125,\"xanchor\":\"center\",\"xref\":\"paper\",\"y\":0.7839999999999999,\"yanchor\":\"bottom\",\"yref\":\"paper\"},{\"font\":{\"size\":16},\"showarrow\":false,\"text\":\"Topic 8\",\"x\":0.0875,\"xanchor\":\"center\",\"xref\":\"paper\",\"y\":0.568,\"yanchor\":\"bottom\",\"yref\":\"paper\"},{\"font\":{\"size\":16},\"showarrow\":false,\"text\":\"Topic 9\",\"x\":0.36250000000000004,\"xanchor\":\"center\",\"xref\":\"paper\",\"y\":0.568,\"yanchor\":\"bottom\",\"yref\":\"paper\"},{\"font\":{\"size\":16},\"showarrow\":false,\"text\":\"Topic 10\",\"x\":0.6375000000000001,\"xanchor\":\"center\",\"xref\":\"paper\",\"y\":0.568,\"yanchor\":\"bottom\",\"yref\":\"paper\"},{\"font\":{\"size\":16},\"showarrow\":false,\"text\":\"Topic 11\",\"x\":0.9125,\"xanchor\":\"center\",\"xref\":\"paper\",\"y\":0.568,\"yanchor\":\"bottom\",\"yref\":\"paper\"},{\"font\":{\"size\":16},\"showarrow\":false,\"text\":\"Topic 12\",\"x\":0.0875,\"xanchor\":\"center\",\"xref\":\"paper\",\"y\":0.352,\"yanchor\":\"bottom\",\"yref\":\"paper\"},{\"font\":{\"size\":16},\"showarrow\":false,\"text\":\"Topic 13\",\"x\":0.36250000000000004,\"xanchor\":\"center\",\"xref\":\"paper\",\"y\":0.352,\"yanchor\":\"bottom\",\"yref\":\"paper\"},{\"font\":{\"size\":16},\"showarrow\":false,\"text\":\"Topic 14\",\"x\":0.6375000000000001,\"xanchor\":\"center\",\"xref\":\"paper\",\"y\":0.352,\"yanchor\":\"bottom\",\"yref\":\"paper\"},{\"font\":{\"size\":16},\"showarrow\":false,\"text\":\"Topic 15\",\"x\":0.9125,\"xanchor\":\"center\",\"xref\":\"paper\",\"y\":0.352,\"yanchor\":\"bottom\",\"yref\":\"paper\"},{\"font\":{\"size\":16},\"showarrow\":false,\"text\":\"Topic 16\",\"x\":0.0875,\"xanchor\":\"center\",\"xref\":\"paper\",\"y\":0.13599999999999998,\"yanchor\":\"bottom\",\"yref\":\"paper\"},{\"font\":{\"size\":16},\"showarrow\":false,\"text\":\"Topic 17\",\"x\":0.36250000000000004,\"xanchor\":\"center\",\"xref\":\"paper\",\"y\":0.13599999999999998,\"yanchor\":\"bottom\",\"yref\":\"paper\"},{\"font\":{\"size\":16},\"showarrow\":false,\"text\":\"Topic 18\",\"x\":0.6375000000000001,\"xanchor\":\"center\",\"xref\":\"paper\",\"y\":0.13599999999999998,\"yanchor\":\"bottom\",\"yref\":\"paper\"},{\"font\":{\"size\":16},\"showarrow\":false,\"text\":\"Topic 19\",\"x\":0.9125,\"xanchor\":\"center\",\"xref\":\"paper\",\"y\":0.13599999999999998,\"yanchor\":\"bottom\",\"yref\":\"paper\"}],\"title\":{\"font\":{\"size\":22,\"color\":\"Black\"},\"text\":\"Topic Word Scores\",\"x\":0.5,\"xanchor\":\"center\",\"yanchor\":\"top\"},\"hoverlabel\":{\"font\":{\"size\":16,\"family\":\"Rockwell\"},\"bgcolor\":\"white\"},\"showlegend\":false,\"width\":1000,\"height\":1250},                        {\"responsive\": true}                    ).then(function(){\n",
       "                            \n",
       "var gd = document.getElementById('70d68f00-db4b-406d-ab93-5306c2324d92');\n",
       "var x = new MutationObserver(function (mutations, observer) {{\n",
       "        var display = window.getComputedStyle(gd).display;\n",
       "        if (!display || display === 'none') {{\n",
       "            console.log([gd, 'removed!']);\n",
       "            Plotly.purge(gd);\n",
       "            observer.disconnect();\n",
       "        }}\n",
       "}});\n",
       "\n",
       "// Listen for the removal of the full notebook cells\n",
       "var notebookContainer = gd.closest('#notebook-container');\n",
       "if (notebookContainer) {{\n",
       "    x.observe(notebookContainer, {childList: true});\n",
       "}}\n",
       "\n",
       "// Listen for the clearing of the current output cell\n",
       "var outputEl = gd.closest('.output');\n",
       "if (outputEl) {{\n",
       "    x.observe(outputEl, {childList: true});\n",
       "}}\n",
       "\n",
       "                        })                };                });            </script>        </div>"
      ]
     },
     "metadata": {},
     "output_type": "display_data"
    }
   ],
   "source": [
    "topic_model.visualize_barchart(top_n_topics=20)"
   ]
  },
  {
   "attachments": {
    "image.png": {
     "image/png": "[encoded data removed]"
    }
   },
   "cell_type": "markdown",
   "id": "249f9631",
   "metadata": {},
   "source": [
    "## Topic Modeling with Llama2\n",
    "\n",
    "ref : https://colab.research.google.com/drive/1QCERSMUjqGetGGujdrvv_6_EeoIcd_9M?usp=sharing\n",
    "https://github.com/MaartenGr/BERTopic/tree/master\n",
    "\n",
    "\n",
    "![image.png](attachment:image.png)"
   ]
  },
  {
   "cell_type": "code",
   "execution_count": null,
   "id": "4b489ec8",
   "metadata": {},
   "outputs": [],
   "source": [
    "%%capture\n",
    "!pip install accelerate bitsandbytes xformers adjustText"
   ]
  },
  {
   "cell_type": "markdown",
   "id": "9d22284f",
   "metadata": {},
   "source": []
  },
  {
   "cell_type": "code",
   "execution_count": 4,
   "id": "82cc6155",
   "metadata": {},
   "outputs": [
    {
     "data": {
      "application/vnd.jupyter.widget-view+json": {
       "model_id": "576fe49c1a73459e9537e4fdb2e47ff8",
       "version_major": 2,
       "version_minor": 0
      },
      "text/plain": [
       "VBox(children=(HTML(value='<center> <img\\nsrc=https://huggingface.co/front/assets/huggingface_logo-noborder.sv…"
      ]
     },
     "metadata": {},
     "output_type": "display_data"
    }
   ],
   "source": [
    "from huggingface_hub import notebook_login\n",
    "notebook_login()"
   ]
  },
  {
   "cell_type": "code",
   "execution_count": 1,
   "id": "caacc2dc",
   "metadata": {},
   "outputs": [
    {
     "name": "stdout",
     "output_type": "stream",
     "text": [
      "cuda:0\n"
     ]
    }
   ],
   "source": [
    "# Llama 2\n",
    "from torch import cuda\n",
    "\n",
    "model_id = 'meta-llama/Llama-2-7b-chat-hf'\n",
    "device = f'cuda:{cuda.current_device()}' if cuda.is_available() else 'cpu'\n",
    "\n",
    "print(device)"
   ]
  },
  {
   "cell_type": "markdown",
   "id": "6df20eac",
   "metadata": {},
   "source": [
    "### Optimization and Quantization\n",
    "\n",
    "In order to load our 13 billion parameter model, we will need to perform some optimization tricks. Since we have limited VRAM and not an A100 GPU, we will need to \"condense\" the model a bit so that we can run it.\n",
    "\n",
    "There are a number of tricks that we can use but the main principle is going to be 4-bit quantization.\n",
    "\n",
    "This process reduces the 64-bit representation to only 4-bits which reduces the GPU memory that we will need. It is a recent technique and quite an elegant at that for efficient LLM loading and usage. You can find more about that method here in the QLoRA paper and on the amazing HuggingFace blog here."
   ]
  },
  {
   "cell_type": "code",
   "execution_count": 5,
   "id": "fe053acd",
   "metadata": {},
   "outputs": [],
   "source": [
    "from torch import bfloat16\n",
    "import transformers\n",
    "\n",
    "# set quantization configuration to load large model with less GPU memory\n",
    "# this requires the `bitsandbytes` library\n",
    "\n",
    "bnb_config = transformers.BitsAndBytesConfig(\n",
    "    load_in_4bit=True,  # 4-bit quantization\n",
    "    bnb_4bit_quant_type='nf4',  # Normalized float 4\n",
    "    bnb_4bit_use_double_quant=True,  # Second quantization after the first\n",
    "    bnb_4bit_compute_dtype=bfloat16  # Computation type\n",
    ")"
   ]
  },
  {
   "cell_type": "code",
   "execution_count": 6,
   "id": "7a6a6069",
   "metadata": {},
   "outputs": [
    {
     "data": {
      "application/vnd.jupyter.widget-view+json": {
       "model_id": "dd7b228143de449185f5edafa26f0875",
       "version_major": 2,
       "version_minor": 0
      },
      "text/plain": [
       "tokenizer_config.json:   0%|          | 0.00/1.62k [00:00<?, ?B/s]"
      ]
     },
     "metadata": {},
     "output_type": "display_data"
    },
    {
     "data": {
      "application/vnd.jupyter.widget-view+json": {
       "model_id": "6faf824bd9e8485fb6f62632e7cf9690",
       "version_major": 2,
       "version_minor": 0
      },
      "text/plain": [
       "tokenizer.model:   0%|          | 0.00/500k [00:00<?, ?B/s]"
      ]
     },
     "metadata": {},
     "output_type": "display_data"
    },
    {
     "data": {
      "application/vnd.jupyter.widget-view+json": {
       "model_id": "763533119bb84ec38cd07e8f61a3d098",
       "version_major": 2,
       "version_minor": 0
      },
      "text/plain": [
       "tokenizer.json:   0%|          | 0.00/1.84M [00:00<?, ?B/s]"
      ]
     },
     "metadata": {},
     "output_type": "display_data"
    },
    {
     "data": {
      "application/vnd.jupyter.widget-view+json": {
       "model_id": "994032d845ba4c569dad9d0ce4a174ac",
       "version_major": 2,
       "version_minor": 0
      },
      "text/plain": [
       "special_tokens_map.json:   0%|          | 0.00/414 [00:00<?, ?B/s]"
      ]
     },
     "metadata": {},
     "output_type": "display_data"
    },
    {
     "data": {
      "application/vnd.jupyter.widget-view+json": {
       "model_id": "d1733d1ed5984f6aa2c010505f7bda83",
       "version_major": 2,
       "version_minor": 0
      },
      "text/plain": [
       "config.json:   0%|          | 0.00/614 [00:00<?, ?B/s]"
      ]
     },
     "metadata": {},
     "output_type": "display_data"
    },
    {
     "data": {
      "application/vnd.jupyter.widget-view+json": {
       "model_id": "a861f1f29fea4695b901d26563630656",
       "version_major": 2,
       "version_minor": 0
      },
      "text/plain": [
       "model.safetensors.index.json:   0%|          | 0.00/26.8k [00:00<?, ?B/s]"
      ]
     },
     "metadata": {},
     "output_type": "display_data"
    },
    {
     "data": {
      "application/vnd.jupyter.widget-view+json": {
       "model_id": "fb651457c41943f1bab2253d4cc1899a",
       "version_major": 2,
       "version_minor": 0
      },
      "text/plain": [
       "Downloading shards:   0%|          | 0/2 [00:00<?, ?it/s]"
      ]
     },
     "metadata": {},
     "output_type": "display_data"
    },
    {
     "data": {
      "application/vnd.jupyter.widget-view+json": {
       "model_id": "ab7afd8de929499ebb4ebb482979e26b",
       "version_major": 2,
       "version_minor": 0
      },
      "text/plain": [
       "model-00001-of-00002.safetensors:   0%|          | 0.00/9.98G [00:00<?, ?B/s]"
      ]
     },
     "metadata": {},
     "output_type": "display_data"
    },
    {
     "data": {
      "application/vnd.jupyter.widget-view+json": {
       "model_id": "25823cf6d31843319d1a621823b5dc4b",
       "version_major": 2,
       "version_minor": 0
      },
      "text/plain": [
       "model-00002-of-00002.safetensors:   0%|          | 0.00/3.50G [00:00<?, ?B/s]"
      ]
     },
     "metadata": {},
     "output_type": "display_data"
    },
    {
     "data": {
      "application/vnd.jupyter.widget-view+json": {
       "model_id": "c12175ef6a5d42b88267c517b18f9867",
       "version_major": 2,
       "version_minor": 0
      },
      "text/plain": [
       "Loading checkpoint shards:   0%|          | 0/2 [00:00<?, ?it/s]"
      ]
     },
     "metadata": {},
     "output_type": "display_data"
    },
    {
     "data": {
      "application/vnd.jupyter.widget-view+json": {
       "model_id": "a2e329aacb3b4ae6a8fd416fd25f7162",
       "version_major": 2,
       "version_minor": 0
      },
      "text/plain": [
       "generation_config.json:   0%|          | 0.00/188 [00:00<?, ?B/s]"
      ]
     },
     "metadata": {},
     "output_type": "display_data"
    },
    {
     "data": {
      "text/plain": [
       "LlamaForCausalLM(\n",
       "  (model): LlamaModel(\n",
       "    (embed_tokens): Embedding(32000, 4096)\n",
       "    (layers): ModuleList(\n",
       "      (0-31): 32 x LlamaDecoderLayer(\n",
       "        (self_attn): LlamaSdpaAttention(\n",
       "          (q_proj): Linear4bit(in_features=4096, out_features=4096, bias=False)\n",
       "          (k_proj): Linear4bit(in_features=4096, out_features=4096, bias=False)\n",
       "          (v_proj): Linear4bit(in_features=4096, out_features=4096, bias=False)\n",
       "          (o_proj): Linear4bit(in_features=4096, out_features=4096, bias=False)\n",
       "          (rotary_emb): LlamaRotaryEmbedding()\n",
       "        )\n",
       "        (mlp): LlamaMLP(\n",
       "          (gate_proj): Linear4bit(in_features=4096, out_features=11008, bias=False)\n",
       "          (up_proj): Linear4bit(in_features=4096, out_features=11008, bias=False)\n",
       "          (down_proj): Linear4bit(in_features=11008, out_features=4096, bias=False)\n",
       "          (act_fn): SiLU()\n",
       "        )\n",
       "        (input_layernorm): LlamaRMSNorm((4096,), eps=1e-05)\n",
       "        (post_attention_layernorm): LlamaRMSNorm((4096,), eps=1e-05)\n",
       "      )\n",
       "    )\n",
       "    (norm): LlamaRMSNorm((4096,), eps=1e-05)\n",
       "    (rotary_emb): LlamaRotaryEmbedding()\n",
       "  )\n",
       "  (lm_head): Linear(in_features=4096, out_features=32000, bias=False)\n",
       ")"
      ]
     },
     "execution_count": 6,
     "metadata": {},
     "output_type": "execute_result"
    }
   ],
   "source": [
    "# Llama 2 Tokenizer\n",
    "tokenizer = transformers.AutoTokenizer.from_pretrained(model_id)\n",
    "\n",
    "# Llama 2 Model\n",
    "model = transformers.AutoModelForCausalLM.from_pretrained(\n",
    "    model_id,\n",
    "    trust_remote_code=True,\n",
    "    quantization_config=bnb_config,\n",
    "    device_map='auto',\n",
    ")\n",
    "model.eval()"
   ]
  },
  {
   "cell_type": "code",
   "execution_count": 7,
   "id": "7d8c35fe",
   "metadata": {},
   "outputs": [
    {
     "name": "stdout",
     "output_type": "stream",
     "text": [
      "Torch version: 2.4.0+cu121\n",
      "Torchvision version: 0.19.0+cu121\n"
     ]
    }
   ],
   "source": [
    "import torch\n",
    "import torchvision\n",
    "\n",
    "print(\"Torch version:\", torch.__version__)\n",
    "print(\"Torchvision version:\", torchvision.__version__)"
   ]
  },
  {
   "cell_type": "markdown",
   "id": "1c6d5282",
   "metadata": {},
   "source": [
    "### Llama 2 for BERTopic\n",
    "Before we can start with topic modeling, we will first need to perform two steps:\n",
    "\n",
    "* Pre-calculating Embeddings\n",
    "\n",
    "* Defining Sub-models"
   ]
  },
  {
   "cell_type": "code",
   "execution_count": 8,
   "id": "fd287d2d",
   "metadata": {},
   "outputs": [
    {
     "name": "stderr",
     "output_type": "stream",
     "text": [
      "No sentence-transformers model found with name aari1995/German_Semantic_STS_V2. Creating a new one with mean pooling.\n"
     ]
    },
    {
     "data": {
      "application/vnd.jupyter.widget-view+json": {
       "model_id": "5c933f98cd1848c3a22183507fb5b595",
       "version_major": 2,
       "version_minor": 0
      },
      "text/plain": [
       "config.json:   0%|          | 0.00/685 [00:00<?, ?B/s]"
      ]
     },
     "metadata": {},
     "output_type": "display_data"
    },
    {
     "data": {
      "application/vnd.jupyter.widget-view+json": {
       "model_id": "d6cd16fa708b4dc9b5086bd207e80abb",
       "version_major": 2,
       "version_minor": 0
      },
      "text/plain": [
       "model.safetensors:   0%|          | 0.00/1.34G [00:00<?, ?B/s]"
      ]
     },
     "metadata": {},
     "output_type": "display_data"
    },
    {
     "data": {
      "application/vnd.jupyter.widget-view+json": {
       "model_id": "c8e12cbcf87342569cfb40fbef2e6a1c",
       "version_major": 2,
       "version_minor": 0
      },
      "text/plain": [
       "tokenizer_config.json:   0%|          | 0.00/454 [00:00<?, ?B/s]"
      ]
     },
     "metadata": {},
     "output_type": "display_data"
    },
    {
     "data": {
      "application/vnd.jupyter.widget-view+json": {
       "model_id": "8415fdb8c0c5490e9e221f7ab07716c8",
       "version_major": 2,
       "version_minor": 0
      },
      "text/plain": [
       "vocab.txt:   0%|          | 0.00/240k [00:00<?, ?B/s]"
      ]
     },
     "metadata": {},
     "output_type": "display_data"
    },
    {
     "data": {
      "application/vnd.jupyter.widget-view+json": {
       "model_id": "c5d63eef82f045b9a6ba3d4a05f9a4da",
       "version_major": 2,
       "version_minor": 0
      },
      "text/plain": [
       "tokenizer.json:   0%|          | 0.00/729k [00:00<?, ?B/s]"
      ]
     },
     "metadata": {},
     "output_type": "display_data"
    },
    {
     "data": {
      "application/vnd.jupyter.widget-view+json": {
       "model_id": "5bde0684b00147fdb5dc87eb1aa77006",
       "version_major": 2,
       "version_minor": 0
      },
      "text/plain": [
       "special_tokens_map.json:   0%|          | 0.00/125 [00:00<?, ?B/s]"
      ]
     },
     "metadata": {},
     "output_type": "display_data"
    },
    {
     "name": "stderr",
     "output_type": "stream",
     "text": [
      "/home/zeus/miniconda3/envs/cloudspace/lib/python3.10/site-packages/transformers/tokenization_utils_base.py:1601: FutureWarning: `clean_up_tokenization_spaces` was not set. It will be set to `True` by default. This behavior will be depracted in transformers v4.45, and will be then set to `False` by default. For more details check this issue: https://github.com/huggingface/transformers/issues/31884\n",
      "  warnings.warn(\n"
     ]
    },
    {
     "ename": "NameError",
     "evalue": "name 'sentences' is not defined",
     "output_type": "error",
     "traceback": [
      "\u001b[0;31m---------------------------------------------------------------------------\u001b[0m",
      "\u001b[0;31mNameError\u001b[0m                                 Traceback (most recent call last)",
      "Cell \u001b[0;32mIn[8], line 5\u001b[0m\n\u001b[1;32m      3\u001b[0m \u001b[38;5;66;03m# 1. Pre-calculate embeddings\u001b[39;00m\n\u001b[1;32m      4\u001b[0m embedding_model \u001b[38;5;241m=\u001b[39m SentenceTransformer(\u001b[38;5;124m'\u001b[39m\u001b[38;5;124maari1995/German_Semantic_STS_V2\u001b[39m\u001b[38;5;124m'\u001b[39m)\n\u001b[0;32m----> 5\u001b[0m embeddings \u001b[38;5;241m=\u001b[39m embedding_model\u001b[38;5;241m.\u001b[39mencode(\u001b[43msentences\u001b[49m, show_progress_bar\u001b[38;5;241m=\u001b[39m\u001b[38;5;28;01mTrue\u001b[39;00m)\n",
      "\u001b[0;31mNameError\u001b[0m: name 'sentences' is not defined"
     ]
    }
   ],
   "source": [
    "from sentence_transformers import SentenceTransformer\n",
    "\n",
    "# 1. Pre-calculate embeddings\n",
    "embedding_model = SentenceTransformer('aari1995/German_Semantic_STS_V2')\n",
    "embeddings = embedding_model.encode(sentences, show_progress_bar=True)"
   ]
  },
  {
   "cell_type": "code",
   "execution_count": 51,
   "id": "1cf067b8",
   "metadata": {},
   "outputs": [],
   "source": [
    "# 2. Sub-models (UMAP and HDBSCAN)\n",
    "from umap import UMAP\n",
    "from hdbscan import HDBSCAN\n",
    "\n",
    "umap_model = UMAP(n_neighbors=5, n_components=5, min_dist=0.0, metric='cosine', random_state=42) # Tune\n",
    "hdbscan_model = HDBSCAN(min_cluster_size=10, metric='euclidean', cluster_selection_method='eom', prediction_data=True) # Tune"
   ]
  },
  {
   "cell_type": "code",
   "execution_count": 36,
   "id": "16f8eb8a",
   "metadata": {},
   "outputs": [
    {
     "data": {
      "application/vnd.jupyter.widget-view+json": {
       "model_id": "5e52a160b104490a99352334cd917066",
       "version_major": 2,
       "version_minor": 0
      },
      "text/plain": [
       "Loading checkpoint shards:   0%|          | 0/2 [00:00<?, ?it/s]"
      ]
     },
     "metadata": {},
     "output_type": "display_data"
    }
   ],
   "source": [
    "# Using the model and tokenizer, we will generate a HuggingFace transformers pipeline that allows us to easily generate new text:\n",
    "\n",
    "# Llama 2 Tokenizer\n",
    "tokenizer = transformers.AutoTokenizer.from_pretrained(model_id)\n",
    "\n",
    "# Llama 2 Model\n",
    "model = transformers.AutoModelForCausalLM.from_pretrained(\n",
    "    model_id,\n",
    "    trust_remote_code=True,\n",
    "    quantization_config=bnb_config,\n",
    "    device_map='auto',\n",
    ")\n",
    "\n",
    "# Text Generation Pipeline\n",
    "\n",
    "generator = transformers.pipeline(\n",
    "    model=model, tokenizer=tokenizer,\n",
    "    task='text-generation',\n",
    "    temperature=0.1,\n",
    "    max_new_tokens=500,\n",
    "    repetition_penalty=1.1\n",
    ")"
   ]
  },
  {
   "cell_type": "markdown",
   "id": "6a5d44fc",
   "metadata": {},
   "source": [
    "### Prompt Template \n",
    "\n",
    "This template consists of two main components, namely the {{ System Prompt }} and the {{ User Prompt }}:\n",
    "\n",
    "* The {{ System Prompt }} helps us guide the model during a conversation. For example, we can say that it is a helpful assisant that is specialized in labeling topics.\n",
    "* The {{ User Prompt }} is where we ask it a question.\n",
    "\n",
    "You might have noticed the [INST] tags, these are used to identify the beginning and end of a prompt. We can use these to model the conversation history as we will see more in-depth later on.\n",
    "\n",
    "Next, let's see how we can use this template to optimize Llama 2 for topic modeling.\n",
    "\n",
    "\n",
    "There are two BERTopic-specific tags that are of interest, namely [DOCUMENTS] and [KEYWORDS]:\n",
    "\n",
    "* [DOCUMENTS] contain the top 5 most relevant documents to the topic\n",
    "* [KEYWORDS] contain the top 10 most relevant keywords to the topic as generated through c-TF-IDF\n",
    "\n",
    "This template will be filled accordingly to each topic. And finally, we can combine this into our final prompt:"
   ]
  },
  {
   "cell_type": "code",
   "execution_count": 37,
   "id": "1ed1f170",
   "metadata": {},
   "outputs": [],
   "source": [
    "# PRompt for the generator\n",
    "# System prompt describes information given to all conversations\n",
    "system_prompt = \"\"\"\n",
    "<s>[INST] <<SYS>>\n",
    "You are a helpful, respectful and honest assistant for labeling topics in german language.\n",
    "<</SYS>>\n",
    "\"\"\"\n",
    "\n",
    "# Example prompt demonstrating the output we are looking for\n",
    "example_prompt = \"\"\"\n",
    "I have a topic that contains the following documents:\n",
    "- Traditional diets in most cultures were primarily plant-based with a little meat on top, but with the rise of industrial style meat production and factory farming, meat has become a staple food.\n",
    "- Meat, but especially beef, is the word food in terms of emissions.\n",
    "- Eating meat doesn't make you a bad person, not eating meat doesn't make you a good one.\n",
    "\n",
    "The topic is described by the following keywords: 'meat, beef, eat, eating, emissions, steak, food, health, processed, chicken'.\n",
    "\n",
    "Based on the information about the topic above, please create a short label of this topic. Make sure you to only return the label and nothing more.\n",
    "\n",
    "[/INST] Environmental impacts of eating meat\n",
    "\"\"\"\n",
    "\n",
    "# Our main prompt with documents ([DOCUMENTS]) and keywords ([KEYWORDS]) tags\n",
    "main_prompt = \"\"\"\n",
    "[INST]\n",
    "I have a topic that contains the following documents:\n",
    "[DOCUMENTS]\n",
    "\n",
    "The topic is described by the following keywords: '[KEYWORDS]'.\n",
    "\n",
    "Based on the information about the topic above, please create a short label of this topic. Make sure you to only return the label and nothing more.\n",
    "[/INST]\n",
    "\"\"\"\n",
    "\n",
    "\n",
    "\n",
    "prompt = system_prompt + example_prompt + main_prompt"
   ]
  },
  {
   "cell_type": "code",
   "execution_count": 38,
   "id": "d37a9324",
   "metadata": {},
   "outputs": [],
   "source": [
    "# 3. Representation Models using c-TF-IDF\n",
    "\n",
    "from bertopic.representation import KeyBERTInspired, MaximalMarginalRelevance, TextGeneration\n",
    "\n",
    "# KeyBERT\n",
    "keybert = KeyBERTInspired()\n",
    "\n",
    "# MMR\n",
    "mmr = MaximalMarginalRelevance(diversity=0.3)\n",
    "\n",
    "# Text generation with Llama 2\n",
    "llama2 = TextGeneration(generator, prompt=prompt)\n",
    "\n",
    "# All representation models\n",
    "representation_model = {\n",
    "    \"KeyBERT\": keybert,\n",
    "    \"Llama2\": llama2,\n",
    "    \"MMR\": mmr,\n",
    "}"
   ]
  },
  {
   "cell_type": "markdown",
   "id": "dcee7836",
   "metadata": {},
   "source": [
    "#### Training \n",
    "\n",
    "Now that we have our models prepared, we can start training our topic model! We supply BERTopic with the sub-models of interest, run .fit_transform, and see what kind of topics we get."
   ]
  },
  {
   "cell_type": "code",
   "execution_count": 39,
   "id": "aabf0387",
   "metadata": {},
   "outputs": [
    {
     "data": {
      "text/plain": [
       "(130, 1024)"
      ]
     },
     "execution_count": 39,
     "metadata": {},
     "output_type": "execute_result"
    }
   ],
   "source": [
    "embeddings.shape"
   ]
  },
  {
   "cell_type": "code",
   "execution_count": 52,
   "id": "41389ed3",
   "metadata": {},
   "outputs": [],
   "source": [
    "# Pre-reduce embeddings for visualization purposes\n",
    "reduced_embeddings = UMAP(n_neighbors=10, n_components=2, min_dist=0.0, metric='cosine', random_state=42).fit_transform(embeddings)"
   ]
  },
  {
   "cell_type": "code",
   "execution_count": 53,
   "id": "54223ed3",
   "metadata": {},
   "outputs": [
    {
     "data": {
      "text/plain": [
       "{'KeyBERT': KeyBERTInspired(),\n",
       " 'Llama2': TextGeneration(model=<transformers.pipelines.text_generation.TextGenerationPipeline object at 0x7f3ace7f7040>,\n",
       "                prompt='\\n'\n",
       "                       '<s>[INST] <<SYS>>\\n'\n",
       "                       'You are a helpful, respectful and honest assistant for '\n",
       "                       'labeling topics in german language.\\n'\n",
       "                       '<</SYS>>\\n'\n",
       "                       '\\n'\n",
       "                       'I have a topic that contains the following documents:\\n'\n",
       "                       '- Traditional diets in most cultures were primarily '\n",
       "                       'plant-based with a l...\n",
       "                       'only return the label and nothing more.\\n'\n",
       "                       '\\n'\n",
       "                       '[/INST] Environmental impacts of eating meat\\n'\n",
       "                       '\\n'\n",
       "                       '[INST]\\n'\n",
       "                       'I have a topic that contains the following documents:\\n'\n",
       "                       '[DOCUMENTS]\\n'\n",
       "                       '\\n'\n",
       "                       'The topic is described by the following keywords: '\n",
       "                       \"'[KEYWORDS]'.\\n\"\n",
       "                       '\\n'\n",
       "                       'Based on the information about the topic above, please '\n",
       "                       'create a short label of this topic. Make sure you to '\n",
       "                       'only return the label and nothing more.\\n'\n",
       "                       '[/INST]\\n'),\n",
       " 'MMR': MaximalMarginalRelevance(diversity=0.3)}"
      ]
     },
     "execution_count": 53,
     "metadata": {},
     "output_type": "execute_result"
    }
   ],
   "source": [
    "representation_model"
   ]
  },
  {
   "cell_type": "code",
   "execution_count": 54,
   "id": "eaabac05",
   "metadata": {},
   "outputs": [
    {
     "data": {
      "text/plain": [
       "SentenceTransformer(\n",
       "  (0): Transformer({'max_seq_length': 512, 'do_lower_case': False}) with Transformer model: BertModel \n",
       "  (1): Pooling({'word_embedding_dimension': 1024, 'pooling_mode_cls_token': False, 'pooling_mode_mean_tokens': True, 'pooling_mode_max_tokens': False, 'pooling_mode_mean_sqrt_len_tokens': False, 'pooling_mode_weightedmean_tokens': False, 'pooling_mode_lasttoken': False, 'include_prompt': True})\n",
       ")"
      ]
     },
     "execution_count": 54,
     "metadata": {},
     "output_type": "execute_result"
    }
   ],
   "source": [
    "embedding_model"
   ]
  },
  {
   "cell_type": "code",
   "execution_count": 85,
   "id": "2f89dd58",
   "metadata": {},
   "outputs": [
    {
     "name": "stderr",
     "output_type": "stream",
     "text": [
      "2024-08-07 12:58:49,154 - BERTopic - Dimensionality - Fitting the dimensionality reduction algorithm\n",
      "2024-08-07 12:58:50,109 - BERTopic - Dimensionality - Completed ✓\n",
      "2024-08-07 12:58:50,110 - BERTopic - Cluster - Start clustering the reduced embeddings\n",
      "2024-08-07 12:58:50,116 - BERTopic - Cluster - Completed ✓\n",
      "2024-08-07 12:58:50,119 - BERTopic - Representation - Extracting topics from clusters using representation models.\n",
      "100%|██████████| 3/3 [00:28<00:00,  9.48s/it]\n",
      "2024-08-07 12:59:19,835 - BERTopic - Representation - Completed ✓\n"
     ]
    }
   ],
   "source": [
    "from bertopic import BERTopic\n",
    "\n",
    "topic_model = BERTopic(\n",
    "\n",
    "  # Sub-models\n",
    "  embedding_model=embedding_model,\n",
    "  umap_model=umap_model,\n",
    "  hdbscan_model=hdbscan_model,\n",
    "  representation_model=representation_model,\n",
    "\n",
    "  # Hyperparameters\n",
    "  language=\"german\",\n",
    "  top_n_words= 20,\n",
    "  n_gram_range= (1, 1),\n",
    "  min_topic_size= 2,\n",
    "  nr_topics= None,\n",
    "  verbose=True\n",
    ")\n",
    "\n",
    "# Train model\n",
    "topics, probs = topic_model.fit_transform(sentences, embeddings)"
   ]
  },
  {
   "cell_type": "code",
   "execution_count": 86,
   "id": "2aea8ad2",
   "metadata": {},
   "outputs": [
    {
     "data": {
      "text/plain": [
       "(130,)"
      ]
     },
     "execution_count": 86,
     "metadata": {},
     "output_type": "execute_result"
    }
   ],
   "source": [
    "probs.shape"
   ]
  },
  {
   "cell_type": "code",
   "execution_count": 87,
   "id": "4c4cfa20",
   "metadata": {},
   "outputs": [
    {
     "data": {
      "text/html": [
       "<div>\n",
       "<style scoped>\n",
       "    .dataframe tbody tr th:only-of-type {\n",
       "        vertical-align: middle;\n",
       "    }\n",
       "\n",
       "    .dataframe tbody tr th {\n",
       "        vertical-align: top;\n",
       "    }\n",
       "\n",
       "    .dataframe thead th {\n",
       "        text-align: right;\n",
       "    }\n",
       "</style>\n",
       "<table border=\"1\" class=\"dataframe\">\n",
       "  <thead>\n",
       "    <tr style=\"text-align: right;\">\n",
       "      <th></th>\n",
       "      <th>Topic</th>\n",
       "      <th>Count</th>\n",
       "      <th>Name</th>\n",
       "      <th>Representation</th>\n",
       "      <th>KeyBERT</th>\n",
       "      <th>Llama2</th>\n",
       "      <th>MMR</th>\n",
       "      <th>Representative_Docs</th>\n",
       "    </tr>\n",
       "  </thead>\n",
       "  <tbody>\n",
       "    <tr>\n",
       "      <th>0</th>\n",
       "      <td>-1</td>\n",
       "      <td>85</td>\n",
       "      <td>-1_die_und_der_in</td>\n",
       "      <td>[die, und, der, in, zu, eine, ist, für, den, e...</td>\n",
       "      <td>[diese, die, sie, den, bereich, eine, bereits,...</td>\n",
       "      <td>[Family-Friendly Workplace, , , , , , , , , ]</td>\n",
       "      <td>[und, der, es, nicht, im, oder, sich, dass, si...</td>\n",
       "      <td>[Leider sind viele Frauen, die arbeiten, oft b...</td>\n",
       "    </tr>\n",
       "    <tr>\n",
       "      <th>1</th>\n",
       "      <td>0</td>\n",
       "      <td>26</td>\n",
       "      <td>0_der_die_und_zu</td>\n",
       "      <td>[der, die, und, zu, auf, ist, von, radfahrer, ...</td>\n",
       "      <td>[radweg, fahrradfahrer, radfahrende, radfahrer...</td>\n",
       "      <td>[Traffic safety improvements in Braunschweig, ...</td>\n",
       "      <td>[der, zu, radfahrer, straße, nicht, radweg, da...</td>\n",
       "      <td>[Der Handelsweg ist eine der beliebtesten Stra...</td>\n",
       "    </tr>\n",
       "    <tr>\n",
       "      <th>2</th>\n",
       "      <td>1</td>\n",
       "      <td>19</td>\n",
       "      <td>1_die_und_der_für</td>\n",
       "      <td>[die, und, der, für, in, zu, es, mit, braunsch...</td>\n",
       "      <td>[parkplätze, läden, parksituation, den, brauns...</td>\n",
       "      <td>[\"Braunschweig's Parking Crisis: Residents Dem...</td>\n",
       "      <td>[und, braunschweig, ist, im, stadt, nicht, den...</td>\n",
       "      <td>[Im Zuge der kontrovers diskutierten Grünfläch...</td>\n",
       "    </tr>\n",
       "  </tbody>\n",
       "</table>\n",
       "</div>"
      ],
      "text/plain": [
       "   Topic  Count               Name  \\\n",
       "0     -1     85  -1_die_und_der_in   \n",
       "1      0     26   0_der_die_und_zu   \n",
       "2      1     19  1_die_und_der_für   \n",
       "\n",
       "                                      Representation  \\\n",
       "0  [die, und, der, in, zu, eine, ist, für, den, e...   \n",
       "1  [der, die, und, zu, auf, ist, von, radfahrer, ...   \n",
       "2  [die, und, der, für, in, zu, es, mit, braunsch...   \n",
       "\n",
       "                                             KeyBERT  \\\n",
       "0  [diese, die, sie, den, bereich, eine, bereits,...   \n",
       "1  [radweg, fahrradfahrer, radfahrende, radfahrer...   \n",
       "2  [parkplätze, läden, parksituation, den, brauns...   \n",
       "\n",
       "                                              Llama2  \\\n",
       "0      [Family-Friendly Workplace, , , , , , , , , ]   \n",
       "1  [Traffic safety improvements in Braunschweig, ...   \n",
       "2  [\"Braunschweig's Parking Crisis: Residents Dem...   \n",
       "\n",
       "                                                 MMR  \\\n",
       "0  [und, der, es, nicht, im, oder, sich, dass, si...   \n",
       "1  [der, zu, radfahrer, straße, nicht, radweg, da...   \n",
       "2  [und, braunschweig, ist, im, stadt, nicht, den...   \n",
       "\n",
       "                                 Representative_Docs  \n",
       "0  [Leider sind viele Frauen, die arbeiten, oft b...  \n",
       "1  [Der Handelsweg ist eine der beliebtesten Stra...  \n",
       "2  [Im Zuge der kontrovers diskutierten Grünfläch...  "
      ]
     },
     "execution_count": 87,
     "metadata": {},
     "output_type": "execute_result"
    }
   ],
   "source": [
    "# Show topics\n",
    "topic_model.get_topic_info()"
   ]
  },
  {
   "cell_type": "code",
   "execution_count": 88,
   "id": "2c1acc9e",
   "metadata": {},
   "outputs": [
    {
     "data": {
      "text/plain": [
       "[('parkplätze', 0.71909046),\n",
       " ('läden', 0.71827614),\n",
       " ('parksituation', 0.70290184),\n",
       " ('den', 0.69787866),\n",
       " ('braunschweig', 0.6968157),\n",
       " ('braunschweiger', 0.6961447),\n",
       " ('projekt', 0.6959363),\n",
       " ('die', 0.6913995),\n",
       " ('volmestraße', 0.68369013),\n",
       " ('einzelhandel', 0.6821361)]"
      ]
     },
     "execution_count": 88,
     "metadata": {},
     "output_type": "execute_result"
    }
   ],
   "source": [
    "topic_model.get_topic(1, full=True)[\"KeyBERT\"]"
   ]
  },
  {
   "cell_type": "code",
   "execution_count": 89,
   "id": "36838d99",
   "metadata": {},
   "outputs": [],
   "source": [
    "llama2_labels = [label[0][0].split(\"\\n\")[0] for label in topic_model.get_topics(full=True)[\"Llama2\"].values()]\n",
    "topic_model.set_topic_labels(llama2_labels)"
   ]
  },
  {
   "cell_type": "code",
   "execution_count": 90,
   "id": "2aa97e4c",
   "metadata": {},
   "outputs": [
    {
     "data": {
      "text/plain": [
       "['Family-Friendly Workplace',\n",
       " 'Traffic safety improvements in Braunschweig',\n",
       " '\"Braunschweig\\'s Parking Crisis: Residents Demand Solutions\"']"
      ]
     },
     "execution_count": 90,
     "metadata": {},
     "output_type": "execute_result"
    }
   ],
   "source": [
    "llama2_labels"
   ]
  },
  {
   "cell_type": "code",
   "execution_count": 92,
   "id": "459fdecf",
   "metadata": {},
   "outputs": [
    {
     "data": {
      "application/vnd.plotly.v1+json": {
       "config": {
        "plotlyServerURL": "https://plot.ly"
       },
       "data": [
        {
         "hoverinfo": "text",
         "marker": {
          "color": "#CFD8DC",
          "opacity": 0.5,
          "size": 5
         },
         "mode": "markers+text",
         "name": "other",
         "showlegend": false,
         "type": "scattergl",
         "x": [
          10.928547,
          9.662667,
          11.243404,
          7.681462,
          11.01324,
          11.422456,
          10.715965,
          11.087265,
          7.6138105,
          7.662249,
          8.963113,
          9.590084,
          8.653942,
          7.6841702,
          10.780481,
          7.694537,
          7.7656865,
          12.292568,
          10.865905,
          11.811994,
          11.173894,
          7.58418,
          7.6426344,
          10.06609,
          8.884513,
          9.965848,
          9.733409,
          10.262545,
          8.98202,
          8.873155,
          11.442324,
          11.325826,
          9.887806,
          12.878437,
          10.986434,
          10.6019745,
          8.130122,
          10.72158,
          9.272556,
          10.2210865,
          9.76082,
          10.891604,
          8.157543,
          8.846563,
          9.314088,
          8.57608,
          7.604099,
          7.6540513,
          11.087357,
          9.227829,
          10.867145,
          10.771364,
          9.392413,
          10.81485,
          10.544985,
          8.210682,
          10.951716,
          8.247197,
          7.6238656,
          10.092682,
          12.19904,
          11.937033,
          7.6334686,
          11.757919,
          10.910477,
          12.978439,
          7.664294,
          10.588622,
          8.456905,
          8.947828,
          10.747384,
          11.004511,
          10.053326,
          8.753461,
          8.263111,
          12.377617,
          7.631423,
          8.430749,
          10.930829,
          12.179741,
          8.727485,
          9.077244,
          8.86995,
          8.934022,
          7.6131477
         ],
         "y": [
          11.689563,
          10.702502,
          9.562339,
          9.122974,
          8.069557,
          7.8922963,
          8.615231,
          8.008343,
          11.154052,
          9.176459,
          9.868025,
          10.107234,
          10.492787,
          9.169791,
          11.225541,
          9.216582,
          11.00293,
          9.122243,
          12.205915,
          9.113244,
          9.287612,
          10.448765,
          11.432215,
          9.768102,
          11.263731,
          9.746312,
          11.642454,
          11.585125,
          10.276008,
          10.276483,
          9.64113,
          7.8881087,
          11.252984,
          8.073497,
          8.042979,
          11.45344,
          11.373703,
          8.705619,
          10.614395,
          10.802076,
          10.242969,
          12.226119,
          10.427509,
          10.959747,
          10.551826,
          10.472014,
          9.940773,
          10.3478775,
          11.249124,
          10.982931,
          8.835461,
          12.081163,
          9.783535,
          10.228512,
          11.294329,
          10.365528,
          12.23956,
          11.232579,
          9.217813,
          10.564463,
          9.289616,
          9.598739,
          11.195871,
          9.192777,
          9.355785,
          8.129827,
          11.163619,
          12.306981,
          11.814603,
          10.284925,
          8.382887,
          9.697754,
          11.153019,
          11.373743,
          10.4876375,
          8.531642,
          10.409902,
          11.719627,
          12.206617,
          9.401859,
          11.750349,
          9.774516,
          9.632416,
          11.307215,
          11.431085
         ]
        },
        {
         "hoverinfo": "text",
         "marker": {
          "opacity": 0.5,
          "size": 5
         },
         "mode": "markers+text",
         "name": "Traffic safety improvements in Braunschweig",
         "text": [
          "",
          "",
          "",
          "",
          "",
          "",
          "",
          "",
          "",
          "",
          "",
          "",
          "",
          "",
          "",
          "",
          "",
          "",
          "",
          "",
          "",
          "",
          "",
          "",
          "",
          ""
         ],
         "textfont": {
          "size": 12
         },
         "type": "scattergl",
         "x": [
          12.390913,
          11.59106,
          10.739065,
          12.030133,
          12.755302,
          12.514002,
          12.12751,
          12.109391,
          10.626003,
          12.306591,
          11.849475,
          12.210646,
          12.367071,
          12.091081,
          12.214812,
          11.908683,
          12.564675,
          10.614872,
          11.705072,
          11.889543,
          12.45383,
          11.965419,
          10.9047785,
          10.9994755,
          12.205175,
          12.289459
         ],
         "y": [
          8.768611,
          9.167418,
          8.913044,
          8.192033,
          8.167899,
          8.395485,
          8.063756,
          7.9478936,
          9.242992,
          9.392684,
          8.665506,
          7.9152713,
          9.394629,
          8.815527,
          7.883833,
          8.677757,
          8.855572,
          9.871843,
          8.827799,
          8.103334,
          8.113262,
          8.549393,
          9.112489,
          9.294483,
          8.323543,
          7.941977
         ]
        },
        {
         "hoverinfo": "text",
         "marker": {
          "opacity": 0.5,
          "size": 5
         },
         "mode": "markers+text",
         "name": "\"Braunschweig's Parking Crisis: Residents Demand Solutions\"",
         "text": [
          "",
          "",
          "",
          "",
          "",
          "",
          "",
          "",
          "",
          "",
          "",
          "",
          "",
          "",
          "",
          "",
          "",
          "",
          ""
         ],
         "textfont": {
          "size": 12
         },
         "type": "scattergl",
         "x": [
          9.621219,
          10.568656,
          10.754871,
          10.431343,
          10.635586,
          9.449712,
          8.95071,
          10.006599,
          9.950685,
          10.615126,
          10.522614,
          8.703383,
          9.493479,
          10.862605,
          9.055469,
          10.296965,
          10.770286,
          10.019314,
          10.215559
         ],
         "y": [
          11.22749,
          10.784503,
          10.579081,
          10.254577,
          10.857265,
          11.585808,
          11.275458,
          11.418283,
          11.74721,
          10.668666,
          10.553804,
          11.450136,
          11.595763,
          10.53153,
          11.498143,
          11.0068245,
          10.250469,
          11.360944,
          10.131608
         ]
        }
       ],
       "layout": {
        "annotations": [
         {
          "showarrow": false,
          "text": "D1",
          "x": 6.446552896499634,
          "y": 10.427143120765686,
          "yshift": 10
         },
         {
          "showarrow": false,
          "text": "D2",
          "x": 10.685879063606261,
          "xshift": 10,
          "y": 14.1530282497406
         }
        ],
        "height": 750,
        "shapes": [
         {
          "line": {
           "color": "#CFD8DC",
           "width": 2
          },
          "type": "line",
          "x0": 10.685879063606261,
          "x1": 10.685879063606261,
          "y0": 6.701257991790771,
          "y1": 14.1530282497406
         },
         {
          "line": {
           "color": "#9E9E9E",
           "width": 2
          },
          "type": "line",
          "x0": 6.446552896499634,
          "x1": 14.92520523071289,
          "y0": 10.427143120765686,
          "y1": 10.427143120765686
         }
        ],
        "template": {
         "data": {
          "bar": [
           {
            "error_x": {
             "color": "rgb(36,36,36)"
            },
            "error_y": {
             "color": "rgb(36,36,36)"
            },
            "marker": {
             "line": {
              "color": "white",
              "width": 0.5
             },
             "pattern": {
              "fillmode": "overlay",
              "size": 10,
              "solidity": 0.2
             }
            },
            "type": "bar"
           }
          ],
          "barpolar": [
           {
            "marker": {
             "line": {
              "color": "white",
              "width": 0.5
             },
             "pattern": {
              "fillmode": "overlay",
              "size": 10,
              "solidity": 0.2
             }
            },
            "type": "barpolar"
           }
          ],
          "carpet": [
           {
            "aaxis": {
             "endlinecolor": "rgb(36,36,36)",
             "gridcolor": "white",
             "linecolor": "white",
             "minorgridcolor": "white",
             "startlinecolor": "rgb(36,36,36)"
            },
            "baxis": {
             "endlinecolor": "rgb(36,36,36)",
             "gridcolor": "white",
             "linecolor": "white",
             "minorgridcolor": "white",
             "startlinecolor": "rgb(36,36,36)"
            },
            "type": "carpet"
           }
          ],
          "choropleth": [
           {
            "colorbar": {
             "outlinewidth": 1,
             "tickcolor": "rgb(36,36,36)",
             "ticks": "outside"
            },
            "type": "choropleth"
           }
          ],
          "contour": [
           {
            "colorbar": {
             "outlinewidth": 1,
             "tickcolor": "rgb(36,36,36)",
             "ticks": "outside"
            },
            "colorscale": [
             [
              0,
              "#440154"
             ],
             [
              0.1111111111111111,
              "#482878"
             ],
             [
              0.2222222222222222,
              "#3e4989"
             ],
             [
              0.3333333333333333,
              "#31688e"
             ],
             [
              0.4444444444444444,
              "#26828e"
             ],
             [
              0.5555555555555556,
              "#1f9e89"
             ],
             [
              0.6666666666666666,
              "#35b779"
             ],
             [
              0.7777777777777778,
              "#6ece58"
             ],
             [
              0.8888888888888888,
              "#b5de2b"
             ],
             [
              1,
              "#fde725"
             ]
            ],
            "type": "contour"
           }
          ],
          "contourcarpet": [
           {
            "colorbar": {
             "outlinewidth": 1,
             "tickcolor": "rgb(36,36,36)",
             "ticks": "outside"
            },
            "type": "contourcarpet"
           }
          ],
          "heatmap": [
           {
            "colorbar": {
             "outlinewidth": 1,
             "tickcolor": "rgb(36,36,36)",
             "ticks": "outside"
            },
            "colorscale": [
             [
              0,
              "#440154"
             ],
             [
              0.1111111111111111,
              "#482878"
             ],
             [
              0.2222222222222222,
              "#3e4989"
             ],
             [
              0.3333333333333333,
              "#31688e"
             ],
             [
              0.4444444444444444,
              "#26828e"
             ],
             [
              0.5555555555555556,
              "#1f9e89"
             ],
             [
              0.6666666666666666,
              "#35b779"
             ],
             [
              0.7777777777777778,
              "#6ece58"
             ],
             [
              0.8888888888888888,
              "#b5de2b"
             ],
             [
              1,
              "#fde725"
             ]
            ],
            "type": "heatmap"
           }
          ],
          "heatmapgl": [
           {
            "colorbar": {
             "outlinewidth": 1,
             "tickcolor": "rgb(36,36,36)",
             "ticks": "outside"
            },
            "colorscale": [
             [
              0,
              "#440154"
             ],
             [
              0.1111111111111111,
              "#482878"
             ],
             [
              0.2222222222222222,
              "#3e4989"
             ],
             [
              0.3333333333333333,
              "#31688e"
             ],
             [
              0.4444444444444444,
              "#26828e"
             ],
             [
              0.5555555555555556,
              "#1f9e89"
             ],
             [
              0.6666666666666666,
              "#35b779"
             ],
             [
              0.7777777777777778,
              "#6ece58"
             ],
             [
              0.8888888888888888,
              "#b5de2b"
             ],
             [
              1,
              "#fde725"
             ]
            ],
            "type": "heatmapgl"
           }
          ],
          "histogram": [
           {
            "marker": {
             "line": {
              "color": "white",
              "width": 0.6
             }
            },
            "type": "histogram"
           }
          ],
          "histogram2d": [
           {
            "colorbar": {
             "outlinewidth": 1,
             "tickcolor": "rgb(36,36,36)",
             "ticks": "outside"
            },
            "colorscale": [
             [
              0,
              "#440154"
             ],
             [
              0.1111111111111111,
              "#482878"
             ],
             [
              0.2222222222222222,
              "#3e4989"
             ],
             [
              0.3333333333333333,
              "#31688e"
             ],
             [
              0.4444444444444444,
              "#26828e"
             ],
             [
              0.5555555555555556,
              "#1f9e89"
             ],
             [
              0.6666666666666666,
              "#35b779"
             ],
             [
              0.7777777777777778,
              "#6ece58"
             ],
             [
              0.8888888888888888,
              "#b5de2b"
             ],
             [
              1,
              "#fde725"
             ]
            ],
            "type": "histogram2d"
           }
          ],
          "histogram2dcontour": [
           {
            "colorbar": {
             "outlinewidth": 1,
             "tickcolor": "rgb(36,36,36)",
             "ticks": "outside"
            },
            "colorscale": [
             [
              0,
              "#440154"
             ],
             [
              0.1111111111111111,
              "#482878"
             ],
             [
              0.2222222222222222,
              "#3e4989"
             ],
             [
              0.3333333333333333,
              "#31688e"
             ],
             [
              0.4444444444444444,
              "#26828e"
             ],
             [
              0.5555555555555556,
              "#1f9e89"
             ],
             [
              0.6666666666666666,
              "#35b779"
             ],
             [
              0.7777777777777778,
              "#6ece58"
             ],
             [
              0.8888888888888888,
              "#b5de2b"
             ],
             [
              1,
              "#fde725"
             ]
            ],
            "type": "histogram2dcontour"
           }
          ],
          "mesh3d": [
           {
            "colorbar": {
             "outlinewidth": 1,
             "tickcolor": "rgb(36,36,36)",
             "ticks": "outside"
            },
            "type": "mesh3d"
           }
          ],
          "parcoords": [
           {
            "line": {
             "colorbar": {
              "outlinewidth": 1,
              "tickcolor": "rgb(36,36,36)",
              "ticks": "outside"
             }
            },
            "type": "parcoords"
           }
          ],
          "pie": [
           {
            "automargin": true,
            "type": "pie"
           }
          ],
          "scatter": [
           {
            "fillpattern": {
             "fillmode": "overlay",
             "size": 10,
             "solidity": 0.2
            },
            "type": "scatter"
           }
          ],
          "scatter3d": [
           {
            "line": {
             "colorbar": {
              "outlinewidth": 1,
              "tickcolor": "rgb(36,36,36)",
              "ticks": "outside"
             }
            },
            "marker": {
             "colorbar": {
              "outlinewidth": 1,
              "tickcolor": "rgb(36,36,36)",
              "ticks": "outside"
             }
            },
            "type": "scatter3d"
           }
          ],
          "scattercarpet": [
           {
            "marker": {
             "colorbar": {
              "outlinewidth": 1,
              "tickcolor": "rgb(36,36,36)",
              "ticks": "outside"
             }
            },
            "type": "scattercarpet"
           }
          ],
          "scattergeo": [
           {
            "marker": {
             "colorbar": {
              "outlinewidth": 1,
              "tickcolor": "rgb(36,36,36)",
              "ticks": "outside"
             }
            },
            "type": "scattergeo"
           }
          ],
          "scattergl": [
           {
            "marker": {
             "colorbar": {
              "outlinewidth": 1,
              "tickcolor": "rgb(36,36,36)",
              "ticks": "outside"
             }
            },
            "type": "scattergl"
           }
          ],
          "scattermapbox": [
           {
            "marker": {
             "colorbar": {
              "outlinewidth": 1,
              "tickcolor": "rgb(36,36,36)",
              "ticks": "outside"
             }
            },
            "type": "scattermapbox"
           }
          ],
          "scatterpolar": [
           {
            "marker": {
             "colorbar": {
              "outlinewidth": 1,
              "tickcolor": "rgb(36,36,36)",
              "ticks": "outside"
             }
            },
            "type": "scatterpolar"
           }
          ],
          "scatterpolargl": [
           {
            "marker": {
             "colorbar": {
              "outlinewidth": 1,
              "tickcolor": "rgb(36,36,36)",
              "ticks": "outside"
             }
            },
            "type": "scatterpolargl"
           }
          ],
          "scatterternary": [
           {
            "marker": {
             "colorbar": {
              "outlinewidth": 1,
              "tickcolor": "rgb(36,36,36)",
              "ticks": "outside"
             }
            },
            "type": "scatterternary"
           }
          ],
          "surface": [
           {
            "colorbar": {
             "outlinewidth": 1,
             "tickcolor": "rgb(36,36,36)",
             "ticks": "outside"
            },
            "colorscale": [
             [
              0,
              "#440154"
             ],
             [
              0.1111111111111111,
              "#482878"
             ],
             [
              0.2222222222222222,
              "#3e4989"
             ],
             [
              0.3333333333333333,
              "#31688e"
             ],
             [
              0.4444444444444444,
              "#26828e"
             ],
             [
              0.5555555555555556,
              "#1f9e89"
             ],
             [
              0.6666666666666666,
              "#35b779"
             ],
             [
              0.7777777777777778,
              "#6ece58"
             ],
             [
              0.8888888888888888,
              "#b5de2b"
             ],
             [
              1,
              "#fde725"
             ]
            ],
            "type": "surface"
           }
          ],
          "table": [
           {
            "cells": {
             "fill": {
              "color": "rgb(237,237,237)"
             },
             "line": {
              "color": "white"
             }
            },
            "header": {
             "fill": {
              "color": "rgb(217,217,217)"
             },
             "line": {
              "color": "white"
             }
            },
            "type": "table"
           }
          ]
         },
         "layout": {
          "annotationdefaults": {
           "arrowhead": 0,
           "arrowwidth": 1
          },
          "autotypenumbers": "strict",
          "coloraxis": {
           "colorbar": {
            "outlinewidth": 1,
            "tickcolor": "rgb(36,36,36)",
            "ticks": "outside"
           }
          },
          "colorscale": {
           "diverging": [
            [
             0,
             "rgb(103,0,31)"
            ],
            [
             0.1,
             "rgb(178,24,43)"
            ],
            [
             0.2,
             "rgb(214,96,77)"
            ],
            [
             0.3,
             "rgb(244,165,130)"
            ],
            [
             0.4,
             "rgb(253,219,199)"
            ],
            [
             0.5,
             "rgb(247,247,247)"
            ],
            [
             0.6,
             "rgb(209,229,240)"
            ],
            [
             0.7,
             "rgb(146,197,222)"
            ],
            [
             0.8,
             "rgb(67,147,195)"
            ],
            [
             0.9,
             "rgb(33,102,172)"
            ],
            [
             1,
             "rgb(5,48,97)"
            ]
           ],
           "sequential": [
            [
             0,
             "#440154"
            ],
            [
             0.1111111111111111,
             "#482878"
            ],
            [
             0.2222222222222222,
             "#3e4989"
            ],
            [
             0.3333333333333333,
             "#31688e"
            ],
            [
             0.4444444444444444,
             "#26828e"
            ],
            [
             0.5555555555555556,
             "#1f9e89"
            ],
            [
             0.6666666666666666,
             "#35b779"
            ],
            [
             0.7777777777777778,
             "#6ece58"
            ],
            [
             0.8888888888888888,
             "#b5de2b"
            ],
            [
             1,
             "#fde725"
            ]
           ],
           "sequentialminus": [
            [
             0,
             "#440154"
            ],
            [
             0.1111111111111111,
             "#482878"
            ],
            [
             0.2222222222222222,
             "#3e4989"
            ],
            [
             0.3333333333333333,
             "#31688e"
            ],
            [
             0.4444444444444444,
             "#26828e"
            ],
            [
             0.5555555555555556,
             "#1f9e89"
            ],
            [
             0.6666666666666666,
             "#35b779"
            ],
            [
             0.7777777777777778,
             "#6ece58"
            ],
            [
             0.8888888888888888,
             "#b5de2b"
            ],
            [
             1,
             "#fde725"
            ]
           ]
          },
          "colorway": [
           "#1F77B4",
           "#FF7F0E",
           "#2CA02C",
           "#D62728",
           "#9467BD",
           "#8C564B",
           "#E377C2",
           "#7F7F7F",
           "#BCBD22",
           "#17BECF"
          ],
          "font": {
           "color": "rgb(36,36,36)"
          },
          "geo": {
           "bgcolor": "white",
           "lakecolor": "white",
           "landcolor": "white",
           "showlakes": true,
           "showland": true,
           "subunitcolor": "white"
          },
          "hoverlabel": {
           "align": "left"
          },
          "hovermode": "closest",
          "mapbox": {
           "style": "light"
          },
          "paper_bgcolor": "white",
          "plot_bgcolor": "white",
          "polar": {
           "angularaxis": {
            "gridcolor": "rgb(232,232,232)",
            "linecolor": "rgb(36,36,36)",
            "showgrid": false,
            "showline": true,
            "ticks": "outside"
           },
           "bgcolor": "white",
           "radialaxis": {
            "gridcolor": "rgb(232,232,232)",
            "linecolor": "rgb(36,36,36)",
            "showgrid": false,
            "showline": true,
            "ticks": "outside"
           }
          },
          "scene": {
           "xaxis": {
            "backgroundcolor": "white",
            "gridcolor": "rgb(232,232,232)",
            "gridwidth": 2,
            "linecolor": "rgb(36,36,36)",
            "showbackground": true,
            "showgrid": false,
            "showline": true,
            "ticks": "outside",
            "zeroline": false,
            "zerolinecolor": "rgb(36,36,36)"
           },
           "yaxis": {
            "backgroundcolor": "white",
            "gridcolor": "rgb(232,232,232)",
            "gridwidth": 2,
            "linecolor": "rgb(36,36,36)",
            "showbackground": true,
            "showgrid": false,
            "showline": true,
            "ticks": "outside",
            "zeroline": false,
            "zerolinecolor": "rgb(36,36,36)"
           },
           "zaxis": {
            "backgroundcolor": "white",
            "gridcolor": "rgb(232,232,232)",
            "gridwidth": 2,
            "linecolor": "rgb(36,36,36)",
            "showbackground": true,
            "showgrid": false,
            "showline": true,
            "ticks": "outside",
            "zeroline": false,
            "zerolinecolor": "rgb(36,36,36)"
           }
          },
          "shapedefaults": {
           "fillcolor": "black",
           "line": {
            "width": 0
           },
           "opacity": 0.3
          },
          "ternary": {
           "aaxis": {
            "gridcolor": "rgb(232,232,232)",
            "linecolor": "rgb(36,36,36)",
            "showgrid": false,
            "showline": true,
            "ticks": "outside"
           },
           "baxis": {
            "gridcolor": "rgb(232,232,232)",
            "linecolor": "rgb(36,36,36)",
            "showgrid": false,
            "showline": true,
            "ticks": "outside"
           },
           "bgcolor": "white",
           "caxis": {
            "gridcolor": "rgb(232,232,232)",
            "linecolor": "rgb(36,36,36)",
            "showgrid": false,
            "showline": true,
            "ticks": "outside"
           }
          },
          "title": {
           "x": 0.05
          },
          "xaxis": {
           "automargin": true,
           "gridcolor": "rgb(232,232,232)",
           "linecolor": "rgb(36,36,36)",
           "showgrid": false,
           "showline": true,
           "ticks": "outside",
           "title": {
            "standoff": 15
           },
           "zeroline": false,
           "zerolinecolor": "rgb(36,36,36)"
          },
          "yaxis": {
           "automargin": true,
           "gridcolor": "rgb(232,232,232)",
           "linecolor": "rgb(36,36,36)",
           "showgrid": false,
           "showline": true,
           "ticks": "outside",
           "title": {
            "standoff": 15
           },
           "zeroline": false,
           "zerolinecolor": "rgb(36,36,36)"
          }
         }
        },
        "title": {
         "font": {
          "color": "Black",
          "size": 22
         },
         "text": "<b>Documents and Topics</b>",
         "x": 0.5,
         "xanchor": "center",
         "yanchor": "top"
        },
        "width": 1200,
        "xaxis": {
         "visible": false
        },
        "yaxis": {
         "visible": false
        }
       }
      },
      "text/html": [
       "<div>                            <div id=\"e4bd2e51-2de6-4b52-8c74-dce15f36f082\" class=\"plotly-graph-div\" style=\"height:750px; width:1200px;\"></div>            <script type=\"text/javascript\">                require([\"plotly\"], function(Plotly) {                    window.PLOTLYENV=window.PLOTLYENV || {};                                    if (document.getElementById(\"e4bd2e51-2de6-4b52-8c74-dce15f36f082\")) {                    Plotly.newPlot(                        \"e4bd2e51-2de6-4b52-8c74-dce15f36f082\",                        [{\"hoverinfo\":\"text\",\"marker\":{\"color\":\"#CFD8DC\",\"opacity\":0.5,\"size\":5},\"mode\":\"markers+text\",\"name\":\"other\",\"showlegend\":false,\"x\":[10.928547,9.662667,11.243404,7.681462,11.01324,11.422456,10.715965,11.087265,7.6138105,7.662249,8.963113,9.590084,8.653942,7.6841702,10.780481,7.694537,7.7656865,12.292568,10.865905,11.811994,11.173894,7.58418,7.6426344,10.06609,8.884513,9.965848,9.733409,10.262545,8.98202,8.873155,11.442324,11.325826,9.887806,12.878437,10.986434,10.6019745,8.130122,10.72158,9.272556,10.2210865,9.76082,10.891604,8.157543,8.846563,9.314088,8.57608,7.604099,7.6540513,11.087357,9.227829,10.867145,10.771364,9.392413,10.81485,10.544985,8.210682,10.951716,8.247197,7.6238656,10.092682,12.19904,11.937033,7.6334686,11.757919,10.910477,12.978439,7.664294,10.588622,8.456905,8.947828,10.747384,11.004511,10.053326,8.753461,8.263111,12.377617,7.631423,8.430749,10.930829,12.179741,8.727485,9.077244,8.86995,8.934022,7.6131477],\"y\":[11.689563,10.702502,9.562339,9.122974,8.069557,7.8922963,8.615231,8.008343,11.154052,9.176459,9.868025,10.107234,10.492787,9.169791,11.225541,9.216582,11.00293,9.122243,12.205915,9.113244,9.287612,10.448765,11.432215,9.768102,11.263731,9.746312,11.642454,11.585125,10.276008,10.276483,9.64113,7.8881087,11.252984,8.073497,8.042979,11.45344,11.373703,8.705619,10.614395,10.802076,10.242969,12.226119,10.427509,10.959747,10.551826,10.472014,9.940773,10.3478775,11.249124,10.982931,8.835461,12.081163,9.783535,10.228512,11.294329,10.365528,12.23956,11.232579,9.217813,10.564463,9.289616,9.598739,11.195871,9.192777,9.355785,8.129827,11.163619,12.306981,11.814603,10.284925,8.382887,9.697754,11.153019,11.373743,10.4876375,8.531642,10.409902,11.719627,12.206617,9.401859,11.750349,9.774516,9.632416,11.307215,11.431085],\"type\":\"scattergl\"},{\"hoverinfo\":\"text\",\"marker\":{\"opacity\":0.5,\"size\":5},\"mode\":\"markers+text\",\"name\":\"Traffic safety improvements in Braunschweig\",\"text\":[\"\",\"\",\"\",\"\",\"\",\"\",\"\",\"\",\"\",\"\",\"\",\"\",\"\",\"\",\"\",\"\",\"\",\"\",\"\",\"\",\"\",\"\",\"\",\"\",\"\",\"\"],\"textfont\":{\"size\":12},\"x\":[12.390913,11.59106,10.739065,12.030133,12.755302,12.514002,12.12751,12.109391,10.626003,12.306591,11.849475,12.210646,12.367071,12.091081,12.214812,11.908683,12.564675,10.614872,11.705072,11.889543,12.45383,11.965419,10.9047785,10.9994755,12.205175,12.289459],\"y\":[8.768611,9.167418,8.913044,8.192033,8.167899,8.395485,8.063756,7.9478936,9.242992,9.392684,8.665506,7.9152713,9.394629,8.815527,7.883833,8.677757,8.855572,9.871843,8.827799,8.103334,8.113262,8.549393,9.112489,9.294483,8.323543,7.941977],\"type\":\"scattergl\"},{\"hoverinfo\":\"text\",\"marker\":{\"opacity\":0.5,\"size\":5},\"mode\":\"markers+text\",\"name\":\"\\\"Braunschweig's Parking Crisis: Residents Demand Solutions\\\"\",\"text\":[\"\",\"\",\"\",\"\",\"\",\"\",\"\",\"\",\"\",\"\",\"\",\"\",\"\",\"\",\"\",\"\",\"\",\"\",\"\"],\"textfont\":{\"size\":12},\"x\":[9.621219,10.568656,10.754871,10.431343,10.635586,9.449712,8.95071,10.006599,9.950685,10.615126,10.522614,8.703383,9.493479,10.862605,9.055469,10.296965,10.770286,10.019314,10.215559],\"y\":[11.22749,10.784503,10.579081,10.254577,10.857265,11.585808,11.275458,11.418283,11.74721,10.668666,10.553804,11.450136,11.595763,10.53153,11.498143,11.0068245,10.250469,11.360944,10.131608],\"type\":\"scattergl\"}],                        {\"template\":{\"data\":{\"barpolar\":[{\"marker\":{\"line\":{\"color\":\"white\",\"width\":0.5},\"pattern\":{\"fillmode\":\"overlay\",\"size\":10,\"solidity\":0.2}},\"type\":\"barpolar\"}],\"bar\":[{\"error_x\":{\"color\":\"rgb(36,36,36)\"},\"error_y\":{\"color\":\"rgb(36,36,36)\"},\"marker\":{\"line\":{\"color\":\"white\",\"width\":0.5},\"pattern\":{\"fillmode\":\"overlay\",\"size\":10,\"solidity\":0.2}},\"type\":\"bar\"}],\"carpet\":[{\"aaxis\":{\"endlinecolor\":\"rgb(36,36,36)\",\"gridcolor\":\"white\",\"linecolor\":\"white\",\"minorgridcolor\":\"white\",\"startlinecolor\":\"rgb(36,36,36)\"},\"baxis\":{\"endlinecolor\":\"rgb(36,36,36)\",\"gridcolor\":\"white\",\"linecolor\":\"white\",\"minorgridcolor\":\"white\",\"startlinecolor\":\"rgb(36,36,36)\"},\"type\":\"carpet\"}],\"choropleth\":[{\"colorbar\":{\"outlinewidth\":1,\"tickcolor\":\"rgb(36,36,36)\",\"ticks\":\"outside\"},\"type\":\"choropleth\"}],\"contourcarpet\":[{\"colorbar\":{\"outlinewidth\":1,\"tickcolor\":\"rgb(36,36,36)\",\"ticks\":\"outside\"},\"type\":\"contourcarpet\"}],\"contour\":[{\"colorbar\":{\"outlinewidth\":1,\"tickcolor\":\"rgb(36,36,36)\",\"ticks\":\"outside\"},\"colorscale\":[[0.0,\"#440154\"],[0.1111111111111111,\"#482878\"],[0.2222222222222222,\"#3e4989\"],[0.3333333333333333,\"#31688e\"],[0.4444444444444444,\"#26828e\"],[0.5555555555555556,\"#1f9e89\"],[0.6666666666666666,\"#35b779\"],[0.7777777777777778,\"#6ece58\"],[0.8888888888888888,\"#b5de2b\"],[1.0,\"#fde725\"]],\"type\":\"contour\"}],\"heatmapgl\":[{\"colorbar\":{\"outlinewidth\":1,\"tickcolor\":\"rgb(36,36,36)\",\"ticks\":\"outside\"},\"colorscale\":[[0.0,\"#440154\"],[0.1111111111111111,\"#482878\"],[0.2222222222222222,\"#3e4989\"],[0.3333333333333333,\"#31688e\"],[0.4444444444444444,\"#26828e\"],[0.5555555555555556,\"#1f9e89\"],[0.6666666666666666,\"#35b779\"],[0.7777777777777778,\"#6ece58\"],[0.8888888888888888,\"#b5de2b\"],[1.0,\"#fde725\"]],\"type\":\"heatmapgl\"}],\"heatmap\":[{\"colorbar\":{\"outlinewidth\":1,\"tickcolor\":\"rgb(36,36,36)\",\"ticks\":\"outside\"},\"colorscale\":[[0.0,\"#440154\"],[0.1111111111111111,\"#482878\"],[0.2222222222222222,\"#3e4989\"],[0.3333333333333333,\"#31688e\"],[0.4444444444444444,\"#26828e\"],[0.5555555555555556,\"#1f9e89\"],[0.6666666666666666,\"#35b779\"],[0.7777777777777778,\"#6ece58\"],[0.8888888888888888,\"#b5de2b\"],[1.0,\"#fde725\"]],\"type\":\"heatmap\"}],\"histogram2dcontour\":[{\"colorbar\":{\"outlinewidth\":1,\"tickcolor\":\"rgb(36,36,36)\",\"ticks\":\"outside\"},\"colorscale\":[[0.0,\"#440154\"],[0.1111111111111111,\"#482878\"],[0.2222222222222222,\"#3e4989\"],[0.3333333333333333,\"#31688e\"],[0.4444444444444444,\"#26828e\"],[0.5555555555555556,\"#1f9e89\"],[0.6666666666666666,\"#35b779\"],[0.7777777777777778,\"#6ece58\"],[0.8888888888888888,\"#b5de2b\"],[1.0,\"#fde725\"]],\"type\":\"histogram2dcontour\"}],\"histogram2d\":[{\"colorbar\":{\"outlinewidth\":1,\"tickcolor\":\"rgb(36,36,36)\",\"ticks\":\"outside\"},\"colorscale\":[[0.0,\"#440154\"],[0.1111111111111111,\"#482878\"],[0.2222222222222222,\"#3e4989\"],[0.3333333333333333,\"#31688e\"],[0.4444444444444444,\"#26828e\"],[0.5555555555555556,\"#1f9e89\"],[0.6666666666666666,\"#35b779\"],[0.7777777777777778,\"#6ece58\"],[0.8888888888888888,\"#b5de2b\"],[1.0,\"#fde725\"]],\"type\":\"histogram2d\"}],\"histogram\":[{\"marker\":{\"line\":{\"color\":\"white\",\"width\":0.6}},\"type\":\"histogram\"}],\"mesh3d\":[{\"colorbar\":{\"outlinewidth\":1,\"tickcolor\":\"rgb(36,36,36)\",\"ticks\":\"outside\"},\"type\":\"mesh3d\"}],\"parcoords\":[{\"line\":{\"colorbar\":{\"outlinewidth\":1,\"tickcolor\":\"rgb(36,36,36)\",\"ticks\":\"outside\"}},\"type\":\"parcoords\"}],\"pie\":[{\"automargin\":true,\"type\":\"pie\"}],\"scatter3d\":[{\"line\":{\"colorbar\":{\"outlinewidth\":1,\"tickcolor\":\"rgb(36,36,36)\",\"ticks\":\"outside\"}},\"marker\":{\"colorbar\":{\"outlinewidth\":1,\"tickcolor\":\"rgb(36,36,36)\",\"ticks\":\"outside\"}},\"type\":\"scatter3d\"}],\"scattercarpet\":[{\"marker\":{\"colorbar\":{\"outlinewidth\":1,\"tickcolor\":\"rgb(36,36,36)\",\"ticks\":\"outside\"}},\"type\":\"scattercarpet\"}],\"scattergeo\":[{\"marker\":{\"colorbar\":{\"outlinewidth\":1,\"tickcolor\":\"rgb(36,36,36)\",\"ticks\":\"outside\"}},\"type\":\"scattergeo\"}],\"scattergl\":[{\"marker\":{\"colorbar\":{\"outlinewidth\":1,\"tickcolor\":\"rgb(36,36,36)\",\"ticks\":\"outside\"}},\"type\":\"scattergl\"}],\"scattermapbox\":[{\"marker\":{\"colorbar\":{\"outlinewidth\":1,\"tickcolor\":\"rgb(36,36,36)\",\"ticks\":\"outside\"}},\"type\":\"scattermapbox\"}],\"scatterpolargl\":[{\"marker\":{\"colorbar\":{\"outlinewidth\":1,\"tickcolor\":\"rgb(36,36,36)\",\"ticks\":\"outside\"}},\"type\":\"scatterpolargl\"}],\"scatterpolar\":[{\"marker\":{\"colorbar\":{\"outlinewidth\":1,\"tickcolor\":\"rgb(36,36,36)\",\"ticks\":\"outside\"}},\"type\":\"scatterpolar\"}],\"scatter\":[{\"fillpattern\":{\"fillmode\":\"overlay\",\"size\":10,\"solidity\":0.2},\"type\":\"scatter\"}],\"scatterternary\":[{\"marker\":{\"colorbar\":{\"outlinewidth\":1,\"tickcolor\":\"rgb(36,36,36)\",\"ticks\":\"outside\"}},\"type\":\"scatterternary\"}],\"surface\":[{\"colorbar\":{\"outlinewidth\":1,\"tickcolor\":\"rgb(36,36,36)\",\"ticks\":\"outside\"},\"colorscale\":[[0.0,\"#440154\"],[0.1111111111111111,\"#482878\"],[0.2222222222222222,\"#3e4989\"],[0.3333333333333333,\"#31688e\"],[0.4444444444444444,\"#26828e\"],[0.5555555555555556,\"#1f9e89\"],[0.6666666666666666,\"#35b779\"],[0.7777777777777778,\"#6ece58\"],[0.8888888888888888,\"#b5de2b\"],[1.0,\"#fde725\"]],\"type\":\"surface\"}],\"table\":[{\"cells\":{\"fill\":{\"color\":\"rgb(237,237,237)\"},\"line\":{\"color\":\"white\"}},\"header\":{\"fill\":{\"color\":\"rgb(217,217,217)\"},\"line\":{\"color\":\"white\"}},\"type\":\"table\"}]},\"layout\":{\"annotationdefaults\":{\"arrowhead\":0,\"arrowwidth\":1},\"autotypenumbers\":\"strict\",\"coloraxis\":{\"colorbar\":{\"outlinewidth\":1,\"tickcolor\":\"rgb(36,36,36)\",\"ticks\":\"outside\"}},\"colorscale\":{\"diverging\":[[0.0,\"rgb(103,0,31)\"],[0.1,\"rgb(178,24,43)\"],[0.2,\"rgb(214,96,77)\"],[0.3,\"rgb(244,165,130)\"],[0.4,\"rgb(253,219,199)\"],[0.5,\"rgb(247,247,247)\"],[0.6,\"rgb(209,229,240)\"],[0.7,\"rgb(146,197,222)\"],[0.8,\"rgb(67,147,195)\"],[0.9,\"rgb(33,102,172)\"],[1.0,\"rgb(5,48,97)\"]],\"sequential\":[[0.0,\"#440154\"],[0.1111111111111111,\"#482878\"],[0.2222222222222222,\"#3e4989\"],[0.3333333333333333,\"#31688e\"],[0.4444444444444444,\"#26828e\"],[0.5555555555555556,\"#1f9e89\"],[0.6666666666666666,\"#35b779\"],[0.7777777777777778,\"#6ece58\"],[0.8888888888888888,\"#b5de2b\"],[1.0,\"#fde725\"]],\"sequentialminus\":[[0.0,\"#440154\"],[0.1111111111111111,\"#482878\"],[0.2222222222222222,\"#3e4989\"],[0.3333333333333333,\"#31688e\"],[0.4444444444444444,\"#26828e\"],[0.5555555555555556,\"#1f9e89\"],[0.6666666666666666,\"#35b779\"],[0.7777777777777778,\"#6ece58\"],[0.8888888888888888,\"#b5de2b\"],[1.0,\"#fde725\"]]},\"colorway\":[\"#1F77B4\",\"#FF7F0E\",\"#2CA02C\",\"#D62728\",\"#9467BD\",\"#8C564B\",\"#E377C2\",\"#7F7F7F\",\"#BCBD22\",\"#17BECF\"],\"font\":{\"color\":\"rgb(36,36,36)\"},\"geo\":{\"bgcolor\":\"white\",\"lakecolor\":\"white\",\"landcolor\":\"white\",\"showlakes\":true,\"showland\":true,\"subunitcolor\":\"white\"},\"hoverlabel\":{\"align\":\"left\"},\"hovermode\":\"closest\",\"mapbox\":{\"style\":\"light\"},\"paper_bgcolor\":\"white\",\"plot_bgcolor\":\"white\",\"polar\":{\"angularaxis\":{\"gridcolor\":\"rgb(232,232,232)\",\"linecolor\":\"rgb(36,36,36)\",\"showgrid\":false,\"showline\":true,\"ticks\":\"outside\"},\"bgcolor\":\"white\",\"radialaxis\":{\"gridcolor\":\"rgb(232,232,232)\",\"linecolor\":\"rgb(36,36,36)\",\"showgrid\":false,\"showline\":true,\"ticks\":\"outside\"}},\"scene\":{\"xaxis\":{\"backgroundcolor\":\"white\",\"gridcolor\":\"rgb(232,232,232)\",\"gridwidth\":2,\"linecolor\":\"rgb(36,36,36)\",\"showbackground\":true,\"showgrid\":false,\"showline\":true,\"ticks\":\"outside\",\"zeroline\":false,\"zerolinecolor\":\"rgb(36,36,36)\"},\"yaxis\":{\"backgroundcolor\":\"white\",\"gridcolor\":\"rgb(232,232,232)\",\"gridwidth\":2,\"linecolor\":\"rgb(36,36,36)\",\"showbackground\":true,\"showgrid\":false,\"showline\":true,\"ticks\":\"outside\",\"zeroline\":false,\"zerolinecolor\":\"rgb(36,36,36)\"},\"zaxis\":{\"backgroundcolor\":\"white\",\"gridcolor\":\"rgb(232,232,232)\",\"gridwidth\":2,\"linecolor\":\"rgb(36,36,36)\",\"showbackground\":true,\"showgrid\":false,\"showline\":true,\"ticks\":\"outside\",\"zeroline\":false,\"zerolinecolor\":\"rgb(36,36,36)\"}},\"shapedefaults\":{\"fillcolor\":\"black\",\"line\":{\"width\":0},\"opacity\":0.3},\"ternary\":{\"aaxis\":{\"gridcolor\":\"rgb(232,232,232)\",\"linecolor\":\"rgb(36,36,36)\",\"showgrid\":false,\"showline\":true,\"ticks\":\"outside\"},\"baxis\":{\"gridcolor\":\"rgb(232,232,232)\",\"linecolor\":\"rgb(36,36,36)\",\"showgrid\":false,\"showline\":true,\"ticks\":\"outside\"},\"bgcolor\":\"white\",\"caxis\":{\"gridcolor\":\"rgb(232,232,232)\",\"linecolor\":\"rgb(36,36,36)\",\"showgrid\":false,\"showline\":true,\"ticks\":\"outside\"}},\"title\":{\"x\":0.05},\"xaxis\":{\"automargin\":true,\"gridcolor\":\"rgb(232,232,232)\",\"linecolor\":\"rgb(36,36,36)\",\"showgrid\":false,\"showline\":true,\"ticks\":\"outside\",\"title\":{\"standoff\":15},\"zeroline\":false,\"zerolinecolor\":\"rgb(36,36,36)\"},\"yaxis\":{\"automargin\":true,\"gridcolor\":\"rgb(232,232,232)\",\"linecolor\":\"rgb(36,36,36)\",\"showgrid\":false,\"showline\":true,\"ticks\":\"outside\",\"title\":{\"standoff\":15},\"zeroline\":false,\"zerolinecolor\":\"rgb(36,36,36)\"}}},\"shapes\":[{\"line\":{\"color\":\"#CFD8DC\",\"width\":2},\"type\":\"line\",\"x0\":10.685879063606261,\"x1\":10.685879063606261,\"y0\":6.701257991790771,\"y1\":14.1530282497406},{\"line\":{\"color\":\"#9E9E9E\",\"width\":2},\"type\":\"line\",\"x0\":6.446552896499634,\"x1\":14.92520523071289,\"y0\":10.427143120765686,\"y1\":10.427143120765686}],\"annotations\":[{\"showarrow\":false,\"text\":\"D1\",\"x\":6.446552896499634,\"y\":10.427143120765686,\"yshift\":10},{\"showarrow\":false,\"text\":\"D2\",\"x\":10.685879063606261,\"xshift\":10,\"y\":14.1530282497406}],\"title\":{\"font\":{\"size\":22,\"color\":\"Black\"},\"text\":\"\\u003cb\\u003eDocuments and Topics\\u003c\\u002fb\\u003e\",\"x\":0.5,\"xanchor\":\"center\",\"yanchor\":\"top\"},\"width\":1200,\"height\":750,\"xaxis\":{\"visible\":false},\"yaxis\":{\"visible\":false}},                        {\"responsive\": true}                    ).then(function(){\n",
       "                            \n",
       "var gd = document.getElementById('e4bd2e51-2de6-4b52-8c74-dce15f36f082');\n",
       "var x = new MutationObserver(function (mutations, observer) {{\n",
       "        var display = window.getComputedStyle(gd).display;\n",
       "        if (!display || display === 'none') {{\n",
       "            console.log([gd, 'removed!']);\n",
       "            Plotly.purge(gd);\n",
       "            observer.disconnect();\n",
       "        }}\n",
       "}});\n",
       "\n",
       "// Listen for the removal of the full notebook cells\n",
       "var notebookContainer = gd.closest('#notebook-container');\n",
       "if (notebookContainer) {{\n",
       "    x.observe(notebookContainer, {childList: true});\n",
       "}}\n",
       "\n",
       "// Listen for the clearing of the current output cell\n",
       "var outputEl = gd.closest('.output');\n",
       "if (outputEl) {{\n",
       "    x.observe(outputEl, {childList: true});\n",
       "}}\n",
       "\n",
       "                        })                };                });            </script>        </div>"
      ]
     },
     "metadata": {},
     "output_type": "display_data"
    }
   ],
   "source": [
    "topic_model.visualize_documents(titles, reduced_embeddings=reduced_embeddings, hide_annotations=True, hide_document_hover=True, custom_labels=True)"
   ]
  },
  {
   "cell_type": "code",
   "execution_count": 80,
   "id": "2ba2bd1c",
   "metadata": {},
   "outputs": [],
   "source": [
    "import itertools\n",
    "import pandas as pd\n",
    "\n",
    "# Define colors for the visualization to iterate over\n",
    "colors = itertools.cycle(['#e6194b', '#3cb44b', '#ffe119', '#4363d8', '#f58231', '#911eb4', '#46f0f0', '#f032e6', '#bcf60c', '#fabebe', '#008080', '#e6beff', '#9a6324', '#fffac8', '#800000', '#aaffc3', '#808000', '#ffd8b1', '#000075', '#808080', '#ffffff', '#000000'])\n",
    "color_key = {str(topic): next(colors) for topic in set(topic_model.topics_) if topic != -1}\n",
    "\n",
    "# Prepare dataframe and ignore outliers\n",
    "df = pd.DataFrame({\"x\": reduced_embeddings[:, 0], \"y\": reduced_embeddings[:, 1], \"Topic\": [str(t) for t in topic_model.topics_]})\n",
    "df[\"Length\"] = [len(doc) for doc in sentences]\n",
    "df = df.loc[df.Topic != \"-1\"]\n",
    "df = df.loc[(df.y > -10) & (df.y < 10) & (df.x < 10) & (df.x > -10), :]\n",
    "df[\"Topic\"] = df[\"Topic\"].astype(\"category\")\n",
    "\n",
    "# Get centroids of clusters\n",
    "mean_df = df.groupby(\"Topic\").mean().reset_index()\n",
    "mean_df.Topic = mean_df.Topic.astype(int)\n",
    "mean_df = mean_df.sort_values(\"Topic\")"
   ]
  },
  {
   "cell_type": "code",
   "execution_count": 82,
   "id": "4ea0499c",
   "metadata": {},
   "outputs": [
    {
     "name": "stderr",
     "output_type": "stream",
     "text": [
      "huggingface/tokenizers: The current process just got forked, after parallelism has already been used. Disabling parallelism to avoid deadlocks...\n",
      "To disable this warning, you can either:\n",
      "\t- Avoid using `tokenizers` before the fork if possible\n",
      "\t- Explicitly set the environment variable TOKENIZERS_PARALLELISM=(true | false)\n"
     ]
    },
    {
     "name": "stdout",
     "output_type": "stream",
     "text": [
      "Collecting seaborn\n",
      "  Downloading seaborn-0.13.2-py3-none-any.whl.metadata (5.4 kB)\n",
      "Requirement already satisfied: numpy!=1.24.0,>=1.20 in /system/conda/miniconda3/envs/cloudspace/lib/python3.10/site-packages (from seaborn) (1.26.4)\n",
      "Requirement already satisfied: pandas>=1.2 in /system/conda/miniconda3/envs/cloudspace/lib/python3.10/site-packages (from seaborn) (2.1.4)\n",
      "Requirement already satisfied: matplotlib!=3.6.1,>=3.4 in /system/conda/miniconda3/envs/cloudspace/lib/python3.10/site-packages (from seaborn) (3.8.2)\n",
      "Requirement already satisfied: contourpy>=1.0.1 in /system/conda/miniconda3/envs/cloudspace/lib/python3.10/site-packages (from matplotlib!=3.6.1,>=3.4->seaborn) (1.2.1)\n",
      "Requirement already satisfied: cycler>=0.10 in /system/conda/miniconda3/envs/cloudspace/lib/python3.10/site-packages (from matplotlib!=3.6.1,>=3.4->seaborn) (0.12.1)\n",
      "Requirement already satisfied: fonttools>=4.22.0 in /system/conda/miniconda3/envs/cloudspace/lib/python3.10/site-packages (from matplotlib!=3.6.1,>=3.4->seaborn) (4.53.1)\n",
      "Requirement already satisfied: kiwisolver>=1.3.1 in /system/conda/miniconda3/envs/cloudspace/lib/python3.10/site-packages (from matplotlib!=3.6.1,>=3.4->seaborn) (1.4.5)\n",
      "Requirement already satisfied: packaging>=20.0 in /system/conda/miniconda3/envs/cloudspace/lib/python3.10/site-packages (from matplotlib!=3.6.1,>=3.4->seaborn) (24.1)\n",
      "Requirement already satisfied: pillow>=8 in /system/conda/miniconda3/envs/cloudspace/lib/python3.10/site-packages (from matplotlib!=3.6.1,>=3.4->seaborn) (10.4.0)\n",
      "Requirement already satisfied: pyparsing>=2.3.1 in /system/conda/miniconda3/envs/cloudspace/lib/python3.10/site-packages (from matplotlib!=3.6.1,>=3.4->seaborn) (3.1.2)\n",
      "Requirement already satisfied: python-dateutil>=2.7 in /system/conda/miniconda3/envs/cloudspace/lib/python3.10/site-packages (from matplotlib!=3.6.1,>=3.4->seaborn) (2.9.0.post0)\n",
      "Requirement already satisfied: pytz>=2020.1 in /system/conda/miniconda3/envs/cloudspace/lib/python3.10/site-packages (from pandas>=1.2->seaborn) (2024.1)\n",
      "Requirement already satisfied: tzdata>=2022.1 in /system/conda/miniconda3/envs/cloudspace/lib/python3.10/site-packages (from pandas>=1.2->seaborn) (2024.1)\n",
      "Requirement already satisfied: six>=1.5 in /system/conda/miniconda3/envs/cloudspace/lib/python3.10/site-packages (from python-dateutil>=2.7->matplotlib!=3.6.1,>=3.4->seaborn) (1.16.0)\n",
      "Downloading seaborn-0.13.2-py3-none-any.whl (294 kB)\n",
      "\u001b[2K   \u001b[90m━━━━━━━━━━━━━━━━━━━━━━━━━━━━━━━━━━━━━━━━\u001b[0m \u001b[32m294.9/294.9 kB\u001b[0m \u001b[31m21.6 MB/s\u001b[0m eta \u001b[36m0:00:00\u001b[0m\n",
      "\u001b[?25hInstalling collected packages: seaborn\n",
      "Successfully installed seaborn-0.13.2\n",
      "\n",
      "\u001b[1m[\u001b[0m\u001b[34;49mnotice\u001b[0m\u001b[1;39;49m]\u001b[0m\u001b[39;49m A new release of pip is available: \u001b[0m\u001b[31;49m24.1.2\u001b[0m\u001b[39;49m -> \u001b[0m\u001b[32;49m24.2\u001b[0m\n",
      "\u001b[1m[\u001b[0m\u001b[34;49mnotice\u001b[0m\u001b[1;39;49m]\u001b[0m\u001b[39;49m To update, run: \u001b[0m\u001b[32;49mpip install --upgrade pip\u001b[0m\n"
     ]
    }
   ],
   "source": [
    "!pip install seaborn"
   ]
  },
  {
   "cell_type": "code",
   "execution_count": 83,
   "id": "ed6d5823",
   "metadata": {},
   "outputs": [
    {
     "data": {
      "image/png": "[encoded data removed]",
      "text/plain": [
       "<Figure size 1000x1000 with 1 Axes>"
      ]
     },
     "metadata": {},
     "output_type": "display_data"
    }
   ],
   "source": [
    "import seaborn as sns\n",
    "from matplotlib import pyplot as plt\n",
    "from adjustText import adjust_text\n",
    "import matplotlib.patheffects as pe\n",
    "import textwrap\n",
    "\n",
    "fig = plt.figure(figsize=(10, 10))\n",
    "sns.scatterplot(data=df, x='x', y='y', c=df['Topic'].map(color_key), alpha=0.4, sizes=(0.4, 10), size=\"Length\")\n",
    "\n",
    "# Annotate top 50 topics\n",
    "texts, xs, ys = [], [], []\n",
    "for row in mean_df.iterrows():\n",
    "  topic = row[1][\"Topic\"]\n",
    "  name = textwrap.fill(topic_model.custom_labels_[int(topic)], 20)\n",
    "\n",
    "  if int(topic) <= 50:\n",
    "    xs.append(row[1][\"x\"])\n",
    "    ys.append(row[1][\"y\"])\n",
    "    texts.append(plt.text(row[1][\"x\"], row[1][\"y\"], name, size=10, ha=\"center\", color=color_key[str(int(topic))],\n",
    "                          path_effects=[pe.withStroke(linewidth=0.5, foreground=\"black\")]\n",
    "                          ))\n",
    "\n",
    "# Adjust annotations such that they do not overlap\n",
    "adjust_text(texts, x=xs, y=ys, time_lim=1, force_text=(0.01, 0.02), force_static=(0.01, 0.02), force_pull=(0.5, 0.5))\n",
    "plt.axis('off')\n",
    "plt.legend('', frameon=False)\n",
    "plt.show()"
   ]
  },
  {
   "cell_type": "code",
   "execution_count": null,
   "id": "a537b971",
   "metadata": {},
   "outputs": [],
   "source": []
  }
 ],
 "metadata": {
  "kernelspec": {
   "display_name": "Python 3",
   "language": "python",
   "name": "python3"
  },
  "language_info": {
   "codemirror_mode": {
    "name": "ipython",
    "version": 2
   },
   "file_extension": ".py",
   "mimetype": "text/x-python",
   "name": "python",
   "nbconvert_exporter": "python",
   "pygments_lexer": "ipython2",
   "version": "2.7.6"
  }
 },
 "nbformat": 4,
 "nbformat_minor": 5
}
